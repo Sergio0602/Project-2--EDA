{
 "cells": [
  {
   "cell_type": "code",
   "execution_count": 1,
   "id": "cc01b434-4287-4be8-a286-3f297defea97",
   "metadata": {},
   "outputs": [],
   "source": [
    "from skimpy import skim #data summary\n",
    "import pandas as pd\n",
    "import numpy as np\n",
    "import matplotlib.pyplot as plt\n",
    "import charset_normalizer\n",
    "import seaborn as sns\n",
    "import plotly.express as px #interactive visualization\n",
    "import charset_normalizer\n",
    "import plotly.graph_objects as go"
   ]
  },
  {
   "cell_type": "code",
   "execution_count": 2,
   "id": "4a12cf39-0140-4dc2-83d3-b4daadb07a2e",
   "metadata": {},
   "outputs": [
    {
     "name": "stdout",
     "output_type": "stream",
     "text": [
      "{'encoding': 'ascii', 'language': 'English', 'confidence': 1.0}\n"
     ]
    }
   ],
   "source": [
    "with open(\"visualizing_global_co2_data_cleaned.csv\", 'rb') as rawdata:\n",
    "    result = charset_normalizer.detect(rawdata.read(10000))\n",
    "print(result)"
   ]
  },
  {
   "cell_type": "code",
   "execution_count": 3,
   "id": "9a8fd82f-44c0-41cb-b0ac-f17fd9294a32",
   "metadata": {},
   "outputs": [],
   "source": [
    "data = pd.read_csv('visualizing_global_co2_data_cleaned.csv', encoding = 'ascii')\n",
    "df = pd.DataFrame(data)\n"
   ]
  },
  {
   "cell_type": "code",
   "execution_count": 4,
   "id": "35b508c6-750b-4d7d-8a14-b4ee6f107de8",
   "metadata": {},
   "outputs": [
    {
     "data": {
      "text/html": [
       "<pre style=\"white-space:pre;overflow-x:auto;line-height:normal;font-family:Menlo,'DejaVu Sans Mono',consolas,'Courier New',monospace\">╭──────────────────────────────────────────────── skimpy summary ─────────────────────────────────────────────────╮\n",
       "│ <span style=\"font-style: italic\">         Data Summary         </span> <span style=\"font-style: italic\">      Data Types       </span>                                                          │\n",
       "│ ┏━━━━━━━━━━━━━━━━━━━┳━━━━━━━━┓ ┏━━━━━━━━━━━━━┳━━━━━━━┓                                                          │\n",
       "│ ┃<span style=\"color: #008080; text-decoration-color: #008080; font-weight: bold\"> dataframe         </span>┃<span style=\"color: #008080; text-decoration-color: #008080; font-weight: bold\"> Values </span>┃ ┃<span style=\"color: #008080; text-decoration-color: #008080; font-weight: bold\"> Column Type </span>┃<span style=\"color: #008080; text-decoration-color: #008080; font-weight: bold\"> Count </span>┃                                                          │\n",
       "│ ┡━━━━━━━━━━━━━━━━━━━╇━━━━━━━━┩ ┡━━━━━━━━━━━━━╇━━━━━━━┩                                                          │\n",
       "│ │ Number of rows    │ 23494  │ │ float64     │ 52    │                                                          │\n",
       "│ │ Number of columns │ 55     │ │ string      │ 2     │                                                          │\n",
       "│ └───────────────────┴────────┘ │ int64       │ 1     │                                                          │\n",
       "│                                └─────────────┴───────┘                                                          │\n",
       "│ <span style=\"font-style: italic\">                                                    number                                                    </span>  │\n",
       "│ ┏━━━━━━━━━━┳━━━━━━┳━━━━━━━┳━━━━━━━━━━┳━━━━━━━━━━━┳━━━━━━━━┳━━━━━━━━━┳━━━━━━━━━┳━━━━━━━━━━┳━━━━━━━━━━┳━━━━━━━━┓  │\n",
       "│ ┃<span style=\"font-weight: bold\"> column_n </span>┃<span style=\"font-weight: bold\">      </span>┃<span style=\"font-weight: bold\">       </span>┃<span style=\"font-weight: bold\">          </span>┃<span style=\"font-weight: bold\">           </span>┃<span style=\"font-weight: bold\">        </span>┃<span style=\"font-weight: bold\">         </span>┃<span style=\"font-weight: bold\">         </span>┃<span style=\"font-weight: bold\">          </span>┃<span style=\"font-weight: bold\">          </span>┃<span style=\"font-weight: bold\">        </span>┃  │\n",
       "│ ┃<span style=\"font-weight: bold\"> ame      </span>┃<span style=\"font-weight: bold\"> NA   </span>┃<span style=\"font-weight: bold\"> NA %  </span>┃<span style=\"font-weight: bold\"> mean     </span>┃<span style=\"font-weight: bold\"> sd        </span>┃<span style=\"font-weight: bold\"> p0     </span>┃<span style=\"font-weight: bold\"> p25     </span>┃<span style=\"font-weight: bold\"> p50     </span>┃<span style=\"font-weight: bold\"> p75      </span>┃<span style=\"font-weight: bold\"> p100     </span>┃<span style=\"font-weight: bold\"> hist   </span>┃  │\n",
       "│ ┡━━━━━━━━━━╇━━━━━━╇━━━━━━━╇━━━━━━━━━━╇━━━━━━━━━━━╇━━━━━━━━╇━━━━━━━━━╇━━━━━━━━━╇━━━━━━━━━━╇━━━━━━━━━━╇━━━━━━━━┩  │\n",
       "│ │ <span style=\"color: #af87ff; text-decoration-color: #af87ff\">year    </span> │ <span style=\"color: #008080; text-decoration-color: #008080\">   0</span> │ <span style=\"color: #008080; text-decoration-color: #008080\">    0</span> │ <span style=\"color: #008080; text-decoration-color: #008080\">    1962</span> │ <span style=\"color: #008080; text-decoration-color: #008080\">    42.91</span> │ <span style=\"color: #008080; text-decoration-color: #008080\">  1850</span> │ <span style=\"color: #008080; text-decoration-color: #008080\">   1935</span> │ <span style=\"color: #008080; text-decoration-color: #008080\">   1970</span> │ <span style=\"color: #008080; text-decoration-color: #008080\">    1997</span> │ <span style=\"color: #008080; text-decoration-color: #008080\">    2021</span> │ <span style=\"color: #008000; text-decoration-color: #008000\">▂▂▃▅▇▇</span> │  │\n",
       "│ │ <span style=\"color: #af87ff; text-decoration-color: #af87ff\">populati</span> │ <span style=\"color: #008080; text-decoration-color: #008080\"> 926</span> │ <span style=\"color: #008080; text-decoration-color: #008080\"> 3.94</span> │ <span style=\"color: #008080; text-decoration-color: #008080\">92860000</span> │ <span style=\"color: #008080; text-decoration-color: #008080\">418500000</span> │ <span style=\"color: #008080; text-decoration-color: #008080\">  1480</span> │ <span style=\"color: #008080; text-decoration-color: #008080\">1415000</span> │ <span style=\"color: #008080; text-decoration-color: #008080\">5340000</span> │ <span style=\"color: #008080; text-decoration-color: #008080\">21760000</span> │ <span style=\"color: #008080; text-decoration-color: #008080\">79090000</span> │ <span style=\"color: #008000; text-decoration-color: #008000\">  ▇   </span> │  │\n",
       "│ │ <span style=\"color: #af87ff; text-decoration-color: #af87ff\">on      </span> │      │       │          │           │        │         │         │          │ <span style=\"color: #008080; text-decoration-color: #008080\">      00</span> │        │  │\n",
       "│ │ <span style=\"color: #af87ff; text-decoration-color: #af87ff\">cement_c</span> │ <span style=\"color: #008080; text-decoration-color: #008080\">3502</span> │ <span style=\"color: #008080; text-decoration-color: #008080\">14.91</span> │ <span style=\"color: #008080; text-decoration-color: #008080\">   10.48</span> │ <span style=\"color: #008080; text-decoration-color: #008080\">    70.27</span> │ <span style=\"color: #008080; text-decoration-color: #008080\">     0</span> │ <span style=\"color: #008080; text-decoration-color: #008080\">      0</span> │ <span style=\"color: #008080; text-decoration-color: #008080\">  0.116</span> │ <span style=\"color: #008080; text-decoration-color: #008080\">   1.287</span> │ <span style=\"color: #008080; text-decoration-color: #008080\">    1673</span> │ <span style=\"color: #008000; text-decoration-color: #008000\">  ▇   </span> │  │\n",
       "│ │ <span style=\"color: #af87ff; text-decoration-color: #af87ff\">o2      </span> │      │       │          │           │        │         │         │          │          │        │  │\n",
       "│ │ <span style=\"color: #af87ff; text-decoration-color: #af87ff\">cement_c</span> │ <span style=\"color: #008080; text-decoration-color: #008080\">3574</span> │ <span style=\"color: #008080; text-decoration-color: #008080\">15.21</span> │ <span style=\"color: #008080; text-decoration-color: #008080\"> 0.07293</span> │ <span style=\"color: #008080; text-decoration-color: #008080\">   0.1289</span> │ <span style=\"color: #008080; text-decoration-color: #008080\">     0</span> │ <span style=\"color: #008080; text-decoration-color: #008080\">      0</span> │ <span style=\"color: #008080; text-decoration-color: #008080\">  0.016</span> │ <span style=\"color: #008080; text-decoration-color: #008080\">   0.104</span> │ <span style=\"color: #008080; text-decoration-color: #008080\">   2.574</span> │ <span style=\"color: #008000; text-decoration-color: #008000\">  ▇   </span> │  │\n",
       "│ │ <span style=\"color: #af87ff; text-decoration-color: #af87ff\">o2_per_c</span> │      │       │          │           │        │         │         │          │          │        │  │\n",
       "│ │ <span style=\"color: #af87ff; text-decoration-color: #af87ff\">apita   </span> │      │       │          │           │        │         │         │          │          │        │  │\n",
       "│ │ <span style=\"color: #af87ff; text-decoration-color: #af87ff\">co2     </span> │ <span style=\"color: #008080; text-decoration-color: #008080\">   0</span> │ <span style=\"color: #008080; text-decoration-color: #008080\">    0</span> │ <span style=\"color: #008080; text-decoration-color: #008080\">   348.1</span> │ <span style=\"color: #008080; text-decoration-color: #008080\">     1755</span> │ <span style=\"color: #008080; text-decoration-color: #008080\">     0</span> │ <span style=\"color: #008080; text-decoration-color: #008080\">  0.575</span> │ <span style=\"color: #008080; text-decoration-color: #008080\">   5.27</span> │ <span style=\"color: #008080; text-decoration-color: #008080\">   50.21</span> │ <span style=\"color: #008080; text-decoration-color: #008080\">   37120</span> │ <span style=\"color: #008000; text-decoration-color: #008000\">  ▇   </span> │  │\n",
       "│ │ <span style=\"color: #af87ff; text-decoration-color: #af87ff\">co2_grow</span> │ <span style=\"color: #008080; text-decoration-color: #008080\"> 269</span> │ <span style=\"color: #008080; text-decoration-color: #008080\"> 1.14</span> │ <span style=\"color: #008080; text-decoration-color: #008080\">    7.04</span> │ <span style=\"color: #008080; text-decoration-color: #008080\">    65.47</span> │ <span style=\"color: #008080; text-decoration-color: #008080\"> -1818</span> │ <span style=\"color: #008080; text-decoration-color: #008080\"> -0.011</span> │ <span style=\"color: #008080; text-decoration-color: #008080\">  0.073</span> │ <span style=\"color: #008080; text-decoration-color: #008080\">   1.268</span> │ <span style=\"color: #008080; text-decoration-color: #008080\">    1860</span> │ <span style=\"color: #008000; text-decoration-color: #008000\">   ▇▁ </span> │  │\n",
       "│ │ <span style=\"color: #af87ff; text-decoration-color: #af87ff\">th_abs  </span> │      │       │          │           │        │         │         │          │          │        │  │\n",
       "│ │ <span style=\"color: #af87ff; text-decoration-color: #af87ff\">co2_grow</span> │ <span style=\"color: #008080; text-decoration-color: #008080\"> 307</span> │ <span style=\"color: #008080; text-decoration-color: #008080\"> 1.31</span> │ <span style=\"color: #008080; text-decoration-color: #008080\">   21.44</span> │ <span style=\"color: #008080; text-decoration-color: #008080\">    725.4</span> │ <span style=\"color: #008080; text-decoration-color: #008080\">  -100</span> │ <span style=\"color: #008080; text-decoration-color: #008080\"> -0.893</span> │ <span style=\"color: #008080; text-decoration-color: #008080\">  4.088</span> │ <span style=\"color: #008080; text-decoration-color: #008080\">   10.93</span> │ <span style=\"color: #008080; text-decoration-color: #008080\">  102300</span> │ <span style=\"color: #008000; text-decoration-color: #008000\">  ▇   </span> │  │\n",
       "│ │ <span style=\"color: #af87ff; text-decoration-color: #af87ff\">th_prct </span> │      │       │          │           │        │         │         │          │          │        │  │\n",
       "│ │ <span style=\"color: #af87ff; text-decoration-color: #af87ff\">co2_incl</span> │ <span style=\"color: #008080; text-decoration-color: #008080\"> 953</span> │ <span style=\"color: #008080; text-decoration-color: #008080\"> 4.06</span> │ <span style=\"color: #008080; text-decoration-color: #008080\">     535</span> │ <span style=\"color: #008080; text-decoration-color: #008080\">     2153</span> │ <span style=\"color: #008080; text-decoration-color: #008080\">  -187</span> │ <span style=\"color: #008080; text-decoration-color: #008080\">  6.346</span> │ <span style=\"color: #008080; text-decoration-color: #008080\">  28.74</span> │ <span style=\"color: #008080; text-decoration-color: #008080\">   129.1</span> │ <span style=\"color: #008080; text-decoration-color: #008080\">   41640</span> │ <span style=\"color: #008000; text-decoration-color: #008000\">  ▇   </span> │  │\n",
       "│ │ <span style=\"color: #af87ff; text-decoration-color: #af87ff\">uding_lu</span> │      │       │          │           │        │         │         │          │          │        │  │\n",
       "│ │ <span style=\"color: #af87ff; text-decoration-color: #af87ff\">c       </span> │      │       │          │           │        │         │         │          │          │        │  │\n",
       "│ │ <span style=\"color: #af87ff; text-decoration-color: #af87ff\">co2_incl</span> │ <span style=\"color: #008080; text-decoration-color: #008080\">1232</span> │ <span style=\"color: #008080; text-decoration-color: #008080\"> 5.24</span> │ <span style=\"color: #008080; text-decoration-color: #008080\">   7.797</span> │ <span style=\"color: #008080; text-decoration-color: #008080\">    96.02</span> │ <span style=\"color: #008080; text-decoration-color: #008080\"> -2318</span> │ <span style=\"color: #008080; text-decoration-color: #008080\"> -0.722</span> │ <span style=\"color: #008080; text-decoration-color: #008080\">  0.103</span> │ <span style=\"color: #008080; text-decoration-color: #008080\">   2.747</span> │ <span style=\"color: #008080; text-decoration-color: #008080\">    2247</span> │ <span style=\"color: #008000; text-decoration-color: #008000\">    ▇ </span> │  │\n",
       "│ │ <span style=\"color: #af87ff; text-decoration-color: #af87ff\">uding_lu</span> │      │       │          │           │        │         │         │          │          │        │  │\n",
       "│ │ <span style=\"color: #af87ff; text-decoration-color: #af87ff\">c_growth</span> │      │       │          │           │        │         │         │          │          │        │  │\n",
       "│ │ <span style=\"color: #af87ff; text-decoration-color: #af87ff\">_abs    </span> │      │       │          │           │        │         │         │          │          │        │  │\n",
       "│ │ <span style=\"color: #af87ff; text-decoration-color: #af87ff\">co2_incl</span> │ <span style=\"color: #008080; text-decoration-color: #008080\">1166</span> │ <span style=\"color: #008080; text-decoration-color: #008080\"> 4.96</span> │ <span style=\"color: #008080; text-decoration-color: #008080\">   13.01</span> │ <span style=\"color: #008080; text-decoration-color: #008080\">    732.1</span> │ <span style=\"color: #008080; text-decoration-color: #008080\">-36940</span> │ <span style=\"color: #008080; text-decoration-color: #008080\"> -3.927</span> │ <span style=\"color: #008080; text-decoration-color: #008080\">  1.173</span> │ <span style=\"color: #008080; text-decoration-color: #008080\">   6.083</span> │ <span style=\"color: #008080; text-decoration-color: #008080\">   76500</span> │ <span style=\"color: #008000; text-decoration-color: #008000\">   ▇  </span> │  │\n",
       "│ │ <span style=\"color: #af87ff; text-decoration-color: #af87ff\">uding_lu</span> │      │       │          │           │        │         │         │          │          │        │  │\n",
       "│ │ <span style=\"color: #af87ff; text-decoration-color: #af87ff\">c_growth</span> │      │       │          │           │        │         │         │          │          │        │  │\n",
       "│ │ <span style=\"color: #af87ff; text-decoration-color: #af87ff\">_prct   </span> │      │       │          │           │        │         │         │          │          │        │  │\n",
       "│ │ <span style=\"color: #af87ff; text-decoration-color: #af87ff\">co2_incl</span> │ <span style=\"color: #008080; text-decoration-color: #008080\">1025</span> │ <span style=\"color: #008080; text-decoration-color: #008080\"> 4.36</span> │ <span style=\"color: #008080; text-decoration-color: #008080\">   7.498</span> │ <span style=\"color: #008080; text-decoration-color: #008080\">    16.99</span> │ <span style=\"color: #008080; text-decoration-color: #008080\">-7.068</span> │ <span style=\"color: #008080; text-decoration-color: #008080\">  2.064</span> │ <span style=\"color: #008080; text-decoration-color: #008080\">  4.607</span> │ <span style=\"color: #008080; text-decoration-color: #008080\">   8.949</span> │ <span style=\"color: #008080; text-decoration-color: #008080\">   824.5</span> │ <span style=\"color: #008000; text-decoration-color: #008000\">  ▇   </span> │  │\n",
       "│ │ <span style=\"color: #af87ff; text-decoration-color: #af87ff\">uding_lu</span> │      │       │          │           │        │         │         │          │          │        │  │\n",
       "│ │ <span style=\"color: #af87ff; text-decoration-color: #af87ff\">c_per_ca</span> │      │       │          │           │        │         │         │          │          │        │  │\n",
       "│ │ <span style=\"color: #af87ff; text-decoration-color: #af87ff\">pita    </span> │      │       │          │           │        │         │         │          │          │        │  │\n",
       "│ │ <span style=\"color: #af87ff; text-decoration-color: #af87ff\">co2_incl</span> │ <span style=\"color: #008080; text-decoration-color: #008080\">7846</span> │ <span style=\"color: #008080; text-decoration-color: #008080\"> 33.4</span> │ <span style=\"color: #008080; text-decoration-color: #008080\">   2.255</span> │ <span style=\"color: #008080; text-decoration-color: #008080\">    5.671</span> │ <span style=\"color: #008080; text-decoration-color: #008080\"> -6.65</span> │ <span style=\"color: #008080; text-decoration-color: #008080\">  0.407</span> │ <span style=\"color: #008080; text-decoration-color: #008080\">  0.854</span> │ <span style=\"color: #008080; text-decoration-color: #008080\">   2.069</span> │ <span style=\"color: #008080; text-decoration-color: #008080\">   283.1</span> │ <span style=\"color: #008000; text-decoration-color: #008000\">  ▇   </span> │  │\n",
       "│ │ <span style=\"color: #af87ff; text-decoration-color: #af87ff\">uding_lu</span> │      │       │          │           │        │         │         │          │          │        │  │\n",
       "│ │ <span style=\"color: #af87ff; text-decoration-color: #af87ff\">c_per_gd</span> │      │       │          │           │        │         │         │          │          │        │  │\n",
       "│ │ <span style=\"color: #af87ff; text-decoration-color: #af87ff\">p       </span> │      │       │          │           │        │         │         │          │          │        │  │\n",
       "│ │ <span style=\"color: #af87ff; text-decoration-color: #af87ff\">co2_per_</span> │ <span style=\"color: #008080; text-decoration-color: #008080\">  72</span> │ <span style=\"color: #008080; text-decoration-color: #008080\"> 0.31</span> │ <span style=\"color: #008080; text-decoration-color: #008080\">   4.204</span> │ <span style=\"color: #008080; text-decoration-color: #008080\">    15.95</span> │ <span style=\"color: #008080; text-decoration-color: #008080\">     0</span> │ <span style=\"color: #008080; text-decoration-color: #008080\">  0.271</span> │ <span style=\"color: #008080; text-decoration-color: #008080\">  1.331</span> │ <span style=\"color: #008080; text-decoration-color: #008080\">   4.813</span> │ <span style=\"color: #008080; text-decoration-color: #008080\">   824.5</span> │ <span style=\"color: #008000; text-decoration-color: #008000\">  ▇   </span> │  │\n",
       "│ │ <span style=\"color: #af87ff; text-decoration-color: #af87ff\">capita  </span> │      │       │          │           │        │         │         │          │          │        │  │\n",
       "│ │ <span style=\"color: #af87ff; text-decoration-color: #af87ff\">co2_per_</span> │ <span style=\"color: #008080; text-decoration-color: #008080\">7790</span> │ <span style=\"color: #008080; text-decoration-color: #008080\">33.16</span> │ <span style=\"color: #008080; text-decoration-color: #008080\">  0.4273</span> │ <span style=\"color: #008080; text-decoration-color: #008080\">   0.5651</span> │ <span style=\"color: #008080; text-decoration-color: #008080\">     0</span> │ <span style=\"color: #008080; text-decoration-color: #008080\">  0.143</span> │ <span style=\"color: #008080; text-decoration-color: #008080\">  0.282</span> │ <span style=\"color: #008080; text-decoration-color: #008080\">   0.539</span> │ <span style=\"color: #008080; text-decoration-color: #008080\">   37.61</span> │ <span style=\"color: #008000; text-decoration-color: #008000\">  ▇   </span> │  │\n",
       "│ │ <span style=\"color: #af87ff; text-decoration-color: #af87ff\">gdp     </span> │      │       │          │           │        │         │         │          │          │        │  │\n",
       "│ │ <span style=\"color: #af87ff; text-decoration-color: #af87ff\">coal_co2</span> │ <span style=\"color: #008080; text-decoration-color: #008080\">  70</span> │ <span style=\"color: #008080; text-decoration-color: #008080\">  0.3</span> │ <span style=\"color: #008080; text-decoration-color: #008080\">     164</span> │ <span style=\"color: #008080; text-decoration-color: #008080\">    776.4</span> │ <span style=\"color: #008080; text-decoration-color: #008080\">     0</span> │ <span style=\"color: #008080; text-decoration-color: #008080\">      0</span> │ <span style=\"color: #008080; text-decoration-color: #008080\"> 0.6325</span> │ <span style=\"color: #008080; text-decoration-color: #008080\">   16.16</span> │ <span style=\"color: #008080; text-decoration-color: #008080\">   15050</span> │ <span style=\"color: #008000; text-decoration-color: #008000\">  ▇   </span> │  │\n",
       "│ │ <span style=\"color: #af87ff; text-decoration-color: #af87ff\">coal_co2</span> │ <span style=\"color: #008080; text-decoration-color: #008080\"> 142</span> │ <span style=\"color: #008080; text-decoration-color: #008080\">  0.6</span> │ <span style=\"color: #008080; text-decoration-color: #008080\">   1.135</span> │ <span style=\"color: #008080; text-decoration-color: #008080\">     2.28</span> │ <span style=\"color: #008080; text-decoration-color: #008080\">     0</span> │ <span style=\"color: #008080; text-decoration-color: #008080\">      0</span> │ <span style=\"color: #008080; text-decoration-color: #008080\">   0.09</span> │ <span style=\"color: #008080; text-decoration-color: #008080\">   1.215</span> │ <span style=\"color: #008080; text-decoration-color: #008080\">   34.23</span> │ <span style=\"color: #008000; text-decoration-color: #008000\">  ▇   </span> │  │\n",
       "│ │ <span style=\"color: #af87ff; text-decoration-color: #af87ff\">_per_cap</span> │      │       │          │           │        │         │         │          │          │        │  │\n",
       "│ │ <span style=\"color: #af87ff; text-decoration-color: #af87ff\">ita     </span> │      │       │          │           │        │         │         │          │          │        │  │\n",
       "│ │ <span style=\"color: #af87ff; text-decoration-color: #af87ff\">cumulati</span> │ <span style=\"color: #008080; text-decoration-color: #008080\">3502</span> │ <span style=\"color: #008080; text-decoration-color: #008080\">14.91</span> │ <span style=\"color: #008080; text-decoration-color: #008080\">   249.2</span> │ <span style=\"color: #008080; text-decoration-color: #008080\">     1570</span> │ <span style=\"color: #008080; text-decoration-color: #008080\">     0</span> │ <span style=\"color: #008080; text-decoration-color: #008080\">      0</span> │ <span style=\"color: #008080; text-decoration-color: #008080\">  1.492</span> │ <span style=\"color: #008080; text-decoration-color: #008080\">   26.35</span> │ <span style=\"color: #008080; text-decoration-color: #008080\">   45070</span> │ <span style=\"color: #008000; text-decoration-color: #008000\">  ▇   </span> │  │\n",
       "│ │ <span style=\"color: #af87ff; text-decoration-color: #af87ff\">ve_cemen</span> │      │       │          │           │        │         │         │          │          │        │  │\n",
       "│ │ <span style=\"color: #af87ff; text-decoration-color: #af87ff\">t_co2   </span> │      │       │          │           │        │         │         │          │          │        │  │\n",
       "│ │ <span style=\"color: #af87ff; text-decoration-color: #af87ff\">cumulati</span> │ <span style=\"color: #008080; text-decoration-color: #008080\">   0</span> │ <span style=\"color: #008080; text-decoration-color: #008080\">    0</span> │ <span style=\"color: #008080; text-decoration-color: #008080\">   13470</span> │ <span style=\"color: #008080; text-decoration-color: #008080\">    72400</span> │ <span style=\"color: #008080; text-decoration-color: #008080\">     0</span> │ <span style=\"color: #008080; text-decoration-color: #008080\">  7.858</span> │ <span style=\"color: #008080; text-decoration-color: #008080\">  103.3</span> │ <span style=\"color: #008080; text-decoration-color: #008080\">    1375</span> │ <span style=\"color: #008080; text-decoration-color: #008080\"> 1737000</span> │ <span style=\"color: #008000; text-decoration-color: #008000\">  ▇   </span> │  │\n",
       "│ │ <span style=\"color: #af87ff; text-decoration-color: #af87ff\">ve_co2  </span> │      │       │          │           │        │         │         │          │          │        │  │\n",
       "│ │ <span style=\"color: #af87ff; text-decoration-color: #af87ff\">cumulati</span> │ <span style=\"color: #008080; text-decoration-color: #008080\"> 953</span> │ <span style=\"color: #008080; text-decoration-color: #008080\"> 4.06</span> │ <span style=\"color: #008080; text-decoration-color: #008080\">   26830</span> │ <span style=\"color: #008080; text-decoration-color: #008080\">   115300</span> │ <span style=\"color: #008080; text-decoration-color: #008080\">-183.7</span> │ <span style=\"color: #008080; text-decoration-color: #008080\">    171</span> │ <span style=\"color: #008080; text-decoration-color: #008080\">   1048</span> │ <span style=\"color: #008080; text-decoration-color: #008080\">    5269</span> │ <span style=\"color: #008080; text-decoration-color: #008080\"> 2475000</span> │ <span style=\"color: #008000; text-decoration-color: #008000\">  ▇   </span> │  │\n",
       "│ │ <span style=\"color: #af87ff; text-decoration-color: #af87ff\">ve_co2_i</span> │      │       │          │           │        │         │         │          │          │        │  │\n",
       "│ │ <span style=\"color: #af87ff; text-decoration-color: #af87ff\">ncluding</span> │      │       │          │           │        │         │         │          │          │        │  │\n",
       "│ │ <span style=\"color: #af87ff; text-decoration-color: #af87ff\">_luc    </span> │      │       │          │           │        │         │         │          │          │        │  │\n",
       "│ │ <span style=\"color: #af87ff; text-decoration-color: #af87ff\">cumulati</span> │ <span style=\"color: #008080; text-decoration-color: #008080\">  70</span> │ <span style=\"color: #008080; text-decoration-color: #008080\">  0.3</span> │ <span style=\"color: #008080; text-decoration-color: #008080\">    8167</span> │ <span style=\"color: #008080; text-decoration-color: #008080\">    39420</span> │ <span style=\"color: #008080; text-decoration-color: #008080\">     0</span> │ <span style=\"color: #008080; text-decoration-color: #008080\">0.05075</span> │ <span style=\"color: #008080; text-decoration-color: #008080\">  13.96</span> │ <span style=\"color: #008080; text-decoration-color: #008080\">   523.7</span> │ <span style=\"color: #008080; text-decoration-color: #008080\">  804200</span> │ <span style=\"color: #008000; text-decoration-color: #008000\">  ▇   </span> │  │\n",
       "│ │ <span style=\"color: #af87ff; text-decoration-color: #af87ff\">ve_coal_</span> │      │       │          │           │        │         │         │          │          │        │  │\n",
       "│ │ <span style=\"color: #af87ff; text-decoration-color: #af87ff\">co2     </span> │      │       │          │           │        │         │         │          │          │        │  │\n",
       "│ │ <span style=\"color: #af87ff; text-decoration-color: #af87ff\">cumulati</span> │ <span style=\"color: #008080; text-decoration-color: #008080\"> 159</span> │ <span style=\"color: #008080; text-decoration-color: #008080\"> 0.68</span> │ <span style=\"color: #008080; text-decoration-color: #008080\">   108.1</span> │ <span style=\"color: #008080; text-decoration-color: #008080\">    685.7</span> │ <span style=\"color: #008080; text-decoration-color: #008080\">     0</span> │ <span style=\"color: #008080; text-decoration-color: #008080\">      0</span> │ <span style=\"color: #008080; text-decoration-color: #008080\">      0</span> │ <span style=\"color: #008080; text-decoration-color: #008080\">       0</span> │ <span style=\"color: #008080; text-decoration-color: #008080\">   18450</span> │ <span style=\"color: #008000; text-decoration-color: #008000\">  ▇   </span> │  │\n",
       "│ │ <span style=\"color: #af87ff; text-decoration-color: #af87ff\">ve_flari</span> │      │       │          │           │        │         │         │          │          │        │  │\n",
       "│ │ <span style=\"color: #af87ff; text-decoration-color: #af87ff\">ng_co2  </span> │      │       │          │           │        │         │         │          │          │        │  │\n",
       "│ │ <span style=\"color: #af87ff; text-decoration-color: #af87ff\">cumulati</span> │ <span style=\"color: #008080; text-decoration-color: #008080\">  91</span> │ <span style=\"color: #008080; text-decoration-color: #008080\"> 0.39</span> │ <span style=\"color: #008080; text-decoration-color: #008080\">    1290</span> │ <span style=\"color: #008080; text-decoration-color: #008080\">     9087</span> │ <span style=\"color: #008080; text-decoration-color: #008080\">     0</span> │ <span style=\"color: #008080; text-decoration-color: #008080\">      0</span> │ <span style=\"color: #008080; text-decoration-color: #008080\">      0</span> │ <span style=\"color: #008080; text-decoration-color: #008080\">   18.19</span> │ <span style=\"color: #008080; text-decoration-color: #008080\">  254100</span> │ <span style=\"color: #008000; text-decoration-color: #008000\">  ▇   </span> │  │\n",
       "│ │ <span style=\"color: #af87ff; text-decoration-color: #af87ff\">ve_gas_c</span> │      │       │          │           │        │         │         │          │          │        │  │\n",
       "│ │ <span style=\"color: #af87ff; text-decoration-color: #af87ff\">o2      </span> │      │       │          │           │        │         │         │          │          │        │  │\n",
       "│ │ <span style=\"color: #af87ff; text-decoration-color: #af87ff\">cumulati</span> │ <span style=\"color: #008080; text-decoration-color: #008080\"> 953</span> │ <span style=\"color: #008080; text-decoration-color: #008080\"> 4.06</span> │ <span style=\"color: #008080; text-decoration-color: #008080\">   15160</span> │ <span style=\"color: #008080; text-decoration-color: #008080\">    51020</span> │ <span style=\"color: #008080; text-decoration-color: #008080\"> -4701</span> │ <span style=\"color: #008080; text-decoration-color: #008080\">  143.7</span> │ <span style=\"color: #008080; text-decoration-color: #008080\">  842.2</span> │ <span style=\"color: #008080; text-decoration-color: #008080\">    4206</span> │ <span style=\"color: #008080; text-decoration-color: #008080\">  742500</span> │ <span style=\"color: #008000; text-decoration-color: #008000\">  ▇   </span> │  │\n",
       "│ │ <span style=\"color: #af87ff; text-decoration-color: #af87ff\">ve_luc_c</span> │      │       │          │           │        │         │         │          │          │        │  │\n",
       "│ │ <span style=\"color: #af87ff; text-decoration-color: #af87ff\">o2      </span> │      │       │          │           │        │         │         │          │          │        │  │\n",
       "│ │ <span style=\"color: #af87ff; text-decoration-color: #af87ff\">cumulati</span> │ <span style=\"color: #008080; text-decoration-color: #008080\">  64</span> │ <span style=\"color: #008080; text-decoration-color: #008080\"> 0.27</span> │ <span style=\"color: #008080; text-decoration-color: #008080\">    3692</span> │ <span style=\"color: #008080; text-decoration-color: #008080\">    23710</span> │ <span style=\"color: #008080; text-decoration-color: #008080\">     0</span> │ <span style=\"color: #008080; text-decoration-color: #008080\">   1.74</span> │ <span style=\"color: #008080; text-decoration-color: #008080\">  27.97</span> │ <span style=\"color: #008080; text-decoration-color: #008080\">   319.4</span> │ <span style=\"color: #008080; text-decoration-color: #008080\">  605500</span> │ <span style=\"color: #008000; text-decoration-color: #008000\">  ▇   </span> │  │\n",
       "│ │ <span style=\"color: #af87ff; text-decoration-color: #af87ff\">ve_oil_c</span> │      │       │          │           │        │         │         │          │          │        │  │\n",
       "│ │ <span style=\"color: #af87ff; text-decoration-color: #af87ff\">o2      </span> │      │       │          │           │        │         │         │          │          │        │  │\n",
       "│ │ <span style=\"color: #af87ff; text-decoration-color: #af87ff\">flaring_</span> │ <span style=\"color: #008080; text-decoration-color: #008080\"> 159</span> │ <span style=\"color: #008080; text-decoration-color: #008080\"> 0.68</span> │ <span style=\"color: #008080; text-decoration-color: #008080\">   3.723</span> │ <span style=\"color: #008080; text-decoration-color: #008080\">    20.94</span> │ <span style=\"color: #008080; text-decoration-color: #008080\">     0</span> │ <span style=\"color: #008080; text-decoration-color: #008080\">      0</span> │ <span style=\"color: #008080; text-decoration-color: #008080\">      0</span> │ <span style=\"color: #008080; text-decoration-color: #008080\">       0</span> │ <span style=\"color: #008080; text-decoration-color: #008080\">   439.3</span> │ <span style=\"color: #008000; text-decoration-color: #008000\">  ▇   </span> │  │\n",
       "│ │ <span style=\"color: #af87ff; text-decoration-color: #af87ff\">co2     </span> │      │       │          │           │        │         │         │          │          │        │  │\n",
       "│ │ <span style=\"color: #af87ff; text-decoration-color: #af87ff\">flaring_</span> │ <span style=\"color: #008080; text-decoration-color: #008080\"> 231</span> │ <span style=\"color: #008080; text-decoration-color: #008080\"> 0.98</span> │ <span style=\"color: #008080; text-decoration-color: #008080\">  0.1623</span> │ <span style=\"color: #008080; text-decoration-color: #008080\">     2.36</span> │ <span style=\"color: #008080; text-decoration-color: #008080\">     0</span> │ <span style=\"color: #008080; text-decoration-color: #008080\">      0</span> │ <span style=\"color: #008080; text-decoration-color: #008080\">      0</span> │ <span style=\"color: #008080; text-decoration-color: #008080\">       0</span> │ <span style=\"color: #008080; text-decoration-color: #008080\">   113.2</span> │ <span style=\"color: #008000; text-decoration-color: #008000\">  ▇   </span> │  │\n",
       "│ │ <span style=\"color: #af87ff; text-decoration-color: #af87ff\">co2_per_</span> │      │       │          │           │        │         │         │          │          │        │  │\n",
       "│ │ <span style=\"color: #af87ff; text-decoration-color: #af87ff\">capita  </span> │      │       │          │           │        │         │         │          │          │        │  │\n",
       "│ │ <span style=\"color: #af87ff; text-decoration-color: #af87ff\">gas_co2 </span> │ <span style=\"color: #008080; text-decoration-color: #008080\">  91</span> │ <span style=\"color: #008080; text-decoration-color: #008080\"> 0.39</span> │ <span style=\"color: #008080; text-decoration-color: #008080\">   53.38</span> │ <span style=\"color: #008080; text-decoration-color: #008080\">    319.6</span> │ <span style=\"color: #008080; text-decoration-color: #008080\">     0</span> │ <span style=\"color: #008080; text-decoration-color: #008080\">      0</span> │ <span style=\"color: #008080; text-decoration-color: #008080\">      0</span> │ <span style=\"color: #008080; text-decoration-color: #008080\">   1.735</span> │ <span style=\"color: #008080; text-decoration-color: #008080\">    7922</span> │ <span style=\"color: #008000; text-decoration-color: #008000\">  ▇   </span> │  │\n",
       "│ │ <span style=\"color: #af87ff; text-decoration-color: #af87ff\">gas_co2_</span> │ <span style=\"color: #008080; text-decoration-color: #008080\"> 163</span> │ <span style=\"color: #008080; text-decoration-color: #008080\"> 0.69</span> │ <span style=\"color: #008080; text-decoration-color: #008080\">  0.5512</span> │ <span style=\"color: #008080; text-decoration-color: #008080\">    2.333</span> │ <span style=\"color: #008080; text-decoration-color: #008080\">     0</span> │ <span style=\"color: #008080; text-decoration-color: #008080\">      0</span> │ <span style=\"color: #008080; text-decoration-color: #008080\">      0</span> │ <span style=\"color: #008080; text-decoration-color: #008080\">   0.102</span> │ <span style=\"color: #008080; text-decoration-color: #008080\">   53.31</span> │ <span style=\"color: #008000; text-decoration-color: #008000\">  ▇   </span> │  │\n",
       "│ │ <span style=\"color: #af87ff; text-decoration-color: #af87ff\">per_capi</span> │      │       │          │           │        │         │         │          │          │        │  │\n",
       "│ │ <span style=\"color: #af87ff; text-decoration-color: #af87ff\">ta      </span> │      │       │          │           │        │         │         │          │          │        │  │\n",
       "│ │ <span style=\"color: #af87ff; text-decoration-color: #af87ff\">land_use</span> │ <span style=\"color: #008080; text-decoration-color: #008080\"> 953</span> │ <span style=\"color: #008080; text-decoration-color: #008080\"> 4.06</span> │ <span style=\"color: #008080; text-decoration-color: #008080\">   183.8</span> │ <span style=\"color: #008080; text-decoration-color: #008080\">    578.4</span> │ <span style=\"color: #008080; text-decoration-color: #008080\">-323.9</span> │ <span style=\"color: #008080; text-decoration-color: #008080\">  0.293</span> │ <span style=\"color: #008080; text-decoration-color: #008080\">  7.841</span> │ <span style=\"color: #008080; text-decoration-color: #008080\">   46.72</span> │ <span style=\"color: #008080; text-decoration-color: #008080\">    7105</span> │ <span style=\"color: #008000; text-decoration-color: #008000\">  ▇   </span> │  │\n",
       "│ │ <span style=\"color: #af87ff; text-decoration-color: #af87ff\">_change_</span> │      │       │          │           │        │         │         │          │          │        │  │\n",
       "│ │ <span style=\"color: #af87ff; text-decoration-color: #af87ff\">co2     </span> │      │       │          │           │        │         │         │          │          │        │  │\n",
       "│ │ <span style=\"color: #af87ff; text-decoration-color: #af87ff\">land_use</span> │ <span style=\"color: #008080; text-decoration-color: #008080\">1025</span> │ <span style=\"color: #008080; text-decoration-color: #008080\"> 4.36</span> │ <span style=\"color: #008080; text-decoration-color: #008080\">   3.383</span> │ <span style=\"color: #008080; text-decoration-color: #008080\">    6.192</span> │ <span style=\"color: #008080; text-decoration-color: #008080\">-8.408</span> │ <span style=\"color: #008080; text-decoration-color: #008080\">  0.157</span> │ <span style=\"color: #008080; text-decoration-color: #008080\">  1.244</span> │ <span style=\"color: #008080; text-decoration-color: #008080\">   3.985</span> │ <span style=\"color: #008080; text-decoration-color: #008080\">   99.13</span> │ <span style=\"color: #008000; text-decoration-color: #008000\">  ▇▁  </span> │  │\n",
       "│ │ <span style=\"color: #af87ff; text-decoration-color: #af87ff\">_change_</span> │      │       │          │           │        │         │         │          │          │        │  │\n",
       "│ │ <span style=\"color: #af87ff; text-decoration-color: #af87ff\">co2_per_</span> │      │       │          │           │        │         │         │          │          │        │  │\n",
       "│ │ <span style=\"color: #af87ff; text-decoration-color: #af87ff\">capita  </span> │      │       │          │           │        │         │         │          │          │        │  │\n",
       "│ │ <span style=\"color: #af87ff; text-decoration-color: #af87ff\">oil_co2 </span> │ <span style=\"color: #008080; text-decoration-color: #008080\">  64</span> │ <span style=\"color: #008080; text-decoration-color: #008080\"> 0.27</span> │ <span style=\"color: #008080; text-decoration-color: #008080\">   117.2</span> │ <span style=\"color: #008080; text-decoration-color: #008080\">    644.7</span> │ <span style=\"color: #008080; text-decoration-color: #008080\">     0</span> │ <span style=\"color: #008080; text-decoration-color: #008080\">  0.147</span> │ <span style=\"color: #008080; text-decoration-color: #008080\">  1.612</span> │ <span style=\"color: #008080; text-decoration-color: #008080\">   15.09</span> │ <span style=\"color: #008080; text-decoration-color: #008080\">   12350</span> │ <span style=\"color: #008000; text-decoration-color: #008000\">  ▇   </span> │  │\n",
       "│ │ <span style=\"color: #af87ff; text-decoration-color: #af87ff\">oil_co2_</span> │ <span style=\"color: #008080; text-decoration-color: #008080\"> 136</span> │ <span style=\"color: #008080; text-decoration-color: #008080\"> 0.58</span> │ <span style=\"color: #008080; text-decoration-color: #008080\">   2.299</span> │ <span style=\"color: #008080; text-decoration-color: #008080\">    15.22</span> │ <span style=\"color: #008080; text-decoration-color: #008080\">     0</span> │ <span style=\"color: #008080; text-decoration-color: #008080\">  0.058</span> │ <span style=\"color: #008080; text-decoration-color: #008080\">  0.444</span> │ <span style=\"color: #008080; text-decoration-color: #008080\">   2.096</span> │ <span style=\"color: #008080; text-decoration-color: #008080\">   824.5</span> │ <span style=\"color: #008000; text-decoration-color: #008000\">  ▇   </span> │  │\n",
       "│ │ <span style=\"color: #af87ff; text-decoration-color: #af87ff\">per_capi</span> │      │       │          │           │        │         │         │          │          │        │  │\n",
       "│ │ <span style=\"color: #af87ff; text-decoration-color: #af87ff\">ta      </span> │      │       │          │           │        │         │         │          │          │        │  │\n",
       "│ │ <span style=\"color: #af87ff; text-decoration-color: #af87ff\">share_gl</span> │ <span style=\"color: #008080; text-decoration-color: #008080\">3939</span> │ <span style=\"color: #008080; text-decoration-color: #008080\">16.77</span> │ <span style=\"color: #008080; text-decoration-color: #008080\">   3.513</span> │ <span style=\"color: #008080; text-decoration-color: #008080\">     14.5</span> │ <span style=\"color: #008080; text-decoration-color: #008080\">     0</span> │ <span style=\"color: #008080; text-decoration-color: #008080\">      0</span> │ <span style=\"color: #008080; text-decoration-color: #008080\">  0.047</span> │ <span style=\"color: #008080; text-decoration-color: #008080\">   0.465</span> │ <span style=\"color: #008080; text-decoration-color: #008080\">     100</span> │ <span style=\"color: #008000; text-decoration-color: #008000\">  ▇   </span> │  │\n",
       "│ │ <span style=\"color: #af87ff; text-decoration-color: #af87ff\">obal_cem</span> │      │       │          │           │        │         │         │          │          │        │  │\n",
       "│ │ <span style=\"color: #af87ff; text-decoration-color: #af87ff\">ent_co2 </span> │      │       │          │           │        │         │         │          │          │        │  │\n",
       "│ │ <span style=\"color: #af87ff; text-decoration-color: #af87ff\">share_gl</span> │ <span style=\"color: #008080; text-decoration-color: #008080\">   0</span> │ <span style=\"color: #008080; text-decoration-color: #008080\">    0</span> │ <span style=\"color: #008080; text-decoration-color: #008080\">   3.674</span> │ <span style=\"color: #008080; text-decoration-color: #008080\">    13.62</span> │ <span style=\"color: #008080; text-decoration-color: #008080\">     0</span> │ <span style=\"color: #008080; text-decoration-color: #008080\">  0.006</span> │ <span style=\"color: #008080; text-decoration-color: #008080\">  0.061</span> │ <span style=\"color: #008080; text-decoration-color: #008080\">   0.537</span> │ <span style=\"color: #008080; text-decoration-color: #008080\">     100</span> │ <span style=\"color: #008000; text-decoration-color: #008000\">  ▇   </span> │  │\n",
       "│ │ <span style=\"color: #af87ff; text-decoration-color: #af87ff\">obal_co2</span> │      │       │          │           │        │         │         │          │          │        │  │\n",
       "│ │ <span style=\"color: #af87ff; text-decoration-color: #af87ff\">share_gl</span> │ <span style=\"color: #008080; text-decoration-color: #008080\"> 953</span> │ <span style=\"color: #008080; text-decoration-color: #008080\"> 4.06</span> │ <span style=\"color: #008080; text-decoration-color: #008080\">   3.712</span> │ <span style=\"color: #008080; text-decoration-color: #008080\">    11.84</span> │ <span style=\"color: #008080; text-decoration-color: #008080\">-0.816</span> │ <span style=\"color: #008080; text-decoration-color: #008080\">  0.038</span> │ <span style=\"color: #008080; text-decoration-color: #008080\">  0.181</span> │ <span style=\"color: #008080; text-decoration-color: #008080\">   0.909</span> │ <span style=\"color: #008080; text-decoration-color: #008080\">     100</span> │ <span style=\"color: #008000; text-decoration-color: #008000\">  ▇   </span> │  │\n",
       "│ │ <span style=\"color: #af87ff; text-decoration-color: #af87ff\">obal_co2</span> │      │       │          │           │        │         │         │          │          │        │  │\n",
       "│ │ <span style=\"color: #af87ff; text-decoration-color: #af87ff\">_includi</span> │      │       │          │           │        │         │         │          │          │        │  │\n",
       "│ │ <span style=\"color: #af87ff; text-decoration-color: #af87ff\">ng_luc  </span> │      │       │          │           │        │         │         │          │          │        │  │\n",
       "│ │ <span style=\"color: #af87ff; text-decoration-color: #af87ff\">share_gl</span> │ <span style=\"color: #008080; text-decoration-color: #008080\">  70</span> │ <span style=\"color: #008080; text-decoration-color: #008080\">  0.3</span> │ <span style=\"color: #008080; text-decoration-color: #008080\">   3.734</span> │ <span style=\"color: #008080; text-decoration-color: #008080\">     13.9</span> │ <span style=\"color: #008080; text-decoration-color: #008080\">     0</span> │ <span style=\"color: #008080; text-decoration-color: #008080\">      0</span> │ <span style=\"color: #008080; text-decoration-color: #008080\">  0.015</span> │ <span style=\"color: #008080; text-decoration-color: #008080\">   0.408</span> │ <span style=\"color: #008080; text-decoration-color: #008080\">     100</span> │ <span style=\"color: #008000; text-decoration-color: #008000\">  ▇   </span> │  │\n",
       "│ │ <span style=\"color: #af87ff; text-decoration-color: #af87ff\">obal_coa</span> │      │       │          │           │        │         │         │          │          │        │  │\n",
       "│ │ <span style=\"color: #af87ff; text-decoration-color: #af87ff\">l_co2   </span> │      │       │          │           │        │         │         │          │          │        │  │\n",
       "│ │ <span style=\"color: #af87ff; text-decoration-color: #af87ff\">share_gl</span> │ <span style=\"color: #008080; text-decoration-color: #008080\">3939</span> │ <span style=\"color: #008080; text-decoration-color: #008080\">16.77</span> │ <span style=\"color: #008080; text-decoration-color: #008080\">   3.545</span> │ <span style=\"color: #008080; text-decoration-color: #008080\">    14.39</span> │ <span style=\"color: #008080; text-decoration-color: #008080\">     0</span> │ <span style=\"color: #008080; text-decoration-color: #008080\">      0</span> │ <span style=\"color: #008080; text-decoration-color: #008080\">  0.043</span> │ <span style=\"color: #008080; text-decoration-color: #008080\">   0.465</span> │ <span style=\"color: #008080; text-decoration-color: #008080\">     100</span> │ <span style=\"color: #008000; text-decoration-color: #008000\">  ▇   </span> │  │\n",
       "│ │ <span style=\"color: #af87ff; text-decoration-color: #af87ff\">obal_cum</span> │      │       │          │           │        │         │         │          │          │        │  │\n",
       "│ │ <span style=\"color: #af87ff; text-decoration-color: #af87ff\">ulative_</span> │      │       │          │           │        │         │         │          │          │        │  │\n",
       "│ │ <span style=\"color: #af87ff; text-decoration-color: #af87ff\">cement_c</span> │      │       │          │           │        │         │         │          │          │        │  │\n",
       "│ │ <span style=\"color: #af87ff; text-decoration-color: #af87ff\">o2      </span> │      │       │          │           │        │         │         │          │          │        │  │\n",
       "│ │ <span style=\"color: #af87ff; text-decoration-color: #af87ff\">share_gl</span> │ <span style=\"color: #008080; text-decoration-color: #008080\">   0</span> │ <span style=\"color: #008080; text-decoration-color: #008080\">    0</span> │ <span style=\"color: #008080; text-decoration-color: #008080\">    3.82</span> │ <span style=\"color: #008080; text-decoration-color: #008080\">    14.56</span> │ <span style=\"color: #008080; text-decoration-color: #008080\">     0</span> │ <span style=\"color: #008080; text-decoration-color: #008080\">  0.002</span> │ <span style=\"color: #008080; text-decoration-color: #008080\">  0.032</span> │ <span style=\"color: #008080; text-decoration-color: #008080\">   0.378</span> │ <span style=\"color: #008080; text-decoration-color: #008080\">     100</span> │ <span style=\"color: #008000; text-decoration-color: #008000\">  ▇   </span> │  │\n",
       "│ │ <span style=\"color: #af87ff; text-decoration-color: #af87ff\">obal_cum</span> │      │       │          │           │        │         │         │          │          │        │  │\n",
       "│ │ <span style=\"color: #af87ff; text-decoration-color: #af87ff\">ulative_</span> │      │       │          │           │        │         │         │          │          │        │  │\n",
       "│ │ <span style=\"color: #af87ff; text-decoration-color: #af87ff\">co2     </span> │      │       │          │           │        │         │         │          │          │        │  │\n",
       "│ │ <span style=\"color: #af87ff; text-decoration-color: #af87ff\">share_gl</span> │ <span style=\"color: #008080; text-decoration-color: #008080\"> 953</span> │ <span style=\"color: #008080; text-decoration-color: #008080\"> 4.06</span> │ <span style=\"color: #008080; text-decoration-color: #008080\">    3.58</span> │ <span style=\"color: #008080; text-decoration-color: #008080\">    11.77</span> │ <span style=\"color: #008080; text-decoration-color: #008080\"> -0.03</span> │ <span style=\"color: #008080; text-decoration-color: #008080\">  0.022</span> │ <span style=\"color: #008080; text-decoration-color: #008080\">   0.15</span> │ <span style=\"color: #008080; text-decoration-color: #008080\">   0.759</span> │ <span style=\"color: #008080; text-decoration-color: #008080\">     100</span> │ <span style=\"color: #008000; text-decoration-color: #008000\">  ▇   </span> │  │\n",
       "│ │ <span style=\"color: #af87ff; text-decoration-color: #af87ff\">obal_cum</span> │      │       │          │           │        │         │         │          │          │        │  │\n",
       "│ │ <span style=\"color: #af87ff; text-decoration-color: #af87ff\">ulative_</span> │      │       │          │           │        │         │         │          │          │        │  │\n",
       "│ │ <span style=\"color: #af87ff; text-decoration-color: #af87ff\">co2_incl</span> │      │       │          │           │        │         │         │          │          │        │  │\n",
       "│ │ <span style=\"color: #af87ff; text-decoration-color: #af87ff\">uding_lu</span> │      │       │          │           │        │         │         │          │          │        │  │\n",
       "│ │ <span style=\"color: #af87ff; text-decoration-color: #af87ff\">c       </span> │      │       │          │           │        │         │         │          │          │        │  │\n",
       "│ │ <span style=\"color: #af87ff; text-decoration-color: #af87ff\">share_gl</span> │ <span style=\"color: #008080; text-decoration-color: #008080\">  70</span> │ <span style=\"color: #008080; text-decoration-color: #008080\">  0.3</span> │ <span style=\"color: #008080; text-decoration-color: #008080\">   3.892</span> │ <span style=\"color: #008080; text-decoration-color: #008080\">    14.82</span> │ <span style=\"color: #008080; text-decoration-color: #008080\">     0</span> │ <span style=\"color: #008080; text-decoration-color: #008080\">      0</span> │ <span style=\"color: #008080; text-decoration-color: #008080\">  0.009</span> │ <span style=\"color: #008080; text-decoration-color: #008080\">   0.303</span> │ <span style=\"color: #008080; text-decoration-color: #008080\">     100</span> │ <span style=\"color: #008000; text-decoration-color: #008000\">  ▇   </span> │  │\n",
       "│ │ <span style=\"color: #af87ff; text-decoration-color: #af87ff\">obal_cum</span> │      │       │          │           │        │         │         │          │          │        │  │\n",
       "│ │ <span style=\"color: #af87ff; text-decoration-color: #af87ff\">ulative_</span> │      │       │          │           │        │         │         │          │          │        │  │\n",
       "│ │ <span style=\"color: #af87ff; text-decoration-color: #af87ff\">coal_co2</span> │      │       │          │           │        │         │         │          │          │        │  │\n",
       "│ │ <span style=\"color: #af87ff; text-decoration-color: #af87ff\">share_gl</span> │ <span style=\"color: #008080; text-decoration-color: #008080\">7550</span> │ <span style=\"color: #008080; text-decoration-color: #008080\">32.14</span> │ <span style=\"color: #008080; text-decoration-color: #008080\">   2.035</span> │ <span style=\"color: #008080; text-decoration-color: #008080\">    9.174</span> │ <span style=\"color: #008080; text-decoration-color: #008080\">     0</span> │ <span style=\"color: #008080; text-decoration-color: #008080\">      0</span> │ <span style=\"color: #008080; text-decoration-color: #008080\">      0</span> │ <span style=\"color: #008080; text-decoration-color: #008080\">   0.049</span> │ <span style=\"color: #008080; text-decoration-color: #008080\">     100</span> │ <span style=\"color: #008000; text-decoration-color: #008000\">  ▇   </span> │  │\n",
       "│ │ <span style=\"color: #af87ff; text-decoration-color: #af87ff\">obal_cum</span> │      │       │          │           │        │         │         │          │          │        │  │\n",
       "│ │ <span style=\"color: #af87ff; text-decoration-color: #af87ff\">ulative_</span> │      │       │          │           │        │         │         │          │          │        │  │\n",
       "│ │ <span style=\"color: #af87ff; text-decoration-color: #af87ff\">flaring_</span> │      │       │          │           │        │         │         │          │          │        │  │\n",
       "│ │ <span style=\"color: #af87ff; text-decoration-color: #af87ff\">co2     </span> │      │       │          │           │        │         │         │          │          │        │  │\n",
       "│ │ <span style=\"color: #af87ff; text-decoration-color: #af87ff\">share_gl</span> │ <span style=\"color: #008080; text-decoration-color: #008080\">1562</span> │ <span style=\"color: #008080; text-decoration-color: #008080\"> 6.65</span> │ <span style=\"color: #008080; text-decoration-color: #008080\">    2.77</span> │ <span style=\"color: #008080; text-decoration-color: #008080\">    14.14</span> │ <span style=\"color: #008080; text-decoration-color: #008080\">     0</span> │ <span style=\"color: #008080; text-decoration-color: #008080\">      0</span> │ <span style=\"color: #008080; text-decoration-color: #008080\">      0</span> │ <span style=\"color: #008080; text-decoration-color: #008080\">   0.074</span> │ <span style=\"color: #008080; text-decoration-color: #008080\">     100</span> │ <span style=\"color: #008000; text-decoration-color: #008000\">  ▇   </span> │  │\n",
       "│ │ <span style=\"color: #af87ff; text-decoration-color: #af87ff\">obal_cum</span> │      │       │          │           │        │         │         │          │          │        │  │\n",
       "│ │ <span style=\"color: #af87ff; text-decoration-color: #af87ff\">ulative_</span> │      │       │          │           │        │         │         │          │          │        │  │\n",
       "│ │ <span style=\"color: #af87ff; text-decoration-color: #af87ff\">gas_co2 </span> │      │       │          │           │        │         │         │          │          │        │  │\n",
       "│ │ <span style=\"color: #af87ff; text-decoration-color: #af87ff\">share_gl</span> │ <span style=\"color: #008080; text-decoration-color: #008080\"> 953</span> │ <span style=\"color: #008080; text-decoration-color: #008080\"> 4.06</span> │ <span style=\"color: #008080; text-decoration-color: #008080\">   4.373</span> │ <span style=\"color: #008080; text-decoration-color: #008080\">    12.62</span> │ <span style=\"color: #008080; text-decoration-color: #008080\">-0.694</span> │ <span style=\"color: #008080; text-decoration-color: #008080\">  0.039</span> │ <span style=\"color: #008080; text-decoration-color: #008080\">  0.249</span> │ <span style=\"color: #008080; text-decoration-color: #008080\">   1.003</span> │ <span style=\"color: #008080; text-decoration-color: #008080\">     100</span> │ <span style=\"color: #008000; text-decoration-color: #008000\">  ▇   </span> │  │\n",
       "│ │ <span style=\"color: #af87ff; text-decoration-color: #af87ff\">obal_cum</span> │      │       │          │           │        │         │         │          │          │        │  │\n",
       "│ │ <span style=\"color: #af87ff; text-decoration-color: #af87ff\">ulative_</span> │      │       │          │           │        │         │         │          │          │        │  │\n",
       "│ │ <span style=\"color: #af87ff; text-decoration-color: #af87ff\">luc_co2 </span> │      │       │          │           │        │         │         │          │          │        │  │\n",
       "│ │ <span style=\"color: #af87ff; text-decoration-color: #af87ff\">share_gl</span> │ <span style=\"color: #008080; text-decoration-color: #008080\"> 203</span> │ <span style=\"color: #008080; text-decoration-color: #008080\"> 0.86</span> │ <span style=\"color: #008080; text-decoration-color: #008080\">   3.347</span> │ <span style=\"color: #008080; text-decoration-color: #008080\">    13.06</span> │ <span style=\"color: #008080; text-decoration-color: #008080\">     0</span> │ <span style=\"color: #008080; text-decoration-color: #008080\">  0.004</span> │ <span style=\"color: #008080; text-decoration-color: #008080\">  0.053</span> │ <span style=\"color: #008080; text-decoration-color: #008080\">   0.485</span> │ <span style=\"color: #008080; text-decoration-color: #008080\">     100</span> │ <span style=\"color: #008000; text-decoration-color: #008000\">  ▇   </span> │  │\n",
       "│ │ <span style=\"color: #af87ff; text-decoration-color: #af87ff\">obal_cum</span> │      │       │          │           │        │         │         │          │          │        │  │\n",
       "│ │ <span style=\"color: #af87ff; text-decoration-color: #af87ff\">ulative_</span> │      │       │          │           │        │         │         │          │          │        │  │\n",
       "│ │ <span style=\"color: #af87ff; text-decoration-color: #af87ff\">oil_co2 </span> │      │       │          │           │        │         │         │          │          │        │  │\n",
       "│ │ <span style=\"color: #af87ff; text-decoration-color: #af87ff\">share_gl</span> │ <span style=\"color: #008080; text-decoration-color: #008080\">7550</span> │ <span style=\"color: #008080; text-decoration-color: #008080\">32.14</span> │ <span style=\"color: #008080; text-decoration-color: #008080\">    2.09</span> │ <span style=\"color: #008080; text-decoration-color: #008080\">    9.116</span> │ <span style=\"color: #008080; text-decoration-color: #008080\">     0</span> │ <span style=\"color: #008080; text-decoration-color: #008080\">      0</span> │ <span style=\"color: #008080; text-decoration-color: #008080\">      0</span> │ <span style=\"color: #008080; text-decoration-color: #008080\">   0.052</span> │ <span style=\"color: #008080; text-decoration-color: #008080\">     100</span> │ <span style=\"color: #008000; text-decoration-color: #008000\">  ▇   </span> │  │\n",
       "│ │ <span style=\"color: #af87ff; text-decoration-color: #af87ff\">obal_fla</span> │      │       │          │           │        │         │         │          │          │        │  │\n",
       "│ │ <span style=\"color: #af87ff; text-decoration-color: #af87ff\">ring_co2</span> │      │       │          │           │        │         │         │          │          │        │  │\n",
       "│ │ <span style=\"color: #af87ff; text-decoration-color: #af87ff\">share_gl</span> │ <span style=\"color: #008080; text-decoration-color: #008080\">1562</span> │ <span style=\"color: #008080; text-decoration-color: #008080\"> 6.65</span> │ <span style=\"color: #008080; text-decoration-color: #008080\">   2.835</span> │ <span style=\"color: #008080; text-decoration-color: #008080\">    13.74</span> │ <span style=\"color: #008080; text-decoration-color: #008080\">     0</span> │ <span style=\"color: #008080; text-decoration-color: #008080\">      0</span> │ <span style=\"color: #008080; text-decoration-color: #008080\">      0</span> │ <span style=\"color: #008080; text-decoration-color: #008080\">   0.124</span> │ <span style=\"color: #008080; text-decoration-color: #008080\">     100</span> │ <span style=\"color: #008000; text-decoration-color: #008000\">  ▇   </span> │  │\n",
       "│ │ <span style=\"color: #af87ff; text-decoration-color: #af87ff\">obal_gas</span> │      │       │          │           │        │         │         │          │          │        │  │\n",
       "│ │ <span style=\"color: #af87ff; text-decoration-color: #af87ff\">_co2    </span> │      │       │          │           │        │         │         │          │          │        │  │\n",
       "│ │ <span style=\"color: #af87ff; text-decoration-color: #af87ff\">share_gl</span> │ <span style=\"color: #008080; text-decoration-color: #008080\"> 953</span> │ <span style=\"color: #008080; text-decoration-color: #008080\"> 4.06</span> │ <span style=\"color: #008080; text-decoration-color: #008080\">   4.209</span> │ <span style=\"color: #008080; text-decoration-color: #008080\">    12.93</span> │ <span style=\"color: #008080; text-decoration-color: #008080\">-6.498</span> │ <span style=\"color: #008080; text-decoration-color: #008080\">  0.006</span> │ <span style=\"color: #008080; text-decoration-color: #008080\">  0.169</span> │ <span style=\"color: #008080; text-decoration-color: #008080\">   0.993</span> │ <span style=\"color: #008080; text-decoration-color: #008080\">   100.7</span> │ <span style=\"color: #008000; text-decoration-color: #008000\">  ▇   </span> │  │\n",
       "│ │ <span style=\"color: #af87ff; text-decoration-color: #af87ff\">obal_luc</span> │      │       │          │           │        │         │         │          │          │        │  │\n",
       "│ │ <span style=\"color: #af87ff; text-decoration-color: #af87ff\">_co2    </span> │      │       │          │           │        │         │         │          │          │        │  │\n",
       "│ │ <span style=\"color: #af87ff; text-decoration-color: #af87ff\">share_gl</span> │ <span style=\"color: #008080; text-decoration-color: #008080\"> 203</span> │ <span style=\"color: #008080; text-decoration-color: #008080\"> 0.86</span> │ <span style=\"color: #008080; text-decoration-color: #008080\">   3.324</span> │ <span style=\"color: #008080; text-decoration-color: #008080\">    12.86</span> │ <span style=\"color: #008080; text-decoration-color: #008080\">     0</span> │ <span style=\"color: #008080; text-decoration-color: #008080\">  0.005</span> │ <span style=\"color: #008080; text-decoration-color: #008080\">  0.061</span> │ <span style=\"color: #008080; text-decoration-color: #008080\">   0.509</span> │ <span style=\"color: #008080; text-decoration-color: #008080\">     100</span> │ <span style=\"color: #008000; text-decoration-color: #008000\">  ▇   </span> │  │\n",
       "│ │ <span style=\"color: #af87ff; text-decoration-color: #af87ff\">obal_oil</span> │      │       │          │           │        │         │         │          │          │        │  │\n",
       "│ │ <span style=\"color: #af87ff; text-decoration-color: #af87ff\">_co2    </span> │      │       │          │           │        │         │         │          │          │        │  │\n",
       "│ │ <span style=\"color: #af87ff; text-decoration-color: #af87ff\">share_of</span> │ <span style=\"color: #008080; text-decoration-color: #008080\"> 363</span> │ <span style=\"color: #008080; text-decoration-color: #008080\"> 1.55</span> │ <span style=\"color: #008080; text-decoration-color: #008080\">   3.366</span> │ <span style=\"color: #008080; text-decoration-color: #008080\">    10.98</span> │ <span style=\"color: #008080; text-decoration-color: #008080\">-0.625</span> │ <span style=\"color: #008080; text-decoration-color: #008080\">   0.04</span> │ <span style=\"color: #008080; text-decoration-color: #008080\">  0.166</span> │ <span style=\"color: #008080; text-decoration-color: #008080\">  0.7915</span> │ <span style=\"color: #008080; text-decoration-color: #008080\">     100</span> │ <span style=\"color: #008000; text-decoration-color: #008000\">  ▇   </span> │  │\n",
       "│ │ <span style=\"color: #af87ff; text-decoration-color: #af87ff\">_tempera</span> │      │       │          │           │        │         │         │          │          │        │  │\n",
       "│ │ <span style=\"color: #af87ff; text-decoration-color: #af87ff\">ture_cha</span> │      │       │          │           │        │         │         │          │          │        │  │\n",
       "│ │ <span style=\"color: #af87ff; text-decoration-color: #af87ff\">nge_from</span> │      │       │          │           │        │         │         │          │          │        │  │\n",
       "│ │ <span style=\"color: #af87ff; text-decoration-color: #af87ff\">_ghg    </span> │      │       │          │           │        │         │         │          │          │        │  │\n",
       "│ │ <span style=\"color: #af87ff; text-decoration-color: #af87ff\">temperat</span> │ <span style=\"color: #008080; text-decoration-color: #008080\">1216</span> │ <span style=\"color: #008080; text-decoration-color: #008080\"> 5.18</span> │ <span style=\"color: #008080; text-decoration-color: #008080\"> 0.00456</span> │ <span style=\"color: #008080; text-decoration-color: #008080\">  0.02006</span> │ <span style=\"color: #008080; text-decoration-color: #008080\">-0.001</span> │ <span style=\"color: #008080; text-decoration-color: #008080\">      0</span> │ <span style=\"color: #008080; text-decoration-color: #008080\">      0</span> │ <span style=\"color: #008080; text-decoration-color: #008080\">   0.001</span> │ <span style=\"color: #008080; text-decoration-color: #008080\">   0.415</span> │ <span style=\"color: #008000; text-decoration-color: #008000\">  ▇   </span> │  │\n",
       "│ │ <span style=\"color: #af87ff; text-decoration-color: #af87ff\">ure_chan</span> │      │       │          │           │        │         │         │          │          │        │  │\n",
       "│ │ <span style=\"color: #af87ff; text-decoration-color: #af87ff\">ge_from_</span> │      │       │          │           │        │         │         │          │          │        │  │\n",
       "│ │ <span style=\"color: #af87ff; text-decoration-color: #af87ff\">ch4     </span> │      │       │          │           │        │         │         │          │          │        │  │\n",
       "│ │ <span style=\"color: #af87ff; text-decoration-color: #af87ff\">temperat</span> │ <span style=\"color: #008080; text-decoration-color: #008080\"> 363</span> │ <span style=\"color: #008080; text-decoration-color: #008080\"> 1.55</span> │ <span style=\"color: #008080; text-decoration-color: #008080\"> 0.01099</span> │ <span style=\"color: #008080; text-decoration-color: #008080\">  0.04928</span> │ <span style=\"color: #008080; text-decoration-color: #008080\">     0</span> │ <span style=\"color: #008080; text-decoration-color: #008080\">      0</span> │ <span style=\"color: #008080; text-decoration-color: #008080\">      0</span> │ <span style=\"color: #008080; text-decoration-color: #008080\">   0.002</span> │ <span style=\"color: #008080; text-decoration-color: #008080\">   1.113</span> │ <span style=\"color: #008000; text-decoration-color: #008000\">  ▇   </span> │  │\n",
       "│ │ <span style=\"color: #af87ff; text-decoration-color: #af87ff\">ure_chan</span> │      │       │          │           │        │         │         │          │          │        │  │\n",
       "│ │ <span style=\"color: #af87ff; text-decoration-color: #af87ff\">ge_from_</span> │      │       │          │           │        │         │         │          │          │        │  │\n",
       "│ │ <span style=\"color: #af87ff; text-decoration-color: #af87ff\">co2     </span> │      │       │          │           │        │         │         │          │          │        │  │\n",
       "│ │ <span style=\"color: #af87ff; text-decoration-color: #af87ff\">temperat</span> │ <span style=\"color: #008080; text-decoration-color: #008080\"> 363</span> │ <span style=\"color: #008080; text-decoration-color: #008080\"> 1.55</span> │ <span style=\"color: #008080; text-decoration-color: #008080\"> 0.01621</span> │ <span style=\"color: #008080; text-decoration-color: #008080\">  0.07182</span> │ <span style=\"color: #008080; text-decoration-color: #008080\">-0.001</span> │ <span style=\"color: #008080; text-decoration-color: #008080\">      0</span> │ <span style=\"color: #008080; text-decoration-color: #008080\">  0.001</span> │ <span style=\"color: #008080; text-decoration-color: #008080\">   0.004</span> │ <span style=\"color: #008080; text-decoration-color: #008080\">   1.611</span> │ <span style=\"color: #008000; text-decoration-color: #008000\">  ▇   </span> │  │\n",
       "│ │ <span style=\"color: #af87ff; text-decoration-color: #af87ff\">ure_chan</span> │      │       │          │           │        │         │         │          │          │        │  │\n",
       "│ │ <span style=\"color: #af87ff; text-decoration-color: #af87ff\">ge_from_</span> │      │       │          │           │        │         │         │          │          │        │  │\n",
       "│ │ <span style=\"color: #af87ff; text-decoration-color: #af87ff\">ghg     </span> │      │       │          │           │        │         │         │          │          │        │  │\n",
       "│ │ <span style=\"color: #af87ff; text-decoration-color: #af87ff\">temperat</span> │ <span style=\"color: #008080; text-decoration-color: #008080\">1216</span> │ <span style=\"color: #008080; text-decoration-color: #008080\"> 5.18</span> │ <span style=\"color: #008080; text-decoration-color: #008080\">0.000745</span> │ <span style=\"color: #008080; text-decoration-color: #008080\"> 0.003587</span> │ <span style=\"color: #008080; text-decoration-color: #008080\">     0</span> │ <span style=\"color: #008080; text-decoration-color: #008080\">      0</span> │ <span style=\"color: #008080; text-decoration-color: #008080\">      0</span> │ <span style=\"color: #008080; text-decoration-color: #008080\">       0</span> │ <span style=\"color: #008080; text-decoration-color: #008080\">   0.083</span> │ <span style=\"color: #008000; text-decoration-color: #008000\">  ▇   </span> │  │\n",
       "│ │ <span style=\"color: #af87ff; text-decoration-color: #af87ff\">ure_chan</span> │      │       │ <span style=\"color: #008080; text-decoration-color: #008080\">       2</span> │           │        │         │         │          │          │        │  │\n",
       "│ │ <span style=\"color: #af87ff; text-decoration-color: #af87ff\">ge_from_</span> │      │       │          │           │        │         │         │          │          │        │  │\n",
       "│ │ <span style=\"color: #af87ff; text-decoration-color: #af87ff\">n2o     </span> │      │       │          │           │        │         │         │          │          │        │  │\n",
       "│ └──────────┴──────┴───────┴──────────┴───────────┴────────┴─────────┴─────────┴──────────┴──────────┴────────┘  │\n",
       "│ <span style=\"font-style: italic\">                                                    string                                                    </span>  │\n",
       "│ ┏━━━━━━━━━━━━━━━━━━━━━━━━━━┳━━━━━━━━━━━━┳━━━━━━━━━━━━━━┳━━━━━━━━━━━━━━━━━━━━━━━━━━━━┳━━━━━━━━━━━━━━━━━━━━━━━━┓  │\n",
       "│ ┃<span style=\"font-weight: bold\"> column_name              </span>┃<span style=\"font-weight: bold\"> NA         </span>┃<span style=\"font-weight: bold\"> NA %         </span>┃<span style=\"font-weight: bold\"> words per row              </span>┃<span style=\"font-weight: bold\"> total words            </span>┃  │\n",
       "│ ┡━━━━━━━━━━━━━━━━━━━━━━━━━━╇━━━━━━━━━━━━╇━━━━━━━━━━━━━━╇━━━━━━━━━━━━━━━━━━━━━━━━━━━━╇━━━━━━━━━━━━━━━━━━━━━━━━┩  │\n",
       "│ │ <span style=\"color: #af87ff; text-decoration-color: #af87ff\">country                 </span> │ <span style=\"color: #008080; text-decoration-color: #008080\">         0</span> │ <span style=\"color: #008080; text-decoration-color: #008080\">           0</span> │ <span style=\"color: #008080; text-decoration-color: #008080\">                       1.4</span> │ <span style=\"color: #008080; text-decoration-color: #008080\">                 32539</span> │  │\n",
       "│ │ <span style=\"color: #af87ff; text-decoration-color: #af87ff\">iso_code                </span> │ <span style=\"color: #008080; text-decoration-color: #008080\">      2786</span> │ <span style=\"color: #008080; text-decoration-color: #008080\">       11.86</span> │ <span style=\"color: #008080; text-decoration-color: #008080\">                      0.88</span> │ <span style=\"color: #008080; text-decoration-color: #008080\">                 20708</span> │  │\n",
       "│ └──────────────────────────┴────────────┴──────────────┴────────────────────────────┴────────────────────────┘  │\n",
       "╰────────────────────────────────────────────────────── End ──────────────────────────────────────────────────────╯\n",
       "</pre>\n"
      ],
      "text/plain": [
       "╭──────────────────────────────────────────────── skimpy summary ─────────────────────────────────────────────────╮\n",
       "│ \u001b[3m         Data Summary         \u001b[0m \u001b[3m      Data Types       \u001b[0m                                                          │\n",
       "│ ┏━━━━━━━━━━━━━━━━━━━┳━━━━━━━━┓ ┏━━━━━━━━━━━━━┳━━━━━━━┓                                                          │\n",
       "│ ┃\u001b[1;36m \u001b[0m\u001b[1;36mdataframe        \u001b[0m\u001b[1;36m \u001b[0m┃\u001b[1;36m \u001b[0m\u001b[1;36mValues\u001b[0m\u001b[1;36m \u001b[0m┃ ┃\u001b[1;36m \u001b[0m\u001b[1;36mColumn Type\u001b[0m\u001b[1;36m \u001b[0m┃\u001b[1;36m \u001b[0m\u001b[1;36mCount\u001b[0m\u001b[1;36m \u001b[0m┃                                                          │\n",
       "│ ┡━━━━━━━━━━━━━━━━━━━╇━━━━━━━━┩ ┡━━━━━━━━━━━━━╇━━━━━━━┩                                                          │\n",
       "│ │ Number of rows    │ 23494  │ │ float64     │ 52    │                                                          │\n",
       "│ │ Number of columns │ 55     │ │ string      │ 2     │                                                          │\n",
       "│ └───────────────────┴────────┘ │ int64       │ 1     │                                                          │\n",
       "│                                └─────────────┴───────┘                                                          │\n",
       "│ \u001b[3m                                                    number                                                    \u001b[0m  │\n",
       "│ ┏━━━━━━━━━━┳━━━━━━┳━━━━━━━┳━━━━━━━━━━┳━━━━━━━━━━━┳━━━━━━━━┳━━━━━━━━━┳━━━━━━━━━┳━━━━━━━━━━┳━━━━━━━━━━┳━━━━━━━━┓  │\n",
       "│ ┃\u001b[1m \u001b[0m\u001b[1mcolumn_n\u001b[0m\u001b[1m \u001b[0m┃\u001b[1m      \u001b[0m┃\u001b[1m       \u001b[0m┃\u001b[1m          \u001b[0m┃\u001b[1m           \u001b[0m┃\u001b[1m        \u001b[0m┃\u001b[1m         \u001b[0m┃\u001b[1m         \u001b[0m┃\u001b[1m          \u001b[0m┃\u001b[1m          \u001b[0m┃\u001b[1m        \u001b[0m┃  │\n",
       "│ ┃\u001b[1m \u001b[0m\u001b[1mame     \u001b[0m\u001b[1m \u001b[0m┃\u001b[1m \u001b[0m\u001b[1mNA  \u001b[0m\u001b[1m \u001b[0m┃\u001b[1m \u001b[0m\u001b[1mNA % \u001b[0m\u001b[1m \u001b[0m┃\u001b[1m \u001b[0m\u001b[1mmean    \u001b[0m\u001b[1m \u001b[0m┃\u001b[1m \u001b[0m\u001b[1msd       \u001b[0m\u001b[1m \u001b[0m┃\u001b[1m \u001b[0m\u001b[1mp0    \u001b[0m\u001b[1m \u001b[0m┃\u001b[1m \u001b[0m\u001b[1mp25    \u001b[0m\u001b[1m \u001b[0m┃\u001b[1m \u001b[0m\u001b[1mp50    \u001b[0m\u001b[1m \u001b[0m┃\u001b[1m \u001b[0m\u001b[1mp75     \u001b[0m\u001b[1m \u001b[0m┃\u001b[1m \u001b[0m\u001b[1mp100    \u001b[0m\u001b[1m \u001b[0m┃\u001b[1m \u001b[0m\u001b[1mhist  \u001b[0m\u001b[1m \u001b[0m┃  │\n",
       "│ ┡━━━━━━━━━━╇━━━━━━╇━━━━━━━╇━━━━━━━━━━╇━━━━━━━━━━━╇━━━━━━━━╇━━━━━━━━━╇━━━━━━━━━╇━━━━━━━━━━╇━━━━━━━━━━╇━━━━━━━━┩  │\n",
       "│ │ \u001b[38;5;141myear    \u001b[0m │ \u001b[36m   0\u001b[0m │ \u001b[36m    0\u001b[0m │ \u001b[36m    1962\u001b[0m │ \u001b[36m    42.91\u001b[0m │ \u001b[36m  1850\u001b[0m │ \u001b[36m   1935\u001b[0m │ \u001b[36m   1970\u001b[0m │ \u001b[36m    1997\u001b[0m │ \u001b[36m    2021\u001b[0m │ \u001b[32m▂▂▃▅▇▇\u001b[0m │  │\n",
       "│ │ \u001b[38;5;141mpopulati\u001b[0m │ \u001b[36m 926\u001b[0m │ \u001b[36m 3.94\u001b[0m │ \u001b[36m92860000\u001b[0m │ \u001b[36m418500000\u001b[0m │ \u001b[36m  1480\u001b[0m │ \u001b[36m1415000\u001b[0m │ \u001b[36m5340000\u001b[0m │ \u001b[36m21760000\u001b[0m │ \u001b[36m79090000\u001b[0m │ \u001b[32m  ▇   \u001b[0m │  │\n",
       "│ │ \u001b[38;5;141mon      \u001b[0m │      │       │          │           │        │         │         │          │ \u001b[36m      00\u001b[0m │        │  │\n",
       "│ │ \u001b[38;5;141mcement_c\u001b[0m │ \u001b[36m3502\u001b[0m │ \u001b[36m14.91\u001b[0m │ \u001b[36m   10.48\u001b[0m │ \u001b[36m    70.27\u001b[0m │ \u001b[36m     0\u001b[0m │ \u001b[36m      0\u001b[0m │ \u001b[36m  0.116\u001b[0m │ \u001b[36m   1.287\u001b[0m │ \u001b[36m    1673\u001b[0m │ \u001b[32m  ▇   \u001b[0m │  │\n",
       "│ │ \u001b[38;5;141mo2      \u001b[0m │      │       │          │           │        │         │         │          │          │        │  │\n",
       "│ │ \u001b[38;5;141mcement_c\u001b[0m │ \u001b[36m3574\u001b[0m │ \u001b[36m15.21\u001b[0m │ \u001b[36m 0.07293\u001b[0m │ \u001b[36m   0.1289\u001b[0m │ \u001b[36m     0\u001b[0m │ \u001b[36m      0\u001b[0m │ \u001b[36m  0.016\u001b[0m │ \u001b[36m   0.104\u001b[0m │ \u001b[36m   2.574\u001b[0m │ \u001b[32m  ▇   \u001b[0m │  │\n",
       "│ │ \u001b[38;5;141mo2_per_c\u001b[0m │      │       │          │           │        │         │         │          │          │        │  │\n",
       "│ │ \u001b[38;5;141mapita   \u001b[0m │      │       │          │           │        │         │         │          │          │        │  │\n",
       "│ │ \u001b[38;5;141mco2     \u001b[0m │ \u001b[36m   0\u001b[0m │ \u001b[36m    0\u001b[0m │ \u001b[36m   348.1\u001b[0m │ \u001b[36m     1755\u001b[0m │ \u001b[36m     0\u001b[0m │ \u001b[36m  0.575\u001b[0m │ \u001b[36m   5.27\u001b[0m │ \u001b[36m   50.21\u001b[0m │ \u001b[36m   37120\u001b[0m │ \u001b[32m  ▇   \u001b[0m │  │\n",
       "│ │ \u001b[38;5;141mco2_grow\u001b[0m │ \u001b[36m 269\u001b[0m │ \u001b[36m 1.14\u001b[0m │ \u001b[36m    7.04\u001b[0m │ \u001b[36m    65.47\u001b[0m │ \u001b[36m -1818\u001b[0m │ \u001b[36m -0.011\u001b[0m │ \u001b[36m  0.073\u001b[0m │ \u001b[36m   1.268\u001b[0m │ \u001b[36m    1860\u001b[0m │ \u001b[32m   ▇▁ \u001b[0m │  │\n",
       "│ │ \u001b[38;5;141mth_abs  \u001b[0m │      │       │          │           │        │         │         │          │          │        │  │\n",
       "│ │ \u001b[38;5;141mco2_grow\u001b[0m │ \u001b[36m 307\u001b[0m │ \u001b[36m 1.31\u001b[0m │ \u001b[36m   21.44\u001b[0m │ \u001b[36m    725.4\u001b[0m │ \u001b[36m  -100\u001b[0m │ \u001b[36m -0.893\u001b[0m │ \u001b[36m  4.088\u001b[0m │ \u001b[36m   10.93\u001b[0m │ \u001b[36m  102300\u001b[0m │ \u001b[32m  ▇   \u001b[0m │  │\n",
       "│ │ \u001b[38;5;141mth_prct \u001b[0m │      │       │          │           │        │         │         │          │          │        │  │\n",
       "│ │ \u001b[38;5;141mco2_incl\u001b[0m │ \u001b[36m 953\u001b[0m │ \u001b[36m 4.06\u001b[0m │ \u001b[36m     535\u001b[0m │ \u001b[36m     2153\u001b[0m │ \u001b[36m  -187\u001b[0m │ \u001b[36m  6.346\u001b[0m │ \u001b[36m  28.74\u001b[0m │ \u001b[36m   129.1\u001b[0m │ \u001b[36m   41640\u001b[0m │ \u001b[32m  ▇   \u001b[0m │  │\n",
       "│ │ \u001b[38;5;141muding_lu\u001b[0m │      │       │          │           │        │         │         │          │          │        │  │\n",
       "│ │ \u001b[38;5;141mc       \u001b[0m │      │       │          │           │        │         │         │          │          │        │  │\n",
       "│ │ \u001b[38;5;141mco2_incl\u001b[0m │ \u001b[36m1232\u001b[0m │ \u001b[36m 5.24\u001b[0m │ \u001b[36m   7.797\u001b[0m │ \u001b[36m    96.02\u001b[0m │ \u001b[36m -2318\u001b[0m │ \u001b[36m -0.722\u001b[0m │ \u001b[36m  0.103\u001b[0m │ \u001b[36m   2.747\u001b[0m │ \u001b[36m    2247\u001b[0m │ \u001b[32m    ▇ \u001b[0m │  │\n",
       "│ │ \u001b[38;5;141muding_lu\u001b[0m │      │       │          │           │        │         │         │          │          │        │  │\n",
       "│ │ \u001b[38;5;141mc_growth\u001b[0m │      │       │          │           │        │         │         │          │          │        │  │\n",
       "│ │ \u001b[38;5;141m_abs    \u001b[0m │      │       │          │           │        │         │         │          │          │        │  │\n",
       "│ │ \u001b[38;5;141mco2_incl\u001b[0m │ \u001b[36m1166\u001b[0m │ \u001b[36m 4.96\u001b[0m │ \u001b[36m   13.01\u001b[0m │ \u001b[36m    732.1\u001b[0m │ \u001b[36m-36940\u001b[0m │ \u001b[36m -3.927\u001b[0m │ \u001b[36m  1.173\u001b[0m │ \u001b[36m   6.083\u001b[0m │ \u001b[36m   76500\u001b[0m │ \u001b[32m   ▇  \u001b[0m │  │\n",
       "│ │ \u001b[38;5;141muding_lu\u001b[0m │      │       │          │           │        │         │         │          │          │        │  │\n",
       "│ │ \u001b[38;5;141mc_growth\u001b[0m │      │       │          │           │        │         │         │          │          │        │  │\n",
       "│ │ \u001b[38;5;141m_prct   \u001b[0m │      │       │          │           │        │         │         │          │          │        │  │\n",
       "│ │ \u001b[38;5;141mco2_incl\u001b[0m │ \u001b[36m1025\u001b[0m │ \u001b[36m 4.36\u001b[0m │ \u001b[36m   7.498\u001b[0m │ \u001b[36m    16.99\u001b[0m │ \u001b[36m-7.068\u001b[0m │ \u001b[36m  2.064\u001b[0m │ \u001b[36m  4.607\u001b[0m │ \u001b[36m   8.949\u001b[0m │ \u001b[36m   824.5\u001b[0m │ \u001b[32m  ▇   \u001b[0m │  │\n",
       "│ │ \u001b[38;5;141muding_lu\u001b[0m │      │       │          │           │        │         │         │          │          │        │  │\n",
       "│ │ \u001b[38;5;141mc_per_ca\u001b[0m │      │       │          │           │        │         │         │          │          │        │  │\n",
       "│ │ \u001b[38;5;141mpita    \u001b[0m │      │       │          │           │        │         │         │          │          │        │  │\n",
       "│ │ \u001b[38;5;141mco2_incl\u001b[0m │ \u001b[36m7846\u001b[0m │ \u001b[36m 33.4\u001b[0m │ \u001b[36m   2.255\u001b[0m │ \u001b[36m    5.671\u001b[0m │ \u001b[36m -6.65\u001b[0m │ \u001b[36m  0.407\u001b[0m │ \u001b[36m  0.854\u001b[0m │ \u001b[36m   2.069\u001b[0m │ \u001b[36m   283.1\u001b[0m │ \u001b[32m  ▇   \u001b[0m │  │\n",
       "│ │ \u001b[38;5;141muding_lu\u001b[0m │      │       │          │           │        │         │         │          │          │        │  │\n",
       "│ │ \u001b[38;5;141mc_per_gd\u001b[0m │      │       │          │           │        │         │         │          │          │        │  │\n",
       "│ │ \u001b[38;5;141mp       \u001b[0m │      │       │          │           │        │         │         │          │          │        │  │\n",
       "│ │ \u001b[38;5;141mco2_per_\u001b[0m │ \u001b[36m  72\u001b[0m │ \u001b[36m 0.31\u001b[0m │ \u001b[36m   4.204\u001b[0m │ \u001b[36m    15.95\u001b[0m │ \u001b[36m     0\u001b[0m │ \u001b[36m  0.271\u001b[0m │ \u001b[36m  1.331\u001b[0m │ \u001b[36m   4.813\u001b[0m │ \u001b[36m   824.5\u001b[0m │ \u001b[32m  ▇   \u001b[0m │  │\n",
       "│ │ \u001b[38;5;141mcapita  \u001b[0m │      │       │          │           │        │         │         │          │          │        │  │\n",
       "│ │ \u001b[38;5;141mco2_per_\u001b[0m │ \u001b[36m7790\u001b[0m │ \u001b[36m33.16\u001b[0m │ \u001b[36m  0.4273\u001b[0m │ \u001b[36m   0.5651\u001b[0m │ \u001b[36m     0\u001b[0m │ \u001b[36m  0.143\u001b[0m │ \u001b[36m  0.282\u001b[0m │ \u001b[36m   0.539\u001b[0m │ \u001b[36m   37.61\u001b[0m │ \u001b[32m  ▇   \u001b[0m │  │\n",
       "│ │ \u001b[38;5;141mgdp     \u001b[0m │      │       │          │           │        │         │         │          │          │        │  │\n",
       "│ │ \u001b[38;5;141mcoal_co2\u001b[0m │ \u001b[36m  70\u001b[0m │ \u001b[36m  0.3\u001b[0m │ \u001b[36m     164\u001b[0m │ \u001b[36m    776.4\u001b[0m │ \u001b[36m     0\u001b[0m │ \u001b[36m      0\u001b[0m │ \u001b[36m 0.6325\u001b[0m │ \u001b[36m   16.16\u001b[0m │ \u001b[36m   15050\u001b[0m │ \u001b[32m  ▇   \u001b[0m │  │\n",
       "│ │ \u001b[38;5;141mcoal_co2\u001b[0m │ \u001b[36m 142\u001b[0m │ \u001b[36m  0.6\u001b[0m │ \u001b[36m   1.135\u001b[0m │ \u001b[36m     2.28\u001b[0m │ \u001b[36m     0\u001b[0m │ \u001b[36m      0\u001b[0m │ \u001b[36m   0.09\u001b[0m │ \u001b[36m   1.215\u001b[0m │ \u001b[36m   34.23\u001b[0m │ \u001b[32m  ▇   \u001b[0m │  │\n",
       "│ │ \u001b[38;5;141m_per_cap\u001b[0m │      │       │          │           │        │         │         │          │          │        │  │\n",
       "│ │ \u001b[38;5;141mita     \u001b[0m │      │       │          │           │        │         │         │          │          │        │  │\n",
       "│ │ \u001b[38;5;141mcumulati\u001b[0m │ \u001b[36m3502\u001b[0m │ \u001b[36m14.91\u001b[0m │ \u001b[36m   249.2\u001b[0m │ \u001b[36m     1570\u001b[0m │ \u001b[36m     0\u001b[0m │ \u001b[36m      0\u001b[0m │ \u001b[36m  1.492\u001b[0m │ \u001b[36m   26.35\u001b[0m │ \u001b[36m   45070\u001b[0m │ \u001b[32m  ▇   \u001b[0m │  │\n",
       "│ │ \u001b[38;5;141mve_cemen\u001b[0m │      │       │          │           │        │         │         │          │          │        │  │\n",
       "│ │ \u001b[38;5;141mt_co2   \u001b[0m │      │       │          │           │        │         │         │          │          │        │  │\n",
       "│ │ \u001b[38;5;141mcumulati\u001b[0m │ \u001b[36m   0\u001b[0m │ \u001b[36m    0\u001b[0m │ \u001b[36m   13470\u001b[0m │ \u001b[36m    72400\u001b[0m │ \u001b[36m     0\u001b[0m │ \u001b[36m  7.858\u001b[0m │ \u001b[36m  103.3\u001b[0m │ \u001b[36m    1375\u001b[0m │ \u001b[36m 1737000\u001b[0m │ \u001b[32m  ▇   \u001b[0m │  │\n",
       "│ │ \u001b[38;5;141mve_co2  \u001b[0m │      │       │          │           │        │         │         │          │          │        │  │\n",
       "│ │ \u001b[38;5;141mcumulati\u001b[0m │ \u001b[36m 953\u001b[0m │ \u001b[36m 4.06\u001b[0m │ \u001b[36m   26830\u001b[0m │ \u001b[36m   115300\u001b[0m │ \u001b[36m-183.7\u001b[0m │ \u001b[36m    171\u001b[0m │ \u001b[36m   1048\u001b[0m │ \u001b[36m    5269\u001b[0m │ \u001b[36m 2475000\u001b[0m │ \u001b[32m  ▇   \u001b[0m │  │\n",
       "│ │ \u001b[38;5;141mve_co2_i\u001b[0m │      │       │          │           │        │         │         │          │          │        │  │\n",
       "│ │ \u001b[38;5;141mncluding\u001b[0m │      │       │          │           │        │         │         │          │          │        │  │\n",
       "│ │ \u001b[38;5;141m_luc    \u001b[0m │      │       │          │           │        │         │         │          │          │        │  │\n",
       "│ │ \u001b[38;5;141mcumulati\u001b[0m │ \u001b[36m  70\u001b[0m │ \u001b[36m  0.3\u001b[0m │ \u001b[36m    8167\u001b[0m │ \u001b[36m    39420\u001b[0m │ \u001b[36m     0\u001b[0m │ \u001b[36m0.05075\u001b[0m │ \u001b[36m  13.96\u001b[0m │ \u001b[36m   523.7\u001b[0m │ \u001b[36m  804200\u001b[0m │ \u001b[32m  ▇   \u001b[0m │  │\n",
       "│ │ \u001b[38;5;141mve_coal_\u001b[0m │      │       │          │           │        │         │         │          │          │        │  │\n",
       "│ │ \u001b[38;5;141mco2     \u001b[0m │      │       │          │           │        │         │         │          │          │        │  │\n",
       "│ │ \u001b[38;5;141mcumulati\u001b[0m │ \u001b[36m 159\u001b[0m │ \u001b[36m 0.68\u001b[0m │ \u001b[36m   108.1\u001b[0m │ \u001b[36m    685.7\u001b[0m │ \u001b[36m     0\u001b[0m │ \u001b[36m      0\u001b[0m │ \u001b[36m      0\u001b[0m │ \u001b[36m       0\u001b[0m │ \u001b[36m   18450\u001b[0m │ \u001b[32m  ▇   \u001b[0m │  │\n",
       "│ │ \u001b[38;5;141mve_flari\u001b[0m │      │       │          │           │        │         │         │          │          │        │  │\n",
       "│ │ \u001b[38;5;141mng_co2  \u001b[0m │      │       │          │           │        │         │         │          │          │        │  │\n",
       "│ │ \u001b[38;5;141mcumulati\u001b[0m │ \u001b[36m  91\u001b[0m │ \u001b[36m 0.39\u001b[0m │ \u001b[36m    1290\u001b[0m │ \u001b[36m     9087\u001b[0m │ \u001b[36m     0\u001b[0m │ \u001b[36m      0\u001b[0m │ \u001b[36m      0\u001b[0m │ \u001b[36m   18.19\u001b[0m │ \u001b[36m  254100\u001b[0m │ \u001b[32m  ▇   \u001b[0m │  │\n",
       "│ │ \u001b[38;5;141mve_gas_c\u001b[0m │      │       │          │           │        │         │         │          │          │        │  │\n",
       "│ │ \u001b[38;5;141mo2      \u001b[0m │      │       │          │           │        │         │         │          │          │        │  │\n",
       "│ │ \u001b[38;5;141mcumulati\u001b[0m │ \u001b[36m 953\u001b[0m │ \u001b[36m 4.06\u001b[0m │ \u001b[36m   15160\u001b[0m │ \u001b[36m    51020\u001b[0m │ \u001b[36m -4701\u001b[0m │ \u001b[36m  143.7\u001b[0m │ \u001b[36m  842.2\u001b[0m │ \u001b[36m    4206\u001b[0m │ \u001b[36m  742500\u001b[0m │ \u001b[32m  ▇   \u001b[0m │  │\n",
       "│ │ \u001b[38;5;141mve_luc_c\u001b[0m │      │       │          │           │        │         │         │          │          │        │  │\n",
       "│ │ \u001b[38;5;141mo2      \u001b[0m │      │       │          │           │        │         │         │          │          │        │  │\n",
       "│ │ \u001b[38;5;141mcumulati\u001b[0m │ \u001b[36m  64\u001b[0m │ \u001b[36m 0.27\u001b[0m │ \u001b[36m    3692\u001b[0m │ \u001b[36m    23710\u001b[0m │ \u001b[36m     0\u001b[0m │ \u001b[36m   1.74\u001b[0m │ \u001b[36m  27.97\u001b[0m │ \u001b[36m   319.4\u001b[0m │ \u001b[36m  605500\u001b[0m │ \u001b[32m  ▇   \u001b[0m │  │\n",
       "│ │ \u001b[38;5;141mve_oil_c\u001b[0m │      │       │          │           │        │         │         │          │          │        │  │\n",
       "│ │ \u001b[38;5;141mo2      \u001b[0m │      │       │          │           │        │         │         │          │          │        │  │\n",
       "│ │ \u001b[38;5;141mflaring_\u001b[0m │ \u001b[36m 159\u001b[0m │ \u001b[36m 0.68\u001b[0m │ \u001b[36m   3.723\u001b[0m │ \u001b[36m    20.94\u001b[0m │ \u001b[36m     0\u001b[0m │ \u001b[36m      0\u001b[0m │ \u001b[36m      0\u001b[0m │ \u001b[36m       0\u001b[0m │ \u001b[36m   439.3\u001b[0m │ \u001b[32m  ▇   \u001b[0m │  │\n",
       "│ │ \u001b[38;5;141mco2     \u001b[0m │      │       │          │           │        │         │         │          │          │        │  │\n",
       "│ │ \u001b[38;5;141mflaring_\u001b[0m │ \u001b[36m 231\u001b[0m │ \u001b[36m 0.98\u001b[0m │ \u001b[36m  0.1623\u001b[0m │ \u001b[36m     2.36\u001b[0m │ \u001b[36m     0\u001b[0m │ \u001b[36m      0\u001b[0m │ \u001b[36m      0\u001b[0m │ \u001b[36m       0\u001b[0m │ \u001b[36m   113.2\u001b[0m │ \u001b[32m  ▇   \u001b[0m │  │\n",
       "│ │ \u001b[38;5;141mco2_per_\u001b[0m │      │       │          │           │        │         │         │          │          │        │  │\n",
       "│ │ \u001b[38;5;141mcapita  \u001b[0m │      │       │          │           │        │         │         │          │          │        │  │\n",
       "│ │ \u001b[38;5;141mgas_co2 \u001b[0m │ \u001b[36m  91\u001b[0m │ \u001b[36m 0.39\u001b[0m │ \u001b[36m   53.38\u001b[0m │ \u001b[36m    319.6\u001b[0m │ \u001b[36m     0\u001b[0m │ \u001b[36m      0\u001b[0m │ \u001b[36m      0\u001b[0m │ \u001b[36m   1.735\u001b[0m │ \u001b[36m    7922\u001b[0m │ \u001b[32m  ▇   \u001b[0m │  │\n",
       "│ │ \u001b[38;5;141mgas_co2_\u001b[0m │ \u001b[36m 163\u001b[0m │ \u001b[36m 0.69\u001b[0m │ \u001b[36m  0.5512\u001b[0m │ \u001b[36m    2.333\u001b[0m │ \u001b[36m     0\u001b[0m │ \u001b[36m      0\u001b[0m │ \u001b[36m      0\u001b[0m │ \u001b[36m   0.102\u001b[0m │ \u001b[36m   53.31\u001b[0m │ \u001b[32m  ▇   \u001b[0m │  │\n",
       "│ │ \u001b[38;5;141mper_capi\u001b[0m │      │       │          │           │        │         │         │          │          │        │  │\n",
       "│ │ \u001b[38;5;141mta      \u001b[0m │      │       │          │           │        │         │         │          │          │        │  │\n",
       "│ │ \u001b[38;5;141mland_use\u001b[0m │ \u001b[36m 953\u001b[0m │ \u001b[36m 4.06\u001b[0m │ \u001b[36m   183.8\u001b[0m │ \u001b[36m    578.4\u001b[0m │ \u001b[36m-323.9\u001b[0m │ \u001b[36m  0.293\u001b[0m │ \u001b[36m  7.841\u001b[0m │ \u001b[36m   46.72\u001b[0m │ \u001b[36m    7105\u001b[0m │ \u001b[32m  ▇   \u001b[0m │  │\n",
       "│ │ \u001b[38;5;141m_change_\u001b[0m │      │       │          │           │        │         │         │          │          │        │  │\n",
       "│ │ \u001b[38;5;141mco2     \u001b[0m │      │       │          │           │        │         │         │          │          │        │  │\n",
       "│ │ \u001b[38;5;141mland_use\u001b[0m │ \u001b[36m1025\u001b[0m │ \u001b[36m 4.36\u001b[0m │ \u001b[36m   3.383\u001b[0m │ \u001b[36m    6.192\u001b[0m │ \u001b[36m-8.408\u001b[0m │ \u001b[36m  0.157\u001b[0m │ \u001b[36m  1.244\u001b[0m │ \u001b[36m   3.985\u001b[0m │ \u001b[36m   99.13\u001b[0m │ \u001b[32m  ▇▁  \u001b[0m │  │\n",
       "│ │ \u001b[38;5;141m_change_\u001b[0m │      │       │          │           │        │         │         │          │          │        │  │\n",
       "│ │ \u001b[38;5;141mco2_per_\u001b[0m │      │       │          │           │        │         │         │          │          │        │  │\n",
       "│ │ \u001b[38;5;141mcapita  \u001b[0m │      │       │          │           │        │         │         │          │          │        │  │\n",
       "│ │ \u001b[38;5;141moil_co2 \u001b[0m │ \u001b[36m  64\u001b[0m │ \u001b[36m 0.27\u001b[0m │ \u001b[36m   117.2\u001b[0m │ \u001b[36m    644.7\u001b[0m │ \u001b[36m     0\u001b[0m │ \u001b[36m  0.147\u001b[0m │ \u001b[36m  1.612\u001b[0m │ \u001b[36m   15.09\u001b[0m │ \u001b[36m   12350\u001b[0m │ \u001b[32m  ▇   \u001b[0m │  │\n",
       "│ │ \u001b[38;5;141moil_co2_\u001b[0m │ \u001b[36m 136\u001b[0m │ \u001b[36m 0.58\u001b[0m │ \u001b[36m   2.299\u001b[0m │ \u001b[36m    15.22\u001b[0m │ \u001b[36m     0\u001b[0m │ \u001b[36m  0.058\u001b[0m │ \u001b[36m  0.444\u001b[0m │ \u001b[36m   2.096\u001b[0m │ \u001b[36m   824.5\u001b[0m │ \u001b[32m  ▇   \u001b[0m │  │\n",
       "│ │ \u001b[38;5;141mper_capi\u001b[0m │      │       │          │           │        │         │         │          │          │        │  │\n",
       "│ │ \u001b[38;5;141mta      \u001b[0m │      │       │          │           │        │         │         │          │          │        │  │\n",
       "│ │ \u001b[38;5;141mshare_gl\u001b[0m │ \u001b[36m3939\u001b[0m │ \u001b[36m16.77\u001b[0m │ \u001b[36m   3.513\u001b[0m │ \u001b[36m     14.5\u001b[0m │ \u001b[36m     0\u001b[0m │ \u001b[36m      0\u001b[0m │ \u001b[36m  0.047\u001b[0m │ \u001b[36m   0.465\u001b[0m │ \u001b[36m     100\u001b[0m │ \u001b[32m  ▇   \u001b[0m │  │\n",
       "│ │ \u001b[38;5;141mobal_cem\u001b[0m │      │       │          │           │        │         │         │          │          │        │  │\n",
       "│ │ \u001b[38;5;141ment_co2 \u001b[0m │      │       │          │           │        │         │         │          │          │        │  │\n",
       "│ │ \u001b[38;5;141mshare_gl\u001b[0m │ \u001b[36m   0\u001b[0m │ \u001b[36m    0\u001b[0m │ \u001b[36m   3.674\u001b[0m │ \u001b[36m    13.62\u001b[0m │ \u001b[36m     0\u001b[0m │ \u001b[36m  0.006\u001b[0m │ \u001b[36m  0.061\u001b[0m │ \u001b[36m   0.537\u001b[0m │ \u001b[36m     100\u001b[0m │ \u001b[32m  ▇   \u001b[0m │  │\n",
       "│ │ \u001b[38;5;141mobal_co2\u001b[0m │      │       │          │           │        │         │         │          │          │        │  │\n",
       "│ │ \u001b[38;5;141mshare_gl\u001b[0m │ \u001b[36m 953\u001b[0m │ \u001b[36m 4.06\u001b[0m │ \u001b[36m   3.712\u001b[0m │ \u001b[36m    11.84\u001b[0m │ \u001b[36m-0.816\u001b[0m │ \u001b[36m  0.038\u001b[0m │ \u001b[36m  0.181\u001b[0m │ \u001b[36m   0.909\u001b[0m │ \u001b[36m     100\u001b[0m │ \u001b[32m  ▇   \u001b[0m │  │\n",
       "│ │ \u001b[38;5;141mobal_co2\u001b[0m │      │       │          │           │        │         │         │          │          │        │  │\n",
       "│ │ \u001b[38;5;141m_includi\u001b[0m │      │       │          │           │        │         │         │          │          │        │  │\n",
       "│ │ \u001b[38;5;141mng_luc  \u001b[0m │      │       │          │           │        │         │         │          │          │        │  │\n",
       "│ │ \u001b[38;5;141mshare_gl\u001b[0m │ \u001b[36m  70\u001b[0m │ \u001b[36m  0.3\u001b[0m │ \u001b[36m   3.734\u001b[0m │ \u001b[36m     13.9\u001b[0m │ \u001b[36m     0\u001b[0m │ \u001b[36m      0\u001b[0m │ \u001b[36m  0.015\u001b[0m │ \u001b[36m   0.408\u001b[0m │ \u001b[36m     100\u001b[0m │ \u001b[32m  ▇   \u001b[0m │  │\n",
       "│ │ \u001b[38;5;141mobal_coa\u001b[0m │      │       │          │           │        │         │         │          │          │        │  │\n",
       "│ │ \u001b[38;5;141ml_co2   \u001b[0m │      │       │          │           │        │         │         │          │          │        │  │\n",
       "│ │ \u001b[38;5;141mshare_gl\u001b[0m │ \u001b[36m3939\u001b[0m │ \u001b[36m16.77\u001b[0m │ \u001b[36m   3.545\u001b[0m │ \u001b[36m    14.39\u001b[0m │ \u001b[36m     0\u001b[0m │ \u001b[36m      0\u001b[0m │ \u001b[36m  0.043\u001b[0m │ \u001b[36m   0.465\u001b[0m │ \u001b[36m     100\u001b[0m │ \u001b[32m  ▇   \u001b[0m │  │\n",
       "│ │ \u001b[38;5;141mobal_cum\u001b[0m │      │       │          │           │        │         │         │          │          │        │  │\n",
       "│ │ \u001b[38;5;141mulative_\u001b[0m │      │       │          │           │        │         │         │          │          │        │  │\n",
       "│ │ \u001b[38;5;141mcement_c\u001b[0m │      │       │          │           │        │         │         │          │          │        │  │\n",
       "│ │ \u001b[38;5;141mo2      \u001b[0m │      │       │          │           │        │         │         │          │          │        │  │\n",
       "│ │ \u001b[38;5;141mshare_gl\u001b[0m │ \u001b[36m   0\u001b[0m │ \u001b[36m    0\u001b[0m │ \u001b[36m    3.82\u001b[0m │ \u001b[36m    14.56\u001b[0m │ \u001b[36m     0\u001b[0m │ \u001b[36m  0.002\u001b[0m │ \u001b[36m  0.032\u001b[0m │ \u001b[36m   0.378\u001b[0m │ \u001b[36m     100\u001b[0m │ \u001b[32m  ▇   \u001b[0m │  │\n",
       "│ │ \u001b[38;5;141mobal_cum\u001b[0m │      │       │          │           │        │         │         │          │          │        │  │\n",
       "│ │ \u001b[38;5;141mulative_\u001b[0m │      │       │          │           │        │         │         │          │          │        │  │\n",
       "│ │ \u001b[38;5;141mco2     \u001b[0m │      │       │          │           │        │         │         │          │          │        │  │\n",
       "│ │ \u001b[38;5;141mshare_gl\u001b[0m │ \u001b[36m 953\u001b[0m │ \u001b[36m 4.06\u001b[0m │ \u001b[36m    3.58\u001b[0m │ \u001b[36m    11.77\u001b[0m │ \u001b[36m -0.03\u001b[0m │ \u001b[36m  0.022\u001b[0m │ \u001b[36m   0.15\u001b[0m │ \u001b[36m   0.759\u001b[0m │ \u001b[36m     100\u001b[0m │ \u001b[32m  ▇   \u001b[0m │  │\n",
       "│ │ \u001b[38;5;141mobal_cum\u001b[0m │      │       │          │           │        │         │         │          │          │        │  │\n",
       "│ │ \u001b[38;5;141mulative_\u001b[0m │      │       │          │           │        │         │         │          │          │        │  │\n",
       "│ │ \u001b[38;5;141mco2_incl\u001b[0m │      │       │          │           │        │         │         │          │          │        │  │\n",
       "│ │ \u001b[38;5;141muding_lu\u001b[0m │      │       │          │           │        │         │         │          │          │        │  │\n",
       "│ │ \u001b[38;5;141mc       \u001b[0m │      │       │          │           │        │         │         │          │          │        │  │\n",
       "│ │ \u001b[38;5;141mshare_gl\u001b[0m │ \u001b[36m  70\u001b[0m │ \u001b[36m  0.3\u001b[0m │ \u001b[36m   3.892\u001b[0m │ \u001b[36m    14.82\u001b[0m │ \u001b[36m     0\u001b[0m │ \u001b[36m      0\u001b[0m │ \u001b[36m  0.009\u001b[0m │ \u001b[36m   0.303\u001b[0m │ \u001b[36m     100\u001b[0m │ \u001b[32m  ▇   \u001b[0m │  │\n",
       "│ │ \u001b[38;5;141mobal_cum\u001b[0m │      │       │          │           │        │         │         │          │          │        │  │\n",
       "│ │ \u001b[38;5;141mulative_\u001b[0m │      │       │          │           │        │         │         │          │          │        │  │\n",
       "│ │ \u001b[38;5;141mcoal_co2\u001b[0m │      │       │          │           │        │         │         │          │          │        │  │\n",
       "│ │ \u001b[38;5;141mshare_gl\u001b[0m │ \u001b[36m7550\u001b[0m │ \u001b[36m32.14\u001b[0m │ \u001b[36m   2.035\u001b[0m │ \u001b[36m    9.174\u001b[0m │ \u001b[36m     0\u001b[0m │ \u001b[36m      0\u001b[0m │ \u001b[36m      0\u001b[0m │ \u001b[36m   0.049\u001b[0m │ \u001b[36m     100\u001b[0m │ \u001b[32m  ▇   \u001b[0m │  │\n",
       "│ │ \u001b[38;5;141mobal_cum\u001b[0m │      │       │          │           │        │         │         │          │          │        │  │\n",
       "│ │ \u001b[38;5;141mulative_\u001b[0m │      │       │          │           │        │         │         │          │          │        │  │\n",
       "│ │ \u001b[38;5;141mflaring_\u001b[0m │      │       │          │           │        │         │         │          │          │        │  │\n",
       "│ │ \u001b[38;5;141mco2     \u001b[0m │      │       │          │           │        │         │         │          │          │        │  │\n",
       "│ │ \u001b[38;5;141mshare_gl\u001b[0m │ \u001b[36m1562\u001b[0m │ \u001b[36m 6.65\u001b[0m │ \u001b[36m    2.77\u001b[0m │ \u001b[36m    14.14\u001b[0m │ \u001b[36m     0\u001b[0m │ \u001b[36m      0\u001b[0m │ \u001b[36m      0\u001b[0m │ \u001b[36m   0.074\u001b[0m │ \u001b[36m     100\u001b[0m │ \u001b[32m  ▇   \u001b[0m │  │\n",
       "│ │ \u001b[38;5;141mobal_cum\u001b[0m │      │       │          │           │        │         │         │          │          │        │  │\n",
       "│ │ \u001b[38;5;141mulative_\u001b[0m │      │       │          │           │        │         │         │          │          │        │  │\n",
       "│ │ \u001b[38;5;141mgas_co2 \u001b[0m │      │       │          │           │        │         │         │          │          │        │  │\n",
       "│ │ \u001b[38;5;141mshare_gl\u001b[0m │ \u001b[36m 953\u001b[0m │ \u001b[36m 4.06\u001b[0m │ \u001b[36m   4.373\u001b[0m │ \u001b[36m    12.62\u001b[0m │ \u001b[36m-0.694\u001b[0m │ \u001b[36m  0.039\u001b[0m │ \u001b[36m  0.249\u001b[0m │ \u001b[36m   1.003\u001b[0m │ \u001b[36m     100\u001b[0m │ \u001b[32m  ▇   \u001b[0m │  │\n",
       "│ │ \u001b[38;5;141mobal_cum\u001b[0m │      │       │          │           │        │         │         │          │          │        │  │\n",
       "│ │ \u001b[38;5;141mulative_\u001b[0m │      │       │          │           │        │         │         │          │          │        │  │\n",
       "│ │ \u001b[38;5;141mluc_co2 \u001b[0m │      │       │          │           │        │         │         │          │          │        │  │\n",
       "│ │ \u001b[38;5;141mshare_gl\u001b[0m │ \u001b[36m 203\u001b[0m │ \u001b[36m 0.86\u001b[0m │ \u001b[36m   3.347\u001b[0m │ \u001b[36m    13.06\u001b[0m │ \u001b[36m     0\u001b[0m │ \u001b[36m  0.004\u001b[0m │ \u001b[36m  0.053\u001b[0m │ \u001b[36m   0.485\u001b[0m │ \u001b[36m     100\u001b[0m │ \u001b[32m  ▇   \u001b[0m │  │\n",
       "│ │ \u001b[38;5;141mobal_cum\u001b[0m │      │       │          │           │        │         │         │          │          │        │  │\n",
       "│ │ \u001b[38;5;141mulative_\u001b[0m │      │       │          │           │        │         │         │          │          │        │  │\n",
       "│ │ \u001b[38;5;141moil_co2 \u001b[0m │      │       │          │           │        │         │         │          │          │        │  │\n",
       "│ │ \u001b[38;5;141mshare_gl\u001b[0m │ \u001b[36m7550\u001b[0m │ \u001b[36m32.14\u001b[0m │ \u001b[36m    2.09\u001b[0m │ \u001b[36m    9.116\u001b[0m │ \u001b[36m     0\u001b[0m │ \u001b[36m      0\u001b[0m │ \u001b[36m      0\u001b[0m │ \u001b[36m   0.052\u001b[0m │ \u001b[36m     100\u001b[0m │ \u001b[32m  ▇   \u001b[0m │  │\n",
       "│ │ \u001b[38;5;141mobal_fla\u001b[0m │      │       │          │           │        │         │         │          │          │        │  │\n",
       "│ │ \u001b[38;5;141mring_co2\u001b[0m │      │       │          │           │        │         │         │          │          │        │  │\n",
       "│ │ \u001b[38;5;141mshare_gl\u001b[0m │ \u001b[36m1562\u001b[0m │ \u001b[36m 6.65\u001b[0m │ \u001b[36m   2.835\u001b[0m │ \u001b[36m    13.74\u001b[0m │ \u001b[36m     0\u001b[0m │ \u001b[36m      0\u001b[0m │ \u001b[36m      0\u001b[0m │ \u001b[36m   0.124\u001b[0m │ \u001b[36m     100\u001b[0m │ \u001b[32m  ▇   \u001b[0m │  │\n",
       "│ │ \u001b[38;5;141mobal_gas\u001b[0m │      │       │          │           │        │         │         │          │          │        │  │\n",
       "│ │ \u001b[38;5;141m_co2    \u001b[0m │      │       │          │           │        │         │         │          │          │        │  │\n",
       "│ │ \u001b[38;5;141mshare_gl\u001b[0m │ \u001b[36m 953\u001b[0m │ \u001b[36m 4.06\u001b[0m │ \u001b[36m   4.209\u001b[0m │ \u001b[36m    12.93\u001b[0m │ \u001b[36m-6.498\u001b[0m │ \u001b[36m  0.006\u001b[0m │ \u001b[36m  0.169\u001b[0m │ \u001b[36m   0.993\u001b[0m │ \u001b[36m   100.7\u001b[0m │ \u001b[32m  ▇   \u001b[0m │  │\n",
       "│ │ \u001b[38;5;141mobal_luc\u001b[0m │      │       │          │           │        │         │         │          │          │        │  │\n",
       "│ │ \u001b[38;5;141m_co2    \u001b[0m │      │       │          │           │        │         │         │          │          │        │  │\n",
       "│ │ \u001b[38;5;141mshare_gl\u001b[0m │ \u001b[36m 203\u001b[0m │ \u001b[36m 0.86\u001b[0m │ \u001b[36m   3.324\u001b[0m │ \u001b[36m    12.86\u001b[0m │ \u001b[36m     0\u001b[0m │ \u001b[36m  0.005\u001b[0m │ \u001b[36m  0.061\u001b[0m │ \u001b[36m   0.509\u001b[0m │ \u001b[36m     100\u001b[0m │ \u001b[32m  ▇   \u001b[0m │  │\n",
       "│ │ \u001b[38;5;141mobal_oil\u001b[0m │      │       │          │           │        │         │         │          │          │        │  │\n",
       "│ │ \u001b[38;5;141m_co2    \u001b[0m │      │       │          │           │        │         │         │          │          │        │  │\n",
       "│ │ \u001b[38;5;141mshare_of\u001b[0m │ \u001b[36m 363\u001b[0m │ \u001b[36m 1.55\u001b[0m │ \u001b[36m   3.366\u001b[0m │ \u001b[36m    10.98\u001b[0m │ \u001b[36m-0.625\u001b[0m │ \u001b[36m   0.04\u001b[0m │ \u001b[36m  0.166\u001b[0m │ \u001b[36m  0.7915\u001b[0m │ \u001b[36m     100\u001b[0m │ \u001b[32m  ▇   \u001b[0m │  │\n",
       "│ │ \u001b[38;5;141m_tempera\u001b[0m │      │       │          │           │        │         │         │          │          │        │  │\n",
       "│ │ \u001b[38;5;141mture_cha\u001b[0m │      │       │          │           │        │         │         │          │          │        │  │\n",
       "│ │ \u001b[38;5;141mnge_from\u001b[0m │      │       │          │           │        │         │         │          │          │        │  │\n",
       "│ │ \u001b[38;5;141m_ghg    \u001b[0m │      │       │          │           │        │         │         │          │          │        │  │\n",
       "│ │ \u001b[38;5;141mtemperat\u001b[0m │ \u001b[36m1216\u001b[0m │ \u001b[36m 5.18\u001b[0m │ \u001b[36m 0.00456\u001b[0m │ \u001b[36m  0.02006\u001b[0m │ \u001b[36m-0.001\u001b[0m │ \u001b[36m      0\u001b[0m │ \u001b[36m      0\u001b[0m │ \u001b[36m   0.001\u001b[0m │ \u001b[36m   0.415\u001b[0m │ \u001b[32m  ▇   \u001b[0m │  │\n",
       "│ │ \u001b[38;5;141mure_chan\u001b[0m │      │       │          │           │        │         │         │          │          │        │  │\n",
       "│ │ \u001b[38;5;141mge_from_\u001b[0m │      │       │          │           │        │         │         │          │          │        │  │\n",
       "│ │ \u001b[38;5;141mch4     \u001b[0m │      │       │          │           │        │         │         │          │          │        │  │\n",
       "│ │ \u001b[38;5;141mtemperat\u001b[0m │ \u001b[36m 363\u001b[0m │ \u001b[36m 1.55\u001b[0m │ \u001b[36m 0.01099\u001b[0m │ \u001b[36m  0.04928\u001b[0m │ \u001b[36m     0\u001b[0m │ \u001b[36m      0\u001b[0m │ \u001b[36m      0\u001b[0m │ \u001b[36m   0.002\u001b[0m │ \u001b[36m   1.113\u001b[0m │ \u001b[32m  ▇   \u001b[0m │  │\n",
       "│ │ \u001b[38;5;141mure_chan\u001b[0m │      │       │          │           │        │         │         │          │          │        │  │\n",
       "│ │ \u001b[38;5;141mge_from_\u001b[0m │      │       │          │           │        │         │         │          │          │        │  │\n",
       "│ │ \u001b[38;5;141mco2     \u001b[0m │      │       │          │           │        │         │         │          │          │        │  │\n",
       "│ │ \u001b[38;5;141mtemperat\u001b[0m │ \u001b[36m 363\u001b[0m │ \u001b[36m 1.55\u001b[0m │ \u001b[36m 0.01621\u001b[0m │ \u001b[36m  0.07182\u001b[0m │ \u001b[36m-0.001\u001b[0m │ \u001b[36m      0\u001b[0m │ \u001b[36m  0.001\u001b[0m │ \u001b[36m   0.004\u001b[0m │ \u001b[36m   1.611\u001b[0m │ \u001b[32m  ▇   \u001b[0m │  │\n",
       "│ │ \u001b[38;5;141mure_chan\u001b[0m │      │       │          │           │        │         │         │          │          │        │  │\n",
       "│ │ \u001b[38;5;141mge_from_\u001b[0m │      │       │          │           │        │         │         │          │          │        │  │\n",
       "│ │ \u001b[38;5;141mghg     \u001b[0m │      │       │          │           │        │         │         │          │          │        │  │\n",
       "│ │ \u001b[38;5;141mtemperat\u001b[0m │ \u001b[36m1216\u001b[0m │ \u001b[36m 5.18\u001b[0m │ \u001b[36m0.000745\u001b[0m │ \u001b[36m 0.003587\u001b[0m │ \u001b[36m     0\u001b[0m │ \u001b[36m      0\u001b[0m │ \u001b[36m      0\u001b[0m │ \u001b[36m       0\u001b[0m │ \u001b[36m   0.083\u001b[0m │ \u001b[32m  ▇   \u001b[0m │  │\n",
       "│ │ \u001b[38;5;141mure_chan\u001b[0m │      │       │ \u001b[36m       2\u001b[0m │           │        │         │         │          │          │        │  │\n",
       "│ │ \u001b[38;5;141mge_from_\u001b[0m │      │       │          │           │        │         │         │          │          │        │  │\n",
       "│ │ \u001b[38;5;141mn2o     \u001b[0m │      │       │          │           │        │         │         │          │          │        │  │\n",
       "│ └──────────┴──────┴───────┴──────────┴───────────┴────────┴─────────┴─────────┴──────────┴──────────┴────────┘  │\n",
       "│ \u001b[3m                                                    string                                                    \u001b[0m  │\n",
       "│ ┏━━━━━━━━━━━━━━━━━━━━━━━━━━┳━━━━━━━━━━━━┳━━━━━━━━━━━━━━┳━━━━━━━━━━━━━━━━━━━━━━━━━━━━┳━━━━━━━━━━━━━━━━━━━━━━━━┓  │\n",
       "│ ┃\u001b[1m \u001b[0m\u001b[1mcolumn_name             \u001b[0m\u001b[1m \u001b[0m┃\u001b[1m \u001b[0m\u001b[1mNA        \u001b[0m\u001b[1m \u001b[0m┃\u001b[1m \u001b[0m\u001b[1mNA %        \u001b[0m\u001b[1m \u001b[0m┃\u001b[1m \u001b[0m\u001b[1mwords per row             \u001b[0m\u001b[1m \u001b[0m┃\u001b[1m \u001b[0m\u001b[1mtotal words           \u001b[0m\u001b[1m \u001b[0m┃  │\n",
       "│ ┡━━━━━━━━━━━━━━━━━━━━━━━━━━╇━━━━━━━━━━━━╇━━━━━━━━━━━━━━╇━━━━━━━━━━━━━━━━━━━━━━━━━━━━╇━━━━━━━━━━━━━━━━━━━━━━━━┩  │\n",
       "│ │ \u001b[38;5;141mcountry                 \u001b[0m │ \u001b[36m         0\u001b[0m │ \u001b[36m           0\u001b[0m │ \u001b[36m                       1.4\u001b[0m │ \u001b[36m                 32539\u001b[0m │  │\n",
       "│ │ \u001b[38;5;141miso_code                \u001b[0m │ \u001b[36m      2786\u001b[0m │ \u001b[36m       11.86\u001b[0m │ \u001b[36m                      0.88\u001b[0m │ \u001b[36m                 20708\u001b[0m │  │\n",
       "│ └──────────────────────────┴────────────┴──────────────┴────────────────────────────┴────────────────────────┘  │\n",
       "╰────────────────────────────────────────────────────── End ──────────────────────────────────────────────────────╯\n"
      ]
     },
     "metadata": {},
     "output_type": "display_data"
    }
   ],
   "source": [
    "skim(df)"
   ]
  },
  {
   "cell_type": "code",
   "execution_count": 5,
   "id": "933dc959-3d61-48dc-800a-f2cd38a46db7",
   "metadata": {},
   "outputs": [
    {
     "name": "stdout",
     "output_type": "stream",
     "text": [
      "237\n",
      "219\n",
      "['Afghanistan' 'Africa' 'Albania' 'Algeria' 'Andorra' 'Angola' 'Anguilla'\n",
      " 'Antigua and Barbuda' 'Argentina' 'Armenia' 'Aruba' 'Asia'\n",
      " 'Asia (excl. China and India)' 'Australia' 'Austria' 'Azerbaijan'\n",
      " 'Bahamas' 'Bahrain' 'Bangladesh' 'Barbados' 'Belarus' 'Belgium' 'Belize'\n",
      " 'Benin' 'Bermuda' 'Bhutan' 'Bolivia' 'Bonaire Sint Eustatius and Saba'\n",
      " 'Bosnia and Herzegovina' 'Botswana' 'Brazil' 'British Virgin Islands'\n",
      " 'Brunei' 'Bulgaria' 'Burkina Faso' 'Burundi' 'Cambodia' 'Cameroon'\n",
      " 'Canada' 'Cape Verde' 'Central African Republic' 'Chad' 'Chile' 'China'\n",
      " 'Colombia' 'Comoros' 'Congo' 'Cook Islands' 'Costa Rica' \"Cote d'Ivoire\"\n",
      " 'Croatia' 'Cuba' 'Curacao' 'Cyprus' 'Czechia'\n",
      " 'Democratic Republic of Congo' 'Denmark' 'Djibouti' 'Dominica'\n",
      " 'Dominican Republic' 'East Timor' 'Ecuador' 'Egypt' 'El Salvador'\n",
      " 'Equatorial Guinea' 'Eritrea' 'Estonia' 'Eswatini' 'Ethiopia' 'Europe'\n",
      " 'Europe (excl. EU-27)' 'Europe (excl. EU-28)' 'European Union (27)'\n",
      " 'European Union (28)' 'Faroe Islands' 'Fiji' 'Finland' 'France'\n",
      " 'French Guiana' 'French Polynesia' 'Gabon' 'Gambia' 'Georgia' 'Germany'\n",
      " 'Ghana' 'Greece' 'Greenland' 'Grenada' 'Guadeloupe' 'Guatemala' 'Guinea'\n",
      " 'Guinea-Bissau' 'Guyana' 'Haiti' 'High-income countries' 'Honduras'\n",
      " 'Hong Kong' 'Hungary' 'Iceland' 'India' 'Indonesia' 'Iran' 'Iraq'\n",
      " 'Ireland' 'Israel' 'Italy' 'Jamaica' 'Japan' 'Jordan' 'Kazakhstan'\n",
      " 'Kenya' 'Kiribati' 'Kosovo' 'Kuwait' 'Kyrgyzstan' 'Laos' 'Latvia'\n",
      " 'Lebanon' 'Lesotho' 'Liberia' 'Libya' 'Liechtenstein' 'Lithuania'\n",
      " 'Low-income countries' 'Lower-middle-income countries' 'Luxembourg'\n",
      " 'Macao' 'Madagascar' 'Malawi' 'Malaysia' 'Maldives' 'Mali' 'Malta'\n",
      " 'Marshall Islands' 'Martinique' 'Mauritania' 'Mauritius' 'Mayotte'\n",
      " 'Mexico' 'Micronesia (country)' 'Moldova' 'Mongolia' 'Montenegro'\n",
      " 'Montserrat' 'Morocco' 'Mozambique' 'Myanmar' 'Namibia' 'Nauru' 'Nepal'\n",
      " 'Netherlands' 'New Caledonia' 'New Zealand' 'Nicaragua' 'Niger' 'Nigeria'\n",
      " 'Niue' 'North America' 'North America (excl. USA)' 'North Korea'\n",
      " 'North Macedonia' 'Norway' 'Oceania' 'Oman' 'Pakistan' 'Palau'\n",
      " 'Palestine' 'Panama' 'Papua New Guinea' 'Paraguay' 'Peru' 'Philippines'\n",
      " 'Poland' 'Portugal' 'Puerto Rico' 'Qatar' 'Reunion' 'Romania' 'Russia'\n",
      " 'Rwanda' 'Saint Helena' 'Saint Kitts and Nevis' 'Saint Lucia'\n",
      " 'Saint Pierre and Miquelon' 'Saint Vincent and the Grenadines' 'Samoa'\n",
      " 'Sao Tome and Principe' 'Saudi Arabia' 'Senegal' 'Serbia' 'Seychelles'\n",
      " 'Sierra Leone' 'Singapore' 'Sint Maarten (Dutch part)' 'Slovakia'\n",
      " 'Slovenia' 'Solomon Islands' 'Somalia' 'South Africa' 'South America'\n",
      " 'South Korea' 'South Sudan' 'Spain' 'Sri Lanka' 'Sudan' 'Suriname'\n",
      " 'Sweden' 'Switzerland' 'Syria' 'Taiwan' 'Tajikistan' 'Tanzania'\n",
      " 'Thailand' 'Togo' 'Tonga' 'Trinidad and Tobago' 'Tunisia' 'Turkey'\n",
      " 'Turkmenistan' 'Turks and Caicos Islands' 'Tuvalu' 'Uganda' 'Ukraine'\n",
      " 'United Arab Emirates' 'United Kingdom' 'United States'\n",
      " 'Upper-middle-income countries' 'Uruguay' 'Uzbekistan' 'Vanuatu'\n",
      " 'Venezuela' 'Vietnam' 'Wallis and Futuna' 'World' 'Yemen' 'Zambia'\n",
      " 'Zimbabwe']\n"
     ]
    }
   ],
   "source": [
    " info = pd.DataFrame({\n",
    "    \"Count\":df.shape[0],\n",
    "    \"Null\":df.isnull().sum(),\n",
    "    \"Null %\":df.isnull().mean() * 100,\n",
    "    \"Zeros\":(df == 0).sum(),\n",
    "    \"Zeros %\":(df == 0).mean() * 100,\n",
    "    \"Unique\":df.nunique(),\n",
    "    \"Duplicated\":(df.duplicated() == True).sum(),\n",
    "  \n",
    "})\n",
    "info\n",
    "print(df[\"country\"].nunique())\n",
    "\n",
    "print(df[\"iso_code\"].nunique())\n",
    "print(df[\"country\"].unique())\n"
   ]
  },
  {
   "cell_type": "code",
   "execution_count": 44,
   "id": "05d20bc1-0aec-4008-b445-c39d2c3d1de7",
   "metadata": {},
   "outputs": [
    {
     "name": "stdout",
     "output_type": "stream",
     "text": [
      "['Afghanistan' 'Albania' 'Algeria' 'Andorra' 'Angola' 'Anguilla'\n",
      " 'Antigua and Barbuda' 'Argentina' 'Armenia' 'Aruba' 'Australia' 'Austria'\n",
      " 'Azerbaijan' 'Bahamas' 'Bahrain' 'Bangladesh' 'Barbados' 'Belarus'\n",
      " 'Belgium' 'Belize' 'Benin' 'Bermuda' 'Bhutan' 'Bolivia'\n",
      " 'Bonaire Sint Eustatius and Saba' 'Bosnia and Herzegovina' 'Botswana'\n",
      " 'Brazil' 'British Virgin Islands' 'Brunei' 'Bulgaria' 'Burkina Faso'\n",
      " 'Burundi' 'Cambodia' 'Cameroon' 'Canada' 'Cape Verde'\n",
      " 'Central African Republic' 'Chad' 'Chile' 'China' 'Colombia' 'Comoros'\n",
      " 'Congo' 'Cook Islands' 'Costa Rica' \"Cote d'Ivoire\" 'Croatia' 'Cuba'\n",
      " 'Curacao' 'Cyprus' 'Czechia' 'Democratic Republic of Congo' 'Denmark'\n",
      " 'Djibouti' 'Dominica' 'Dominican Republic' 'East Timor' 'Ecuador' 'Egypt'\n",
      " 'El Salvador' 'Equatorial Guinea' 'Eritrea' 'Estonia' 'Eswatini'\n",
      " 'Ethiopia' 'Faroe Islands' 'Fiji' 'Finland' 'France' 'French Guiana'\n",
      " 'French Polynesia' 'Gabon' 'Gambia' 'Georgia' 'Germany' 'Ghana' 'Greece'\n",
      " 'Greenland' 'Grenada' 'Guadeloupe' 'Guatemala' 'Guinea' 'Guinea-Bissau'\n",
      " 'Guyana' 'Haiti' 'Honduras' 'Hong Kong' 'Hungary' 'Iceland' 'India'\n",
      " 'Indonesia' 'Iran' 'Iraq' 'Ireland' 'Israel' 'Italy' 'Jamaica' 'Japan'\n",
      " 'Jordan' 'Kazakhstan' 'Kenya' 'Kiribati' 'Kosovo' 'Kuwait' 'Kyrgyzstan'\n",
      " 'Laos' 'Latvia' 'Lebanon' 'Lesotho' 'Liberia' 'Libya' 'Liechtenstein'\n",
      " 'Lithuania' 'Luxembourg' 'Macao' 'Madagascar' 'Malawi' 'Malaysia'\n",
      " 'Maldives' 'Mali' 'Malta' 'Marshall Islands' 'Martinique' 'Mauritania'\n",
      " 'Mauritius' 'Mayotte' 'Mexico' 'Micronesia (country)' 'Moldova'\n",
      " 'Mongolia' 'Montenegro' 'Montserrat' 'Morocco' 'Mozambique' 'Myanmar'\n",
      " 'Namibia' 'Nauru' 'Nepal' 'Netherlands' 'New Caledonia' 'New Zealand'\n",
      " 'Nicaragua' 'Niger' 'Nigeria' 'Niue' 'North Korea' 'North Macedonia'\n",
      " 'Norway' 'Oman' 'Pakistan' 'Palau' 'Palestine' 'Panama'\n",
      " 'Papua New Guinea' 'Paraguay' 'Peru' 'Philippines' 'Poland' 'Portugal'\n",
      " 'Puerto Rico' 'Qatar' 'Reunion' 'Romania' 'Russia' 'Rwanda'\n",
      " 'Saint Helena' 'Saint Kitts and Nevis' 'Saint Lucia'\n",
      " 'Saint Pierre and Miquelon' 'Saint Vincent and the Grenadines' 'Samoa'\n",
      " 'Sao Tome and Principe' 'Saudi Arabia' 'Senegal' 'Serbia' 'Seychelles'\n",
      " 'Sierra Leone' 'Singapore' 'Sint Maarten (Dutch part)' 'Slovakia'\n",
      " 'Slovenia' 'Solomon Islands' 'Somalia' 'South Africa' 'South Korea'\n",
      " 'South Sudan' 'Spain' 'Sri Lanka' 'Sudan' 'Suriname' 'Sweden'\n",
      " 'Switzerland' 'Syria' 'Taiwan' 'Tajikistan' 'Tanzania' 'Thailand' 'Togo'\n",
      " 'Tonga' 'Trinidad and Tobago' 'Tunisia' 'Turkey' 'Turkmenistan'\n",
      " 'Turks and Caicos Islands' 'Tuvalu' 'Uganda' 'Ukraine'\n",
      " 'United Arab Emirates' 'United Kingdom' 'United States' 'Uruguay'\n",
      " 'Uzbekistan' 'Vanuatu' 'Venezuela' 'Vietnam' 'Wallis and Futuna' 'Yemen'\n",
      " 'Zambia' 'Zimbabwe']\n",
      "220\n",
      "17\n"
     ]
    }
   ],
   "source": [
    "non_countries = [\n",
    "    \"Africa\", \"Asia\", \"Asia (excl. China and India)\", \"Europe\", \"Europe (excl. EU-27)\",\n",
    "    \"Europe (excl. EU-28)\", \"European Union (27)\", \"European Union (28)\", \n",
    "    \"High-income countries\", \"Low-income countries\", \"Lower-middle-income countries\", \n",
    "    \"North America\", \"North America (excl. USA)\", \"Oceania\", \"South America\",'Upper-middle-income countries', \"World\"\n",
    "]\n",
    "\n",
    "countries = ['Afghanistan', 'Albania', 'Algeria', 'Andorra', 'Angola', 'Anguilla',\n",
    " 'Antigua and Barbuda', 'Argentina', 'Armenia', 'Aruba', 'Australia', 'Austria', 'Azerbaijan',\n",
    " 'Bahamas', 'Bahrain', 'Bangladesh', 'Barbados', 'Belarus', 'Belgium', 'Belize',\n",
    " 'Benin', 'Bermuda', 'Bhutan', 'Bolivia', 'Bonaire Sint Eustatius and Saba',\n",
    " 'Bosnia and Herzegovina', 'Botswana', 'Brazil', 'British Virgin Islands',\n",
    " 'Brunei', 'Bulgaria', 'Burkina Faso', 'Burundi', 'Cambodia', 'Cameroon',\n",
    " 'Canada', 'Cape Verde', 'Central African Republic', 'Chad', 'Chile', 'China',\n",
    " 'Colombia', 'Comoros', 'Congo', 'Cook Islands', 'Costa Rica', \"Cote d'Ivoire\",\n",
    " 'Croatia', 'Cuba', 'Curacao', 'Cyprus', 'Czechia',\n",
    " 'Democratic Republic of Congo', 'Denmark', 'Djibouti', 'Dominica',\n",
    " 'Dominican Republic', 'East Timor', 'Ecuador', 'Egypt', 'El Salvador',\n",
    " 'Equatorial Guinea', 'Eritrea', 'Estonia', 'Eswatini', 'Ethiopia',\n",
    " 'Faroe Islands', 'Fiji', 'Finland', 'France',\n",
    " 'French Guiana', 'French Polynesia', 'Gabon', 'Gambia', 'Georgia', 'Germany',\n",
    " 'Ghana', 'Greece', 'Greenland', 'Grenada', 'Guadeloupe', 'Guatemala', 'Guinea',\n",
    " 'Guinea-Bissau', 'Guyana', 'Haiti', 'Honduras', 'Hong Kong', 'Hungary',\n",
    " 'Iceland', 'India', 'Indonesia', 'Iran', 'Iraq',\n",
    " 'Ireland', 'Israel', 'Italy', 'Jamaica', 'Japan', 'Jordan', 'Kazakhstan',\n",
    " 'Kenya', 'Kiribati', 'Kosovo', 'Kuwait', 'Kyrgyzstan', 'Laos', 'Latvia',\n",
    " 'Lebanon', 'Lesotho', 'Liberia', 'Libya', 'Liechtenstein', 'Lithuania',\n",
    " 'Luxembourg', 'Macao', 'Madagascar', 'Malawi', 'Malaysia', 'Maldives', 'Mali', 'Malta',\n",
    " 'Marshall Islands', 'Martinique', 'Mauritania', 'Mauritius', 'Mayotte',\n",
    " 'Mexico', 'Micronesia (country)', 'Moldova', 'Mongolia', 'Montenegro',\n",
    " 'Montserrat', 'Morocco', 'Mozambique', 'Myanmar', 'Namibia', 'Nauru', 'Nepal',\n",
    " 'Netherlands', 'New Caledonia', 'New Zealand', 'Nicaragua', 'Niger', 'Nigeria',\n",
    " 'Niue', 'North Korea', 'North Macedonia', 'Norway', 'Oman', 'Pakistan', 'Palau',\n",
    " 'Palestine', 'Panama', 'Papua New Guinea', 'Paraguay', 'Peru', 'Philippines',\n",
    " 'Poland', 'Portugal', 'Puerto Rico', 'Qatar', 'Reunion', 'Romania', 'Russia',\n",
    " 'Rwanda', 'Saint Helena', 'Saint Kitts and Nevis', 'Saint Lucia',\n",
    " 'Saint Pierre and Miquelon', 'Saint Vincent and the Grenadines', 'Samoa',\n",
    " 'Sao Tome and Principe', 'Saudi Arabia', 'Senegal', 'Serbia', 'Seychelles',\n",
    " 'Sierra Leone', 'Singapore', 'Sint Maarten (Dutch part)', 'Slovakia',\n",
    " 'Slovenia', 'Solomon Islands', 'Somalia', 'South Africa', 'South Korea',\n",
    " 'South Sudan', 'Spain', 'Sri Lanka', 'Sudan', 'Suriname',\n",
    " 'Sweden', 'Switzerland', 'Syria', 'Taiwan', 'Tajikistan', 'Tanzania',\n",
    " 'Thailand', 'Togo', 'Tonga', 'Trinidad and Tobago', 'Tunisia', 'Turkey',\n",
    " 'Turkmenistan', 'Turks and Caicos Islands', 'Tuvalu', 'Uganda', 'Ukraine',\n",
    " 'United Arab Emirates', 'United Kingdom', 'United States',\n",
    " 'Uruguay', 'Uzbekistan', 'Vanuatu',\n",
    " 'Venezuela', 'Vietnam', 'Wallis and Futuna', 'Yemen', 'Zambia', 'Zimbabwe']\n",
    "\n",
    "df_filtered_country = df[df[\"country\"].isin(countries)].copy()\n",
    "\n",
    "df_filtered_non_country = df[df[\"country\"].isin(non_countries)].copy()\n",
    "\n",
    "print(df_filtered_country[\"country\"].unique())\n",
    "print(df_filtered_country[\"country\"].nunique())\n",
    "print(df_filtered_non_country[\"country\"].nunique())"
   ]
  },
  {
   "cell_type": "markdown",
   "id": "3ccfa834-2865-4a1a-a7dc-6cca50a7e24d",
   "metadata": {},
   "source": [
    "#Eliminar datos C02 = 0"
   ]
  },
  {
   "cell_type": "code",
   "execution_count": 7,
   "id": "f0a0a799-3bec-4e4c-9f2d-94d82dde0962",
   "metadata": {},
   "outputs": [
    {
     "name": "stdout",
     "output_type": "stream",
     "text": [
      "102\n"
     ]
    }
   ],
   "source": [
    "co2_zeros = (df[\"co2\"] == 0).sum()\n",
    "\n",
    "df = df.drop(df[df[\"co2\"] == 0].index)\n",
    "print(co2_zeros)"
   ]
  },
  {
   "cell_type": "code",
   "execution_count": 8,
   "id": "5a9bdf8d-714a-4ed8-ab64-ce539a3a69a5",
   "metadata": {},
   "outputs": [
    {
     "data": {
      "text/html": [
       "<div>\n",
       "<style scoped>\n",
       "    .dataframe tbody tr th:only-of-type {\n",
       "        vertical-align: middle;\n",
       "    }\n",
       "\n",
       "    .dataframe tbody tr th {\n",
       "        vertical-align: top;\n",
       "    }\n",
       "\n",
       "    .dataframe thead th {\n",
       "        text-align: right;\n",
       "    }\n",
       "</style>\n",
       "<table border=\"1\" class=\"dataframe\">\n",
       "  <thead>\n",
       "    <tr style=\"text-align: right;\">\n",
       "      <th></th>\n",
       "      <th>Count</th>\n",
       "      <th>Null</th>\n",
       "      <th>Null %</th>\n",
       "      <th>Zeros</th>\n",
       "      <th>Zeros %</th>\n",
       "      <th>Unique</th>\n",
       "      <th>Duplicated</th>\n",
       "      <th>Under Zeros</th>\n",
       "    </tr>\n",
       "  </thead>\n",
       "  <tbody>\n",
       "    <tr>\n",
       "      <th>country</th>\n",
       "      <td>23392</td>\n",
       "      <td>0</td>\n",
       "      <td>0.000000</td>\n",
       "      <td>0</td>\n",
       "      <td>0.0000</td>\n",
       "      <td>237</td>\n",
       "      <td>0</td>\n",
       "      <td>369</td>\n",
       "    </tr>\n",
       "    <tr>\n",
       "      <th>year</th>\n",
       "      <td>23392</td>\n",
       "      <td>0</td>\n",
       "      <td>0.000000</td>\n",
       "      <td>0</td>\n",
       "      <td>0.0000</td>\n",
       "      <td>172</td>\n",
       "      <td>0</td>\n",
       "      <td>369</td>\n",
       "    </tr>\n",
       "    <tr>\n",
       "      <th>co2</th>\n",
       "      <td>23392</td>\n",
       "      <td>0</td>\n",
       "      <td>0.000000</td>\n",
       "      <td>0</td>\n",
       "      <td>0.0000</td>\n",
       "      <td>14458</td>\n",
       "      <td>0</td>\n",
       "      <td>369</td>\n",
       "    </tr>\n",
       "    <tr>\n",
       "      <th>co2_including_luc</th>\n",
       "      <td>23392</td>\n",
       "      <td>953</td>\n",
       "      <td>4.074042</td>\n",
       "      <td>8</td>\n",
       "      <td>0.0342</td>\n",
       "      <td>18675</td>\n",
       "      <td>0</td>\n",
       "      <td>369</td>\n",
       "    </tr>\n",
       "  </tbody>\n",
       "</table>\n",
       "</div>"
      ],
      "text/plain": [
       "                   Count  Null    Null %  Zeros  Zeros %  Unique  Duplicated  \\\n",
       "country            23392     0  0.000000      0   0.0000     237           0   \n",
       "year               23392     0  0.000000      0   0.0000     172           0   \n",
       "co2                23392     0  0.000000      0   0.0000   14458           0   \n",
       "co2_including_luc  23392   953  4.074042      8   0.0342   18675           0   \n",
       "\n",
       "                   Under Zeros  \n",
       "country                    369  \n",
       "year                       369  \n",
       "co2                        369  \n",
       "co2_including_luc          369  "
      ]
     },
     "execution_count": 8,
     "metadata": {},
     "output_type": "execute_result"
    }
   ],
   "source": [
    "df_it1 = df[[\"country\",\"year\",\"co2\",\"co2_including_luc\"]]\n",
    "\n",
    "\n",
    "info1 = pd.DataFrame({import plotly.graph_objects as go\n",
    "    \"Count\":df_it1.shape[0],\n",
    "    \"Null\":df_it1.isnull().sum(),\n",
    "    \"Null %\":df_it1.isnull().mean() * 100,\n",
    "    \"Zeros\":(df_it1 == 0).sum(),\n",
    "    \"Zeros %\":(df_it1 == 0).mean() * 100,\n",
    "    \"Unique\":df_it1.nunique(),\n",
    "    \"Duplicated\":(df_it1.duplicated() == True).sum(),\n",
    "    \"Under Zeros\":(df_it1[\"co2_including_luc\"] < 0).sum() \n",
    "})\n",
    "info1"
   ]
  },
  {
   "cell_type": "code",
   "execution_count": 9,
   "id": "f865997e-6666-4640-bd2f-977ac05c3de8",
   "metadata": {},
   "outputs": [
    {
     "name": "stdout",
     "output_type": "stream",
     "text": [
      "                   Count  Null    Null %  Zeros  Zeros %  Unique  Duplicated  \\\n",
      "year               23392     0  0.000000      0   0.0000     172         132   \n",
      "co2                23392     0  0.000000      0   0.0000   14458         132   \n",
      "co2_including_luc  23392   953  4.074042      8   0.0342   18675         132   \n",
      "\n",
      "                   Under Zeros  \n",
      "year                         0  \n",
      "co2                          0  \n",
      "co2_including_luc          369  \n"
     ]
    },
    {
     "data": {
      "text/plain": [
       "Index(['year', 'co2', 'co2_including_luc', 'country'], dtype='object')"
      ]
     },
     "execution_count": 9,
     "metadata": {},
     "output_type": "execute_result"
    }
   ],
   "source": [
    "\n",
    "df_it1 = df[[ \"year\", \"co2\", \"co2_including_luc\"]].copy()\n",
    "\n",
    "\n",
    "info1 = pd.DataFrame({\n",
    "    \"Count\": [df_it1.shape[0]] * len(df_it1.columns),\n",
    "    \"Null\": df_it1.isnull().sum(),\n",
    "    \"Null %\": df_it1.isnull().mean() * 100,\n",
    "    \"Zeros\": (df_it1 == 0).sum(),\n",
    "    \"Zeros %\": (df_it1 == 0).mean() * 100,\n",
    "    \"Unique\": df_it1.nunique(),\n",
    "    \"Duplicated\": [df_it1.duplicated().sum()] * len(df_it1.columns),\n",
    "    \"Under Zeros\": (df_it1 < 0).sum()\n",
    "}, index=df_it1.columns)\n",
    "\n",
    "print(info1)\n",
    "df_it1[\"country\"] =df[\"country\"]\n",
    "df_it1.columns"
   ]
  },
  {
   "cell_type": "markdown",
   "id": "76bf6169-e755-4670-8be1-ceedfb9e08c1",
   "metadata": {},
   "source": [
    "Imputamos el valor de Co2 a co2_including_luc, cuando co2_including_luc < 0"
   ]
  },
  {
   "cell_type": "markdown",
   "id": "eeabf087-6be0-4638-9b03-0b32731b8379",
   "metadata": {},
   "source": [
    "### Which sectors are most responsible for emissions, and how has their\n",
    "### contribution varied over the decades?"
   ]
  },
  {
   "cell_type": "code",
   "execution_count": 10,
   "id": "0993ca73-b9c6-4813-b0b0-0d749a7048ad",
   "metadata": {},
   "outputs": [
    {
     "name": "stdout",
     "output_type": "stream",
     "text": [
      "                     Count  Null     Null %  Zeros    Zeros %  Unique  \\\n",
      "year                 23392     0   0.000000      0   0.000000     172   \n",
      "cement_co2           23392  3481  14.881156   7056  30.164159    5261   \n",
      "coal_co2             23392     0   0.000000   6719  28.723495   10076   \n",
      "flaring_co2          23392    95   0.406122  18370  78.531122    3266   \n",
      "gas_co2              23392    27   0.115424  14120  60.362517    6168   \n",
      "land_use_change_co2  23392   953   4.074042    915   3.911594    7001   \n",
      "oil_co2              23392     0   0.000000   2335   9.982045   10528   \n",
      "\n",
      "                     Duplicated  Under Zeros  \n",
      "year                        112            0  \n",
      "cement_co2                  112            0  \n",
      "coal_co2                    112            0  \n",
      "flaring_co2                 112            0  \n",
      "gas_co2                     112            0  \n",
      "land_use_change_co2         112         3470  \n",
      "oil_co2                     112            0  \n"
     ]
    }
   ],
   "source": [
    "df_it2 = df[[ \"year\",\"cement_co2\", \"coal_co2\",\"flaring_co2\", \"gas_co2\",\"land_use_change_co2\", \"oil_co2\"]].copy()\n",
    "\n",
    "info2 = pd.DataFrame({\n",
    "    \"Count\": [df_it2.shape[0]] * len(df_it2.columns),\n",
    "    \"Null\": df_it2.isnull().sum(),\n",
    "    \"Null %\": df_it2.isnull().mean() * 100,\n",
    "    \"Zeros\": (df_it2 == 0).sum(),\n",
    "    \"Zeros %\": (df_it2 == 0).mean() * 100,\n",
    "    \"Unique\": df_it2.nunique(),\n",
    "    \"Duplicated\": [df_it2.duplicated().sum()] * len(df_it2.columns),\n",
    "    \"Under Zeros\": (df_it2 < 0).sum()\n",
    "}, index=df_it2.columns)\n",
    "\n",
    "print(info2)"
   ]
  },
  {
   "cell_type": "code",
   "execution_count": 11,
   "id": "d484588a-69a6-4bb5-977d-20f575ef1bb4",
   "metadata": {},
   "outputs": [
    {
     "data": {
      "image/png": "[encoded data removed]",
      "text/plain": [
       "<Figure size 1000x600 with 1 Axes>"
      ]
     },
     "metadata": {},
     "output_type": "display_data"
    }
   ],
   "source": [
    "df_it2_grouped = df_it2.groupby(\"year\").sum().reset_index()\n",
    "\n",
    "plt.figure(figsize=(10, 6))\n",
    "\n",
    "for column in df_it2_grouped.columns[1:]:\n",
    "    plt.plot(df_it2_grouped[\"year\"], df_it2_grouped[column], label=column)\n",
    "\n",
    "plt.xlabel(\"Year\")\n",
    "plt.ylabel(\"Emissions (MtCO2)\")\n",
    "plt.title(\"Evolution of Emissions by Source Over Time\")\n",
    "plt.legend(title=\"Emission Source\")\n",
    "plt.grid(True)\n",
    "plt.show()"
   ]
  },
  {
   "cell_type": "markdown",
   "id": "39b78900-b1cf-45a2-841c-93c597fe9f4f",
   "metadata": {},
   "source": [
    "#Total Co2 agrupado en años"
   ]
  },
  {
   "cell_type": "markdown",
   "id": "3246e804-632f-488a-8ac3-1035519aad4d",
   "metadata": {},
   "source": [
    "## histograma de valores nulos de cement"
   ]
  },
  {
   "cell_type": "code",
   "execution_count": 12,
   "id": "1ca5513e-6d14-4490-8777-cd65872634f9",
   "metadata": {},
   "outputs": [
    {
     "name": "stdout",
     "output_type": "stream",
     "text": [
      "            Count  Null  Null %  Zeros  Zeros %  Unique  Duplicated  \\\n",
      "year         3481     0     0.0      0      0.0     131        3350   \n",
      "cement_co2   3481  3481   100.0      0      0.0       0        3350   \n",
      "\n",
      "            Under Zeros  \n",
      "year                  0  \n",
      "cement_co2            0  \n"
     ]
    },
    {
     "data": {
      "image/png": "[encoded data removed]",
      "text/plain": [
       "<Figure size 640x480 with 1 Axes>"
      ]
     },
     "metadata": {},
     "output_type": "display_data"
    }
   ],
   "source": [
    "df_cement_nulls = df[df[\"cement_co2\"].isnull()][[\"year\", \"cement_co2\"]]\n",
    "df_cement_nulls.head()\n",
    "\n",
    "info_cement = pd.DataFrame({\n",
    "    \"Count\": [df_cement_nulls.shape[0]] * len(df_cement_nulls.columns),\n",
    "    \"Null\": df_cement_nulls.isnull().sum(),\n",
    "    \"Null %\": df_cement_nulls.isnull().mean() * 100,\n",
    "    \"Zeros\": (df_cement_nulls == 0).sum(),\n",
    "    \"Zeros %\": (df_cement_nulls == 0).mean() * 100,\n",
    "    \"Unique\": df_cement_nulls.nunique(),\n",
    "    \"Duplicated\": [df_cement_nulls.duplicated().sum()] * len(df_cement_nulls.columns),\n",
    "    \"Under Zeros\": (df_cement_nulls < 0).sum()\n",
    "}, index=df_cement_nulls.columns)\n",
    "\n",
    "print(info_cement)\n",
    "\n",
    "sns.histplot(data=df_cement_nulls, x=\"year\")\n",
    "plt.show()"
   ]
  },
  {
   "cell_type": "markdown",
   "id": "9f90dc38-36f3-4985-bd32-ce1f10dbad39",
   "metadata": {},
   "source": [
    "## Después de comprobar los datos nulos y ver su irrelevancia, procedemos a eliminarlos."
   ]
  },
  {
   "cell_type": "code",
   "execution_count": 13,
   "id": "4ed9e3d0-78aa-43ec-9004-2666fb6b707b",
   "metadata": {},
   "outputs": [
    {
     "data": {
      "text/html": [
       "<div>\n",
       "<style scoped>\n",
       "    .dataframe tbody tr th:only-of-type {\n",
       "        vertical-align: middle;\n",
       "    }\n",
       "\n",
       "    .dataframe tbody tr th {\n",
       "        vertical-align: top;\n",
       "    }\n",
       "\n",
       "    .dataframe thead th {\n",
       "        text-align: right;\n",
       "    }\n",
       "</style>\n",
       "<table border=\"1\" class=\"dataframe\">\n",
       "  <thead>\n",
       "    <tr style=\"text-align: right;\">\n",
       "      <th></th>\n",
       "      <th>country</th>\n",
       "      <th>year</th>\n",
       "      <th>iso_code</th>\n",
       "      <th>population</th>\n",
       "      <th>cement_co2</th>\n",
       "      <th>cement_co2_per_capita</th>\n",
       "      <th>co2</th>\n",
       "      <th>co2_growth_abs</th>\n",
       "      <th>co2_growth_prct</th>\n",
       "      <th>co2_including_luc</th>\n",
       "      <th>...</th>\n",
       "      <th>share_global_cumulative_oil_co2</th>\n",
       "      <th>share_global_flaring_co2</th>\n",
       "      <th>share_global_gas_co2</th>\n",
       "      <th>share_global_luc_co2</th>\n",
       "      <th>share_global_oil_co2</th>\n",
       "      <th>share_of_temperature_change_from_ghg</th>\n",
       "      <th>temperature_change_from_ch4</th>\n",
       "      <th>temperature_change_from_co2</th>\n",
       "      <th>temperature_change_from_ghg</th>\n",
       "      <th>temperature_change_from_n2o</th>\n",
       "    </tr>\n",
       "  </thead>\n",
       "  <tbody>\n",
       "    <tr>\n",
       "      <th>0</th>\n",
       "      <td>Afghanistan</td>\n",
       "      <td>1949</td>\n",
       "      <td>AFG</td>\n",
       "      <td>7356890.0</td>\n",
       "      <td>0.000</td>\n",
       "      <td>0.000</td>\n",
       "      <td>0.015</td>\n",
       "      <td>NaN</td>\n",
       "      <td>NaN</td>\n",
       "      <td>8.039</td>\n",
       "      <td>...</td>\n",
       "      <td>0.000</td>\n",
       "      <td>NaN</td>\n",
       "      <td>0.0</td>\n",
       "      <td>0.160</td>\n",
       "      <td>0.000</td>\n",
       "      <td>0.129</td>\n",
       "      <td>0.000</td>\n",
       "      <td>0.000</td>\n",
       "      <td>0.000</td>\n",
       "      <td>0.0</td>\n",
       "    </tr>\n",
       "    <tr>\n",
       "      <th>1</th>\n",
       "      <td>Afghanistan</td>\n",
       "      <td>1950</td>\n",
       "      <td>AFG</td>\n",
       "      <td>7480464.0</td>\n",
       "      <td>0.000</td>\n",
       "      <td>0.000</td>\n",
       "      <td>0.084</td>\n",
       "      <td>0.070</td>\n",
       "      <td>475.000</td>\n",
       "      <td>8.585</td>\n",
       "      <td>...</td>\n",
       "      <td>0.000</td>\n",
       "      <td>0.0</td>\n",
       "      <td>0.0</td>\n",
       "      <td>0.157</td>\n",
       "      <td>0.004</td>\n",
       "      <td>0.129</td>\n",
       "      <td>0.000</td>\n",
       "      <td>0.000</td>\n",
       "      <td>0.000</td>\n",
       "      <td>0.0</td>\n",
       "    </tr>\n",
       "    <tr>\n",
       "      <th>2</th>\n",
       "      <td>Afghanistan</td>\n",
       "      <td>1951</td>\n",
       "      <td>AFG</td>\n",
       "      <td>7571542.0</td>\n",
       "      <td>0.000</td>\n",
       "      <td>0.000</td>\n",
       "      <td>0.092</td>\n",
       "      <td>0.007</td>\n",
       "      <td>8.696</td>\n",
       "      <td>9.142</td>\n",
       "      <td>...</td>\n",
       "      <td>0.000</td>\n",
       "      <td>0.0</td>\n",
       "      <td>0.0</td>\n",
       "      <td>0.162</td>\n",
       "      <td>0.004</td>\n",
       "      <td>0.129</td>\n",
       "      <td>0.000</td>\n",
       "      <td>0.000</td>\n",
       "      <td>0.001</td>\n",
       "      <td>0.0</td>\n",
       "    </tr>\n",
       "    <tr>\n",
       "      <th>3</th>\n",
       "      <td>Afghanistan</td>\n",
       "      <td>1952</td>\n",
       "      <td>AFG</td>\n",
       "      <td>7667534.0</td>\n",
       "      <td>0.000</td>\n",
       "      <td>0.000</td>\n",
       "      <td>0.092</td>\n",
       "      <td>0.000</td>\n",
       "      <td>0.000</td>\n",
       "      <td>9.948</td>\n",
       "      <td>...</td>\n",
       "      <td>0.001</td>\n",
       "      <td>0.0</td>\n",
       "      <td>0.0</td>\n",
       "      <td>0.172</td>\n",
       "      <td>0.003</td>\n",
       "      <td>0.129</td>\n",
       "      <td>0.000</td>\n",
       "      <td>0.000</td>\n",
       "      <td>0.001</td>\n",
       "      <td>0.0</td>\n",
       "    </tr>\n",
       "    <tr>\n",
       "      <th>4</th>\n",
       "      <td>Afghanistan</td>\n",
       "      <td>1953</td>\n",
       "      <td>AFG</td>\n",
       "      <td>7764549.0</td>\n",
       "      <td>0.000</td>\n",
       "      <td>0.000</td>\n",
       "      <td>0.106</td>\n",
       "      <td>0.015</td>\n",
       "      <td>16.000</td>\n",
       "      <td>10.915</td>\n",
       "      <td>...</td>\n",
       "      <td>0.001</td>\n",
       "      <td>0.0</td>\n",
       "      <td>0.0</td>\n",
       "      <td>0.185</td>\n",
       "      <td>0.003</td>\n",
       "      <td>0.129</td>\n",
       "      <td>0.000</td>\n",
       "      <td>0.000</td>\n",
       "      <td>0.001</td>\n",
       "      <td>0.0</td>\n",
       "    </tr>\n",
       "    <tr>\n",
       "      <th>...</th>\n",
       "      <td>...</td>\n",
       "      <td>...</td>\n",
       "      <td>...</td>\n",
       "      <td>...</td>\n",
       "      <td>...</td>\n",
       "      <td>...</td>\n",
       "      <td>...</td>\n",
       "      <td>...</td>\n",
       "      <td>...</td>\n",
       "      <td>...</td>\n",
       "      <td>...</td>\n",
       "      <td>...</td>\n",
       "      <td>...</td>\n",
       "      <td>...</td>\n",
       "      <td>...</td>\n",
       "      <td>...</td>\n",
       "      <td>...</td>\n",
       "      <td>...</td>\n",
       "      <td>...</td>\n",
       "      <td>...</td>\n",
       "      <td>...</td>\n",
       "    </tr>\n",
       "    <tr>\n",
       "      <th>23489</th>\n",
       "      <td>Zimbabwe</td>\n",
       "      <td>2017</td>\n",
       "      <td>ZWE</td>\n",
       "      <td>14751101.0</td>\n",
       "      <td>0.469</td>\n",
       "      <td>0.032</td>\n",
       "      <td>9.596</td>\n",
       "      <td>-0.937</td>\n",
       "      <td>-8.899</td>\n",
       "      <td>19.086</td>\n",
       "      <td>...</td>\n",
       "      <td>0.024</td>\n",
       "      <td>0.0</td>\n",
       "      <td>0.0</td>\n",
       "      <td>0.219</td>\n",
       "      <td>0.026</td>\n",
       "      <td>0.114</td>\n",
       "      <td>0.001</td>\n",
       "      <td>0.001</td>\n",
       "      <td>0.002</td>\n",
       "      <td>0.0</td>\n",
       "    </tr>\n",
       "    <tr>\n",
       "      <th>23490</th>\n",
       "      <td>Zimbabwe</td>\n",
       "      <td>2018</td>\n",
       "      <td>ZWE</td>\n",
       "      <td>15052191.0</td>\n",
       "      <td>0.558</td>\n",
       "      <td>0.037</td>\n",
       "      <td>11.795</td>\n",
       "      <td>2.199</td>\n",
       "      <td>22.920</td>\n",
       "      <td>20.626</td>\n",
       "      <td>...</td>\n",
       "      <td>0.025</td>\n",
       "      <td>0.0</td>\n",
       "      <td>0.0</td>\n",
       "      <td>0.211</td>\n",
       "      <td>0.033</td>\n",
       "      <td>0.114</td>\n",
       "      <td>0.001</td>\n",
       "      <td>0.001</td>\n",
       "      <td>0.002</td>\n",
       "      <td>0.0</td>\n",
       "    </tr>\n",
       "    <tr>\n",
       "      <th>23491</th>\n",
       "      <td>Zimbabwe</td>\n",
       "      <td>2019</td>\n",
       "      <td>ZWE</td>\n",
       "      <td>15354606.0</td>\n",
       "      <td>0.570</td>\n",
       "      <td>0.037</td>\n",
       "      <td>11.115</td>\n",
       "      <td>-0.681</td>\n",
       "      <td>-5.772</td>\n",
       "      <td>19.432</td>\n",
       "      <td>...</td>\n",
       "      <td>0.025</td>\n",
       "      <td>0.0</td>\n",
       "      <td>0.0</td>\n",
       "      <td>0.183</td>\n",
       "      <td>0.030</td>\n",
       "      <td>0.113</td>\n",
       "      <td>0.001</td>\n",
       "      <td>0.001</td>\n",
       "      <td>0.002</td>\n",
       "      <td>0.0</td>\n",
       "    </tr>\n",
       "    <tr>\n",
       "      <th>23492</th>\n",
       "      <td>Zimbabwe</td>\n",
       "      <td>2020</td>\n",
       "      <td>ZWE</td>\n",
       "      <td>15669663.0</td>\n",
       "      <td>0.570</td>\n",
       "      <td>0.036</td>\n",
       "      <td>10.608</td>\n",
       "      <td>-0.507</td>\n",
       "      <td>-4.559</td>\n",
       "      <td>18.485</td>\n",
       "      <td>...</td>\n",
       "      <td>0.025</td>\n",
       "      <td>0.0</td>\n",
       "      <td>0.0</td>\n",
       "      <td>0.194</td>\n",
       "      <td>0.030</td>\n",
       "      <td>0.112</td>\n",
       "      <td>0.001</td>\n",
       "      <td>0.001</td>\n",
       "      <td>0.002</td>\n",
       "      <td>0.0</td>\n",
       "    </tr>\n",
       "    <tr>\n",
       "      <th>23493</th>\n",
       "      <td>Zimbabwe</td>\n",
       "      <td>2021</td>\n",
       "      <td>ZWE</td>\n",
       "      <td>15993525.0</td>\n",
       "      <td>0.570</td>\n",
       "      <td>0.036</td>\n",
       "      <td>11.296</td>\n",
       "      <td>0.688</td>\n",
       "      <td>6.488</td>\n",
       "      <td>18.771</td>\n",
       "      <td>...</td>\n",
       "      <td>0.025</td>\n",
       "      <td>0.0</td>\n",
       "      <td>0.0</td>\n",
       "      <td>0.190</td>\n",
       "      <td>0.030</td>\n",
       "      <td>0.111</td>\n",
       "      <td>0.001</td>\n",
       "      <td>0.001</td>\n",
       "      <td>0.002</td>\n",
       "      <td>0.0</td>\n",
       "    </tr>\n",
       "  </tbody>\n",
       "</table>\n",
       "<p>23153 rows × 55 columns</p>\n",
       "</div>"
      ],
      "text/plain": [
       "           country  year iso_code  population  cement_co2  \\\n",
       "0      Afghanistan  1949      AFG   7356890.0       0.000   \n",
       "1      Afghanistan  1950      AFG   7480464.0       0.000   \n",
       "2      Afghanistan  1951      AFG   7571542.0       0.000   \n",
       "3      Afghanistan  1952      AFG   7667534.0       0.000   \n",
       "4      Afghanistan  1953      AFG   7764549.0       0.000   \n",
       "...            ...   ...      ...         ...         ...   \n",
       "23489     Zimbabwe  2017      ZWE  14751101.0       0.469   \n",
       "23490     Zimbabwe  2018      ZWE  15052191.0       0.558   \n",
       "23491     Zimbabwe  2019      ZWE  15354606.0       0.570   \n",
       "23492     Zimbabwe  2020      ZWE  15669663.0       0.570   \n",
       "23493     Zimbabwe  2021      ZWE  15993525.0       0.570   \n",
       "\n",
       "       cement_co2_per_capita     co2  co2_growth_abs  co2_growth_prct  \\\n",
       "0                      0.000   0.015             NaN              NaN   \n",
       "1                      0.000   0.084           0.070          475.000   \n",
       "2                      0.000   0.092           0.007            8.696   \n",
       "3                      0.000   0.092           0.000            0.000   \n",
       "4                      0.000   0.106           0.015           16.000   \n",
       "...                      ...     ...             ...              ...   \n",
       "23489                  0.032   9.596          -0.937           -8.899   \n",
       "23490                  0.037  11.795           2.199           22.920   \n",
       "23491                  0.037  11.115          -0.681           -5.772   \n",
       "23492                  0.036  10.608          -0.507           -4.559   \n",
       "23493                  0.036  11.296           0.688            6.488   \n",
       "\n",
       "       co2_including_luc  ...  share_global_cumulative_oil_co2  \\\n",
       "0                  8.039  ...                            0.000   \n",
       "1                  8.585  ...                            0.000   \n",
       "2                  9.142  ...                            0.000   \n",
       "3                  9.948  ...                            0.001   \n",
       "4                 10.915  ...                            0.001   \n",
       "...                  ...  ...                              ...   \n",
       "23489             19.086  ...                            0.024   \n",
       "23490             20.626  ...                            0.025   \n",
       "23491             19.432  ...                            0.025   \n",
       "23492             18.485  ...                            0.025   \n",
       "23493             18.771  ...                            0.025   \n",
       "\n",
       "       share_global_flaring_co2  share_global_gas_co2  share_global_luc_co2  \\\n",
       "0                           NaN                   0.0                 0.160   \n",
       "1                           0.0                   0.0                 0.157   \n",
       "2                           0.0                   0.0                 0.162   \n",
       "3                           0.0                   0.0                 0.172   \n",
       "4                           0.0                   0.0                 0.185   \n",
       "...                         ...                   ...                   ...   \n",
       "23489                       0.0                   0.0                 0.219   \n",
       "23490                       0.0                   0.0                 0.211   \n",
       "23491                       0.0                   0.0                 0.183   \n",
       "23492                       0.0                   0.0                 0.194   \n",
       "23493                       0.0                   0.0                 0.190   \n",
       "\n",
       "       share_global_oil_co2  share_of_temperature_change_from_ghg  \\\n",
       "0                     0.000                                 0.129   \n",
       "1                     0.004                                 0.129   \n",
       "2                     0.004                                 0.129   \n",
       "3                     0.003                                 0.129   \n",
       "4                     0.003                                 0.129   \n",
       "...                     ...                                   ...   \n",
       "23489                 0.026                                 0.114   \n",
       "23490                 0.033                                 0.114   \n",
       "23491                 0.030                                 0.113   \n",
       "23492                 0.030                                 0.112   \n",
       "23493                 0.030                                 0.111   \n",
       "\n",
       "       temperature_change_from_ch4  temperature_change_from_co2  \\\n",
       "0                            0.000                        0.000   \n",
       "1                            0.000                        0.000   \n",
       "2                            0.000                        0.000   \n",
       "3                            0.000                        0.000   \n",
       "4                            0.000                        0.000   \n",
       "...                            ...                          ...   \n",
       "23489                        0.001                        0.001   \n",
       "23490                        0.001                        0.001   \n",
       "23491                        0.001                        0.001   \n",
       "23492                        0.001                        0.001   \n",
       "23493                        0.001                        0.001   \n",
       "\n",
       "       temperature_change_from_ghg  temperature_change_from_n2o  \n",
       "0                            0.000                          0.0  \n",
       "1                            0.000                          0.0  \n",
       "2                            0.001                          0.0  \n",
       "3                            0.001                          0.0  \n",
       "4                            0.001                          0.0  \n",
       "...                            ...                          ...  \n",
       "23489                        0.002                          0.0  \n",
       "23490                        0.002                          0.0  \n",
       "23491                        0.002                          0.0  \n",
       "23492                        0.002                          0.0  \n",
       "23493                        0.002                          0.0  \n",
       "\n",
       "[23153 rows x 55 columns]"
      ]
     },
     "execution_count": 13,
     "metadata": {},
     "output_type": "execute_result"
    }
   ],
   "source": [
    "df = df[~(df['cement_co2'].isnull() & (df['year'] > 1930))]\n",
    "df"
   ]
  },
  {
   "cell_type": "code",
   "execution_count": 14,
   "id": "5fa4905d-9c49-4388-8796-af7ad8ab40ab",
   "metadata": {},
   "outputs": [
    {
     "data": {
      "image/png": "[encoded data removed]",
      "text/plain": [
       "<Figure size 640x480 with 1 Axes>"
      ]
     },
     "metadata": {},
     "output_type": "display_data"
    }
   ],
   "source": [
    "df_cement_nulls = df[df[\"cement_co2\"].isnull()][[\"year\", \"cement_co2\"]]\n",
    "\n",
    "sns.histplot(data=df_cement_nulls, x=\"year\")\n",
    "plt.show()"
   ]
  },
  {
   "cell_type": "code",
   "execution_count": 15,
   "id": "53cbeff8-7de2-445f-a74a-839159a3953a",
   "metadata": {
    "scrolled": true
   },
   "outputs": [
    {
     "name": "stdout",
     "output_type": "stream",
     "text": [
      "                     Count  Null     Null %  Zeros    Zeros %  Unique  \\\n",
      "year                 23392     0   0.000000      0   0.000000     172   \n",
      "cement_co2           23392  3481  14.881156   7056  30.164159    5261   \n",
      "coal_co2             23392     0   0.000000   6719  28.723495   10076   \n",
      "flaring_co2          23392    95   0.406122  18370  78.531122    3266   \n",
      "gas_co2              23392    27   0.115424  14120  60.362517    6168   \n",
      "land_use_change_co2  23392   953   4.074042    915   3.911594    7001   \n",
      "oil_co2              23392     0   0.000000   2335   9.982045   10528   \n",
      "\n",
      "                     Duplicated  Under Zeros  \n",
      "year                        112            0  \n",
      "cement_co2                  112            0  \n",
      "coal_co2                    112            0  \n",
      "flaring_co2                 112            0  \n",
      "gas_co2                     112            0  \n",
      "land_use_change_co2         112         3470  \n",
      "oil_co2                     112            0  \n",
      "                                 year  coal_co2\n",
      "country                                        \n",
      "Namibia                             1         1\n",
      "South Korea                         1         1\n",
      "Puerto Rico                         1         1\n",
      "Sri Lanka                           2         2\n",
      "Serbia                              2         2\n",
      "...                               ...       ...\n",
      "Bonaire Sint Eustatius and Saba    95        95\n",
      "Curacao                            95        95\n",
      "Sint Maarten (Dutch part)          95        95\n",
      "Trinidad and Tobago                98        98\n",
      "Ecuador                           105       105\n",
      "\n",
      "[159 rows x 2 columns]\n",
      "['Albania' 'Algeria' 'Andorra' 'Angola' 'Anguilla' 'Antigua and Barbuda'\n",
      " 'Armenia' 'Aruba' 'Azerbaijan' 'Bahamas' 'Bahrain' 'Barbados' 'Belize'\n",
      " 'Benin' 'Bermuda' 'Bhutan' 'Bolivia' 'Bonaire Sint Eustatius and Saba'\n",
      " 'Bosnia and Herzegovina' 'British Virgin Islands' 'Brunei' 'Burkina Faso'\n",
      " 'Burundi' 'Cambodia' 'Cameroon' 'Cape Verde' 'Central African Republic'\n",
      " 'Chad' 'Colombia' 'Comoros' 'Congo' 'Cook Islands' 'Costa Rica'\n",
      " \"Cote d'Ivoire\" 'Croatia' 'Cuba' 'Curacao' 'Cyprus'\n",
      " 'Democratic Republic of Congo' 'Djibouti' 'Dominica' 'Dominican Republic'\n",
      " 'East Timor' 'Ecuador' 'Egypt' 'El Salvador' 'Equatorial Guinea'\n",
      " 'Eritrea' 'Ethiopia' 'Faroe Islands' 'Fiji' 'French Guiana'\n",
      " 'French Polynesia' 'Gabon' 'Gambia' 'Ghana' 'Greenland' 'Grenada'\n",
      " 'Guadeloupe' 'Guatemala' 'Guinea' 'Guinea-Bissau' 'Guyana' 'Haiti'\n",
      " 'Honduras' 'Hong Kong' 'Iceland' 'Indonesia' 'Iran' 'Iraq' 'Israel'\n",
      " 'Jamaica' 'Jordan' 'Kiribati' 'Kuwait' 'Laos' 'Lebanon' 'Liberia' 'Libya'\n",
      " 'Liechtenstein' 'Luxembourg' 'Macao' 'Madagascar' 'Malaysia' 'Maldives'\n",
      " 'Mali' 'Malta' 'Marshall Islands' 'Martinique' 'Mauritania' 'Mauritius'\n",
      " 'Mayotte' 'Micronesia (country)' 'Montenegro' 'Montserrat' 'Morocco'\n",
      " 'Mozambique' 'Myanmar' 'Namibia' 'Nauru' 'Nepal' 'Nicaragua' 'Niger'\n",
      " 'Niue' 'North Korea' 'North Macedonia' 'Oman' 'Palau' 'Palestine'\n",
      " 'Panama' 'Papua New Guinea' 'Paraguay' 'Peru' 'Philippines' 'Puerto Rico'\n",
      " 'Qatar' 'Reunion' 'Romania' 'Rwanda' 'Saint Helena'\n",
      " 'Saint Kitts and Nevis' 'Saint Lucia' 'Saint Pierre and Miquelon'\n",
      " 'Saint Vincent and the Grenadines' 'Samoa' 'Sao Tome and Principe'\n",
      " 'Saudi Arabia' 'Senegal' 'Serbia' 'Seychelles' 'Sierra Leone' 'Singapore'\n",
      " 'Sint Maarten (Dutch part)' 'Slovenia' 'Solomon Islands' 'Somalia'\n",
      " 'South America' 'South Korea' 'South Sudan' 'Sri Lanka' 'Sudan'\n",
      " 'Suriname' 'Syria' 'Tanzania' 'Thailand' 'Togo' 'Tonga'\n",
      " 'Trinidad and Tobago' 'Tunisia' 'Turkmenistan' 'Turks and Caicos Islands'\n",
      " 'Tuvalu' 'Uganda' 'United Arab Emirates' 'Uruguay' 'Vanuatu' 'Venezuela'\n",
      " 'Wallis and Futuna' 'Yemen']\n"
     ]
    },
    {
     "data": {
      "image/png": "[encoded data removed]",
      "text/plain": [
       "<Figure size 640x480 with 1 Axes>"
      ]
     },
     "metadata": {},
     "output_type": "display_data"
    }
   ],
   "source": [
    "info_oil = pd.DataFrame({\n",
    "    \"Count\": [df_it2.shape[0]] * len(df_it2.columns),\n",
    "    \"Null\": df_it2.isnull().sum(),\n",
    "    \"Null %\": df_it2.isnull().mean() * 100,\n",
    "    \"Zeros\": (df_it2 == 0).sum(),\n",
    "    \"Zeros %\": (df_it2 == 0).mean() * 100,\n",
    "    \"Unique\": df_it2.nunique(),\n",
    "    \"Duplicated\": [df_it2.duplicated().sum()] * len(df_it2.columns),\n",
    "    \"Under Zeros\": (df_it2 < 0).sum()\n",
    "}, index=df_it2.columns)\n",
    "\n",
    "print(info_oil)\n",
    "\n",
    "df_coal_zero = df[df[\"coal_co2\"] == 0][[\"year\", \"coal_co2\",\"country\"]]\n",
    "\n",
    "df_coal_zero_grouped = df_coal_zero.groupby(\"country\").count()\n",
    "print(df_coal_zero_grouped.sort_values(by=\"coal_co2\"))\n",
    "\n",
    "print(df_coal_zero[\"country\"].unique())\n",
    "sns.histplot(data=df_coal_zero, x=\"year\")\n",
    "plt.show()"
   ]
  },
  {
   "cell_type": "markdown",
   "id": "71d850fc-70af-4da8-9eca-5b517211e040",
   "metadata": {},
   "source": [
    "### Unificamos criterios\n",
    "\n",
    "los nulos pasan a ser ceros."
   ]
  },
  {
   "cell_type": "code",
   "execution_count": 3,
   "id": "ee50d269-9aeb-4d45-b603-2a6be7d757a1",
   "metadata": {},
   "outputs": [
    {
     "ename": "NameError",
     "evalue": "name 'df' is not defined",
     "output_type": "error",
     "traceback": [
      "\u001b[0;31m---------------------------------------------------------------------------\u001b[0m",
      "\u001b[0;31mNameError\u001b[0m                                 Traceback (most recent call last)",
      "Cell \u001b[0;32mIn[3], line 3\u001b[0m\n\u001b[1;32m      1\u001b[0m columns_to_check \u001b[38;5;241m=\u001b[39m [\u001b[38;5;124m\"\u001b[39m\u001b[38;5;124mcement_co2\u001b[39m\u001b[38;5;124m\"\u001b[39m, \u001b[38;5;124m\"\u001b[39m\u001b[38;5;124mcoal_co2\u001b[39m\u001b[38;5;124m\"\u001b[39m, \u001b[38;5;124m\"\u001b[39m\u001b[38;5;124mflaring_co2\u001b[39m\u001b[38;5;124m\"\u001b[39m, \u001b[38;5;124m\"\u001b[39m\u001b[38;5;124mgas_co2\u001b[39m\u001b[38;5;124m\"\u001b[39m, \u001b[38;5;124m\"\u001b[39m\u001b[38;5;124mland_use_change_co2\u001b[39m\u001b[38;5;124m\"\u001b[39m, \u001b[38;5;124m\"\u001b[39m\u001b[38;5;124moil_co2\u001b[39m\u001b[38;5;124m\"\u001b[39m]\n\u001b[0;32m----> 3\u001b[0m df[columns_to_check] \u001b[38;5;241m=\u001b[39m df[columns_to_check]\u001b[38;5;241m.\u001b[39mfillna(\u001b[38;5;241m0\u001b[39m)\n\u001b[1;32m      5\u001b[0m info \u001b[38;5;241m=\u001b[39m pd\u001b[38;5;241m.\u001b[39mDataFrame({\n\u001b[1;32m      6\u001b[0m     \u001b[38;5;124m\"\u001b[39m\u001b[38;5;124mCount\u001b[39m\u001b[38;5;124m\"\u001b[39m: [df\u001b[38;5;241m.\u001b[39mshape[\u001b[38;5;241m0\u001b[39m]] \u001b[38;5;241m*\u001b[39m \u001b[38;5;28mlen\u001b[39m(columns_to_check),\n\u001b[1;32m      7\u001b[0m     \u001b[38;5;124m\"\u001b[39m\u001b[38;5;124mNull\u001b[39m\u001b[38;5;124m\"\u001b[39m: df[columns_to_check]\u001b[38;5;241m.\u001b[39misnull()\u001b[38;5;241m.\u001b[39msum(),\n\u001b[0;32m   (...)\u001b[0m\n\u001b[1;32m     13\u001b[0m     \u001b[38;5;124m\"\u001b[39m\u001b[38;5;124mUnder Zeros\u001b[39m\u001b[38;5;124m\"\u001b[39m: (df[columns_to_check] \u001b[38;5;241m<\u001b[39m \u001b[38;5;241m0\u001b[39m)\u001b[38;5;241m.\u001b[39msum()\n\u001b[1;32m     14\u001b[0m }, index\u001b[38;5;241m=\u001b[39mcolumns_to_check)\n\u001b[1;32m     16\u001b[0m \u001b[38;5;28mprint\u001b[39m(info)\n",
      "\u001b[0;31mNameError\u001b[0m: name 'df' is not defined"
     ]
    }
   ],
   "source": [
    "columns_to_check = [\"cement_co2\", \"coal_co2\", \"flaring_co2\", \"gas_co2\", \"land_use_change_co2\", \"oil_co2\"]\n",
    "\n",
    "df[columns_to_check] = df[columns_to_check].fillna(0)\n",
    "\n",
    "info = pd.DataFrame({\n",
    "    \"Count\": [df.shape[0]] * len(columns_to_check),\n",
    "    \"Null\": df[columns_to_check].isnull().sum(),\n",
    "    \"Null %\": df[columns_to_check].isnull().mean() * 100,\n",
    "    \"Zeros\": (df[columns_to_check] == 0).sum(),\n",
    "    \"Zeros %\": (df[columns_to_check] == 0).mean() * 100,\n",
    "    \"Unique\": df[columns_to_check].nunique(),\n",
    "    \"Duplicated\": [df.duplicated().sum()] * len(columns_to_check),\n",
    "    \"Under Zeros\": (df[columns_to_check] < 0).sum()\n",
    "}, index=columns_to_check)\n",
    "\n",
    "print(info)\n"
   ]
  },
  {
   "cell_type": "markdown",
   "id": "91b0084a-b489-4362-a3cb-beb319e8aa95",
   "metadata": {},
   "source": [
    "## Comenzamos el análisis"
   ]
  },
  {
   "cell_type": "markdown",
   "id": "00261899-650f-482c-8d95-8f8f21410578",
   "metadata": {},
   "source": [
    "#### How has the global trend of CO2 emissions evolved, and which periods have shown significant changes in this trajectory?\n"
   ]
  },
  {
   "cell_type": "code",
   "execution_count": 20,
   "id": "fe25db47-9f4c-4a41-b33d-a7b145450daf",
   "metadata": {},
   "outputs": [
    {
     "name": "stderr",
     "output_type": "stream",
     "text": [
      "/tmp/ipykernel_9164/3053648538.py:10: UserWarning: No artists with labels found to put in legend.  Note that artists whose label start with an underscore are ignored when legend() is called with no argument.\n",
      "  plt.legend(title=\"Emission Source\")\n"
     ]
    },
    {
     "data": {
      "image/png": "[encoded data removed]",
      "text/plain": [
       "<Figure size 1000x600 with 1 Axes>"
      ]
     },
     "metadata": {},
     "output_type": "display_data"
    }
   ],
   "source": [
    "df_it1_grouped = df.groupby(\"year\")['co2'].sum().reset_index()\n",
    "\n",
    "plt.figure(figsize=(10, 6))\n",
    "\n",
    "plt.plot(df_it1_grouped[\"year\"], df_it1_grouped['co2'])\n",
    "\n",
    "plt.xlabel(\"Year\")\n",
    "plt.ylabel(\"Emissions (MtCO2)\")\n",
    "plt.title(\"Evolution of Emissions by Source Over Time\")\n",
    "plt.legend(title=\"Emission Source\")\n",
    "plt.grid(True)\n",
    "plt.show()"
   ]
  },
  {
   "cell_type": "code",
   "execution_count": 33,
   "id": "78ec5be3-a0ff-4382-a602-2f583a5767d2",
   "metadata": {},
   "outputs": [
    {
     "name": "stderr",
     "output_type": "stream",
     "text": [
      "/tmp/ipykernel_9164/3652705480.py:11: UserWarning: No artists with labels found to put in legend.  Note that artists whose label start with an underscore are ignored when legend() is called with no argument.\n",
      "  plt.legend(title=\"Emission Source\")\n"
     ]
    },
    {
     "data": {
      "image/png": "[encoded data removed]",
      "text/plain": [
       "<Figure size 1000x600 with 1 Axes>"
      ]
     },
     "metadata": {},
     "output_type": "display_data"
    }
   ],
   "source": [
    "df_world = df[df['country'] == 'World']\n",
    "# df_it1_grouped = df_world.groupby(\"year\")['co2'].sum().reset_index()\n",
    "\n",
    "plt.figure(figsize=(10, 6))\n",
    "\n",
    "plt.plot(df_world[\"year\"], df_world['co2'])\n",
    "\n",
    "plt.xlabel(\"Year\")\n",
    "plt.ylabel(\"Emissions (MtCO2)\")\n",
    "plt.title(\"Evolution of Emissions by Source Over Time\")\n",
    "plt.legend(title=\"Emission Source\")\n",
    "plt.grid(True)\n",
    "plt.show()\n"
   ]
  },
  {
   "cell_type": "code",
   "execution_count": 62,
   "id": "2526ac9d-d9b7-4690-bea1-1eb40c541dff",
   "metadata": {},
   "outputs": [
    {
     "name": "stdout",
     "output_type": "stream",
     "text": [
      "       year        co2      diff\n",
      "23154  1945   4250.264  -860.392\n",
      "23201  1992  22580.023  -664.784\n",
      "23218  2009  31564.031  -521.805\n",
      "23229  2020  35264.086 -1818.473\n"
     ]
    },
    {
     "name": "stderr",
     "output_type": "stream",
     "text": [
      "/tmp/ipykernel_9164/1753638451.py:1: SettingWithCopyWarning:\n",
      "\n",
      "\n",
      "A value is trying to be set on a copy of a slice from a DataFrame.\n",
      "Try using .loc[row_indexer,col_indexer] = value instead\n",
      "\n",
      "See the caveats in the documentation: https://pandas.pydata.org/pandas-docs/stable/user_guide/indexing.html#returning-a-view-versus-a-copy\n",
      "\n"
     ]
    },
    {
     "data": {
      "application/vnd.plotly.v1+json": {
       "config": {
        "plotlyServerURL": "https://plot.ly"
       },
       "data": [
        {
         "mode": "lines",
         "name": "Emisiones",
         "type": "scatter",
         "x": [
          1855,
          1856,
          1857,
          1858,
          1859,
          1860,
          1861,
          1862,
          1863,
          1864,
          1865,
          1866,
          1867,
          1868,
          1869,
          1870,
          1871,
          1872,
          1873,
          1874,
          1875,
          1876,
          1877,
          1878,
          1879,
          1880,
          1881,
          1882,
          1883,
          1884,
          1885,
          1886,
          1887,
          1888,
          1889,
          1890,
          1891,
          1892,
          1893,
          1894,
          1895,
          1896,
          1897,
          1898,
          1899,
          1900,
          1901,
          1902,
          1903,
          1904,
          1905,
          1906,
          1907,
          1908,
          1909,
          1910,
          1911,
          1912,
          1913,
          1914,
          1915,
          1916,
          1917,
          1918,
          1919,
          1920,
          1921,
          1922,
          1923,
          1924,
          1925,
          1926,
          1927,
          1928,
          1929,
          1930,
          1931,
          1932,
          1933,
          1934,
          1935,
          1936,
          1937,
          1938,
          1939,
          1940,
          1941,
          1942,
          1943,
          1944,
          1945,
          1946,
          1947,
          1948,
          1949,
          1950,
          1951,
          1952,
          1953,
          1954,
          1955,
          1956,
          1957,
          1958,
          1959,
          1960,
          1961,
          1962,
          1963,
          1964,
          1965,
          1966,
          1967,
          1968,
          1969,
          1970,
          1971,
          1972,
          1973,
          1974,
          1975,
          1976,
          1977,
          1978,
          1979,
          1980,
          1981,
          1982,
          1983,
          1984,
          1985,
          1986,
          1987,
          1988,
          1989,
          1990,
          1991,
          1992,
          1993,
          1994,
          1995,
          1996,
          1997,
          1998,
          1999,
          2000,
          2001,
          2002,
          2003,
          2004,
          2005,
          2006,
          2007,
          2008,
          2009,
          2010,
          2011,
          2012,
          2013,
          2014,
          2015,
          2016,
          2017,
          2018,
          2019,
          2020,
          2021
         ],
         "y": [
          260.166,
          277.292,
          279.889,
          284.171,
          301.312,
          330.641,
          347.735,
          354.057,
          377.859,
          407.09,
          432.307,
          445.97,
          477.815,
          490.753,
          521.131,
          532.537,
          566.143,
          626.372,
          665.419,
          622.997,
          675.799,
          685.553,
          699.099,
          704.379,
          754.867,
          853.705,
          882.405,
          931.922,
          991.032,
          1002.174,
          1009.671,
          1025.475,
          1076.758,
          1192.272,
          1191.8,
          1298.458,
          1358.874,
          1370.088,
          1353.669,
          1400.858,
          1485.273,
          1533.701,
          1606.301,
          1694.266,
          1850.798,
          1952.209,
          2016.744,
          2067.684,
          2254.095,
          2279.749,
          2427.313,
          2534.734,
          2888.308,
          2776.404,
          2890.468,
          3033.82,
          3079.215,
          3235.538,
          3505.865,
          3179.912,
          3134.378,
          3385.277,
          3539.853,
          3492.84,
          3028.56,
          3521.062,
          3089.464,
          3239.736,
          3675.398,
          3686.099,
          3725.637,
          3659.297,
          3993.754,
          3976.071,
          4267.657,
          3934.73,
          3516.94,
          3170.801,
          3338.349,
          3630.765,
          3811.112,
          4181.088,
          4469.369,
          4201.28,
          4445.443,
          4854.658,
          4965.649,
          4953.624,
          5035.077,
          5110.656,
          4250.264,
          4638.339,
          5138.49,
          5415.709,
          5245.849,
          6003.272,
          6379.796,
          6465.727,
          6647.763,
          6789.969,
          7443.244,
          7924.253,
          8185.547,
          8417.624,
          8856.221,
          9387.668,
          9418.46,
          9751.06,
          10271.655,
          10829.612,
          11317.596,
          11866.934,
          12244.029,
          12910.892,
          13767.398,
          14898.716,
          15505.496,
          16228.729,
          17086.193,
          17017.477,
          17054.627,
          17991.887,
          18502.846,
          19077.193,
          19618.463,
          19501.264,
          19036.117,
          18884.486,
          19006.539,
          19664.754,
          20325.486,
          20627.359,
          21273.904,
          22107.795,
          22410.402,
          22757.48,
          23244.807,
          22580.023,
          22812.9,
          22969.498,
          23458.713,
          24159.383,
          24302.584,
          24213.26,
          24732.389,
          25453.623,
          25668.049,
          26281.037,
          27651.596,
          28636.695,
          29614.602,
          30593.117,
          31506.789,
          32085.836,
          31564.031,
          33364.348,
          34487.012,
          35006.27,
          35319.203,
          35577.535,
          35558.566,
          35524.191,
          36096.738,
          36826.508,
          37082.559,
          35264.086,
          37123.852
         ]
        },
        {
         "marker": {
          "color": "red",
          "size": 5
         },
         "mode": "markers",
         "name": "Descenso",
         "type": "scatter",
         "x": [
          1945,
          1992,
          2009,
          2020
         ],
         "y": [
          4250.264,
          22580.023,
          31564.031,
          35264.086
         ]
        }
       ],
       "layout": {
        "height": 700,
        "template": {
         "data": {
          "bar": [
           {
            "error_x": {
             "color": "#2a3f5f"
            },
            "error_y": {
             "color": "#2a3f5f"
            },
            "marker": {
             "line": {
              "color": "white",
              "width": 0.5
             },
             "pattern": {
              "fillmode": "overlay",
              "size": 10,
              "solidity": 0.2
             }
            },
            "type": "bar"
           }
          ],
          "barpolar": [
           {
            "marker": {
             "line": {
              "color": "white",
              "width": 0.5
             },
             "pattern": {
              "fillmode": "overlay",
              "size": 10,
              "solidity": 0.2
             }
            },
            "type": "barpolar"
           }
          ],
          "carpet": [
           {
            "aaxis": {
             "endlinecolor": "#2a3f5f",
             "gridcolor": "#C8D4E3",
             "linecolor": "#C8D4E3",
             "minorgridcolor": "#C8D4E3",
             "startlinecolor": "#2a3f5f"
            },
            "baxis": {
             "endlinecolor": "#2a3f5f",
             "gridcolor": "#C8D4E3",
             "linecolor": "#C8D4E3",
             "minorgridcolor": "#C8D4E3",
             "startlinecolor": "#2a3f5f"
            },
            "type": "carpet"
           }
          ],
          "choropleth": [
           {
            "colorbar": {
             "outlinewidth": 0,
             "ticks": ""
            },
            "type": "choropleth"
           }
          ],
          "contour": [
           {
            "colorbar": {
             "outlinewidth": 0,
             "ticks": ""
            },
            "colorscale": [
             [
              0,
              "#0d0887"
             ],
             [
              0.1111111111111111,
              "#46039f"
             ],
             [
              0.2222222222222222,
              "#7201a8"
             ],
             [
              0.3333333333333333,
              "#9c179e"
             ],
             [
              0.4444444444444444,
              "#bd3786"
             ],
             [
              0.5555555555555556,
              "#d8576b"
             ],
             [
              0.6666666666666666,
              "#ed7953"
             ],
             [
              0.7777777777777778,
              "#fb9f3a"
             ],
             [
              0.8888888888888888,
              "#fdca26"
             ],
             [
              1,
              "#f0f921"
             ]
            ],
            "type": "contour"
           }
          ],
          "contourcarpet": [
           {
            "colorbar": {
             "outlinewidth": 0,
             "ticks": ""
            },
            "type": "contourcarpet"
           }
          ],
          "heatmap": [
           {
            "colorbar": {
             "outlinewidth": 0,
             "ticks": ""
            },
            "colorscale": [
             [
              0,
              "#0d0887"
             ],
             [
              0.1111111111111111,
              "#46039f"
             ],
             [
              0.2222222222222222,
              "#7201a8"
             ],
             [
              0.3333333333333333,
              "#9c179e"
             ],
             [
              0.4444444444444444,
              "#bd3786"
             ],
             [
              0.5555555555555556,
              "#d8576b"
             ],
             [
              0.6666666666666666,
              "#ed7953"
             ],
             [
              0.7777777777777778,
              "#fb9f3a"
             ],
             [
              0.8888888888888888,
              "#fdca26"
             ],
             [
              1,
              "#f0f921"
             ]
            ],
            "type": "heatmap"
           }
          ],
          "heatmapgl": [
           {
            "colorbar": {
             "outlinewidth": 0,
             "ticks": ""
            },
            "colorscale": [
             [
              0,
              "#0d0887"
             ],
             [
              0.1111111111111111,
              "#46039f"
             ],
             [
              0.2222222222222222,
              "#7201a8"
             ],
             [
              0.3333333333333333,
              "#9c179e"
             ],
             [
              0.4444444444444444,
              "#bd3786"
             ],
             [
              0.5555555555555556,
              "#d8576b"
             ],
             [
              0.6666666666666666,
              "#ed7953"
             ],
             [
              0.7777777777777778,
              "#fb9f3a"
             ],
             [
              0.8888888888888888,
              "#fdca26"
             ],
             [
              1,
              "#f0f921"
             ]
            ],
            "type": "heatmapgl"
           }
          ],
          "histogram": [
           {
            "marker": {
             "pattern": {
              "fillmode": "overlay",
              "size": 10,
              "solidity": 0.2
             }
            },
            "type": "histogram"
           }
          ],
          "histogram2d": [
           {
            "colorbar": {
             "outlinewidth": 0,
             "ticks": ""
            },
            "colorscale": [
             [
              0,
              "#0d0887"
             ],
             [
              0.1111111111111111,
              "#46039f"
             ],
             [
              0.2222222222222222,
              "#7201a8"
             ],
             [
              0.3333333333333333,
              "#9c179e"
             ],
             [
              0.4444444444444444,
              "#bd3786"
             ],
             [
              0.5555555555555556,
              "#d8576b"
             ],
             [
              0.6666666666666666,
              "#ed7953"
             ],
             [
              0.7777777777777778,
              "#fb9f3a"
             ],
             [
              0.8888888888888888,
              "#fdca26"
             ],
             [
              1,
              "#f0f921"
             ]
            ],
            "type": "histogram2d"
           }
          ],
          "histogram2dcontour": [
           {
            "colorbar": {
             "outlinewidth": 0,
             "ticks": ""
            },
            "colorscale": [
             [
              0,
              "#0d0887"
             ],
             [
              0.1111111111111111,
              "#46039f"
             ],
             [
              0.2222222222222222,
              "#7201a8"
             ],
             [
              0.3333333333333333,
              "#9c179e"
             ],
             [
              0.4444444444444444,
              "#bd3786"
             ],
             [
              0.5555555555555556,
              "#d8576b"
             ],
             [
              0.6666666666666666,
              "#ed7953"
             ],
             [
              0.7777777777777778,
              "#fb9f3a"
             ],
             [
              0.8888888888888888,
              "#fdca26"
             ],
             [
              1,
              "#f0f921"
             ]
            ],
            "type": "histogram2dcontour"
           }
          ],
          "mesh3d": [
           {
            "colorbar": {
             "outlinewidth": 0,
             "ticks": ""
            },
            "type": "mesh3d"
           }
          ],
          "parcoords": [
           {
            "line": {
             "colorbar": {
              "outlinewidth": 0,
              "ticks": ""
             }
            },
            "type": "parcoords"
           }
          ],
          "pie": [
           {
            "automargin": true,
            "type": "pie"
           }
          ],
          "scatter": [
           {
            "fillpattern": {
             "fillmode": "overlay",
             "size": 10,
             "solidity": 0.2
            },
            "type": "scatter"
           }
          ],
          "scatter3d": [
           {
            "line": {
             "colorbar": {
              "outlinewidth": 0,
              "ticks": ""
             }
            },
            "marker": {
             "colorbar": {
              "outlinewidth": 0,
              "ticks": ""
             }
            },
            "type": "scatter3d"
           }
          ],
          "scattercarpet": [
           {
            "marker": {
             "colorbar": {
              "outlinewidth": 0,
              "ticks": ""
             }
            },
            "type": "scattercarpet"
           }
          ],
          "scattergeo": [
           {
            "marker": {
             "colorbar": {
              "outlinewidth": 0,
              "ticks": ""
             }
            },
            "type": "scattergeo"
           }
          ],
          "scattergl": [
           {
            "marker": {
             "colorbar": {
              "outlinewidth": 0,
              "ticks": ""
             }
            },
            "type": "scattergl"
           }
          ],
          "scattermapbox": [
           {
            "marker": {
             "colorbar": {
              "outlinewidth": 0,
              "ticks": ""
             }
            },
            "type": "scattermapbox"
           }
          ],
          "scatterpolar": [
           {
            "marker": {
             "colorbar": {
              "outlinewidth": 0,
              "ticks": ""
             }
            },
            "type": "scatterpolar"
           }
          ],
          "scatterpolargl": [
           {
            "marker": {
             "colorbar": {
              "outlinewidth": 0,
              "ticks": ""
             }
            },
            "type": "scatterpolargl"
           }
          ],
          "scatterternary": [
           {
            "marker": {
             "colorbar": {
              "outlinewidth": 0,
              "ticks": ""
             }
            },
            "type": "scatterternary"
           }
          ],
          "surface": [
           {
            "colorbar": {
             "outlinewidth": 0,
             "ticks": ""
            },
            "colorscale": [
             [
              0,
              "#0d0887"
             ],
             [
              0.1111111111111111,
              "#46039f"
             ],
             [
              0.2222222222222222,
              "#7201a8"
             ],
             [
              0.3333333333333333,
              "#9c179e"
             ],
             [
              0.4444444444444444,
              "#bd3786"
             ],
             [
              0.5555555555555556,
              "#d8576b"
             ],
             [
              0.6666666666666666,
              "#ed7953"
             ],
             [
              0.7777777777777778,
              "#fb9f3a"
             ],
             [
              0.8888888888888888,
              "#fdca26"
             ],
             [
              1,
              "#f0f921"
             ]
            ],
            "type": "surface"
           }
          ],
          "table": [
           {
            "cells": {
             "fill": {
              "color": "#EBF0F8"
             },
             "line": {
              "color": "white"
             }
            },
            "header": {
             "fill": {
              "color": "#C8D4E3"
             },
             "line": {
              "color": "white"
             }
            },
            "type": "table"
           }
          ]
         },
         "layout": {
          "annotationdefaults": {
           "arrowcolor": "#2a3f5f",
           "arrowhead": 0,
           "arrowwidth": 1
          },
          "autotypenumbers": "strict",
          "coloraxis": {
           "colorbar": {
            "outlinewidth": 0,
            "ticks": ""
           }
          },
          "colorscale": {
           "diverging": [
            [
             0,
             "#8e0152"
            ],
            [
             0.1,
             "#c51b7d"
            ],
            [
             0.2,
             "#de77ae"
            ],
            [
             0.3,
             "#f1b6da"
            ],
            [
             0.4,
             "#fde0ef"
            ],
            [
             0.5,
             "#f7f7f7"
            ],
            [
             0.6,
             "#e6f5d0"
            ],
            [
             0.7,
             "#b8e186"
            ],
            [
             0.8,
             "#7fbc41"
            ],
            [
             0.9,
             "#4d9221"
            ],
            [
             1,
             "#276419"
            ]
           ],
           "sequential": [
            [
             0,
             "#0d0887"
            ],
            [
             0.1111111111111111,
             "#46039f"
            ],
            [
             0.2222222222222222,
             "#7201a8"
            ],
            [
             0.3333333333333333,
             "#9c179e"
            ],
            [
             0.4444444444444444,
             "#bd3786"
            ],
            [
             0.5555555555555556,
             "#d8576b"
            ],
            [
             0.6666666666666666,
             "#ed7953"
            ],
            [
             0.7777777777777778,
             "#fb9f3a"
            ],
            [
             0.8888888888888888,
             "#fdca26"
            ],
            [
             1,
             "#f0f921"
            ]
           ],
           "sequentialminus": [
            [
             0,
             "#0d0887"
            ],
            [
             0.1111111111111111,
             "#46039f"
            ],
            [
             0.2222222222222222,
             "#7201a8"
            ],
            [
             0.3333333333333333,
             "#9c179e"
            ],
            [
             0.4444444444444444,
             "#bd3786"
            ],
            [
             0.5555555555555556,
             "#d8576b"
            ],
            [
             0.6666666666666666,
             "#ed7953"
            ],
            [
             0.7777777777777778,
             "#fb9f3a"
            ],
            [
             0.8888888888888888,
             "#fdca26"
            ],
            [
             1,
             "#f0f921"
            ]
           ]
          },
          "colorway": [
           "#636efa",
           "#EF553B",
           "#00cc96",
           "#ab63fa",
           "#FFA15A",
           "#19d3f3",
           "#FF6692",
           "#B6E880",
           "#FF97FF",
           "#FECB52"
          ],
          "font": {
           "color": "#2a3f5f"
          },
          "geo": {
           "bgcolor": "white",
           "lakecolor": "white",
           "landcolor": "white",
           "showlakes": true,
           "showland": true,
           "subunitcolor": "#C8D4E3"
          },
          "hoverlabel": {
           "align": "left"
          },
          "hovermode": "closest",
          "mapbox": {
           "style": "light"
          },
          "paper_bgcolor": "white",
          "plot_bgcolor": "white",
          "polar": {
           "angularaxis": {
            "gridcolor": "#EBF0F8",
            "linecolor": "#EBF0F8",
            "ticks": ""
           },
           "bgcolor": "white",
           "radialaxis": {
            "gridcolor": "#EBF0F8",
            "linecolor": "#EBF0F8",
            "ticks": ""
           }
          },
          "scene": {
           "xaxis": {
            "backgroundcolor": "white",
            "gridcolor": "#DFE8F3",
            "gridwidth": 2,
            "linecolor": "#EBF0F8",
            "showbackground": true,
            "ticks": "",
            "zerolinecolor": "#EBF0F8"
           },
           "yaxis": {
            "backgroundcolor": "white",
            "gridcolor": "#DFE8F3",
            "gridwidth": 2,
            "linecolor": "#EBF0F8",
            "showbackground": true,
            "ticks": "",
            "zerolinecolor": "#EBF0F8"
           },
           "zaxis": {
            "backgroundcolor": "white",
            "gridcolor": "#DFE8F3",
            "gridwidth": 2,
            "linecolor": "#EBF0F8",
            "showbackground": true,
            "ticks": "",
            "zerolinecolor": "#EBF0F8"
           }
          },
          "shapedefaults": {
           "line": {
            "color": "#2a3f5f"
           }
          },
          "ternary": {
           "aaxis": {
            "gridcolor": "#DFE8F3",
            "linecolor": "#A2B1C6",
            "ticks": ""
           },
           "baxis": {
            "gridcolor": "#DFE8F3",
            "linecolor": "#A2B1C6",
            "ticks": ""
           },
           "bgcolor": "white",
           "caxis": {
            "gridcolor": "#DFE8F3",
            "linecolor": "#A2B1C6",
            "ticks": ""
           }
          },
          "title": {
           "x": 0.05
          },
          "xaxis": {
           "automargin": true,
           "gridcolor": "#EBF0F8",
           "linecolor": "#EBF0F8",
           "ticks": "",
           "title": {
            "standoff": 15
           },
           "zerolinecolor": "#EBF0F8",
           "zerolinewidth": 2
          },
          "yaxis": {
           "automargin": true,
           "gridcolor": "#EBF0F8",
           "linecolor": "#EBF0F8",
           "ticks": "",
           "title": {
            "standoff": 15
           },
           "zerolinecolor": "#EBF0F8",
           "zerolinewidth": 2
          }
         }
        },
        "title": {
         "text": "Evolución de Emisiones con Puntos de Descenso Destacados"
        },
        "width": 700,
        "xaxis": {
         "autorange": true,
         "range": [
          1855,
          2029.8414263632003
         ],
         "title": {
          "text": "Año"
         },
         "type": "linear"
        },
        "yaxis": {
         "autorange": true,
         "range": [
          -1787.8165555555559,
          39171.83455555556
         ],
         "title": {
          "text": "Emisiones (MtCO2)"
         },
         "type": "linear"
        }
       }
      },
      "image/png": "[encoded data removed]",
      "text/html": [
       "<div>                            <div id=\"da464faa-7caa-4345-8de6-adf0deb5d566\" class=\"plotly-graph-div\" style=\"height:700px; width:700px;\"></div>            <script type=\"text/javascript\">                require([\"plotly\"], function(Plotly) {                    window.PLOTLYENV=window.PLOTLYENV || {};                                    if (document.getElementById(\"da464faa-7caa-4345-8de6-adf0deb5d566\")) {                    Plotly.newPlot(                        \"da464faa-7caa-4345-8de6-adf0deb5d566\",                        [{\"mode\":\"lines\",\"name\":\"Emisiones\",\"x\":[1855,1856,1857,1858,1859,1860,1861,1862,1863,1864,1865,1866,1867,1868,1869,1870,1871,1872,1873,1874,1875,1876,1877,1878,1879,1880,1881,1882,1883,1884,1885,1886,1887,1888,1889,1890,1891,1892,1893,1894,1895,1896,1897,1898,1899,1900,1901,1902,1903,1904,1905,1906,1907,1908,1909,1910,1911,1912,1913,1914,1915,1916,1917,1918,1919,1920,1921,1922,1923,1924,1925,1926,1927,1928,1929,1930,1931,1932,1933,1934,1935,1936,1937,1938,1939,1940,1941,1942,1943,1944,1945,1946,1947,1948,1949,1950,1951,1952,1953,1954,1955,1956,1957,1958,1959,1960,1961,1962,1963,1964,1965,1966,1967,1968,1969,1970,1971,1972,1973,1974,1975,1976,1977,1978,1979,1980,1981,1982,1983,1984,1985,1986,1987,1988,1989,1990,1991,1992,1993,1994,1995,1996,1997,1998,1999,2000,2001,2002,2003,2004,2005,2006,2007,2008,2009,2010,2011,2012,2013,2014,2015,2016,2017,2018,2019,2020,2021],\"y\":[260.166,277.292,279.889,284.171,301.312,330.641,347.735,354.057,377.859,407.09,432.307,445.97,477.815,490.753,521.131,532.537,566.143,626.372,665.419,622.997,675.799,685.553,699.099,704.379,754.867,853.705,882.405,931.922,991.032,1002.174,1009.671,1025.475,1076.758,1192.272,1191.8,1298.458,1358.874,1370.088,1353.669,1400.858,1485.273,1533.701,1606.301,1694.266,1850.798,1952.209,2016.744,2067.684,2254.095,2279.749,2427.313,2534.734,2888.308,2776.404,2890.468,3033.82,3079.215,3235.538,3505.865,3179.912,3134.378,3385.277,3539.853,3492.84,3028.56,3521.062,3089.464,3239.736,3675.398,3686.099,3725.637,3659.297,3993.754,3976.071,4267.657,3934.73,3516.94,3170.801,3338.349,3630.765,3811.112,4181.088,4469.369,4201.28,4445.443,4854.658,4965.649,4953.624,5035.077,5110.656,4250.264,4638.339,5138.49,5415.709,5245.849,6003.272,6379.796,6465.727,6647.763,6789.969,7443.244,7924.253,8185.547,8417.624,8856.221,9387.668,9418.46,9751.06,10271.655,10829.612,11317.596,11866.934,12244.029,12910.892,13767.398,14898.716,15505.496,16228.729,17086.193,17017.477,17054.627,17991.887,18502.846,19077.193,19618.463,19501.264,19036.117,18884.486,19006.539,19664.754,20325.486,20627.359,21273.904,22107.795,22410.402,22757.48,23244.807,22580.023,22812.9,22969.498,23458.713,24159.383,24302.584,24213.26,24732.389,25453.623,25668.049,26281.037,27651.596,28636.695,29614.602,30593.117,31506.789,32085.836,31564.031,33364.348,34487.012,35006.27,35319.203,35577.535,35558.566,35524.191,36096.738,36826.508,37082.559,35264.086,37123.852],\"type\":\"scatter\"},{\"marker\":{\"color\":\"red\",\"size\":5},\"mode\":\"markers\",\"name\":\"Descenso\",\"x\":[1945,1992,2009,2020],\"y\":[4250.264,22580.023,31564.031,35264.086],\"type\":\"scatter\"}],                        {\"template\":{\"data\":{\"barpolar\":[{\"marker\":{\"line\":{\"color\":\"white\",\"width\":0.5},\"pattern\":{\"fillmode\":\"overlay\",\"size\":10,\"solidity\":0.2}},\"type\":\"barpolar\"}],\"bar\":[{\"error_x\":{\"color\":\"#2a3f5f\"},\"error_y\":{\"color\":\"#2a3f5f\"},\"marker\":{\"line\":{\"color\":\"white\",\"width\":0.5},\"pattern\":{\"fillmode\":\"overlay\",\"size\":10,\"solidity\":0.2}},\"type\":\"bar\"}],\"carpet\":[{\"aaxis\":{\"endlinecolor\":\"#2a3f5f\",\"gridcolor\":\"#C8D4E3\",\"linecolor\":\"#C8D4E3\",\"minorgridcolor\":\"#C8D4E3\",\"startlinecolor\":\"#2a3f5f\"},\"baxis\":{\"endlinecolor\":\"#2a3f5f\",\"gridcolor\":\"#C8D4E3\",\"linecolor\":\"#C8D4E3\",\"minorgridcolor\":\"#C8D4E3\",\"startlinecolor\":\"#2a3f5f\"},\"type\":\"carpet\"}],\"choropleth\":[{\"colorbar\":{\"outlinewidth\":0,\"ticks\":\"\"},\"type\":\"choropleth\"}],\"contourcarpet\":[{\"colorbar\":{\"outlinewidth\":0,\"ticks\":\"\"},\"type\":\"contourcarpet\"}],\"contour\":[{\"colorbar\":{\"outlinewidth\":0,\"ticks\":\"\"},\"colorscale\":[[0.0,\"#0d0887\"],[0.1111111111111111,\"#46039f\"],[0.2222222222222222,\"#7201a8\"],[0.3333333333333333,\"#9c179e\"],[0.4444444444444444,\"#bd3786\"],[0.5555555555555556,\"#d8576b\"],[0.6666666666666666,\"#ed7953\"],[0.7777777777777778,\"#fb9f3a\"],[0.8888888888888888,\"#fdca26\"],[1.0,\"#f0f921\"]],\"type\":\"contour\"}],\"heatmapgl\":[{\"colorbar\":{\"outlinewidth\":0,\"ticks\":\"\"},\"colorscale\":[[0.0,\"#0d0887\"],[0.1111111111111111,\"#46039f\"],[0.2222222222222222,\"#7201a8\"],[0.3333333333333333,\"#9c179e\"],[0.4444444444444444,\"#bd3786\"],[0.5555555555555556,\"#d8576b\"],[0.6666666666666666,\"#ed7953\"],[0.7777777777777778,\"#fb9f3a\"],[0.8888888888888888,\"#fdca26\"],[1.0,\"#f0f921\"]],\"type\":\"heatmapgl\"}],\"heatmap\":[{\"colorbar\":{\"outlinewidth\":0,\"ticks\":\"\"},\"colorscale\":[[0.0,\"#0d0887\"],[0.1111111111111111,\"#46039f\"],[0.2222222222222222,\"#7201a8\"],[0.3333333333333333,\"#9c179e\"],[0.4444444444444444,\"#bd3786\"],[0.5555555555555556,\"#d8576b\"],[0.6666666666666666,\"#ed7953\"],[0.7777777777777778,\"#fb9f3a\"],[0.8888888888888888,\"#fdca26\"],[1.0,\"#f0f921\"]],\"type\":\"heatmap\"}],\"histogram2dcontour\":[{\"colorbar\":{\"outlinewidth\":0,\"ticks\":\"\"},\"colorscale\":[[0.0,\"#0d0887\"],[0.1111111111111111,\"#46039f\"],[0.2222222222222222,\"#7201a8\"],[0.3333333333333333,\"#9c179e\"],[0.4444444444444444,\"#bd3786\"],[0.5555555555555556,\"#d8576b\"],[0.6666666666666666,\"#ed7953\"],[0.7777777777777778,\"#fb9f3a\"],[0.8888888888888888,\"#fdca26\"],[1.0,\"#f0f921\"]],\"type\":\"histogram2dcontour\"}],\"histogram2d\":[{\"colorbar\":{\"outlinewidth\":0,\"ticks\":\"\"},\"colorscale\":[[0.0,\"#0d0887\"],[0.1111111111111111,\"#46039f\"],[0.2222222222222222,\"#7201a8\"],[0.3333333333333333,\"#9c179e\"],[0.4444444444444444,\"#bd3786\"],[0.5555555555555556,\"#d8576b\"],[0.6666666666666666,\"#ed7953\"],[0.7777777777777778,\"#fb9f3a\"],[0.8888888888888888,\"#fdca26\"],[1.0,\"#f0f921\"]],\"type\":\"histogram2d\"}],\"histogram\":[{\"marker\":{\"pattern\":{\"fillmode\":\"overlay\",\"size\":10,\"solidity\":0.2}},\"type\":\"histogram\"}],\"mesh3d\":[{\"colorbar\":{\"outlinewidth\":0,\"ticks\":\"\"},\"type\":\"mesh3d\"}],\"parcoords\":[{\"line\":{\"colorbar\":{\"outlinewidth\":0,\"ticks\":\"\"}},\"type\":\"parcoords\"}],\"pie\":[{\"automargin\":true,\"type\":\"pie\"}],\"scatter3d\":[{\"line\":{\"colorbar\":{\"outlinewidth\":0,\"ticks\":\"\"}},\"marker\":{\"colorbar\":{\"outlinewidth\":0,\"ticks\":\"\"}},\"type\":\"scatter3d\"}],\"scattercarpet\":[{\"marker\":{\"colorbar\":{\"outlinewidth\":0,\"ticks\":\"\"}},\"type\":\"scattercarpet\"}],\"scattergeo\":[{\"marker\":{\"colorbar\":{\"outlinewidth\":0,\"ticks\":\"\"}},\"type\":\"scattergeo\"}],\"scattergl\":[{\"marker\":{\"colorbar\":{\"outlinewidth\":0,\"ticks\":\"\"}},\"type\":\"scattergl\"}],\"scattermapbox\":[{\"marker\":{\"colorbar\":{\"outlinewidth\":0,\"ticks\":\"\"}},\"type\":\"scattermapbox\"}],\"scatterpolargl\":[{\"marker\":{\"colorbar\":{\"outlinewidth\":0,\"ticks\":\"\"}},\"type\":\"scatterpolargl\"}],\"scatterpolar\":[{\"marker\":{\"colorbar\":{\"outlinewidth\":0,\"ticks\":\"\"}},\"type\":\"scatterpolar\"}],\"scatter\":[{\"fillpattern\":{\"fillmode\":\"overlay\",\"size\":10,\"solidity\":0.2},\"type\":\"scatter\"}],\"scatterternary\":[{\"marker\":{\"colorbar\":{\"outlinewidth\":0,\"ticks\":\"\"}},\"type\":\"scatterternary\"}],\"surface\":[{\"colorbar\":{\"outlinewidth\":0,\"ticks\":\"\"},\"colorscale\":[[0.0,\"#0d0887\"],[0.1111111111111111,\"#46039f\"],[0.2222222222222222,\"#7201a8\"],[0.3333333333333333,\"#9c179e\"],[0.4444444444444444,\"#bd3786\"],[0.5555555555555556,\"#d8576b\"],[0.6666666666666666,\"#ed7953\"],[0.7777777777777778,\"#fb9f3a\"],[0.8888888888888888,\"#fdca26\"],[1.0,\"#f0f921\"]],\"type\":\"surface\"}],\"table\":[{\"cells\":{\"fill\":{\"color\":\"#EBF0F8\"},\"line\":{\"color\":\"white\"}},\"header\":{\"fill\":{\"color\":\"#C8D4E3\"},\"line\":{\"color\":\"white\"}},\"type\":\"table\"}]},\"layout\":{\"annotationdefaults\":{\"arrowcolor\":\"#2a3f5f\",\"arrowhead\":0,\"arrowwidth\":1},\"autotypenumbers\":\"strict\",\"coloraxis\":{\"colorbar\":{\"outlinewidth\":0,\"ticks\":\"\"}},\"colorscale\":{\"diverging\":[[0,\"#8e0152\"],[0.1,\"#c51b7d\"],[0.2,\"#de77ae\"],[0.3,\"#f1b6da\"],[0.4,\"#fde0ef\"],[0.5,\"#f7f7f7\"],[0.6,\"#e6f5d0\"],[0.7,\"#b8e186\"],[0.8,\"#7fbc41\"],[0.9,\"#4d9221\"],[1,\"#276419\"]],\"sequential\":[[0.0,\"#0d0887\"],[0.1111111111111111,\"#46039f\"],[0.2222222222222222,\"#7201a8\"],[0.3333333333333333,\"#9c179e\"],[0.4444444444444444,\"#bd3786\"],[0.5555555555555556,\"#d8576b\"],[0.6666666666666666,\"#ed7953\"],[0.7777777777777778,\"#fb9f3a\"],[0.8888888888888888,\"#fdca26\"],[1.0,\"#f0f921\"]],\"sequentialminus\":[[0.0,\"#0d0887\"],[0.1111111111111111,\"#46039f\"],[0.2222222222222222,\"#7201a8\"],[0.3333333333333333,\"#9c179e\"],[0.4444444444444444,\"#bd3786\"],[0.5555555555555556,\"#d8576b\"],[0.6666666666666666,\"#ed7953\"],[0.7777777777777778,\"#fb9f3a\"],[0.8888888888888888,\"#fdca26\"],[1.0,\"#f0f921\"]]},\"colorway\":[\"#636efa\",\"#EF553B\",\"#00cc96\",\"#ab63fa\",\"#FFA15A\",\"#19d3f3\",\"#FF6692\",\"#B6E880\",\"#FF97FF\",\"#FECB52\"],\"font\":{\"color\":\"#2a3f5f\"},\"geo\":{\"bgcolor\":\"white\",\"lakecolor\":\"white\",\"landcolor\":\"white\",\"showlakes\":true,\"showland\":true,\"subunitcolor\":\"#C8D4E3\"},\"hoverlabel\":{\"align\":\"left\"},\"hovermode\":\"closest\",\"mapbox\":{\"style\":\"light\"},\"paper_bgcolor\":\"white\",\"plot_bgcolor\":\"white\",\"polar\":{\"angularaxis\":{\"gridcolor\":\"#EBF0F8\",\"linecolor\":\"#EBF0F8\",\"ticks\":\"\"},\"bgcolor\":\"white\",\"radialaxis\":{\"gridcolor\":\"#EBF0F8\",\"linecolor\":\"#EBF0F8\",\"ticks\":\"\"}},\"scene\":{\"xaxis\":{\"backgroundcolor\":\"white\",\"gridcolor\":\"#DFE8F3\",\"gridwidth\":2,\"linecolor\":\"#EBF0F8\",\"showbackground\":true,\"ticks\":\"\",\"zerolinecolor\":\"#EBF0F8\"},\"yaxis\":{\"backgroundcolor\":\"white\",\"gridcolor\":\"#DFE8F3\",\"gridwidth\":2,\"linecolor\":\"#EBF0F8\",\"showbackground\":true,\"ticks\":\"\",\"zerolinecolor\":\"#EBF0F8\"},\"zaxis\":{\"backgroundcolor\":\"white\",\"gridcolor\":\"#DFE8F3\",\"gridwidth\":2,\"linecolor\":\"#EBF0F8\",\"showbackground\":true,\"ticks\":\"\",\"zerolinecolor\":\"#EBF0F8\"}},\"shapedefaults\":{\"line\":{\"color\":\"#2a3f5f\"}},\"ternary\":{\"aaxis\":{\"gridcolor\":\"#DFE8F3\",\"linecolor\":\"#A2B1C6\",\"ticks\":\"\"},\"baxis\":{\"gridcolor\":\"#DFE8F3\",\"linecolor\":\"#A2B1C6\",\"ticks\":\"\"},\"bgcolor\":\"white\",\"caxis\":{\"gridcolor\":\"#DFE8F3\",\"linecolor\":\"#A2B1C6\",\"ticks\":\"\"}},\"title\":{\"x\":0.05},\"xaxis\":{\"automargin\":true,\"gridcolor\":\"#EBF0F8\",\"linecolor\":\"#EBF0F8\",\"ticks\":\"\",\"title\":{\"standoff\":15},\"zerolinecolor\":\"#EBF0F8\",\"zerolinewidth\":2},\"yaxis\":{\"automargin\":true,\"gridcolor\":\"#EBF0F8\",\"linecolor\":\"#EBF0F8\",\"ticks\":\"\",\"title\":{\"standoff\":15},\"zerolinecolor\":\"#EBF0F8\",\"zerolinewidth\":2}}},\"title\":{\"text\":\"Evoluci\\u00f3n de Emisiones con Puntos de Descenso Destacados\"},\"xaxis\":{\"title\":{\"text\":\"A\\u00f1o\"}},\"yaxis\":{\"title\":{\"text\":\"Emisiones (MtCO2)\"}},\"width\":700,\"height\":700},                        {\"responsive\": true}                    ).then(function(){\n",
       "                            \n",
       "var gd = document.getElementById('da464faa-7caa-4345-8de6-adf0deb5d566');\n",
       "var x = new MutationObserver(function (mutations, observer) {{\n",
       "        var display = window.getComputedStyle(gd).display;\n",
       "        if (!display || display === 'none') {{\n",
       "            console.log([gd, 'removed!']);\n",
       "            Plotly.purge(gd);\n",
       "            observer.disconnect();\n",
       "        }}\n",
       "}});\n",
       "\n",
       "// Listen for the removal of the full notebook cells\n",
       "var notebookContainer = gd.closest('#notebook-container');\n",
       "if (notebookContainer) {{\n",
       "    x.observe(notebookContainer, {childList: true});\n",
       "}}\n",
       "\n",
       "// Listen for the clearing of the current output cell\n",
       "var outputEl = gd.closest('.output');\n",
       "if (outputEl) {{\n",
       "    x.observe(outputEl, {childList: true});\n",
       "}}\n",
       "\n",
       "                        })                };                });            </script>        </div>"
      ]
     },
     "metadata": {},
     "output_type": "display_data"
    }
   ],
   "source": [
    "df_world['diff'] = df_world['co2'].diff()  # Calcula la diferencia con el año anterior\n",
    "\n",
    "# Filtrar para obtener solo los puntos donde la diferencia es negativa (descenso)\n",
    "descenso_df = df_world[df_world['diff'] < -500]\n",
    "\n",
    "# Mostrar los años y valores en los que ocurre un descenso\n",
    "print(descenso_df[['year', 'co2', 'diff']])\n",
    "\n",
    "\n",
    "\n",
    "# Crear la gráfica de línea\n",
    "fig = go.Figure()\n",
    "\n",
    "# Línea principal de emisiones\n",
    "fig.add_trace(go.Scatter(\n",
    "    x=df_world[\"year\"], \n",
    "    y=df_world['co2'], \n",
    "    mode='lines',\n",
    "    name=\"Emisiones\"\n",
    "))\n",
    "\n",
    "# Puntos de descenso\n",
    "fig.add_trace(go.Scatter(\n",
    "    x=descenso_df[\"year\"], \n",
    "    y=descenso_df['co2'], \n",
    "    mode='markers',\n",
    "    marker=dict(color='red', size=5), \n",
    "    name=\"Descenso\"\n",
    "))\n",
    "\n",
    "# Configuración de la gráfica\n",
    "fig.update_layout(\n",
    "    title=\"Evolución de Emisiones con Puntos de Descenso Destacados\",\n",
    "    xaxis_title=\"Año\",\n",
    "    yaxis_title=\"Emisiones (MtCO2)\",\n",
    "    template=\"plotly_white\",\n",
    "    width = 700,\n",
    "    height = 700\n",
    ")\n",
    "\n",
    "fig.show()\n",
    "\n"
   ]
  }
 ],
 "metadata": {
  "kernelspec": {
   "display_name": "Python 3 (ipykernel)",
   "language": "python",
   "name": "python3"
  },
  "language_info": {
   "codemirror_mode": {
    "name": "ipython",
    "version": 3
   },
   "file_extension": ".py",
   "mimetype": "text/x-python",
   "name": "python",
   "nbconvert_exporter": "python",
   "pygments_lexer": "ipython3",
   "version": "3.12.4"
  }
 },
 "nbformat": 4,
 "nbformat_minor": 5
}
