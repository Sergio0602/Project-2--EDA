{
 "cells": [
  {
   "cell_type": "code",
   "execution_count": null,
   "id": "0f95fd23-d56f-4f45-a91c-ca1fe7c7a4bc",
   "metadata": {},
   "outputs": [],
   "source": [
    "from skimpy import skim #data summary\n",
    "import pandas as pd\n",
    "import numpy as np\n",
    "import matplotlib.pyplot as plt\n",
    "import charset_normalizer\n",
    "import seaborn as sns\n",
    "import plotly.express as px #interactive visualization\n",
    "import charset_normalizer\n",
    "import plotly.graph_objects as go"
   ]
  },
  {
   "cell_type": "code",
   "execution_count": null,
   "id": "99aded72-36f7-4992-ae80-a3e06778a61b",
   "metadata": {},
   "outputs": [],
   "source": [
    "with open(\"visualizing_global_co2_data_cleaned.csv\", 'rb') as rawdata:\n",
    "    result = charset_normalizer.detect(rawdata.read(10000))\n",
    "print(result)"
   ]
  },
  {
   "cell_type": "code",
   "execution_count": null,
   "id": "9653b8da-da0a-4334-b681-5e06d61c7edd",
   "metadata": {},
   "outputs": [],
   "source": [
    "data = pd.read_csv('visualizing_global_co2_data_cleaned.csv', encoding = 'ascii')\n",
    "df = pd.DataFrame(data)"
   ]
  },
  {
   "cell_type": "markdown",
   "id": "93bb6b0f-71c5-4c93-a3c4-fcefcc1dc514",
   "metadata": {},
   "source": [
    "## Data Schema"
   ]
  },
  {
   "cell_type": "code",
   "execution_count": null,
   "id": "943f658d-07bd-40b5-8608-03db4d8ff640",
   "metadata": {},
   "outputs": [],
   "source": [
    "skim(df)"
   ]
  },
  {
   "cell_type": "markdown",
   "id": "af126496-e7af-4ecb-baf5-7e9e0ae99ce4",
   "metadata": {},
   "source": [
    "### Search for anomalous data"
   ]
  },
  {
   "cell_type": "code",
   "execution_count": null,
   "id": "f976e3f0-2a8a-44d6-8954-843b76b7cb07",
   "metadata": {},
   "outputs": [],
   "source": [
    "info = pd.DataFrame({\n",
    "    \"Count\":df.shape[0],\n",
    "    \"Null\":df.isnull().sum(),\n",
    "    \"Null %\":df.isnull().mean() * 100,\n",
    "    \"Zeros\":(df == 0).sum(),\n",
    "    \"Zeros %\":(df == 0).mean() * 100,\n",
    "    \"Unique\":df.nunique(),\n",
    "    \"Duplicated\":(df.duplicated() == True).sum(),\n",
    "  \n",
    "})\n",
    "info\n",
    "print(df[\"country\"].nunique())\n",
    "\n",
    "print(df[\"iso_code\"].nunique())\n",
    "print(df[\"country\"].unique())"
   ]
  },
  {
   "cell_type": "markdown",
   "id": "d1432452-30f5-46a9-9e56-9efe65697146",
   "metadata": {},
   "source": [
    "### Drop zero emissions"
   ]
  },
  {
   "cell_type": "code",
   "execution_count": 1,
   "id": "c2a84232-06c0-4cf4-b973-da5fda491041",
   "metadata": {},
   "outputs": [
    {
     "ename": "NameError",
     "evalue": "name 'df' is not defined",
     "output_type": "error",
     "traceback": [
      "\u001b[0;31m---------------------------------------------------------------------------\u001b[0m",
      "\u001b[0;31mNameError\u001b[0m                                 Traceback (most recent call last)",
      "Cell \u001b[0;32mIn[1], line 1\u001b[0m\n\u001b[0;32m----> 1\u001b[0m co2_zeros \u001b[38;5;241m=\u001b[39m (df[\u001b[38;5;124m\"\u001b[39m\u001b[38;5;124mco2\u001b[39m\u001b[38;5;124m\"\u001b[39m] \u001b[38;5;241m==\u001b[39m \u001b[38;5;241m0\u001b[39m)\u001b[38;5;241m.\u001b[39msum()\n\u001b[1;32m      2\u001b[0m \u001b[38;5;28mprint\u001b[39m(co2_zeros)\n\u001b[1;32m      3\u001b[0m df \u001b[38;5;241m=\u001b[39m df\u001b[38;5;241m.\u001b[39mdrop(df[df[\u001b[38;5;124m\"\u001b[39m\u001b[38;5;124mco2\u001b[39m\u001b[38;5;124m\"\u001b[39m] \u001b[38;5;241m==\u001b[39m \u001b[38;5;241m0\u001b[39m]\u001b[38;5;241m.\u001b[39mindex)\n",
      "\u001b[0;31mNameError\u001b[0m: name 'df' is not defined"
     ]
    }
   ],
   "source": [
    "co2_zeros = (df[\"co2\"] == 0).sum()\n",
    "print(co2_zeros)\n",
    "df = df.drop(df[df[\"co2\"] == 0].index)\n",
    "co2_zeros = (df[\"co2\"] == 0).sum()\n",
    "print(co2_zeros)"
   ]
  },
  {
   "cell_type": "markdown",
   "id": "b9e3ef2a-a045-4cbf-8728-a6293a12123a",
   "metadata": {},
   "source": [
    "### Countries and regions"
   ]
  },
  {
   "cell_type": "code",
   "execution_count": null,
   "id": "13fd9986-a291-4315-8e3a-c28a6d25f9cc",
   "metadata": {},
   "outputs": [],
   "source": [
    "non_countries = [\n",
    "    \"Africa\", \"Asia\", \"Asia (excl. China and India)\", \"Europe\", \"Europe (excl. EU-27)\",\n",
    "    \"Europe (excl. EU-28)\", \"European Union (27)\", \"European Union (28)\", \n",
    "    \"High-income countries\", \"Low-income countries\", \"Lower-middle-income countries\", \n",
    "    \"North America\", \"North America (excl. USA)\", \"Oceania\", \"South America\",'Upper-middle-income countries', \"World\"\n",
    "]\n",
    "\n",
    "countries = ['Afghanistan', 'Albania', 'Algeria', 'Andorra', 'Angola', 'Anguilla',\n",
    " 'Antigua and Barbuda', 'Argentina', 'Armenia', 'Aruba', 'Australia', 'Austria', 'Azerbaijan',\n",
    " 'Bahamas', 'Bahrain', 'Bangladesh', 'Barbados', 'Belarus', 'Belgium', 'Belize',\n",
    " 'Benin', 'Bermuda', 'Bhutan', 'Bolivia', 'Bonaire Sint Eustatius and Saba',\n",
    " 'Bosnia and Herzegovina', 'Botswana', 'Brazil', 'British Virgin Islands',\n",
    " 'Brunei', 'Bulgaria', 'Burkina Faso', 'Burundi', 'Cambodia', 'Cameroon',\n",
    " 'Canada', 'Cape Verde', 'Central African Republic', 'Chad', 'Chile', 'China',\n",
    " 'Colombia', 'Comoros', 'Congo', 'Cook Islands', 'Costa Rica', \"Cote d'Ivoire\",\n",
    " 'Croatia', 'Cuba', 'Curacao', 'Cyprus', 'Czechia',\n",
    " 'Democratic Republic of Congo', 'Denmark', 'Djibouti', 'Dominica',\n",
    " 'Dominican Republic', 'East Timor', 'Ecuador', 'Egypt', 'El Salvador',\n",
    " 'Equatorial Guinea', 'Eritrea', 'Estonia', 'Eswatini', 'Ethiopia',\n",
    " 'Faroe Islands', 'Fiji', 'Finland', 'France',\n",
    " 'French Guiana', 'French Polynesia', 'Gabon', 'Gambia', 'Georgia', 'Germany',\n",
    " 'Ghana', 'Greece', 'Greenland', 'Grenada', 'Guadeloupe', 'Guatemala', 'Guinea',\n",
    " 'Guinea-Bissau', 'Guyana', 'Haiti', 'Honduras', 'Hong Kong', 'Hungary',\n",
    " 'Iceland', 'India', 'Indonesia', 'Iran', 'Iraq',\n",
    " 'Ireland', 'Israel', 'Italy', 'Jamaica', 'Japan', 'Jordan', 'Kazakhstan',\n",
    " 'Kenya', 'Kiribati', 'Kosovo', 'Kuwait', 'Kyrgyzstan', 'Laos', 'Latvia',\n",
    " 'Lebanon', 'Lesotho', 'Liberia', 'Libya', 'Liechtenstein', 'Lithuania',\n",
    " 'Luxembourg', 'Macao', 'Madagascar', 'Malawi', 'Malaysia', 'Maldives', 'Mali', 'Malta',\n",
    " 'Marshall Islands', 'Martinique', 'Mauritania', 'Mauritius', 'Mayotte',\n",
    " 'Mexico', 'Micronesia (country)', 'Moldova', 'Mongolia', 'Montenegro',\n",
    " 'Montserrat', 'Morocco', 'Mozambique', 'Myanmar', 'Namibia', 'Nauru', 'Nepal',\n",
    " 'Netherlands', 'New Caledonia', 'New Zealand', 'Nicaragua', 'Niger', 'Nigeria',\n",
    " 'Niue', 'North Korea', 'North Macedonia', 'Norway', 'Oman', 'Pakistan', 'Palau',\n",
    " 'Palestine', 'Panama', 'Papua New Guinea', 'Paraguay', 'Peru', 'Philippines',\n",
    " 'Poland', 'Portugal', 'Puerto Rico', 'Qatar', 'Reunion', 'Romania', 'Russia',\n",
    " 'Rwanda', 'Saint Helena', 'Saint Kitts and Nevis', 'Saint Lucia',\n",
    " 'Saint Pierre and Miquelon', 'Saint Vincent and the Grenadines', 'Samoa',\n",
    " 'Sao Tome and Principe', 'Saudi Arabia', 'Senegal', 'Serbia', 'Seychelles',\n",
    " 'Sierra Leone', 'Singapore', 'Sint Maarten (Dutch part)', 'Slovakia',\n",
    " 'Slovenia', 'Solomon Islands', 'Somalia', 'South Africa', 'South Korea',\n",
    " 'South Sudan', 'Spain', 'Sri Lanka', 'Sudan', 'Suriname',\n",
    " 'Sweden', 'Switzerland', 'Syria', 'Taiwan', 'Tajikistan', 'Tanzania',\n",
    " 'Thailand', 'Togo', 'Tonga', 'Trinidad and Tobago', 'Tunisia', 'Turkey',\n",
    " 'Turkmenistan', 'Turks and Caicos Islands', 'Tuvalu', 'Uganda', 'Ukraine',\n",
    " 'United Arab Emirates', 'United Kingdom', 'United States',\n",
    " 'Uruguay', 'Uzbekistan', 'Vanuatu',\n",
    " 'Venezuela', 'Vietnam', 'Wallis and Futuna', 'Yemen', 'Zambia', 'Zimbabwe']\n",
    "\n",
    "df_filtered_country = df[df[\"country\"].isin(countries)].copy()\n",
    "\n",
    "df_filtered_non_country = df[df[\"country\"].isin(non_countries)].copy()\n",
    "\n",
    "print(df_filtered_country[\"country\"].unique())\n",
    "print(df_filtered_country[\"country\"].nunique())\n",
    "print(df_filtered_non_country[\"country\"].nunique())"
   ]
  },
  {
   "cell_type": "markdown",
   "id": "7a96bf5a-e1c3-4415-9dd2-8c9ba5eeaca7",
   "metadata": {},
   "source": [
    "### it1"
   ]
  },
  {
   "cell_type": "code",
   "execution_count": null,
   "id": "c83bd601-ebfa-4a49-b415-f93efe5af3d3",
   "metadata": {},
   "outputs": [],
   "source": [
    "df_it1 = df[[\"country\",\"year\",\"co2\",\"co2_including_luc\"]]\n",
    "\n",
    "\n",
    "info1 = pd.DataFrame({\n",
    "    \"Count\":df_it1.shape[0],\n",
    "    \"Null\":df_it1.isnull().sum(),\n",
    "    \"Null %\":df_it1.isnull().mean() * 100,\n",
    "    \"Zeros\":(df_it1 == 0).sum(),\n",
    "    \"Zeros %\":(df_it1 == 0).mean() * 100,\n",
    "    \"Unique\":df_it1.nunique(),\n",
    "    \"Duplicated\":(df_it1.duplicated() == True).sum(),\n",
    "    \"Under Zeros\":(df_it1[\"co2_including_luc\"] < 0).sum() \n",
    "})\n",
    "info1"
   ]
  },
  {
   "cell_type": "markdown",
   "id": "06a287f1-cb01-4a34-a74f-9d02cbe3fd24",
   "metadata": {},
   "source": [
    "### it2"
   ]
  },
  {
   "cell_type": "code",
   "execution_count": null,
   "id": "8ba4ae70-4f3c-4630-b7a7-ee64ea3ba60d",
   "metadata": {},
   "outputs": [],
   "source": [
    "df_it2 = df[[ \"year\",\"cement_co2\", \"coal_co2\",\"flaring_co2\", \"gas_co2\",\"land_use_change_co2\", \"oil_co2\"]].copy()\n",
    "\n",
    "info2 = pd.DataFrame({\n",
    "    \"Count\": [df_it2.shape[0]] * len(df_it2.columns),\n",
    "    \"Null\": df_it2.isnull().sum(),\n",
    "    \"Null %\": df_it2.isnull().mean() * 100,\n",
    "    \"Zeros\": (df_it2 == 0).sum(),\n",
    "    \"Zeros %\": (df_it2 == 0).mean() * 100,\n",
    "    \"Unique\": df_it2.nunique(),\n",
    "    \"Duplicated\": [df_it2.duplicated().sum()] * len(df_it2.columns),\n",
    "    \"Under Zeros\": (df_it2 < 0).sum()\n",
    "}, index=df_it2.columns)\n",
    "\n",
    "print(info2)"
   ]
  },
  {
   "cell_type": "markdown",
   "id": "6524ca1f-c843-4511-a3ac-7ae8c675ee3c",
   "metadata": {},
   "source": [
    "#### Age agruped"
   ]
  },
  {
   "cell_type": "code",
   "execution_count": null,
   "id": "bb89b71e-0a3f-4beb-970e-c1ceae7d2e14",
   "metadata": {},
   "outputs": [],
   "source": [
    "df_it2_grouped = df_it2.groupby(\"year\").sum().reset_index()\n",
    "\n",
    "plt.figure(figsize=(10, 6))\n",
    "\n",
    "for column in df_it2_grouped.columns[1:]:\n",
    "    plt.plot(df_it2_grouped[\"year\"], df_it2_grouped[column], label=column)\n",
    "\n",
    "plt.xlabel(\"Year\")\n",
    "plt.ylabel(\"Emissions (MtCO2)\")\n",
    "plt.title(\"Evolution of Emissions by Source Over Time\")\n",
    "plt.legend(title=\"Emission Source\")\n",
    "plt.grid(True)\n",
    "plt.show()"
   ]
  }
 ],
 "metadata": {
  "kernelspec": {
   "display_name": "Python 3 (ipykernel)",
   "language": "python",
   "name": "python3"
  },
  "language_info": {
   "codemirror_mode": {
    "name": "ipython",
    "version": 3
   },
   "file_extension": ".py",
   "mimetype": "text/x-python",
   "name": "python",
   "nbconvert_exporter": "python",
   "pygments_lexer": "ipython3",
   "version": "3.12.7"
  }
 },
 "nbformat": 4,
 "nbformat_minor": 5
}
