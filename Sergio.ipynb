{
 "cells": [
  {
   "cell_type": "code",
   "execution_count": 2,
   "id": "cc01b434-4287-4be8-a286-3f297defea97",
   "metadata": {},
   "outputs": [],
   "source": [
    "from skimpy import skim #data summary\n",
    "import pandas as pd\n",
    "import numpy as np\n",
    "import matplotlib.pyplot as plt\n",
    "import charset_normalizer\n",
    "import seaborn as sns\n",
    "import plotly.express as px #interactive visualization\n",
    "import charset_normalizer\n",
    "from matplotlib.ticker import FuncFormatter"
   ]
  },
  {
   "cell_type": "code",
   "execution_count": 3,
   "id": "4a12cf39-0140-4dc2-83d3-b4daadb07a2e",
   "metadata": {},
   "outputs": [
    {
     "name": "stdout",
     "output_type": "stream",
     "text": [
      "{'encoding': 'ascii', 'language': 'English', 'confidence': 1.0}\n"
     ]
    }
   ],
   "source": [
    "with open(\"visualizing_global_co2_data_cleaned.csv\", 'rb') as rawdata:\n",
    "    result = charset_normalizer.detect(rawdata.read(10000))\n",
    "print(result)"
   ]
  },
  {
   "cell_type": "code",
   "execution_count": null,
   "id": "9a8fd82f-44c0-41cb-b0ac-f17fd9294a32",
   "metadata": {},
   "outputs": [],
   "source": [
    "data = pd.read_csv('visualizing_global_co2_data_cleaned.csv', encoding = 'ascii')\n",
    "df = pd.DataFrame(data)\n"
   ]
  },
  {
   "cell_type": "code",
   "execution_count": null,
   "id": "35b508c6-750b-4d7d-8a14-b4ee6f107de8",
   "metadata": {},
   "outputs": [],
   "source": [
    "skim(df)"
   ]
  },
  {
   "cell_type": "code",
   "execution_count": null,
   "id": "933dc959-3d61-48dc-800a-f2cd38a46db7",
   "metadata": {},
   "outputs": [],
   "source": [
    " info = pd.DataFrame({\n",
    "    \"Count\":df.shape[0],\n",
    "    \"Null\":df.isnull().sum(),\n",
    "    \"Null %\":df.isnull().mean() * 100,\n",
    "    \"Zeros\":(df == 0).sum(),\n",
    "    \"Zeros %\":(df == 0).mean() * 100,\n",
    "    \"Unique\":df.nunique(),\n",
    "    \"Duplicated\":(df.duplicated() == True).sum(),\n",
    "  \n",
    "})\n",
    "info\n",
    "print(df[\"country\"].nunique())\n",
    "\n",
    "print(df[\"iso_code\"].nunique())\n",
    "print(df[\"country\"].unique())\n"
   ]
  },
  {
   "cell_type": "code",
   "execution_count": null,
   "id": "05d20bc1-0aec-4008-b445-c39d2c3d1de7",
   "metadata": {},
   "outputs": [],
   "source": [
    "non_countries = [\n",
    "    \"Africa\", \"Asia\", \"Asia (excl. China and India)\", \"Europe\", \"Europe (excl. EU-27)\",\n",
    "    \"Europe (excl. EU-28)\", \"European Union (27)\", \"European Union (28)\", \n",
    "    \"High-income countries\", \"Low-income countries\", \"Lower-middle-income countries\", \n",
    "    \"North America\", \"North America (excl. USA)\", \"Oceania\", \"South America\",'Upper-middle-income countries', \"World\"\n",
    "]\n",
    "\n",
    "countries = ['Afghanistan', 'Albania', 'Algeria', 'Andorra', 'Angola', 'Anguilla',\n",
    " 'Antigua and Barbuda', 'Argentina', 'Armenia', 'Aruba', 'Australia', 'Austria', 'Azerbaijan',\n",
    " 'Bahamas', 'Bahrain', 'Bangladesh', 'Barbados', 'Belarus', 'Belgium', 'Belize',\n",
    " 'Benin', 'Bermuda', 'Bhutan', 'Bolivia', 'Bonaire Sint Eustatius and Saba',\n",
    " 'Bosnia and Herzegovina', 'Botswana', 'Brazil', 'British Virgin Islands',\n",
    " 'Brunei', 'Bulgaria', 'Burkina Faso', 'Burundi', 'Cambodia', 'Cameroon',\n",
    " 'Canada', 'Cape Verde', 'Central African Republic', 'Chad', 'Chile', 'China',\n",
    " 'Colombia', 'Comoros', 'Congo', 'Cook Islands', 'Costa Rica', \"Cote d'Ivoire\",\n",
    " 'Croatia', 'Cuba', 'Curacao', 'Cyprus', 'Czechia',\n",
    " 'Democratic Republic of Congo', 'Denmark', 'Djibouti', 'Dominica',\n",
    " 'Dominican Republic', 'East Timor', 'Ecuador', 'Egypt', 'El Salvador',\n",
    " 'Equatorial Guinea', 'Eritrea', 'Estonia', 'Eswatini', 'Ethiopia',\n",
    " 'Faroe Islands', 'Fiji', 'Finland', 'France',\n",
    " 'French Guiana', 'French Polynesia', 'Gabon', 'Gambia', 'Georgia', 'Germany',\n",
    " 'Ghana', 'Greece', 'Greenland', 'Grenada', 'Guadeloupe', 'Guatemala', 'Guinea',\n",
    " 'Guinea-Bissau', 'Guyana', 'Haiti', 'Honduras', 'Hong Kong', 'Hungary',\n",
    " 'Iceland', 'India', 'Indonesia', 'Iran', 'Iraq',\n",
    " 'Ireland', 'Israel', 'Italy', 'Jamaica', 'Japan', 'Jordan', 'Kazakhstan',\n",
    " 'Kenya', 'Kiribati', 'Kosovo', 'Kuwait', 'Kyrgyzstan', 'Laos', 'Latvia',\n",
    " 'Lebanon', 'Lesotho', 'Liberia', 'Libya', 'Liechtenstein', 'Lithuania',\n",
    " 'Luxembourg', 'Macao', 'Madagascar', 'Malawi', 'Malaysia', 'Maldives', 'Mali', 'Malta',\n",
    " 'Marshall Islands', 'Martinique', 'Mauritania', 'Mauritius', 'Mayotte',\n",
    " 'Mexico', 'Micronesia (country)', 'Moldova', 'Mongolia', 'Montenegro',\n",
    " 'Montserrat', 'Morocco', 'Mozambique', 'Myanmar', 'Namibia', 'Nauru', 'Nepal',\n",
    " 'Netherlands', 'New Caledonia', 'New Zealand', 'Nicaragua', 'Niger', 'Nigeria',\n",
    " 'Niue', 'North Korea', 'North Macedonia', 'Norway', 'Oman', 'Pakistan', 'Palau',\n",
    " 'Palestine', 'Panama', 'Papua New Guinea', 'Paraguay', 'Peru', 'Philippines',\n",
    " 'Poland', 'Portugal', 'Puerto Rico', 'Qatar', 'Reunion', 'Romania', 'Russia',\n",
    " 'Rwanda', 'Saint Helena', 'Saint Kitts and Nevis', 'Saint Lucia',\n",
    " 'Saint Pierre and Miquelon', 'Saint Vincent and the Grenadines', 'Samoa',\n",
    " 'Sao Tome and Principe', 'Saudi Arabia', 'Senegal', 'Serbia', 'Seychelles',\n",
    " 'Sierra Leone', 'Singapore', 'Sint Maarten (Dutch part)', 'Slovakia',\n",
    " 'Slovenia', 'Solomon Islands', 'Somalia', 'South Africa', 'South Korea',\n",
    " 'South Sudan', 'Spain', 'Sri Lanka', 'Sudan', 'Suriname',\n",
    " 'Sweden', 'Switzerland', 'Syria', 'Taiwan', 'Tajikistan', 'Tanzania',\n",
    " 'Thailand', 'Togo', 'Tonga', 'Trinidad and Tobago', 'Tunisia', 'Turkey',\n",
    " 'Turkmenistan', 'Turks and Caicos Islands', 'Tuvalu', 'Uganda', 'Ukraine',\n",
    " 'United Arab Emirates', 'United Kingdom', 'United States',\n",
    " 'Uruguay', 'Uzbekistan', 'Vanuatu',\n",
    " 'Venezuela', 'Vietnam', 'Wallis and Futuna', 'Yemen', 'Zambia', 'Zimbabwe']\n",
    "\n",
    "df_filtered_country = df[df[\"country\"].isin(countries)].copy()\n",
    "\n",
    "print(df_filtered_country[\"country\"].unique())\n",
    "print(df_filtered_country[\"country\"].nunique())"
   ]
  },
  {
   "cell_type": "markdown",
   "id": "3ccfa834-2865-4a1a-a7dc-6cca50a7e24d",
   "metadata": {},
   "source": [
    "#Eliminar datos C02 = 0"
   ]
  },
  {
   "cell_type": "code",
   "execution_count": null,
   "id": "f0a0a799-3bec-4e4c-9f2d-94d82dde0962",
   "metadata": {},
   "outputs": [],
   "source": [
    "co2_zeros = (df[\"co2\"] == 0).sum()\n",
    "\n",
    "df = df.drop(df[df[\"co2\"] == 0].index)\n",
    "print(co2_zeros)"
   ]
  },
  {
   "cell_type": "code",
   "execution_count": null,
   "id": "5a9bdf8d-714a-4ed8-ab64-ce539a3a69a5",
   "metadata": {},
   "outputs": [],
   "source": [
    "df_it1 = df[[\"country\",\"year\",\"co2\",\"co2_including_luc\"]]\n",
    "\n",
    "\n",
    "info1 = pd.DataFrame({\n",
    "    \"Count\":df_it1.shape[0],\n",
    "    \"Null\":df_it1.isnull().sum(),\n",
    "    \"Null %\":df_it1.isnull().mean() * 100,\n",
    "    \"Zeros\":(df_it1 == 0).sum(),\n",
    "    \"Zeros %\":(df_it1 == 0).mean() * 100,\n",
    "    \"Unique\":df_it1.nunique(),\n",
    "    \"Duplicated\":(df_it1.duplicated() == True).sum(),\n",
    "    \"Under Zeros\":(df_it1[\"co2_including_luc\"] < 0).sum() \n",
    "})\n",
    "info1"
   ]
  },
  {
   "cell_type": "code",
   "execution_count": null,
   "id": "f865997e-6666-4640-bd2f-977ac05c3de8",
   "metadata": {},
   "outputs": [],
   "source": [
    "\n",
    "df_it1 = df[[ \"year\", \"co2\", \"co2_including_luc\"]].copy()\n",
    "\n",
    "\n",
    "info1 = pd.DataFrame({\n",
    "    \"Count\": [df_it1.shape[0]] * len(df_it1.columns),\n",
    "    \"Null\": df_it1.isnull().sum(),\n",
    "    \"Null %\": df_it1.isnull().mean() * 100,\n",
    "    \"Zeros\": (df_it1 == 0).sum(),\n",
    "    \"Zeros %\": (df_it1 == 0).mean() * 100,\n",
    "    \"Unique\": df_it1.nunique(),\n",
    "    \"Duplicated\": [df_it1.duplicated().sum()] * len(df_it1.columns),\n",
    "    \"Under Zeros\": (df_it1 < 0).sum()\n",
    "}, index=df_it1.columns)\n",
    "\n",
    "print(info1)\n",
    "df_it1[\"country\"] =df[\"country\"]\n",
    "df_it1.columns"
   ]
  },
  {
   "cell_type": "markdown",
   "id": "76bf6169-e755-4670-8be1-ceedfb9e08c1",
   "metadata": {},
   "source": [
    "Imputamos el valor de Co2 a co2_including_luc, cuando co2_including_luc < 0"
   ]
  },
  {
   "cell_type": "markdown",
   "id": "eeabf087-6be0-4638-9b03-0b32731b8379",
   "metadata": {},
   "source": [
    "### Which sectors are most responsible for emissions, and how has their\n",
    "### contribution varied over the decades?"
   ]
  },
  {
   "cell_type": "code",
   "execution_count": null,
   "id": "0993ca73-b9c6-4813-b0b0-0d749a7048ad",
   "metadata": {},
   "outputs": [],
   "source": [
    "df_it2 = df[[ \"year\",\"cement_co2\", \"coal_co2\",\"flaring_co2\", \"gas_co2\",\"land_use_change_co2\", \"oil_co2\"]].copy()\n",
    "\n",
    "info2 = pd.DataFrame({\n",
    "    \"Count\": [df_it2.shape[0]] * len(df_it2.columns),\n",
    "    \"Null\": df_it2.isnull().sum(),\n",
    "    \"Null %\": df_it2.isnull().mean() * 100,\n",
    "    \"Zeros\": (df_it2 == 0).sum(),\n",
    "    \"Zeros %\": (df_it2 == 0).mean() * 100,\n",
    "    \"Unique\": df_it2.nunique(),\n",
    "    \"Duplicated\": [df_it2.duplicated().sum()] * len(df_it2.columns),\n",
    "    \"Under Zeros\": (df_it2 < 0).sum()\n",
    "}, index=df_it2.columns)\n",
    "\n",
    "print(info2)"
   ]
  },
  {
   "cell_type": "code",
   "execution_count": null,
   "id": "d484588a-69a6-4bb5-977d-20f575ef1bb4",
   "metadata": {},
   "outputs": [],
   "source": [
    "df_it2_grouped = df_it2.groupby(\"year\").sum().reset_index()\n",
    "\n",
    "plt.figure(figsize=(10, 6))\n",
    "\n",
    "for column in df_it2_grouped.columns[1:]:\n",
    "    plt.plot(df_it2_grouped[\"year\"], df_it2_grouped[column], label=column)\n",
    "\n",
    "plt.xlabel(\"Year\")\n",
    "plt.ylabel(\"Emissions (MtCO2)\")\n",
    "plt.title(\"Evolution of Emissions by Source Over Time\")\n",
    "plt.legend(title=\"Emission Source\")\n",
    "plt.grid(True)\n",
    "plt.show()"
   ]
  },
  {
   "cell_type": "markdown",
   "id": "39b78900-b1cf-45a2-841c-93c597fe9f4f",
   "metadata": {},
   "source": [
    "#Total Co2 agrupado en años"
   ]
  },
  {
   "cell_type": "markdown",
   "id": "3246e804-632f-488a-8ac3-1035519aad4d",
   "metadata": {},
   "source": [
    "## histograma de valores nulos de cement"
   ]
  },
  {
   "cell_type": "code",
   "execution_count": null,
   "id": "1ca5513e-6d14-4490-8777-cd65872634f9",
   "metadata": {},
   "outputs": [],
   "source": [
    "df_cement_nulls = df[df[\"cement_co2\"].isnull()][[\"year\", \"cement_co2\"]]\n",
    "df_cement_nulls.head()\n",
    "\n",
    "info_cement = pd.DataFrame({\n",
    "    \"Count\": [df_cement_nulls.shape[0]] * len(df_cement_nulls.columns),\n",
    "    \"Null\": df_cement_nulls.isnull().sum(),\n",
    "    \"Null %\": df_cement_nulls.isnull().mean() * 100,\n",
    "    \"Zeros\": (df_cement_nulls == 0).sum(),\n",
    "    \"Zeros %\": (df_cement_nulls == 0).mean() * 100,\n",
    "    \"Unique\": df_cement_nulls.nunique(),\n",
    "    \"Duplicated\": [df_cement_nulls.duplicated().sum()] * len(df_cement_nulls.columns),\n",
    "    \"Under Zeros\": (df_cement_nulls < 0).sum()\n",
    "}, index=df_cement_nulls.columns)\n",
    "\n",
    "print(info_cement)\n",
    "\n",
    "sns.histplot(data=df_cement_nulls, x=\"year\")\n",
    "plt.show()"
   ]
  },
  {
   "cell_type": "markdown",
   "id": "9f90dc38-36f3-4985-bd32-ce1f10dbad39",
   "metadata": {},
   "source": [
    "## Después de comprobar los datos nulos y ver su irrelevancia, procedemos a eliminarlos."
   ]
  },
  {
   "cell_type": "code",
   "execution_count": null,
   "id": "4ed9e3d0-78aa-43ec-9004-2666fb6b707b",
   "metadata": {},
   "outputs": [],
   "source": [
    "df = df[~(df['cement_co2'].isnull() & (df['year'] > 1930))]\n",
    "df"
   ]
  },
  {
   "cell_type": "code",
   "execution_count": null,
   "id": "5fa4905d-9c49-4388-8796-af7ad8ab40ab",
   "metadata": {},
   "outputs": [],
   "source": [
    "df_cement_nulls = df[df[\"cement_co2\"].isnull()][[\"year\", \"cement_co2\"]]\n",
    "\n",
    "sns.histplot(data=df_cement_nulls, x=\"year\")\n",
    "plt.show()"
   ]
  },
  {
   "cell_type": "code",
   "execution_count": null,
   "id": "53cbeff8-7de2-445f-a74a-839159a3953a",
   "metadata": {
    "scrolled": true
   },
   "outputs": [],
   "source": [
    "info_oil = pd.DataFrame({\n",
    "    \"Count\": [df_it2.shape[0]] * len(df_it2.columns),\n",
    "    \"Null\": df_it2.isnull().sum(),\n",
    "    \"Null %\": df_it2.isnull().mean() * 100,\n",
    "    \"Zeros\": (df_it2 == 0).sum(),\n",
    "    \"Zeros %\": (df_it2 == 0).mean() * 100,\n",
    "    \"Unique\": df_it2.nunique(),\n",
    "    \"Duplicated\": [df_it2.duplicated().sum()] * len(df_it2.columns),\n",
    "    \"Under Zeros\": (df_it2 < 0).sum()\n",
    "}, index=df_it2.columns)\n",
    "\n",
    "print(info_oil)\n",
    "\n",
    "df_coal_zero = df[df[\"coal_co2\"] == 0][[\"year\", \"coal_co2\",\"country\"]]\n",
    "\n",
    "df_coal_zero_grouped = df_coal_zero.groupby(\"country\").count()\n",
    "print(df_coal_zero_grouped.sort_values(by=\"coal_co2\"))\n",
    "\n",
    "print(df_coal_zero[\"country\"].unique())\n",
    "sns.histplot(data=df_coal_zero, x=\"year\")\n",
    "plt.show()"
   ]
  },
  {
   "cell_type": "markdown",
   "id": "71d850fc-70af-4da8-9eca-5b517211e040",
   "metadata": {},
   "source": [
    "### Unificamos criterios\n",
    "\n",
    "los nulos pasan a ser ceros."
   ]
  },
  {
   "cell_type": "code",
   "execution_count": null,
   "id": "ee50d269-9aeb-4d45-b603-2a6be7d757a1",
   "metadata": {},
   "outputs": [],
   "source": [
    "columns_to_check = [\"cement_co2\", \"coal_co2\", \"flaring_co2\", \"gas_co2\", \"land_use_change_co2\", \"oil_co2\"]\n",
    "\n",
    "df[columns_to_check].fillna(0, inplace=True)\n",
    "\n",
    "info = pd.DataFrame({\n",
    "    \"Count\": [df.shape[0]] * len(columns_to_check),\n",
    "    \"Null\": df[columns_to_check].isnull().sum(),\n",
    "    \"Null %\": df[columns_to_check].isnull().mean() * 100,\n",
    "    \"Zeros\": (df[columns_to_check] == 0).sum(),\n",
    "    \"Zeros %\": (df[columns_to_check] == 0).mean() * 100,\n",
    "    \"Unique\": df[columns_to_check].nunique(),\n",
    "    \"Duplicated\": [df.duplicated().sum()] * len(columns_to_check),\n",
    "    \"Under Zeros\": (df[columns_to_check] < 0).sum()\n",
    "}, index=columns_to_check)\n",
    "\n",
    "print(info)\n"
   ]
  },
  {
   "cell_type": "markdown",
   "id": "91b0084a-b489-4362-a3cb-beb319e8aa95",
   "metadata": {},
   "source": [
    "## Comenzamos el análisis"
   ]
  },
  {
   "cell_type": "markdown",
   "id": "00261899-650f-482c-8d95-8f8f21410578",
   "metadata": {},
   "source": [
    "#### How has the global trend of CO2 emissions evolved, and which periods have shown significant changes in this trajectory?\n"
   ]
  },
  {
   "cell_type": "code",
   "execution_count": null,
   "id": "fe25db47-9f4c-4a41-b33d-a7b145450daf",
   "metadata": {},
   "outputs": [],
   "source": [
    "df_it1_grouped = df.groupby(\"year\")['co2'].sum().reset_index()\n",
    "\n",
    "plt.figure(figsize=(10, 6))\n",
    "\n",
    "plt.plot(df_it1_grouped[\"year\"], df_it1_grouped['co2'])\n",
    "\n",
    "plt.xlabel(\"Year\")\n",
    "plt.ylabel(\"Emissions (MtCO2)\")\n",
    "plt.title(\"Evolution of Emissions by Source Over Time\")\n",
    "plt.legend(title=\"Emission Source\")\n",
    "plt.grid(True)\n",
    "plt.show()"
   ]
  },
  {
   "cell_type": "code",
   "execution_count": null,
   "id": "78ec5be3-a0ff-4382-a602-2f583a5767d2",
   "metadata": {},
   "outputs": [],
   "source": [
    "df_world = df[df['country'] == 'World']\n",
    "df_world\n",
    "# skim(df_world)"
   ]
  },
  {
   "cell_type": "markdown",
   "id": "4781ed51-cd3f-42ae-89c1-c7cb6ac5bf65",
   "metadata": {},
   "source": [
    "SERGIO"
   ]
  },
  {
   "cell_type": "code",
   "execution_count": null,
   "id": "213de9f4-4c75-4918-b22f-b0e0516d5dc6",
   "metadata": {},
   "outputs": [],
   "source": [
    "df_filtered_country.info()\n",
    "\n",
    "df_filtered_country.sample()"
   ]
  },
  {
   "cell_type": "code",
   "execution_count": null,
   "id": "1107bbe7-b002-4256-99e8-1631315be2c4",
   "metadata": {},
   "outputs": [],
   "source": [
    "import pandas as pd\n",
    "\n",
    "# Filtrar el dataset solo para el año 2021\n",
    "df_2021 = df_filtered_country[df_filtered_country['year'] == 2021]\n",
    "\n",
    "# Obtener los 5 valores más altos de 'co2_per_capita'\n",
    "top_5_highest = df_filtered_country.nlargest(5, 'co2_per_capita')\n",
    "\n",
    "# Obtener los 5 valores más bajos de 'co2_per_capita'\n",
    "top_5_lowest = df_filtered_country.nsmallest(5, 'co2_per_capita')\n",
    "\n",
    "# Mostrar los resultados\n",
    "print(\"Top 5 Highest CO2 per Capita:\")\n",
    "print(top_5_highest[['country', 'year', 'co2_per_capita']])\n",
    "\n",
    "print(\"\\nTop 5 Lowest CO2 per Capita:\")\n",
    "print(top_5_lowest[['country', 'year', 'co2_per_capita']])\n"
   ]
  },
  {
   "cell_type": "code",
   "execution_count": null,
   "id": "456c470d-4f52-460e-9640-752a02dc38f8",
   "metadata": {},
   "outputs": [],
   "source": [
    "import pandas as pd\n",
    "import matplotlib.pyplot as plt\n",
    "\n",
    "# Supongamos que df_filtered_country ya se ha definido como en el código anterior.\n",
    "\n",
    "# Calcular el total de emisiones de CO2 por año\n",
    "total_co2_per_year = df_filtered_country.groupby('year')['co2'].sum().reset_index()\n",
    "total_co2_per_year.rename(columns={'co2': 'total_co2'}, inplace=True)\n",
    "\n",
    "# Combinar el total con el DataFrame original\n",
    "df_with_total = df_filtered_country.merge(total_co2_per_year, on='year')\n",
    "\n",
    "# Calcular el porcentaje de emisiones de CO2\n",
    "df_with_total['co2_percentage'] = (df_with_total['co2'] / df_with_total['total_co2']) * 100\n",
    "\n",
    "# Obtener los 4 países con mayores emisiones por año\n",
    "top_countries = df_with_total.groupby('country')['co2_percentage'].sum().nlargest(4).index.tolist()\n",
    "\n",
    "# Asegurarse de que \"United Kingdom\" esté entre los países principales\n",
    "if 'United Kingdom' not in top_countries:\n",
    "    top_countries.append('United Kingdom')\n",
    "\n",
    "# Agrupar el resto de los países\n",
    "df_with_total['country_group'] = df_with_total['country'].apply(lambda x: x if x in top_countries else 'Resto del mundo')\n",
    "grouped_data = df_with_total.groupby(['year', 'country_group'])['co2_percentage'].sum().reset_index()\n",
    "\n",
    "# Pivotar el DataFrame para el gráfico de áreas\n",
    "pivot_data = grouped_data.pivot(index='year', columns='country_group', values='co2_percentage').fillna(0)\n",
    "\n",
    "# Reordenar las columnas para que 'United Kingdom' esté al principio y 'Otros' al final\n",
    "ordered_columns = ['United Kingdom'] + [col for col in pivot_data.columns if col not in ['United Kingdom', 'Resto del mundo']] + ['Resto del mundo']\n",
    "pivot_data = pivot_data[ordered_columns]\n",
    "\n",
    "\n",
    "# Crear el gráfico de áreas\n",
    "plt.figure(figsize=(12, 6))\n",
    "pivot_data.plot(kind='area', alpha=0.5, stacked=True, figsize=(12, 6))\n",
    "plt.title('Porcentaje de Emisiones de CO2 por País y Año')\n",
    "plt.xlabel('Año')\n",
    "plt.ylabel('Porcentaje de Emisiones de CO2')\n",
    "plt.legend(title='Países', bbox_to_anchor=(1.05, 1), loc='upper left')  # Mover la leyenda si es necesario\n",
    "plt.grid(axis='y')\n",
    "plt.show()\n"
   ]
  },
  {
   "cell_type": "code",
   "execution_count": null,
   "id": "ddca5ab3-d2a0-4b10-9ea5-5e4dee1395be",
   "metadata": {},
   "outputs": [],
   "source": [
    "df_filtered_country[\"country\"].nunique()"
   ]
  },
  {
   "cell_type": "code",
   "execution_count": null,
   "id": "13cabf6a-b237-428c-a818-8dfcc43e2ea5",
   "metadata": {},
   "outputs": [],
   "source": [
    "# Agrupar por 'country' y sumar las emisiones totales de 'co2' a lo largo de todos los años\n",
    "top10_countries_co2 = (df_filtered_country\n",
    "                       .groupby('country', as_index=False)['co2']\n",
    "                       .sum()\n",
    "                       .sort_values(by='co2', ascending=False)\n",
    "                       .head(10))\n",
    "\n",
    "# Mostrar el resultado\n",
    "print(top10_countries_co2)\n"
   ]
  },
  {
   "cell_type": "code",
   "execution_count": null,
   "id": "02e6d6a6-fbaa-4876-8e87-ff08d2cff0c5",
   "metadata": {},
   "outputs": [],
   "source": [
    "import seaborn as sns\n",
    "import matplotlib.pyplot as plt\n",
    "from matplotlib.ticker import FuncFormatter\n",
    "\n",
    "# Configurar el estilo de Seaborn\n",
    "sns.set(style=\"whitegrid\")\n",
    "\n",
    "# Función para formatear los valores en miles\n",
    "def thousands_formatter(x, pos):\n",
    "    return f'{int(x / 1000)}k'\n",
    "\n",
    "# Ordenar el DataFrame en orden descendente por emisiones de CO₂\n",
    "top10_countries_co2 = top10_countries_co2.sort_values(by='co2', ascending=True)\n",
    "\n",
    "# Crear el gráfico de barras horizontal con Seaborn\n",
    "plt.figure(figsize=(10, 6))\n",
    "ax = sns.barplot(\n",
    "    x='co2',\n",
    "    y='country',\n",
    "    data=top10_countries_co2,\n",
    "    color='skyblue'\n",
    ")\n",
    "\n",
    "# Configurar etiquetas y título\n",
    "ax.set_xlabel('Total CO₂ Emissions (MtCO₂)')\n",
    "ax.set_ylabel('Country')\n",
    "ax.set_title('Top 10 Countries with Highest Total CO₂ Emissions Over Time')\n",
    "\n",
    "# Invertir el eje y para mostrar el país con más emisiones en la parte superior\n",
    "ax.invert_yaxis()\n",
    "\n",
    "# Aplicar el formato de miles al eje x\n",
    "ax.xaxis.set_major_formatter(FuncFormatter(thousands_formatter))\n",
    "\n",
    "plt.show()\n"
   ]
  },
  {
   "cell_type": "markdown",
   "id": "fdc3db4b-22fe-4ad7-93b8-28bb76b5d7ab",
   "metadata": {},
   "source": [
    "Análisis de los factores que han influido en las emisiones de CO₂ de los siguientes países y su contribución al efecto invernadero:\n",
    "\n",
    "Estados Unidos: Como líder industrial y de consumo, EE.UU. tiene históricamente altas emisiones debido a su dependencia de los combustibles \n",
    "fósiles, especialmente para el transporte y la industria. Aunque ha avanzado en energías renovables, la influencia de políticas industriales y \n",
    "la economía basada en el consumo han mantenido altas sus emisiones de CO₂​.\n",
    "\n",
    "China: Desde su rápida industrialización en las últimas décadas, China se ha convertido en el mayor emisor mundial de CO₂. \n",
    "Las políticas de crecimiento económico, el aumento en la producción de carbón y el auge de la manufactura intensiva han elevado sus emisiones. \n",
    "Sin embargo, China también ha comenzado a invertir en energías renovables y en una política de \"carbono cero\" para el 2060​.\n",
    "\n",
    "Rusia: Rusia tiene importantes emisiones relacionadas tanto con la extracción de combustibles fósiles (petróleo y gas) como con la deforestación \n",
    "y los incendios en Siberia. Aunque el país se ha unido a acuerdos internacionales, su economía basada en la exportación de hidrocarburos \n",
    "y su vasto territorio forestal han complicado los esfuerzos para reducir sus emisiones​.\n",
    "\n",
    "Alemania: Con una política climática avanzada, Alemania ha reducido sus emisiones a través de su Energiewende, que fomenta el uso de energías renovables \n",
    "y la transición del carbón a fuentes más limpias. Sin embargo, su gran industria manufacturera y la dependencia inicial del carbón han sido barreras \n",
    "que han limitado un progreso más rápido​.\n",
    "\n",
    "Reino Unido: El Reino Unido ha logrado reducir significativamente sus emisiones desde los años 90 gracias a la descarbonización y \n",
    "la transición del carbón al gas natural y a las energías renovables. Las políticas de regulación y los compromisos climáticos internacionales \n",
    "han sido cruciales en este avance​.\n",
    "\n",
    "Japón: Japón enfrenta desafíos en la reducción de sus emisiones debido a su alta densidad de población y falta de recursos naturales. \n",
    "Desde el desastre de Fukushima, el país ha reducido su dependencia nuclear y aumentado el uso de gas y carbón, aunque está avanzando en \n",
    "renovables y tiene planes ambiciosos de reducción de CO₂​.\n",
    "\n",
    "India: Con una economía en crecimiento, India ha aumentado sus emisiones debido a la demanda de electricidad y al uso de carbón en la \n",
    "industria y generación de energía. Aunque el país apuesta por la energía solar y otros renovables, su crecimiento poblacional y económico \n",
    "han dificultado una transición rápida​."
   ]
  },
  {
   "cell_type": "code",
   "execution_count": null,
   "id": "13b505b0-b0c6-4c7a-9d0e-418537a4128a",
   "metadata": {},
   "outputs": [],
   "source": [
    "# Filtrar los datos para considerar solo los registros con 'year' > 2000\n",
    "df_filtered_year = df_filtered_country[df_filtered_country['year'] > 2000]\n",
    "\n",
    "# Agrupar por 'country' y sumar las emisiones totales de 'co2' a lo largo de los años filtrados\n",
    "top10_countries_co2 = (df_filtered_year\n",
    "                       .groupby('country', as_index=False)['co2']\n",
    "                       .sum()\n",
    "                       .sort_values(by='co2', ascending=False)\n",
    "                       .head(10))\n",
    "\n",
    "# Mostrar el resultado\n",
    "print(top10_countries_co2)\n"
   ]
  },
  {
   "cell_type": "code",
   "execution_count": null,
   "id": "ff820b8f-f712-4ce7-b09d-863a24c33488",
   "metadata": {},
   "outputs": [],
   "source": [
    "import matplotlib.pyplot as plt\n",
    "import seaborn as sns\n",
    "\n",
    "# Filtrar los datos para considerar solo los registros con 'year' > 2000\n",
    "df_filtered_year = df_filtered_country[df_filtered_country['year'] > 2000]\n",
    "\n",
    "# Agrupar por 'country' y sumar las emisiones totales de 'co2' a lo largo de los años filtrados\n",
    "top10_countries_co2 = (df_filtered_year\n",
    "                       .groupby('country', as_index=False)['co2']\n",
    "                       .sum()\n",
    "                       .sort_values(by='co2', ascending=False)\n",
    "                       .head(10))\n",
    "\n",
    "# Crear un gráfico de barras (Bar Chart)\n",
    "plt.figure(figsize=(10, 6))\n",
    "sns.barplot(data=top10_countries_co2, x='country', y='co2', palette='coolwarm')\n",
    "plt.title('Top 10 Countries with Highest CO2 Emissions (s.XXI)', fontsize=16)\n",
    "plt.xlabel('Country', fontsize=12)\n",
    "plt.ylabel('Total CO2 Emissions (MtCO₂)', fontsize=12)\n",
    "plt.xticks(rotation=45)\n",
    "plt.tight_layout()\n",
    "\n",
    "def thousands_formatter(x, pos):\n",
    "    return f'{int(x / 1000)}k'\n",
    "\n",
    "plt.gca().yaxis.set_major_formatter(FuncFormatter(thousands_formatter))\n",
    "plt.show()\n"
   ]
  },
  {
   "cell_type": "code",
   "execution_count": null,
   "id": "3fca035f-3ba1-4840-ad44-536f1af86f39",
   "metadata": {},
   "outputs": [],
   "source": [
    "import matplotlib.pyplot as plt\n",
    "import seaborn as sns\n",
    "import pandas as pd\n",
    "\n",
    "# Filtrar los datos para considerar solo los registros con 'year' > 2000\n",
    "df_filtered_year = df_filtered_country[df_filtered_country['year'] > 2000]\n",
    "\n",
    "# Agrupar por 'country' y sumar las emisiones totales de 'co2' a lo largo de los años filtrados\n",
    "top5_countries_co2 = (df_filtered_year\n",
    "                       .groupby('country', as_index=False)['co2']\n",
    "                       .sum()\n",
    "                       .sort_values(by='co2', ascending=False)\n",
    "                       .head(5))\n",
    "\n",
    "# Agregar una categoría 'Other countries' para los países restantes\n",
    "other_countries_co2 = df_filtered_year.groupby('country', as_index=False)['co2'].sum()\n",
    "other_countries_co2 = other_countries_co2[~other_countries_co2['country'].isin(top5_countries_co2['country'])]\n",
    "other_countries_total = other_countries_co2['co2'].sum()\n",
    "\n",
    "# Crear un DataFrame para la categoría 'Other countries'\n",
    "other_countries_df = pd.DataFrame({'country': ['Other countries'], 'co2': [other_countries_total]})\n",
    "\n",
    "# Usar pd.concat() para agregar la fila de 'Other countries' al DataFrame top10_countries_co2\n",
    "top5_countries_co2 = pd.concat([top5_countries_co2, other_countries_df], ignore_index=True)\n",
    "\n",
    "# Crear un gráfico de pastel (Pie Chart)\n",
    "plt.figure(figsize=(8, 8))\n",
    "plt.pie(top5_countries_co2['co2'], labels=top5_countries_co2['country'], autopct='%1.1f%%', colors=sns.color_palette('coolwarm', len(top5_countries_co2)))\n",
    "plt.title('Distribution of CO2 Emissions by Country (s.XXI)', fontsize=16)\n",
    "plt.axis('equal')  # Equal aspect ratio ensures that pie is drawn as a circle.\n",
    "plt.show()\n"
   ]
  },
  {
   "cell_type": "code",
   "execution_count": null,
   "id": "064a9ef2-921e-441d-83b4-41bf94564e6f",
   "metadata": {},
   "outputs": [],
   "source": [
    "import seaborn as sns\n",
    "import matplotlib.pyplot as plt\n",
    "from matplotlib.ticker import FuncFormatter\n",
    "\n",
    "# Agrupar por 'country' y sumar las emisiones totales de 'land_use_change_co2' a lo largo de todos los años\n",
    "top10_countries_co2 = (df_filtered_country\n",
    "                       .groupby('country', as_index=False)['land_use_change_co2']\n",
    "                       .sum()\n",
    "                       .sort_values(by='land_use_change_co2', ascending=False)\n",
    "                       .head(10))\n",
    "\n",
    "# Mostrar el resultado\n",
    "print(top10_countries_co2)\n",
    "\n",
    "\n",
    "\n",
    "# Crear el gráfico de barras con Seaborn\n",
    "plt.figure(figsize=(10, 6))\n",
    "ax = sns.barplot(\n",
    "    data=top10_countries_co2,\n",
    "    x='land_use_change_co2',\n",
    "    y='country',\n",
    "    color='skyblue'\n",
    ")\n",
    "\n",
    "# Configurar etiquetas y título\n",
    "ax.set_xlabel('Total CO₂ Emissions (TnCO₂)')\n",
    "ax.set_ylabel('')\n",
    "ax.set_title('Top 10 Countries - CO₂ emissions caused by land use change')\n",
    "plt.yticks(rotation=45)\n",
    "\n",
    "\n",
    "# Función para formatear los valores en miles (k)\n",
    "def thousands_formatter(x, pos):\n",
    "    return f'{int(x / 1000)}k'\n",
    "\n",
    "plt.gca().xaxis.set_major_formatter(FuncFormatter(thousands_formatter))\n",
    "\n",
    "plt.show()\n"
   ]
  },
  {
   "cell_type": "markdown",
   "id": "1ceb36bc-3f8b-457f-9aef-0f396e06969c",
   "metadata": {},
   "source": [
    "Los países con mayores emisiones de CO2 derivadas del cambio de uso de la tierra desde la Revolución Industrial (1850):\n",
    "\n",
    "Estados Unidos: Aunque las emisiones derivadas del cambio de uso del suelo en Estados Unidos han disminuido en las últimas décadas gracias a la reforestación y a una mejor gestión de la tierra, el desmonte histórico de tierras para la agricultura y el desarrollo urbano ha dejado un gran impacto acumulativo. Durante la expansión hacia el oeste y el período de industrialización, grandes extensiones de bosque se convirtieron en tierras de cultivo y asentamientos, liberando con el tiempo una cantidad considerable de CO₂. En la actualidad, EE.UU. ha pasado a la reforestación neta en algunas zonas, pero el impacto acumulativo de los primeros cambios industriales en el uso del suelo sigue presente.\n",
    "\n",
    "Brasil: Brasil tiene un alto índice de emisiones debido a la tala a gran escala de la selva amazónica, en gran parte para la ganadería y la producción de soja. Esta deforestación es importante porque los bosques tropicales son importantes sumideros de carbono, ya que almacenan grandes cantidades de CO₂. Su tala libera este carbono almacenado, y el cambio en el uso de la tierra -de bosque a agricultura- contribuye aún más a las emisiones en curso. Dado que Brasil tiene uno de los mayores bosques tropicales que quedan, la escala de la deforestación tiene un profundo impacto en los niveles globales de CO₂.\n",
    "\n",
    "Rusia: Desde la Revolución Industrial, las emisiones de CO₂ de Rusia por cambio de uso de suelo han estado ligadas a su intensa deforestación y expansión agrícola, especialmente durante la era soviética, cuando se transformaron vastas áreas para la agricultura e industria. Tras la caída de la URSS, estas emisiones bajaron por la desaceleración económica. En la actualidad, los incendios forestales y el deshielo del permafrost son fuentes emergentes de emisiones. Aunque Rusia confía en sus bosques como sumideros de carbono, su compromiso con políticas climáticas proactivas ha sido limitado."
   ]
  },
  {
   "cell_type": "code",
   "execution_count": null,
   "id": "2a1be0a8-57d8-4888-a1e4-a9eec1240114",
   "metadata": {},
   "outputs": [],
   "source": [
    "# Filtrar los datos para considerar solo los registros con 'year' > 2000\n",
    "df_filtered_year = df_filtered_country[df_filtered_country['year'] > 2000]\n",
    "\n",
    "# Agrupar por 'country' y sumar las emisiones totales de 'co2' a lo largo de todos los años\n",
    "top5_countries_co2_ref = (df_filtered_year\n",
    "                       .groupby('country', as_index=False)['land_use_change_co2']\n",
    "                       .sum()\n",
    "                       .sort_values(by='land_use_change_co2', ascending=True)\n",
    "                       .head(5))\n",
    "\n",
    "# Agrupar por 'country' y sumar las emisiones totales de 'co2' a lo largo de todos los años\n",
    "top5_countries_co2_def = (df_filtered_year\n",
    "                       .groupby('country', as_index=False)['land_use_change_co2']\n",
    "                       .sum()\n",
    "                       .sort_values(by='land_use_change_co2', ascending=False)\n",
    "                       .head(5))\n",
    "\n",
    "# Mostrar el resultado\n",
    "print(top5_countries_co2_ref)\n",
    "print(top5_countries_co2_def)\n",
    "\n",
    "import matplotlib.pyplot as plt\n",
    "\n",
    "# Crear el gráfico de barras\n",
    "plt.figure(figsize=(10, 6))\n",
    "plt.barh(top5_countries_co2_def['country'], top5_countries_co2_def['land_use_change_co2'], color='skyblue')\n",
    "plt.xlabel('Total CO₂ Emissions (TnCO₂)')\n",
    "plt.yticks(rotation=45)\n",
    "plt.title('Top 5 Countries LUC CO₂ emissions')\n",
    "plt.gca().invert_yaxis()  # Invertir el eje y para mostrar el país con más emisiones en la parte superior\n",
    "\n",
    "# Función para formatear los valores en miles (k)\n",
    "def thousands_formatter(x, pos):\n",
    "    return f'{int(x / 1000)}k'\n",
    "\n",
    "plt.gca().xaxis.set_major_formatter(FuncFormatter(thousands_formatter))\n",
    "\n",
    "plt.show()"
   ]
  },
  {
   "cell_type": "markdown",
   "id": "8c882378-56db-4776-8344-34d1edc37730",
   "metadata": {},
   "source": [
    "Los cinco países con mayores emisiones de CO2 derivadas del cambio de uso de la tierra en el siglo XXI:\n",
    "Especialmente la deforestación y la expansión de la agricultura, contribuyen significativamente a las emisiones mundiales de CO2.\n",
    "\n",
    "Brasil. Mencionado anteriormente.\n",
    "\n",
    "Indonesia: Del mismo modo, Indonesia experimenta emisiones significativas debido a la deforestación, a menudo impulsada por las plantaciones de aceite de palma y otras expansiones agrícolas. Los incendios forestales, tanto intencionados como accidentales, también contribuyen a importantes emisiones de CO2.\n",
    "\n",
    "República Democrática del Congo (RDC): La RDC, con sus vastos bosques tropicales, se enfrenta a una importante deforestación debido a la agricultura y la extracción de madera.\n",
    "\n",
    "China: Aunque China ha avanzado en la restauración forestal, la rápida urbanización y el desarrollo agrícola de las últimas décadas han provocado elevadas emisiones derivadas del cambio de uso del suelo.\n",
    "\n",
    "\n"
   ]
  },
  {
   "cell_type": "code",
   "execution_count": null,
   "id": "443994ea-76a8-4a05-83a2-7b68e3671740",
   "metadata": {},
   "outputs": [],
   "source": []
  }
 ],
 "metadata": {
  "kernelspec": {
   "display_name": "Python 3 (ipykernel)",
   "language": "python",
   "name": "python3"
  },
  "language_info": {
   "codemirror_mode": {
    "name": "ipython",
    "version": 3
   },
   "file_extension": ".py",
   "mimetype": "text/x-python",
   "name": "python",
   "nbconvert_exporter": "python",
   "pygments_lexer": "ipython3",
   "version": "3.12.4"
  }
 },
 "nbformat": 4,
 "nbformat_minor": 5
}
