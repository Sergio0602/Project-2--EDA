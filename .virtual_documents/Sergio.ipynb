from skimpy import skim #data summary
import pandas as pd
import numpy as np
import matplotlib.pyplot as plt
import charset_normalizer
import seaborn as sns
import plotly.express as px #interactive visualization
import charset_normalizer


with open("visualizing_global_co2_data_cleaned.csv", 'rb') as rawdata:
    result = charset_normalizer.detect(rawdata.read(10000))
print(result)


data = pd.read_csv('visualizing_global_co2_data_cleaned.csv', encoding = 'ascii')
df = pd.DataFrame(data)



skim(df)


 info = pd.DataFrame({
    "Count":df.shape[0],
    "Null":df.isnull().sum(),
    "Null %":df.isnull().mean() * 100,
    "Zeros":(df == 0).sum(),
    "Zeros %":(df == 0).mean() * 100,
    "Unique":df.nunique(),
    "Duplicated":(df.duplicated() == True).sum(),
  
})
info
print(df["country"].nunique())

print(df["iso_code"].nunique())
print(df["country"].unique())



non_countries = [
    "Africa", "Asia", "Asia (excl. China and India)", "Europe", "Europe (excl. EU-27)",
    "Europe (excl. EU-28)", "European Union (27)", "European Union (28)", 
    "High-income countries", "Low-income countries", "Lower-middle-income countries", 
    "North America", "North America (excl. USA)", "Oceania", "South America",'Upper-middle-income countries', "World"
]

countries = ['Afghanistan', 'Albania', 'Algeria', 'Andorra', 'Angola', 'Anguilla',
 'Antigua and Barbuda', 'Argentina', 'Armenia', 'Aruba', 'Australia', 'Austria', 'Azerbaijan',
 'Bahamas', 'Bahrain', 'Bangladesh', 'Barbados', 'Belarus', 'Belgium', 'Belize',
 'Benin', 'Bermuda', 'Bhutan', 'Bolivia', 'Bonaire Sint Eustatius and Saba',
 'Bosnia and Herzegovina', 'Botswana', 'Brazil', 'British Virgin Islands',
 'Brunei', 'Bulgaria', 'Burkina Faso', 'Burundi', 'Cambodia', 'Cameroon',
 'Canada', 'Cape Verde', 'Central African Republic', 'Chad', 'Chile', 'China',
 'Colombia', 'Comoros', 'Congo', 'Cook Islands', 'Costa Rica', "Cote d'Ivoire",
 'Croatia', 'Cuba', 'Curacao', 'Cyprus', 'Czechia',
 'Democratic Republic of Congo', 'Denmark', 'Djibouti', 'Dominica',
 'Dominican Republic', 'East Timor', 'Ecuador', 'Egypt', 'El Salvador',
 'Equatorial Guinea', 'Eritrea', 'Estonia', 'Eswatini', 'Ethiopia',
 'Faroe Islands', 'Fiji', 'Finland', 'France',
 'French Guiana', 'French Polynesia', 'Gabon', 'Gambia', 'Georgia', 'Germany',
 'Ghana', 'Greece', 'Greenland', 'Grenada', 'Guadeloupe', 'Guatemala', 'Guinea',
 'Guinea-Bissau', 'Guyana', 'Haiti', 'Honduras', 'Hong Kong', 'Hungary',
 'Iceland', 'India', 'Indonesia', 'Iran', 'Iraq',
 'Ireland', 'Israel', 'Italy', 'Jamaica', 'Japan', 'Jordan', 'Kazakhstan',
 'Kenya', 'Kiribati', 'Kosovo', 'Kuwait', 'Kyrgyzstan', 'Laos', 'Latvia',
 'Lebanon', 'Lesotho', 'Liberia', 'Libya', 'Liechtenstein', 'Lithuania',
 'Luxembourg', 'Macao', 'Madagascar', 'Malawi', 'Malaysia', 'Maldives', 'Mali', 'Malta',
 'Marshall Islands', 'Martinique', 'Mauritania', 'Mauritius', 'Mayotte',
 'Mexico', 'Micronesia (country)', 'Moldova', 'Mongolia', 'Montenegro',
 'Montserrat', 'Morocco', 'Mozambique', 'Myanmar', 'Namibia', 'Nauru', 'Nepal',
 'Netherlands', 'New Caledonia', 'New Zealand', 'Nicaragua', 'Niger', 'Nigeria',
 'Niue', 'North Korea', 'North Macedonia', 'Norway', 'Oman', 'Pakistan', 'Palau',
 'Palestine', 'Panama', 'Papua New Guinea', 'Paraguay', 'Peru', 'Philippines',
 'Poland', 'Portugal', 'Puerto Rico', 'Qatar', 'Reunion', 'Romania', 'Russia',
 'Rwanda', 'Saint Helena', 'Saint Kitts and Nevis', 'Saint Lucia',
 'Saint Pierre and Miquelon', 'Saint Vincent and the Grenadines', 'Samoa',
 'Sao Tome and Principe', 'Saudi Arabia', 'Senegal', 'Serbia', 'Seychelles',
 'Sierra Leone', 'Singapore', 'Sint Maarten (Dutch part)', 'Slovakia',
 'Slovenia', 'Solomon Islands', 'Somalia', 'South Africa', 'South Korea',
 'South Sudan', 'Spain', 'Sri Lanka', 'Sudan', 'Suriname',
 'Sweden', 'Switzerland', 'Syria', 'Taiwan', 'Tajikistan', 'Tanzania',
 'Thailand', 'Togo', 'Tonga', 'Trinidad and Tobago', 'Tunisia', 'Turkey',
 'Turkmenistan', 'Turks and Caicos Islands', 'Tuvalu', 'Uganda', 'Ukraine',
 'United Arab Emirates', 'United Kingdom', 'United States',
 'Uruguay', 'Uzbekistan', 'Vanuatu',
 'Venezuela', 'Vietnam', 'Wallis and Futuna', 'Yemen', 'Zambia', 'Zimbabwe']

df_filtered_country = df[df["country"].isin(countries)].copy()

print(df_filtered_country["country"].unique())
print(df_filtered_country["country"].nunique())





co2_zeros = (df["co2"] == 0).sum()

df = df.drop(df[df["co2"] == 0].index)
print(co2_zeros)


df_it1 = df[["country","year","co2","co2_including_luc"]]


info1 = pd.DataFrame({
    "Count":df_it1.shape[0],
    "Null":df_it1.isnull().sum(),
    "Null %":df_it1.isnull().mean() * 100,
    "Zeros":(df_it1 == 0).sum(),
    "Zeros %":(df_it1 == 0).mean() * 100,
    "Unique":df_it1.nunique(),
    "Duplicated":(df_it1.duplicated() == True).sum(),
    "Under Zeros":(df_it1["co2_including_luc"] < 0).sum() 
})
info1



df_it1 = df[[ "year", "co2", "co2_including_luc"]].copy()


info1 = pd.DataFrame({
    "Count": [df_it1.shape[0]] * len(df_it1.columns),
    "Null": df_it1.isnull().sum(),
    "Null %": df_it1.isnull().mean() * 100,
    "Zeros": (df_it1 == 0).sum(),
    "Zeros %": (df_it1 == 0).mean() * 100,
    "Unique": df_it1.nunique(),
    "Duplicated": [df_it1.duplicated().sum()] * len(df_it1.columns),
    "Under Zeros": (df_it1 < 0).sum()
}, index=df_it1.columns)

print(info1)
df_it1["country"] =df["country"]
df_it1.columns








df_it2 = df[[ "year","cement_co2", "coal_co2","flaring_co2", "gas_co2","land_use_change_co2", "oil_co2"]].copy()

info2 = pd.DataFrame({
    "Count": [df_it2.shape[0]] * len(df_it2.columns),
    "Null": df_it2.isnull().sum(),
    "Null %": df_it2.isnull().mean() * 100,
    "Zeros": (df_it2 == 0).sum(),
    "Zeros %": (df_it2 == 0).mean() * 100,
    "Unique": df_it2.nunique(),
    "Duplicated": [df_it2.duplicated().sum()] * len(df_it2.columns),
    "Under Zeros": (df_it2 < 0).sum()
}, index=df_it2.columns)

print(info2)


df_it2_grouped = df_it2.groupby("year").sum().reset_index()

plt.figure(figsize=(10, 6))

for column in df_it2_grouped.columns[1:]:
    plt.plot(df_it2_grouped["year"], df_it2_grouped[column], label=column)

plt.xlabel("Year")
plt.ylabel("Emissions (MtCO2)")
plt.title("Evolution of Emissions by Source Over Time")
plt.legend(title="Emission Source")
plt.grid(True)
plt.show()








df_cement_nulls = df[df["cement_co2"].isnull()][["year", "cement_co2"]]
df_cement_nulls.head()

info_cement = pd.DataFrame({
    "Count": [df_cement_nulls.shape[0]] * len(df_cement_nulls.columns),
    "Null": df_cement_nulls.isnull().sum(),
    "Null %": df_cement_nulls.isnull().mean() * 100,
    "Zeros": (df_cement_nulls == 0).sum(),
    "Zeros %": (df_cement_nulls == 0).mean() * 100,
    "Unique": df_cement_nulls.nunique(),
    "Duplicated": [df_cement_nulls.duplicated().sum()] * len(df_cement_nulls.columns),
    "Under Zeros": (df_cement_nulls < 0).sum()
}, index=df_cement_nulls.columns)

print(info_cement)

sns.histplot(data=df_cement_nulls, x="year")
plt.show()





df = df[~(df['cement_co2'].isnull() & (df['year'] > 1930))]
df


df_cement_nulls = df[df["cement_co2"].isnull()][["year", "cement_co2"]]

sns.histplot(data=df_cement_nulls, x="year")
plt.show()


info_oil = pd.DataFrame({
    "Count": [df_it2.shape[0]] * len(df_it2.columns),
    "Null": df_it2.isnull().sum(),
    "Null %": df_it2.isnull().mean() * 100,
    "Zeros": (df_it2 == 0).sum(),
    "Zeros %": (df_it2 == 0).mean() * 100,
    "Unique": df_it2.nunique(),
    "Duplicated": [df_it2.duplicated().sum()] * len(df_it2.columns),
    "Under Zeros": (df_it2 < 0).sum()
}, index=df_it2.columns)

print(info_oil)

df_coal_zero = df[df["coal_co2"] == 0][["year", "coal_co2","country"]]

df_coal_zero_grouped = df_coal_zero.groupby("country").count()
print(df_coal_zero_grouped.sort_values(by="coal_co2"))

print(df_coal_zero["country"].unique())
sns.histplot(data=df_coal_zero, x="year")
plt.show()





columns_to_check = ["cement_co2", "coal_co2", "flaring_co2", "gas_co2", "land_use_change_co2", "oil_co2"]

df[columns_to_check].fillna(0, inplace=True)

info = pd.DataFrame({
    "Count": [df.shape[0]] * len(columns_to_check),
    "Null": df[columns_to_check].isnull().sum(),
    "Null %": df[columns_to_check].isnull().mean() * 100,
    "Zeros": (df[columns_to_check] == 0).sum(),
    "Zeros %": (df[columns_to_check] == 0).mean() * 100,
    "Unique": df[columns_to_check].nunique(),
    "Duplicated": [df.duplicated().sum()] * len(columns_to_check),
    "Under Zeros": (df[columns_to_check] < 0).sum()
}, index=columns_to_check)

print(info)









df_it1_grouped = df.groupby("year")['co2'].sum().reset_index()

plt.figure(figsize=(10, 6))

plt.plot(df_it1_grouped["year"], df_it1_grouped['co2'])

plt.xlabel("Year")
plt.ylabel("Emissions (MtCO2)")
plt.title("Evolution of Emissions by Source Over Time")
plt.legend(title="Emission Source")
plt.grid(True)
plt.show()


df_world = df[df['country'] == 'World']
df_world
# skim(df_world)





df_filtered_country.info()

df_filtered_country.sample()


df_filtered_country["country"].nunique()


# Agrupar por 'country' y sumar las emisiones totales de 'co2' a lo largo de todos los años
top10_countries_co2 = (df_filtered_country
                       .groupby('country', as_index=False)['co2']
                       .sum()
                       .sort_values(by='co2', ascending=False)
                       .head(10))

# Mostrar el resultado
print(top10_countries_co2)



import matplotlib.pyplot as plt

# Crear el gráfico de barras
plt.figure(figsize=(10, 6))
plt.barh(top10_countries_co2['country'], top10_countries_co2['co2'], color='skyblue')
plt.xlabel('Total CO₂ Emissions')
plt.ylabel('Country')
plt.title('Top 10 Countries with Highest Total CO₂ Emissions Over Time')
plt.gca().invert_yaxis()  # Invertir el eje y para mostrar el país con más emisiones en la parte superior
plt.show()



import pandas as pd
import matplotlib.pyplot as plt

# Agrupar los datos por 'year' y sumar las emisiones de CO2
co2_trend = df_filtered_country.groupby('year', as_index=False)['co2'].sum()

# Crear un gráfico de líneas
plt.figure(figsize=(14, 8))
plt.plot(co2_trend['year'], co2_trend['co2'], color='blue', marker='', linestyle='-')

# Personalizar el gráfico
plt.title('Trend of Global CO₂ Emissions Over Time', fontsize=16)
plt.xlabel('Year', fontsize=14)
plt.ylabel('Tn CO₂ en millones', fontsize=14)
plt.grid()
plt.xticks(rotation=45)  # Rotar las etiquetas del eje x para mejor visibilidad
plt.tight_layout()  # Ajustar el diseño
plt.show()



import pandas as pd
import matplotlib.pyplot as plt

# Supongamos que df_filtered_country ya se ha definido como en el código anterior.

# Calcular el total de emisiones de CO2 por año
total_co2_per_year = df_filtered_country.groupby('year')['co2'].sum().reset_index()
total_co2_per_year.rename(columns={'co2': 'total_co2'}, inplace=True)

# Combinar el total con el DataFrame original
df_with_total = df_filtered_country.merge(total_co2_per_year, on='year')

# Calcular el porcentaje de emisiones de CO2
df_with_total['co2_percentage'] = (df_with_total['co2'] / df_with_total['total_co2']) * 100

# Obtener los 4 países con mayores emisiones por año
top_countries = df_with_total.groupby('country')['co2_percentage'].sum().nlargest(4).index.tolist()

# Asegurarse de que "United Kingdom" esté entre los países principales
if 'United Kingdom' not in top_countries:
    top_countries.append('United Kingdom')

# Agrupar el resto de los países
df_with_total['country_group'] = df_with_total['country'].apply(lambda x: x if x in top_countries else 'Resto del mundo')
grouped_data = df_with_total.groupby(['year', 'country_group'])['co2_percentage'].sum().reset_index()

# Pivotar el DataFrame para el gráfico de áreas
pivot_data = grouped_data.pivot(index='year', columns='country_group', values='co2_percentage').fillna(0)

# Reordenar las columnas para que 'United Kingdom' esté al principio y 'Otros' al final
ordered_columns = ['United Kingdom'] + [col for col in pivot_data.columns if col not in ['United Kingdom', 'Resto del mundo']] + ['Resto del mundo']
pivot_data = pivot_data[ordered_columns]

# Crear el gráfico de áreas
plt.figure(figsize=(12, 6))
pivot_data.plot(kind='area', alpha=0.5, stacked=True, figsize=(12, 6))
plt.title('Porcentaje de Emisiones de CO2 por País y Año')
plt.xlabel('Año')
plt.ylabel('Porcentaje de Emisiones de CO2')
plt.legend(title='Países', bbox_to_anchor=(1.05, 1), loc='upper left')  # Mover la leyenda si es necesario
plt.grid(axis='y')
plt.show()

