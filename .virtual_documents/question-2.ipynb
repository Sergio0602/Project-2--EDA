#from skimpy import skim #data summary
import pandas as pd
import numpy as np
import matplotlib.pyplot as plt
import charset_normalizer
import seaborn as sns
import plotly.express as px #interactive visualization
import charset_normalizer
from plotly.subplots import make_subplots
from matplotlib.ticker import FuncFormatter



with open("visualizing_global_co2_data_cleaned.csv", 'rb') as rawdata:
    result = charset_normalizer.detect(rawdata.read(10000))
print(result)


data = pd.read_csv('visualizing_global_co2_data_cleaned.csv', encoding = 'ascii')
df = pd.DataFrame(data)



#skim(df)


 info = pd.DataFrame({
    "Count":df.shape[0],
    "Null":df.isnull().sum(),
    "Null %":df.isnull().mean() * 100,
    "Zeros":(df == 0).sum(),
    "Zeros %":(df == 0).mean() * 100,
    "Unique":df.nunique(),
    "Duplicated":(df.duplicated() == True).sum(),
  
})
info
print(df["country"].nunique())

print(df["iso_code"].nunique())
print(df["country"].unique())



non_countries = [
    "Africa", "Asia", "Asia (excl. China and India)", "Europe", "Europe (excl. EU-27)",
    "Europe (excl. EU-28)", "European Union (27)", "European Union (28)", 
    "High-income countries", "Low-income countries", "Lower-middle-income countries", 
    "North America", "North America (excl. USA)", "Oceania", "South America", "World"
]

countries = [
    'Afghanistan', 'Albania', 'Algeria', 'Andorra', 'Angola', 'Antigua and Barbuda', 'Argentina', 'Armenia',
    'Australia', 'Austria', 'Azerbaijan', 'Bahamas', 'Bahrain', 'Bangladesh', 'Barbados', 'Belarus',
    'Belgium', 'Belize', 'Benin', 'Bhutan', 'Bolivia', 'Bosnia and Herzegovina', 'Botswana', 'Brazil',
    'Brunei Darussalam', 'Bulgaria', 'Burkina Faso', 'Burundi', 'Cabo Verde', 'Cambodia', 'Cameroon',
    'Canada', 'Central African Republic', 'Chad', 'Chile', 'China', 'Colombia', 'Comoros', 'Congo',
    'Costa Rica', "Côte d'Ivoire", 'Croatia', 'Cuba', 'Cyprus', 'Czech Republic', 'Denmark', 'Djibouti',
    'Dominica', 'Dominican Republic', 'Ecuador', 'Egypt', 'El Salvador', 'Equatorial Guinea', 'Eritrea',
    'Estonia', 'Eswatini', 'Ethiopia', 'Fiji', 'Finland', 'France', 'Gabon', 'Gambia', 'Georgia', 'Germany',
    'Ghana', 'Greece', 'Grenada', 'Guatemala', 'Guinea', 'Guinea-Bissau', 'Guyana', 'Haiti', 'Honduras',
    'Hungary', 'Iceland', 'India', 'Indonesia', 'Iran', 'Iraq', 'Ireland', 'Israel', 'Italy', 'Jamaica',
    'Japan', 'Jordan', 'Kazakhstan', 'Kenya', 'Kiribati', 'Kuwait', 'Kyrgyzstan', 'Lao People’s Democratic Republic',
    'Latvia', 'Lebanon', 'Lesotho', 'Liberia', 'Libya', 'Liechtenstein', 'Lithuania', 'Luxembourg', 'Madagascar',
    'Malawi', 'Malaysia', 'Maldives', 'Mali', 'Malta', 'Marshall Islands', 'Mauritania', 'Mauritius', 'Mexico',
    'Micronesia (Federated States of)', 'Moldova', 'Monaco', 'Mongolia', 'Montenegro', 'Morocco', 'Mozambique',
    'Myanmar', 'Namibia', 'Nauru', 'Nepal', 'Netherlands', 'New Zealand', 'Nicaragua', 'Niger', 'Nigeria',
    'North Macedonia', 'Norway', 'Oman', 'Pakistan', 'Palau', 'Panama', 'Papua New Guinea', 'Paraguay', 'Peru',
    'Philippines', 'Poland', 'Portugal', 'Qatar', 'Republic of Korea', 'Romania', 'Russian Federation', 'Rwanda',
    'Saint Kitts and Nevis', 'Saint Lucia', 'Saint Vincent and the Grenadines', 'Samoa', 'San Marino',
    'Sao Tome and Principe', 'Saudi Arabia', 'Senegal', 'Serbia', 'Seychelles', 'Sierra Leone', 'Singapore',
    'Slovakia', 'Slovenia', 'Solomon Islands', 'Somalia', 'South Africa', 'South Sudan', 'Spain', 'Sri Lanka',
    'Sudan', 'Suriname', 'Sweden', 'Switzerland', 'Syrian Arab Republic', 'Tajikistan', 'Thailand', 'Timor-Leste',
    'Togo', 'Tonga', 'Trinidad and Tobago', 'Tunisia', 'Turkey', 'Turkmenistan', 'Tuvalu', 'Uganda', 'Ukraine',
    'United Arab Emirates', 'United Kingdom of Great Britain and Northern Ireland', 'United Republic of Tanzania',
    'United States of America', 'Uruguay', 'Uzbekistan', 'Vanuatu', 'Venezuela', 'Viet Nam', 'Yemen', 'Zambia', 'Zimbabwe'
]

df_filtered_country = df[df["country"].isin(countries)].copy()

print(df_filtered_country["country"].unique())
print(df_filtered_country["country"].nunique())





co2_zeros = (df["co2"] == 0).sum()

df = df.drop(df[df["co2"] == 0].index)
print(co2_zeros)


df_it1 = df[["country","year","co2","co2_including_luc"]]


info1 = pd.DataFrame({
    "Count":df_it1.shape[0],
    "Null":df_it1.isnull().sum(),
    "Null %":df_it1.isnull().mean() * 100,
    "Zeros":(df_it1 == 0).sum(),
    "Zeros %":(df_it1 == 0).mean() * 100,
    "Unique":df_it1.nunique(),
    "Duplicated":(df_it1.duplicated() == True).sum(),
    "Under Zeros":(df_it1["co2_including_luc"] < 0).sum() 
})
info1



df_it1 = df[[ "year", "co2", "co2_including_luc"]].copy()


info1 = pd.DataFrame({
    "Count": [df_it1.shape[0]] * len(df_it1.columns),
    "Null": df_it1.isnull().sum(),
    "Null %": df_it1.isnull().mean() * 100,
    "Zeros": (df_it1 == 0).sum(),
    "Zeros %": (df_it1 == 0).mean() * 100,
    "Unique": df_it1.nunique(),
    "Duplicated": [df_it1.duplicated().sum()] * len(df_it1.columns),
    "Under Zeros": (df_it1 < 0).sum()
}, index=df_it1.columns)

print(info1)
df_it1["country"] =df["country"]
df_it1.columns








df_it2 = df[[ "year", "coal_co2", "gas_co2", "oil_co2"]].copy()

info2 = pd.DataFrame({
    "Count": [df_it2.shape[0]] * len(df_it2.columns),
    "Null": df_it2.isnull().sum(),
    "Null %": df_it2.isnull().mean() * 100,
    "Zeros": (df_it2 == 0).sum(),
    "Zeros %": (df_it2 == 0).mean() * 100,
    "Unique": df_it2.nunique(),
    "Duplicated": [df_it2.duplicated().sum()] * len(df_it2.columns),
    "Under Zeros": (df_it2 < 0).sum()
}, index=df_it2.columns)

print(info2)








df_cement_nulls = df[df["cement_co2"].isnull()][["year", "cement_co2"]]
df_cement_nulls.head()

info_cement = pd.DataFrame({
    "Count": [df_cement_nulls.shape[0]] * len(df_cement_nulls.columns),
    "Null": df_cement_nulls.isnull().sum(),
    "Null %": df_cement_nulls.isnull().mean() * 100,
    "Zeros": (df_cement_nulls == 0).sum(),
    "Zeros %": (df_cement_nulls == 0).mean() * 100,
    "Unique": df_cement_nulls.nunique(),
    "Duplicated": [df_cement_nulls.duplicated().sum()] * len(df_cement_nulls.columns),
    "Under Zeros": (df_cement_nulls < 0).sum()
}, index=df_cement_nulls.columns)

print(info_cement)

sns.histplot(data=df_cement_nulls, x="year")
plt.show()





df = df[~(df['cement_co2'].isnull() & (df['year'] > 1930))]
df


df_cement_nulls = df[df["cement_co2"].isnull()][["year", "cement_co2"]]

sns.histplot(data=df_cement_nulls, x="year")
plt.show()


info_oil = pd.DataFrame({
    "Count": [df_it2.shape[0]] * len(df_it2.columns),
    "Null": df_it2.isnull().sum(),
    "Null %": df_it2.isnull().mean() * 100,
    "Zeros": (df_it2 == 0).sum(),
    "Zeros %": (df_it2 == 0).mean() * 100,
    "Unique": df_it2.nunique(),
    "Duplicated": [df_it2.duplicated().sum()] * len(df_it2.columns),
    "Under Zeros": (df_it2 < 0).sum()
}, index=df_it2.columns)

print(info_oil)

df_coal_zero = df[df["coal_co2"] == 0][["year", "coal_co2","country"]]

df_coal_zero_grouped = df_coal_zero.groupby("country").count()
print(df_coal_zero_grouped.sort_values(by="coal_co2"))

print(df_coal_zero["country"].unique())
sns.histplot(data=df_coal_zero, x="year")
plt.show()





columns_to_check = ["cement_co2", "coal_co2", "flaring_co2", "gas_co2", "land_use_change_co2", "oil_co2"]

df[columns_to_check] = df[columns_to_check].fillna(0)


info = pd.DataFrame({
    "Count": [df.shape[0]] * len(columns_to_check),
    "Null": df[columns_to_check].isnull().sum(),
    "Null %": df[columns_to_check].isnull().mean() * 100,
    "Zeros": (df[columns_to_check] == 0).sum(),
    "Zeros %": (df[columns_to_check] == 0).mean() * 100,
    "Unique": df[columns_to_check].nunique(),
    "Duplicated": [df.duplicated().sum()] * len(columns_to_check),
    "Under Zeros": (df[columns_to_check] < 0).sum()
}, index=columns_to_check)

print(info)









df_it1_grouped = df.groupby("year")['co2'].sum().reset_index()

plt.figure(figsize=(10, 6))

plt.plot(df_it1_grouped["year"], df_it1_grouped['co2'])

plt.xlabel("Year")
plt.ylabel("Emissions (MtCO2)")
plt.title("Evolution of Emissions by Source Over Time")
plt.legend(title="Emission Source")
plt.grid(True)
plt.show()


df_world = df[df['country'] == 'World'][["year", "coal_co2", "gas_co2", "oil_co2","cement_co2", "flaring_co2"]]
df_world








df_it2_grouped = df_world.groupby("year").sum().reset_index()

legend_names = {
    "coal_co2": "Coal CO2 Emissions",
    "gas_co2": "Gas CO2 Emissions",
    "oil_co2": "Oil CO2 Emissions",
    "gas_co2": "Gas CO2 Emissions",
    "oil_co2": "Oil CO2 Emissions",
}

plt.figure(figsize=(10, 6))

colors = ['blue', 'green', 'red', 'purple', 'orange']

for i, column in enumerate(df_it2_grouped.columns[1:]):
    label = legend_names.get(column, column) 
    plt.plot(df_it2_grouped["year"], df_it2_grouped[column], label=label, color=colors[i % len(colors)])

plt.xlabel("Year", fontsize=12)
plt.ylabel("Emissions (MtCO2)", fontsize=12)
plt.title("Evolution of Emissions", fontsize=16)

plt.legend(title="Emission Source", title_fontsize=12, fontsize=10)

def thousands_formatter(x, pos):
    return f'{int(x/1000)}k'

plt.gca().yaxis.set_major_formatter(FuncFormatter(thousands_formatter))

plt.grid(True)

plt.show()




df_world_cement_flagrant = df[df['country'] == 'World'][["cement_co2", "flaring_co2","year"]]
df_world_cement_flagrant







df_world_contribution = df[df['country'] == 'World'][["year", "coal_co2", "gas_co2", "oil_co2", "flaring_co2", "cement_co2"]]
total_contributions = df_world_contribution[["coal_co2", "gas_co2", "oil_co2", "flaring_co2", "cement_co2"]].sum()

contributions_pie = {
    "Coal": total_contributions["coal_co2"],
    "Gas": total_contributions["gas_co2"],
    "Oil": total_contributions["oil_co2"],
    "Others": total_contributions["flaring_co2"] + total_contributions["cement_co2"]
}


plt.figure(figsize=(9, 9))
plt.pie(contributions_pie.values(), labels=contributions_pie.keys(), autopct='%1.1f%%', startangle=1 últimos 10 años40)
plt.title("Historical Total Contribution by Emission Source")
plt.show()







df_world_contribution = df[(df['country'] == 'World') & (df['year'] > 2010)][["year", "coal_co2", "gas_co2", "oil_co2", "flaring_co2", "cement_co2"]]
total_contributions = df_world_contribution[["coal_co2", "gas_co2", "oil_co2", "flaring_co2", "cement_co2"]].sum()

contributions_pie = {
    "Coal": total_contributions["coal_co2"],
    "Gas": total_contributions["gas_co2"],
    "Oil": total_contributions["oil_co2"],
    "Others": total_contributions["flaring_co2"] + total_contributions["cement_co2"]
}


plt.figure(figsize=(9, 9))
plt.pie(contributions_pie.values(), labels=contributions_pie.keys(), autopct='%1.1f%%', startangle=140)
plt.title("H últimos 10 años")
plt.show()



import pandas as pd
import plotly.graph_objects as go

# Filtrar los datos para el país 'World' y seleccionar las columnas de interés
df_world_contribution = df[df['country'] == 'World'][["year", "coal_co2", "gas_co2", "oil_co2", "flaring_co2", "cement_co2"]]

# Agrupar los datos por año para obtener la suma anual de cada fuente de CO2
df_grouped = df_world_contribution.groupby("year")[["coal_co2", "gas_co2", "oil_co2", "flaring_co2", "cement_co2"]].sum()

# Verificar que la agrupación por año está funcionando correctamente
print("Datos agrupados por año:")
print(df_grouped.head())

# 1. Calcular el valor histórico total de cada fuente (esto usa todos los años)
total_contributions = df_grouped.sum()

# Verificar los valores históricos totales para asegurarse de que se suman correctamente
print("Valor histórico total de CO2 por fuente:")
print(total_contributions)

# 2. Filtrar los últimos 10 años
last_10_years = df_grouped[df_grouped.index >= (df_grouped.index.max() - 10)]

# 3. Sumar las emisiones de los últimos 10 años para cada fuente
last_10_years_total = last_10_years.sum()

# Verificar los valores de los últimos 10 años
print("Emisiones acumuladas de CO2 en los últimos 10 años:")
print(last_10_years_total)

# Crear un DataFrame para organizar los valores para el gráfico
sources = ['Coal', 'Gas', 'Oil', 'Flaring', 'Cement']
historical_values = [total_contributions["coal_co2"], total_contributions["gas_co2"], total_contributions["oil_co2"],
                     total_contributions["flaring_co2"], total_contributions["cement_co2"]]
last_10_years_values = [last_10_years_total["coal_co2"], last_10_years_total["gas_co2"], last_10_years_total["oil_co2"],
                        last_10_years_total["flaring_co2"], last_10_years_total["cement_co2"]]

# Verificar los valores antes de graficar
print("Valores para el gráfico:")
print(historical_values)
print(last_10_years_values)

# Crear el gráfico de barras
fig = go.Figure()

# Barra para el valor histórico total
fig.add_trace(go.Bar(
    x=sources,
    y=historical_values,
    name="Total Historical CO2 Emissions",
    marker_color='lightblue'
))

# Barra para el valor acumulado de los últimos 10 años
fig.add_trace(go.Bar(
    x=sources,
    y=last_10_years_values,
    name="CO2 Emissions (Last 10 Years)",
    marker_color='orange'
))

# Añadir título y etiquetas
fig.update_layout(
    title="CO2 Emissions by Energy Source",
    barmode='group',
    xaxis_title="Energy Source",
    yaxis_title="CO2 Emissions (MtCO2)",
    xaxis=dict(tickmode='array', tickvals=sources),
    template="plotly_white"
)

# Mostrar el gráfico
fig.show()





