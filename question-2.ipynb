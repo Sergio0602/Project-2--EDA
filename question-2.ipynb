{
 "cells": [
  {
   "cell_type": "code",
   "execution_count": 58,
   "id": "cc01b434-4287-4be8-a286-3f297defea97",
   "metadata": {},
   "outputs": [],
   "source": [
    "#from skimpy import skim #data summary\n",
    "import pandas as pd\n",
    "import numpy as np\n",
    "import matplotlib.pyplot as plt\n",
    "import charset_normalizer\n",
    "import seaborn as sns\n",
    "import plotly.express as px #interactive visualization\n",
    "import charset_normalizer\n",
    "from plotly.subplots import make_subplots\n"
   ]
  },
  {
   "cell_type": "code",
   "execution_count": 3,
   "id": "4a12cf39-0140-4dc2-83d3-b4daadb07a2e",
   "metadata": {},
   "outputs": [
    {
     "name": "stdout",
     "output_type": "stream",
     "text": [
      "{'encoding': 'ascii', 'language': 'English', 'confidence': 1.0}\n"
     ]
    }
   ],
   "source": [
    "with open(\"visualizing_global_co2_data_cleaned.csv\", 'rb') as rawdata:\n",
    "    result = charset_normalizer.detect(rawdata.read(10000))\n",
    "print(result)"
   ]
  },
  {
   "cell_type": "code",
   "execution_count": 4,
   "id": "9a8fd82f-44c0-41cb-b0ac-f17fd9294a32",
   "metadata": {},
   "outputs": [],
   "source": [
    "data = pd.read_csv('visualizing_global_co2_data_cleaned.csv', encoding = 'ascii')\n",
    "df = pd.DataFrame(data)\n"
   ]
  },
  {
   "cell_type": "code",
   "execution_count": 5,
   "id": "35b508c6-750b-4d7d-8a14-b4ee6f107de8",
   "metadata": {},
   "outputs": [],
   "source": [
    "#skim(df)"
   ]
  },
  {
   "cell_type": "code",
   "execution_count": 6,
   "id": "933dc959-3d61-48dc-800a-f2cd38a46db7",
   "metadata": {},
   "outputs": [
    {
     "name": "stdout",
     "output_type": "stream",
     "text": [
      "237\n",
      "219\n",
      "['Afghanistan' 'Africa' 'Albania' 'Algeria' 'Andorra' 'Angola' 'Anguilla'\n",
      " 'Antigua and Barbuda' 'Argentina' 'Armenia' 'Aruba' 'Asia'\n",
      " 'Asia (excl. China and India)' 'Australia' 'Austria' 'Azerbaijan'\n",
      " 'Bahamas' 'Bahrain' 'Bangladesh' 'Barbados' 'Belarus' 'Belgium' 'Belize'\n",
      " 'Benin' 'Bermuda' 'Bhutan' 'Bolivia' 'Bonaire Sint Eustatius and Saba'\n",
      " 'Bosnia and Herzegovina' 'Botswana' 'Brazil' 'British Virgin Islands'\n",
      " 'Brunei' 'Bulgaria' 'Burkina Faso' 'Burundi' 'Cambodia' 'Cameroon'\n",
      " 'Canada' 'Cape Verde' 'Central African Republic' 'Chad' 'Chile' 'China'\n",
      " 'Colombia' 'Comoros' 'Congo' 'Cook Islands' 'Costa Rica' \"Cote d'Ivoire\"\n",
      " 'Croatia' 'Cuba' 'Curacao' 'Cyprus' 'Czechia'\n",
      " 'Democratic Republic of Congo' 'Denmark' 'Djibouti' 'Dominica'\n",
      " 'Dominican Republic' 'East Timor' 'Ecuador' 'Egypt' 'El Salvador'\n",
      " 'Equatorial Guinea' 'Eritrea' 'Estonia' 'Eswatini' 'Ethiopia' 'Europe'\n",
      " 'Europe (excl. EU-27)' 'Europe (excl. EU-28)' 'European Union (27)'\n",
      " 'European Union (28)' 'Faroe Islands' 'Fiji' 'Finland' 'France'\n",
      " 'French Guiana' 'French Polynesia' 'Gabon' 'Gambia' 'Georgia' 'Germany'\n",
      " 'Ghana' 'Greece' 'Greenland' 'Grenada' 'Guadeloupe' 'Guatemala' 'Guinea'\n",
      " 'Guinea-Bissau' 'Guyana' 'Haiti' 'High-income countries' 'Honduras'\n",
      " 'Hong Kong' 'Hungary' 'Iceland' 'India' 'Indonesia' 'Iran' 'Iraq'\n",
      " 'Ireland' 'Israel' 'Italy' 'Jamaica' 'Japan' 'Jordan' 'Kazakhstan'\n",
      " 'Kenya' 'Kiribati' 'Kosovo' 'Kuwait' 'Kyrgyzstan' 'Laos' 'Latvia'\n",
      " 'Lebanon' 'Lesotho' 'Liberia' 'Libya' 'Liechtenstein' 'Lithuania'\n",
      " 'Low-income countries' 'Lower-middle-income countries' 'Luxembourg'\n",
      " 'Macao' 'Madagascar' 'Malawi' 'Malaysia' 'Maldives' 'Mali' 'Malta'\n",
      " 'Marshall Islands' 'Martinique' 'Mauritania' 'Mauritius' 'Mayotte'\n",
      " 'Mexico' 'Micronesia (country)' 'Moldova' 'Mongolia' 'Montenegro'\n",
      " 'Montserrat' 'Morocco' 'Mozambique' 'Myanmar' 'Namibia' 'Nauru' 'Nepal'\n",
      " 'Netherlands' 'New Caledonia' 'New Zealand' 'Nicaragua' 'Niger' 'Nigeria'\n",
      " 'Niue' 'North America' 'North America (excl. USA)' 'North Korea'\n",
      " 'North Macedonia' 'Norway' 'Oceania' 'Oman' 'Pakistan' 'Palau'\n",
      " 'Palestine' 'Panama' 'Papua New Guinea' 'Paraguay' 'Peru' 'Philippines'\n",
      " 'Poland' 'Portugal' 'Puerto Rico' 'Qatar' 'Reunion' 'Romania' 'Russia'\n",
      " 'Rwanda' 'Saint Helena' 'Saint Kitts and Nevis' 'Saint Lucia'\n",
      " 'Saint Pierre and Miquelon' 'Saint Vincent and the Grenadines' 'Samoa'\n",
      " 'Sao Tome and Principe' 'Saudi Arabia' 'Senegal' 'Serbia' 'Seychelles'\n",
      " 'Sierra Leone' 'Singapore' 'Sint Maarten (Dutch part)' 'Slovakia'\n",
      " 'Slovenia' 'Solomon Islands' 'Somalia' 'South Africa' 'South America'\n",
      " 'South Korea' 'South Sudan' 'Spain' 'Sri Lanka' 'Sudan' 'Suriname'\n",
      " 'Sweden' 'Switzerland' 'Syria' 'Taiwan' 'Tajikistan' 'Tanzania'\n",
      " 'Thailand' 'Togo' 'Tonga' 'Trinidad and Tobago' 'Tunisia' 'Turkey'\n",
      " 'Turkmenistan' 'Turks and Caicos Islands' 'Tuvalu' 'Uganda' 'Ukraine'\n",
      " 'United Arab Emirates' 'United Kingdom' 'United States'\n",
      " 'Upper-middle-income countries' 'Uruguay' 'Uzbekistan' 'Vanuatu'\n",
      " 'Venezuela' 'Vietnam' 'Wallis and Futuna' 'World' 'Yemen' 'Zambia'\n",
      " 'Zimbabwe']\n"
     ]
    }
   ],
   "source": [
    " info = pd.DataFrame({\n",
    "    \"Count\":df.shape[0],\n",
    "    \"Null\":df.isnull().sum(),\n",
    "    \"Null %\":df.isnull().mean() * 100,\n",
    "    \"Zeros\":(df == 0).sum(),\n",
    "    \"Zeros %\":(df == 0).mean() * 100,\n",
    "    \"Unique\":df.nunique(),\n",
    "    \"Duplicated\":(df.duplicated() == True).sum(),\n",
    "  \n",
    "})\n",
    "info\n",
    "print(df[\"country\"].nunique())\n",
    "\n",
    "print(df[\"iso_code\"].nunique())\n",
    "print(df[\"country\"].unique())\n"
   ]
  },
  {
   "cell_type": "code",
   "execution_count": 7,
   "id": "05d20bc1-0aec-4008-b445-c39d2c3d1de7",
   "metadata": {},
   "outputs": [
    {
     "name": "stdout",
     "output_type": "stream",
     "text": [
      "['Afghanistan' 'Albania' 'Algeria' 'Andorra' 'Angola'\n",
      " 'Antigua and Barbuda' 'Argentina' 'Armenia' 'Australia' 'Austria'\n",
      " 'Azerbaijan' 'Bahamas' 'Bahrain' 'Bangladesh' 'Barbados' 'Belarus'\n",
      " 'Belgium' 'Belize' 'Benin' 'Bhutan' 'Bolivia' 'Bosnia and Herzegovina'\n",
      " 'Botswana' 'Brazil' 'Bulgaria' 'Burkina Faso' 'Burundi' 'Cambodia'\n",
      " 'Cameroon' 'Canada' 'Central African Republic' 'Chad' 'Chile' 'China'\n",
      " 'Colombia' 'Comoros' 'Congo' 'Costa Rica' 'Croatia' 'Cuba' 'Cyprus'\n",
      " 'Denmark' 'Djibouti' 'Dominica' 'Dominican Republic' 'Ecuador' 'Egypt'\n",
      " 'El Salvador' 'Equatorial Guinea' 'Eritrea' 'Estonia' 'Eswatini'\n",
      " 'Ethiopia' 'Fiji' 'Finland' 'France' 'Gabon' 'Gambia' 'Georgia' 'Germany'\n",
      " 'Ghana' 'Greece' 'Grenada' 'Guatemala' 'Guinea' 'Guinea-Bissau' 'Guyana'\n",
      " 'Haiti' 'Honduras' 'Hungary' 'Iceland' 'India' 'Indonesia' 'Iran' 'Iraq'\n",
      " 'Ireland' 'Israel' 'Italy' 'Jamaica' 'Japan' 'Jordan' 'Kazakhstan'\n",
      " 'Kenya' 'Kiribati' 'Kuwait' 'Kyrgyzstan' 'Latvia' 'Lebanon' 'Lesotho'\n",
      " 'Liberia' 'Libya' 'Liechtenstein' 'Lithuania' 'Luxembourg' 'Madagascar'\n",
      " 'Malawi' 'Malaysia' 'Maldives' 'Mali' 'Malta' 'Marshall Islands'\n",
      " 'Mauritania' 'Mauritius' 'Mexico' 'Moldova' 'Mongolia' 'Montenegro'\n",
      " 'Morocco' 'Mozambique' 'Myanmar' 'Namibia' 'Nauru' 'Nepal' 'Netherlands'\n",
      " 'New Zealand' 'Nicaragua' 'Niger' 'Nigeria' 'North Macedonia' 'Norway'\n",
      " 'Oman' 'Pakistan' 'Palau' 'Panama' 'Papua New Guinea' 'Paraguay' 'Peru'\n",
      " 'Philippines' 'Poland' 'Portugal' 'Qatar' 'Romania' 'Rwanda'\n",
      " 'Saint Kitts and Nevis' 'Saint Lucia' 'Saint Vincent and the Grenadines'\n",
      " 'Samoa' 'Sao Tome and Principe' 'Saudi Arabia' 'Senegal' 'Serbia'\n",
      " 'Seychelles' 'Sierra Leone' 'Singapore' 'Slovakia' 'Slovenia'\n",
      " 'Solomon Islands' 'Somalia' 'South Africa' 'South Sudan' 'Spain'\n",
      " 'Sri Lanka' 'Sudan' 'Suriname' 'Sweden' 'Switzerland' 'Tajikistan'\n",
      " 'Thailand' 'Togo' 'Tonga' 'Trinidad and Tobago' 'Tunisia' 'Turkey'\n",
      " 'Turkmenistan' 'Tuvalu' 'Uganda' 'Ukraine' 'United Arab Emirates'\n",
      " 'Uruguay' 'Uzbekistan' 'Vanuatu' 'Venezuela' 'Yemen' 'Zambia' 'Zimbabwe']\n",
      "175\n"
     ]
    }
   ],
   "source": [
    "non_countries = [\n",
    "    \"Africa\", \"Asia\", \"Asia (excl. China and India)\", \"Europe\", \"Europe (excl. EU-27)\",\n",
    "    \"Europe (excl. EU-28)\", \"European Union (27)\", \"European Union (28)\", \n",
    "    \"High-income countries\", \"Low-income countries\", \"Lower-middle-income countries\", \n",
    "    \"North America\", \"North America (excl. USA)\", \"Oceania\", \"South America\", \"World\"\n",
    "]\n",
    "\n",
    "countries = [\n",
    "    'Afghanistan', 'Albania', 'Algeria', 'Andorra', 'Angola', 'Antigua and Barbuda', 'Argentina', 'Armenia',\n",
    "    'Australia', 'Austria', 'Azerbaijan', 'Bahamas', 'Bahrain', 'Bangladesh', 'Barbados', 'Belarus',\n",
    "    'Belgium', 'Belize', 'Benin', 'Bhutan', 'Bolivia', 'Bosnia and Herzegovina', 'Botswana', 'Brazil',\n",
    "    'Brunei Darussalam', 'Bulgaria', 'Burkina Faso', 'Burundi', 'Cabo Verde', 'Cambodia', 'Cameroon',\n",
    "    'Canada', 'Central African Republic', 'Chad', 'Chile', 'China', 'Colombia', 'Comoros', 'Congo',\n",
    "    'Costa Rica', \"Côte d'Ivoire\", 'Croatia', 'Cuba', 'Cyprus', 'Czech Republic', 'Denmark', 'Djibouti',\n",
    "    'Dominica', 'Dominican Republic', 'Ecuador', 'Egypt', 'El Salvador', 'Equatorial Guinea', 'Eritrea',\n",
    "    'Estonia', 'Eswatini', 'Ethiopia', 'Fiji', 'Finland', 'France', 'Gabon', 'Gambia', 'Georgia', 'Germany',\n",
    "    'Ghana', 'Greece', 'Grenada', 'Guatemala', 'Guinea', 'Guinea-Bissau', 'Guyana', 'Haiti', 'Honduras',\n",
    "    'Hungary', 'Iceland', 'India', 'Indonesia', 'Iran', 'Iraq', 'Ireland', 'Israel', 'Italy', 'Jamaica',\n",
    "    'Japan', 'Jordan', 'Kazakhstan', 'Kenya', 'Kiribati', 'Kuwait', 'Kyrgyzstan', 'Lao People’s Democratic Republic',\n",
    "    'Latvia', 'Lebanon', 'Lesotho', 'Liberia', 'Libya', 'Liechtenstein', 'Lithuania', 'Luxembourg', 'Madagascar',\n",
    "    'Malawi', 'Malaysia', 'Maldives', 'Mali', 'Malta', 'Marshall Islands', 'Mauritania', 'Mauritius', 'Mexico',\n",
    "    'Micronesia (Federated States of)', 'Moldova', 'Monaco', 'Mongolia', 'Montenegro', 'Morocco', 'Mozambique',\n",
    "    'Myanmar', 'Namibia', 'Nauru', 'Nepal', 'Netherlands', 'New Zealand', 'Nicaragua', 'Niger', 'Nigeria',\n",
    "    'North Macedonia', 'Norway', 'Oman', 'Pakistan', 'Palau', 'Panama', 'Papua New Guinea', 'Paraguay', 'Peru',\n",
    "    'Philippines', 'Poland', 'Portugal', 'Qatar', 'Republic of Korea', 'Romania', 'Russian Federation', 'Rwanda',\n",
    "    'Saint Kitts and Nevis', 'Saint Lucia', 'Saint Vincent and the Grenadines', 'Samoa', 'San Marino',\n",
    "    'Sao Tome and Principe', 'Saudi Arabia', 'Senegal', 'Serbia', 'Seychelles', 'Sierra Leone', 'Singapore',\n",
    "    'Slovakia', 'Slovenia', 'Solomon Islands', 'Somalia', 'South Africa', 'South Sudan', 'Spain', 'Sri Lanka',\n",
    "    'Sudan', 'Suriname', 'Sweden', 'Switzerland', 'Syrian Arab Republic', 'Tajikistan', 'Thailand', 'Timor-Leste',\n",
    "    'Togo', 'Tonga', 'Trinidad and Tobago', 'Tunisia', 'Turkey', 'Turkmenistan', 'Tuvalu', 'Uganda', 'Ukraine',\n",
    "    'United Arab Emirates', 'United Kingdom of Great Britain and Northern Ireland', 'United Republic of Tanzania',\n",
    "    'United States of America', 'Uruguay', 'Uzbekistan', 'Vanuatu', 'Venezuela', 'Viet Nam', 'Yemen', 'Zambia', 'Zimbabwe'\n",
    "]\n",
    "\n",
    "df_filtered_country = df[df[\"country\"].isin(countries)].copy()\n",
    "\n",
    "print(df_filtered_country[\"country\"].unique())\n",
    "print(df_filtered_country[\"country\"].nunique())"
   ]
  },
  {
   "cell_type": "markdown",
   "id": "3ccfa834-2865-4a1a-a7dc-6cca50a7e24d",
   "metadata": {},
   "source": [
    "#Eliminar datos C02 = 0"
   ]
  },
  {
   "cell_type": "code",
   "execution_count": 9,
   "id": "f0a0a799-3bec-4e4c-9f2d-94d82dde0962",
   "metadata": {},
   "outputs": [
    {
     "name": "stdout",
     "output_type": "stream",
     "text": [
      "102\n"
     ]
    }
   ],
   "source": [
    "co2_zeros = (df[\"co2\"] == 0).sum()\n",
    "\n",
    "df = df.drop(df[df[\"co2\"] == 0].index)\n",
    "print(co2_zeros)"
   ]
  },
  {
   "cell_type": "code",
   "execution_count": 10,
   "id": "5a9bdf8d-714a-4ed8-ab64-ce539a3a69a5",
   "metadata": {},
   "outputs": [
    {
     "data": {
      "text/html": [
       "<div>\n",
       "<style scoped>\n",
       "    .dataframe tbody tr th:only-of-type {\n",
       "        vertical-align: middle;\n",
       "    }\n",
       "\n",
       "    .dataframe tbody tr th {\n",
       "        vertical-align: top;\n",
       "    }\n",
       "\n",
       "    .dataframe thead th {\n",
       "        text-align: right;\n",
       "    }\n",
       "</style>\n",
       "<table border=\"1\" class=\"dataframe\">\n",
       "  <thead>\n",
       "    <tr style=\"text-align: right;\">\n",
       "      <th></th>\n",
       "      <th>Count</th>\n",
       "      <th>Null</th>\n",
       "      <th>Null %</th>\n",
       "      <th>Zeros</th>\n",
       "      <th>Zeros %</th>\n",
       "      <th>Unique</th>\n",
       "      <th>Duplicated</th>\n",
       "      <th>Under Zeros</th>\n",
       "    </tr>\n",
       "  </thead>\n",
       "  <tbody>\n",
       "    <tr>\n",
       "      <th>country</th>\n",
       "      <td>23392</td>\n",
       "      <td>0</td>\n",
       "      <td>0.000000</td>\n",
       "      <td>0</td>\n",
       "      <td>0.0000</td>\n",
       "      <td>237</td>\n",
       "      <td>0</td>\n",
       "      <td>369</td>\n",
       "    </tr>\n",
       "    <tr>\n",
       "      <th>year</th>\n",
       "      <td>23392</td>\n",
       "      <td>0</td>\n",
       "      <td>0.000000</td>\n",
       "      <td>0</td>\n",
       "      <td>0.0000</td>\n",
       "      <td>172</td>\n",
       "      <td>0</td>\n",
       "      <td>369</td>\n",
       "    </tr>\n",
       "    <tr>\n",
       "      <th>co2</th>\n",
       "      <td>23392</td>\n",
       "      <td>0</td>\n",
       "      <td>0.000000</td>\n",
       "      <td>0</td>\n",
       "      <td>0.0000</td>\n",
       "      <td>14458</td>\n",
       "      <td>0</td>\n",
       "      <td>369</td>\n",
       "    </tr>\n",
       "    <tr>\n",
       "      <th>co2_including_luc</th>\n",
       "      <td>23392</td>\n",
       "      <td>953</td>\n",
       "      <td>4.074042</td>\n",
       "      <td>8</td>\n",
       "      <td>0.0342</td>\n",
       "      <td>18675</td>\n",
       "      <td>0</td>\n",
       "      <td>369</td>\n",
       "    </tr>\n",
       "  </tbody>\n",
       "</table>\n",
       "</div>"
      ],
      "text/plain": [
       "                   Count  Null    Null %  Zeros  Zeros %  Unique  Duplicated  \\\n",
       "country            23392     0  0.000000      0   0.0000     237           0   \n",
       "year               23392     0  0.000000      0   0.0000     172           0   \n",
       "co2                23392     0  0.000000      0   0.0000   14458           0   \n",
       "co2_including_luc  23392   953  4.074042      8   0.0342   18675           0   \n",
       "\n",
       "                   Under Zeros  \n",
       "country                    369  \n",
       "year                       369  \n",
       "co2                        369  \n",
       "co2_including_luc          369  "
      ]
     },
     "execution_count": 10,
     "metadata": {},
     "output_type": "execute_result"
    }
   ],
   "source": [
    "df_it1 = df[[\"country\",\"year\",\"co2\",\"co2_including_luc\"]]\n",
    "\n",
    "\n",
    "info1 = pd.DataFrame({\n",
    "    \"Count\":df_it1.shape[0],\n",
    "    \"Null\":df_it1.isnull().sum(),\n",
    "    \"Null %\":df_it1.isnull().mean() * 100,\n",
    "    \"Zeros\":(df_it1 == 0).sum(),\n",
    "    \"Zeros %\":(df_it1 == 0).mean() * 100,\n",
    "    \"Unique\":df_it1.nunique(),\n",
    "    \"Duplicated\":(df_it1.duplicated() == True).sum(),\n",
    "    \"Under Zeros\":(df_it1[\"co2_including_luc\"] < 0).sum() \n",
    "})\n",
    "info1"
   ]
  },
  {
   "cell_type": "code",
   "execution_count": 11,
   "id": "f865997e-6666-4640-bd2f-977ac05c3de8",
   "metadata": {},
   "outputs": [
    {
     "name": "stdout",
     "output_type": "stream",
     "text": [
      "                   Count  Null    Null %  Zeros  Zeros %  Unique  Duplicated  \\\n",
      "year               23392     0  0.000000      0   0.0000     172         132   \n",
      "co2                23392     0  0.000000      0   0.0000   14458         132   \n",
      "co2_including_luc  23392   953  4.074042      8   0.0342   18675         132   \n",
      "\n",
      "                   Under Zeros  \n",
      "year                         0  \n",
      "co2                          0  \n",
      "co2_including_luc          369  \n"
     ]
    },
    {
     "data": {
      "text/plain": [
       "Index(['year', 'co2', 'co2_including_luc', 'country'], dtype='object')"
      ]
     },
     "execution_count": 11,
     "metadata": {},
     "output_type": "execute_result"
    }
   ],
   "source": [
    "\n",
    "df_it1 = df[[ \"year\", \"co2\", \"co2_including_luc\"]].copy()\n",
    "\n",
    "\n",
    "info1 = pd.DataFrame({\n",
    "    \"Count\": [df_it1.shape[0]] * len(df_it1.columns),\n",
    "    \"Null\": df_it1.isnull().sum(),\n",
    "    \"Null %\": df_it1.isnull().mean() * 100,\n",
    "    \"Zeros\": (df_it1 == 0).sum(),\n",
    "    \"Zeros %\": (df_it1 == 0).mean() * 100,\n",
    "    \"Unique\": df_it1.nunique(),\n",
    "    \"Duplicated\": [df_it1.duplicated().sum()] * len(df_it1.columns),\n",
    "    \"Under Zeros\": (df_it1 < 0).sum()\n",
    "}, index=df_it1.columns)\n",
    "\n",
    "print(info1)\n",
    "df_it1[\"country\"] =df[\"country\"]\n",
    "df_it1.columns"
   ]
  },
  {
   "cell_type": "markdown",
   "id": "76bf6169-e755-4670-8be1-ceedfb9e08c1",
   "metadata": {},
   "source": [
    "Imputamos el valor de Co2 a co2_including_luc, cuando co2_including_luc < 0"
   ]
  },
  {
   "cell_type": "markdown",
   "id": "eeabf087-6be0-4638-9b03-0b32731b8379",
   "metadata": {},
   "source": [
    "### Which sectors are most responsible for emissions, and how has their\n",
    "### contribution varied over the decades?"
   ]
  },
  {
   "cell_type": "code",
   "execution_count": 14,
   "id": "0993ca73-b9c6-4813-b0b0-0d749a7048ad",
   "metadata": {},
   "outputs": [
    {
     "name": "stdout",
     "output_type": "stream",
     "text": [
      "                     Count  Null     Null %  Zeros    Zeros %  Unique  \\\n",
      "year                 23392     0   0.000000      0   0.000000     172   \n",
      "cement_co2           23392  3481  14.881156   7056  30.164159    5261   \n",
      "coal_co2             23392     0   0.000000   6719  28.723495   10076   \n",
      "flaring_co2          23392    95   0.406122  18370  78.531122    3266   \n",
      "gas_co2              23392    27   0.115424  14120  60.362517    6168   \n",
      "land_use_change_co2  23392   953   4.074042    915   3.911594    7001   \n",
      "oil_co2              23392     0   0.000000   2335   9.982045   10528   \n",
      "\n",
      "                     Duplicated  Under Zeros  \n",
      "year                        112            0  \n",
      "cement_co2                  112            0  \n",
      "coal_co2                    112            0  \n",
      "flaring_co2                 112            0  \n",
      "gas_co2                     112            0  \n",
      "land_use_change_co2         112         3470  \n",
      "oil_co2                     112            0  \n"
     ]
    }
   ],
   "source": [
    "df_it2 = df[[ \"year\",\"cement_co2\", \"coal_co2\",\"flaring_co2\", \"gas_co2\",\"land_use_change_co2\", \"oil_co2\"]].copy()\n",
    "\n",
    "info2 = pd.DataFrame({\n",
    "    \"Count\": [df_it2.shape[0]] * len(df_it2.columns),\n",
    "    \"Null\": df_it2.isnull().sum(),\n",
    "    \"Null %\": df_it2.isnull().mean() * 100,\n",
    "    \"Zeros\": (df_it2 == 0).sum(),\n",
    "    \"Zeros %\": (df_it2 == 0).mean() * 100,\n",
    "    \"Unique\": df_it2.nunique(),\n",
    "    \"Duplicated\": [df_it2.duplicated().sum()] * len(df_it2.columns),\n",
    "    \"Under Zeros\": (df_it2 < 0).sum()\n",
    "}, index=df_it2.columns)\n",
    "\n",
    "print(info2)"
   ]
  },
  {
   "cell_type": "code",
   "execution_count": 15,
   "id": "d484588a-69a6-4bb5-977d-20f575ef1bb4",
   "metadata": {},
   "outputs": [
    {
     "data": {
      "image/png": "[encoded data removed]",
      "text/plain": [
       "<Figure size 1000x600 with 1 Axes>"
      ]
     },
     "metadata": {},
     "output_type": "display_data"
    }
   ],
   "source": [
    "df_it2_grouped = df_it2.groupby(\"year\").sum().reset_index()\n",
    "\n",
    "plt.figure(figsize=(10, 6))\n",
    "\n",
    "for column in df_it2_grouped.columns[1:]:\n",
    "    plt.plot(df_it2_grouped[\"year\"], df_it2_grouped[column], label=column)\n",
    "\n",
    "plt.xlabel(\"Year\")\n",
    "plt.ylabel(\"Emissions (MtCO2)\")\n",
    "plt.title(\"Evolution of Emissions by Source Over Time\")\n",
    "plt.legend(title=\"Emission Source\")\n",
    "plt.grid(True)\n",
    "plt.show()"
   ]
  },
  {
   "cell_type": "markdown",
   "id": "39b78900-b1cf-45a2-841c-93c597fe9f4f",
   "metadata": {},
   "source": [
    "#Total Co2 agrupado en años"
   ]
  },
  {
   "cell_type": "markdown",
   "id": "3246e804-632f-488a-8ac3-1035519aad4d",
   "metadata": {},
   "source": [
    "## histograma de valores nulos de cement"
   ]
  },
  {
   "cell_type": "code",
   "execution_count": 18,
   "id": "1ca5513e-6d14-4490-8777-cd65872634f9",
   "metadata": {},
   "outputs": [
    {
     "name": "stdout",
     "output_type": "stream",
     "text": [
      "            Count  Null  Null %  Zeros  Zeros %  Unique  Duplicated  \\\n",
      "year         3481     0     0.0      0      0.0     131        3350   \n",
      "cement_co2   3481  3481   100.0      0      0.0       0        3350   \n",
      "\n",
      "            Under Zeros  \n",
      "year                  0  \n",
      "cement_co2            0  \n"
     ]
    },
    {
     "data": {
      "image/png": "[encoded data removed]",
      "text/plain": [
       "<Figure size 640x480 with 1 Axes>"
      ]
     },
     "metadata": {},
     "output_type": "display_data"
    }
   ],
   "source": [
    "df_cement_nulls = df[df[\"cement_co2\"].isnull()][[\"year\", \"cement_co2\"]]\n",
    "df_cement_nulls.head()\n",
    "\n",
    "info_cement = pd.DataFrame({\n",
    "    \"Count\": [df_cement_nulls.shape[0]] * len(df_cement_nulls.columns),\n",
    "    \"Null\": df_cement_nulls.isnull().sum(),\n",
    "    \"Null %\": df_cement_nulls.isnull().mean() * 100,\n",
    "    \"Zeros\": (df_cement_nulls == 0).sum(),\n",
    "    \"Zeros %\": (df_cement_nulls == 0).mean() * 100,\n",
    "    \"Unique\": df_cement_nulls.nunique(),\n",
    "    \"Duplicated\": [df_cement_nulls.duplicated().sum()] * len(df_cement_nulls.columns),\n",
    "    \"Under Zeros\": (df_cement_nulls < 0).sum()\n",
    "}, index=df_cement_nulls.columns)\n",
    "\n",
    "print(info_cement)\n",
    "\n",
    "sns.histplot(data=df_cement_nulls, x=\"year\")\n",
    "plt.show()"
   ]
  },
  {
   "cell_type": "markdown",
   "id": "9f90dc38-36f3-4985-bd32-ce1f10dbad39",
   "metadata": {},
   "source": [
    "## Después de comprobar los datos nulos y ver su irrelevancia, procedemos a eliminarlos."
   ]
  },
  {
   "cell_type": "code",
   "execution_count": 20,
   "id": "4ed9e3d0-78aa-43ec-9004-2666fb6b707b",
   "metadata": {},
   "outputs": [
    {
     "data": {
      "text/html": [
       "<div>\n",
       "<style scoped>\n",
       "    .dataframe tbody tr th:only-of-type {\n",
       "        vertical-align: middle;\n",
       "    }\n",
       "\n",
       "    .dataframe tbody tr th {\n",
       "        vertical-align: top;\n",
       "    }\n",
       "\n",
       "    .dataframe thead th {\n",
       "        text-align: right;\n",
       "    }\n",
       "</style>\n",
       "<table border=\"1\" class=\"dataframe\">\n",
       "  <thead>\n",
       "    <tr style=\"text-align: right;\">\n",
       "      <th></th>\n",
       "      <th>country</th>\n",
       "      <th>year</th>\n",
       "      <th>iso_code</th>\n",
       "      <th>population</th>\n",
       "      <th>cement_co2</th>\n",
       "      <th>cement_co2_per_capita</th>\n",
       "      <th>co2</th>\n",
       "      <th>co2_growth_abs</th>\n",
       "      <th>co2_growth_prct</th>\n",
       "      <th>co2_including_luc</th>\n",
       "      <th>...</th>\n",
       "      <th>share_global_cumulative_oil_co2</th>\n",
       "      <th>share_global_flaring_co2</th>\n",
       "      <th>share_global_gas_co2</th>\n",
       "      <th>share_global_luc_co2</th>\n",
       "      <th>share_global_oil_co2</th>\n",
       "      <th>share_of_temperature_change_from_ghg</th>\n",
       "      <th>temperature_change_from_ch4</th>\n",
       "      <th>temperature_change_from_co2</th>\n",
       "      <th>temperature_change_from_ghg</th>\n",
       "      <th>temperature_change_from_n2o</th>\n",
       "    </tr>\n",
       "  </thead>\n",
       "  <tbody>\n",
       "    <tr>\n",
       "      <th>0</th>\n",
       "      <td>Afghanistan</td>\n",
       "      <td>1949</td>\n",
       "      <td>AFG</td>\n",
       "      <td>7356890.0</td>\n",
       "      <td>0.000</td>\n",
       "      <td>0.000</td>\n",
       "      <td>0.015</td>\n",
       "      <td>NaN</td>\n",
       "      <td>NaN</td>\n",
       "      <td>8.039</td>\n",
       "      <td>...</td>\n",
       "      <td>0.000</td>\n",
       "      <td>NaN</td>\n",
       "      <td>0.0</td>\n",
       "      <td>0.160</td>\n",
       "      <td>0.000</td>\n",
       "      <td>0.129</td>\n",
       "      <td>0.000</td>\n",
       "      <td>0.000</td>\n",
       "      <td>0.000</td>\n",
       "      <td>0.0</td>\n",
       "    </tr>\n",
       "    <tr>\n",
       "      <th>1</th>\n",
       "      <td>Afghanistan</td>\n",
       "      <td>1950</td>\n",
       "      <td>AFG</td>\n",
       "      <td>7480464.0</td>\n",
       "      <td>0.000</td>\n",
       "      <td>0.000</td>\n",
       "      <td>0.084</td>\n",
       "      <td>0.070</td>\n",
       "      <td>475.000</td>\n",
       "      <td>8.585</td>\n",
       "      <td>...</td>\n",
       "      <td>0.000</td>\n",
       "      <td>0.0</td>\n",
       "      <td>0.0</td>\n",
       "      <td>0.157</td>\n",
       "      <td>0.004</td>\n",
       "      <td>0.129</td>\n",
       "      <td>0.000</td>\n",
       "      <td>0.000</td>\n",
       "      <td>0.000</td>\n",
       "      <td>0.0</td>\n",
       "    </tr>\n",
       "    <tr>\n",
       "      <th>2</th>\n",
       "      <td>Afghanistan</td>\n",
       "      <td>1951</td>\n",
       "      <td>AFG</td>\n",
       "      <td>7571542.0</td>\n",
       "      <td>0.000</td>\n",
       "      <td>0.000</td>\n",
       "      <td>0.092</td>\n",
       "      <td>0.007</td>\n",
       "      <td>8.696</td>\n",
       "      <td>9.142</td>\n",
       "      <td>...</td>\n",
       "      <td>0.000</td>\n",
       "      <td>0.0</td>\n",
       "      <td>0.0</td>\n",
       "      <td>0.162</td>\n",
       "      <td>0.004</td>\n",
       "      <td>0.129</td>\n",
       "      <td>0.000</td>\n",
       "      <td>0.000</td>\n",
       "      <td>0.001</td>\n",
       "      <td>0.0</td>\n",
       "    </tr>\n",
       "    <tr>\n",
       "      <th>3</th>\n",
       "      <td>Afghanistan</td>\n",
       "      <td>1952</td>\n",
       "      <td>AFG</td>\n",
       "      <td>7667534.0</td>\n",
       "      <td>0.000</td>\n",
       "      <td>0.000</td>\n",
       "      <td>0.092</td>\n",
       "      <td>0.000</td>\n",
       "      <td>0.000</td>\n",
       "      <td>9.948</td>\n",
       "      <td>...</td>\n",
       "      <td>0.001</td>\n",
       "      <td>0.0</td>\n",
       "      <td>0.0</td>\n",
       "      <td>0.172</td>\n",
       "      <td>0.003</td>\n",
       "      <td>0.129</td>\n",
       "      <td>0.000</td>\n",
       "      <td>0.000</td>\n",
       "      <td>0.001</td>\n",
       "      <td>0.0</td>\n",
       "    </tr>\n",
       "    <tr>\n",
       "      <th>4</th>\n",
       "      <td>Afghanistan</td>\n",
       "      <td>1953</td>\n",
       "      <td>AFG</td>\n",
       "      <td>7764549.0</td>\n",
       "      <td>0.000</td>\n",
       "      <td>0.000</td>\n",
       "      <td>0.106</td>\n",
       "      <td>0.015</td>\n",
       "      <td>16.000</td>\n",
       "      <td>10.915</td>\n",
       "      <td>...</td>\n",
       "      <td>0.001</td>\n",
       "      <td>0.0</td>\n",
       "      <td>0.0</td>\n",
       "      <td>0.185</td>\n",
       "      <td>0.003</td>\n",
       "      <td>0.129</td>\n",
       "      <td>0.000</td>\n",
       "      <td>0.000</td>\n",
       "      <td>0.001</td>\n",
       "      <td>0.0</td>\n",
       "    </tr>\n",
       "    <tr>\n",
       "      <th>...</th>\n",
       "      <td>...</td>\n",
       "      <td>...</td>\n",
       "      <td>...</td>\n",
       "      <td>...</td>\n",
       "      <td>...</td>\n",
       "      <td>...</td>\n",
       "      <td>...</td>\n",
       "      <td>...</td>\n",
       "      <td>...</td>\n",
       "      <td>...</td>\n",
       "      <td>...</td>\n",
       "      <td>...</td>\n",
       "      <td>...</td>\n",
       "      <td>...</td>\n",
       "      <td>...</td>\n",
       "      <td>...</td>\n",
       "      <td>...</td>\n",
       "      <td>...</td>\n",
       "      <td>...</td>\n",
       "      <td>...</td>\n",
       "      <td>...</td>\n",
       "    </tr>\n",
       "    <tr>\n",
       "      <th>23489</th>\n",
       "      <td>Zimbabwe</td>\n",
       "      <td>2017</td>\n",
       "      <td>ZWE</td>\n",
       "      <td>14751101.0</td>\n",
       "      <td>0.469</td>\n",
       "      <td>0.032</td>\n",
       "      <td>9.596</td>\n",
       "      <td>-0.937</td>\n",
       "      <td>-8.899</td>\n",
       "      <td>19.086</td>\n",
       "      <td>...</td>\n",
       "      <td>0.024</td>\n",
       "      <td>0.0</td>\n",
       "      <td>0.0</td>\n",
       "      <td>0.219</td>\n",
       "      <td>0.026</td>\n",
       "      <td>0.114</td>\n",
       "      <td>0.001</td>\n",
       "      <td>0.001</td>\n",
       "      <td>0.002</td>\n",
       "      <td>0.0</td>\n",
       "    </tr>\n",
       "    <tr>\n",
       "      <th>23490</th>\n",
       "      <td>Zimbabwe</td>\n",
       "      <td>2018</td>\n",
       "      <td>ZWE</td>\n",
       "      <td>15052191.0</td>\n",
       "      <td>0.558</td>\n",
       "      <td>0.037</td>\n",
       "      <td>11.795</td>\n",
       "      <td>2.199</td>\n",
       "      <td>22.920</td>\n",
       "      <td>20.626</td>\n",
       "      <td>...</td>\n",
       "      <td>0.025</td>\n",
       "      <td>0.0</td>\n",
       "      <td>0.0</td>\n",
       "      <td>0.211</td>\n",
       "      <td>0.033</td>\n",
       "      <td>0.114</td>\n",
       "      <td>0.001</td>\n",
       "      <td>0.001</td>\n",
       "      <td>0.002</td>\n",
       "      <td>0.0</td>\n",
       "    </tr>\n",
       "    <tr>\n",
       "      <th>23491</th>\n",
       "      <td>Zimbabwe</td>\n",
       "      <td>2019</td>\n",
       "      <td>ZWE</td>\n",
       "      <td>15354606.0</td>\n",
       "      <td>0.570</td>\n",
       "      <td>0.037</td>\n",
       "      <td>11.115</td>\n",
       "      <td>-0.681</td>\n",
       "      <td>-5.772</td>\n",
       "      <td>19.432</td>\n",
       "      <td>...</td>\n",
       "      <td>0.025</td>\n",
       "      <td>0.0</td>\n",
       "      <td>0.0</td>\n",
       "      <td>0.183</td>\n",
       "      <td>0.030</td>\n",
       "      <td>0.113</td>\n",
       "      <td>0.001</td>\n",
       "      <td>0.001</td>\n",
       "      <td>0.002</td>\n",
       "      <td>0.0</td>\n",
       "    </tr>\n",
       "    <tr>\n",
       "      <th>23492</th>\n",
       "      <td>Zimbabwe</td>\n",
       "      <td>2020</td>\n",
       "      <td>ZWE</td>\n",
       "      <td>15669663.0</td>\n",
       "      <td>0.570</td>\n",
       "      <td>0.036</td>\n",
       "      <td>10.608</td>\n",
       "      <td>-0.507</td>\n",
       "      <td>-4.559</td>\n",
       "      <td>18.485</td>\n",
       "      <td>...</td>\n",
       "      <td>0.025</td>\n",
       "      <td>0.0</td>\n",
       "      <td>0.0</td>\n",
       "      <td>0.194</td>\n",
       "      <td>0.030</td>\n",
       "      <td>0.112</td>\n",
       "      <td>0.001</td>\n",
       "      <td>0.001</td>\n",
       "      <td>0.002</td>\n",
       "      <td>0.0</td>\n",
       "    </tr>\n",
       "    <tr>\n",
       "      <th>23493</th>\n",
       "      <td>Zimbabwe</td>\n",
       "      <td>2021</td>\n",
       "      <td>ZWE</td>\n",
       "      <td>15993525.0</td>\n",
       "      <td>0.570</td>\n",
       "      <td>0.036</td>\n",
       "      <td>11.296</td>\n",
       "      <td>0.688</td>\n",
       "      <td>6.488</td>\n",
       "      <td>18.771</td>\n",
       "      <td>...</td>\n",
       "      <td>0.025</td>\n",
       "      <td>0.0</td>\n",
       "      <td>0.0</td>\n",
       "      <td>0.190</td>\n",
       "      <td>0.030</td>\n",
       "      <td>0.111</td>\n",
       "      <td>0.001</td>\n",
       "      <td>0.001</td>\n",
       "      <td>0.002</td>\n",
       "      <td>0.0</td>\n",
       "    </tr>\n",
       "  </tbody>\n",
       "</table>\n",
       "<p>23153 rows × 55 columns</p>\n",
       "</div>"
      ],
      "text/plain": [
       "           country  year iso_code  population  cement_co2  \\\n",
       "0      Afghanistan  1949      AFG   7356890.0       0.000   \n",
       "1      Afghanistan  1950      AFG   7480464.0       0.000   \n",
       "2      Afghanistan  1951      AFG   7571542.0       0.000   \n",
       "3      Afghanistan  1952      AFG   7667534.0       0.000   \n",
       "4      Afghanistan  1953      AFG   7764549.0       0.000   \n",
       "...            ...   ...      ...         ...         ...   \n",
       "23489     Zimbabwe  2017      ZWE  14751101.0       0.469   \n",
       "23490     Zimbabwe  2018      ZWE  15052191.0       0.558   \n",
       "23491     Zimbabwe  2019      ZWE  15354606.0       0.570   \n",
       "23492     Zimbabwe  2020      ZWE  15669663.0       0.570   \n",
       "23493     Zimbabwe  2021      ZWE  15993525.0       0.570   \n",
       "\n",
       "       cement_co2_per_capita     co2  co2_growth_abs  co2_growth_prct  \\\n",
       "0                      0.000   0.015             NaN              NaN   \n",
       "1                      0.000   0.084           0.070          475.000   \n",
       "2                      0.000   0.092           0.007            8.696   \n",
       "3                      0.000   0.092           0.000            0.000   \n",
       "4                      0.000   0.106           0.015           16.000   \n",
       "...                      ...     ...             ...              ...   \n",
       "23489                  0.032   9.596          -0.937           -8.899   \n",
       "23490                  0.037  11.795           2.199           22.920   \n",
       "23491                  0.037  11.115          -0.681           -5.772   \n",
       "23492                  0.036  10.608          -0.507           -4.559   \n",
       "23493                  0.036  11.296           0.688            6.488   \n",
       "\n",
       "       co2_including_luc  ...  share_global_cumulative_oil_co2  \\\n",
       "0                  8.039  ...                            0.000   \n",
       "1                  8.585  ...                            0.000   \n",
       "2                  9.142  ...                            0.000   \n",
       "3                  9.948  ...                            0.001   \n",
       "4                 10.915  ...                            0.001   \n",
       "...                  ...  ...                              ...   \n",
       "23489             19.086  ...                            0.024   \n",
       "23490             20.626  ...                            0.025   \n",
       "23491             19.432  ...                            0.025   \n",
       "23492             18.485  ...                            0.025   \n",
       "23493             18.771  ...                            0.025   \n",
       "\n",
       "       share_global_flaring_co2  share_global_gas_co2  share_global_luc_co2  \\\n",
       "0                           NaN                   0.0                 0.160   \n",
       "1                           0.0                   0.0                 0.157   \n",
       "2                           0.0                   0.0                 0.162   \n",
       "3                           0.0                   0.0                 0.172   \n",
       "4                           0.0                   0.0                 0.185   \n",
       "...                         ...                   ...                   ...   \n",
       "23489                       0.0                   0.0                 0.219   \n",
       "23490                       0.0                   0.0                 0.211   \n",
       "23491                       0.0                   0.0                 0.183   \n",
       "23492                       0.0                   0.0                 0.194   \n",
       "23493                       0.0                   0.0                 0.190   \n",
       "\n",
       "       share_global_oil_co2  share_of_temperature_change_from_ghg  \\\n",
       "0                     0.000                                 0.129   \n",
       "1                     0.004                                 0.129   \n",
       "2                     0.004                                 0.129   \n",
       "3                     0.003                                 0.129   \n",
       "4                     0.003                                 0.129   \n",
       "...                     ...                                   ...   \n",
       "23489                 0.026                                 0.114   \n",
       "23490                 0.033                                 0.114   \n",
       "23491                 0.030                                 0.113   \n",
       "23492                 0.030                                 0.112   \n",
       "23493                 0.030                                 0.111   \n",
       "\n",
       "       temperature_change_from_ch4  temperature_change_from_co2  \\\n",
       "0                            0.000                        0.000   \n",
       "1                            0.000                        0.000   \n",
       "2                            0.000                        0.000   \n",
       "3                            0.000                        0.000   \n",
       "4                            0.000                        0.000   \n",
       "...                            ...                          ...   \n",
       "23489                        0.001                        0.001   \n",
       "23490                        0.001                        0.001   \n",
       "23491                        0.001                        0.001   \n",
       "23492                        0.001                        0.001   \n",
       "23493                        0.001                        0.001   \n",
       "\n",
       "       temperature_change_from_ghg  temperature_change_from_n2o  \n",
       "0                            0.000                          0.0  \n",
       "1                            0.000                          0.0  \n",
       "2                            0.001                          0.0  \n",
       "3                            0.001                          0.0  \n",
       "4                            0.001                          0.0  \n",
       "...                            ...                          ...  \n",
       "23489                        0.002                          0.0  \n",
       "23490                        0.002                          0.0  \n",
       "23491                        0.002                          0.0  \n",
       "23492                        0.002                          0.0  \n",
       "23493                        0.002                          0.0  \n",
       "\n",
       "[23153 rows x 55 columns]"
      ]
     },
     "execution_count": 20,
     "metadata": {},
     "output_type": "execute_result"
    }
   ],
   "source": [
    "df = df[~(df['cement_co2'].isnull() & (df['year'] > 1930))]\n",
    "df"
   ]
  },
  {
   "cell_type": "code",
   "execution_count": 21,
   "id": "5fa4905d-9c49-4388-8796-af7ad8ab40ab",
   "metadata": {},
   "outputs": [
    {
     "data": {
      "image/png": "[encoded data removed]",
      "text/plain": [
       "<Figure size 640x480 with 1 Axes>"
      ]
     },
     "metadata": {},
     "output_type": "display_data"
    }
   ],
   "source": [
    "df_cement_nulls = df[df[\"cement_co2\"].isnull()][[\"year\", \"cement_co2\"]]\n",
    "\n",
    "sns.histplot(data=df_cement_nulls, x=\"year\")\n",
    "plt.show()"
   ]
  },
  {
   "cell_type": "code",
   "execution_count": 22,
   "id": "53cbeff8-7de2-445f-a74a-839159a3953a",
   "metadata": {
    "scrolled": true
   },
   "outputs": [
    {
     "name": "stdout",
     "output_type": "stream",
     "text": [
      "                     Count  Null     Null %  Zeros    Zeros %  Unique  \\\n",
      "year                 23392     0   0.000000      0   0.000000     172   \n",
      "cement_co2           23392  3481  14.881156   7056  30.164159    5261   \n",
      "coal_co2             23392     0   0.000000   6719  28.723495   10076   \n",
      "flaring_co2          23392    95   0.406122  18370  78.531122    3266   \n",
      "gas_co2              23392    27   0.115424  14120  60.362517    6168   \n",
      "land_use_change_co2  23392   953   4.074042    915   3.911594    7001   \n",
      "oil_co2              23392     0   0.000000   2335   9.982045   10528   \n",
      "\n",
      "                     Duplicated  Under Zeros  \n",
      "year                        112            0  \n",
      "cement_co2                  112            0  \n",
      "coal_co2                    112            0  \n",
      "flaring_co2                 112            0  \n",
      "gas_co2                     112            0  \n",
      "land_use_change_co2         112         3470  \n",
      "oil_co2                     112            0  \n",
      "                                 year  coal_co2\n",
      "country                                        \n",
      "Namibia                             1         1\n",
      "South Korea                         1         1\n",
      "Puerto Rico                         1         1\n",
      "Sri Lanka                           2         2\n",
      "Serbia                              2         2\n",
      "...                               ...       ...\n",
      "Bonaire Sint Eustatius and Saba    95        95\n",
      "Curacao                            95        95\n",
      "Sint Maarten (Dutch part)          95        95\n",
      "Trinidad and Tobago                98        98\n",
      "Ecuador                           105       105\n",
      "\n",
      "[159 rows x 2 columns]\n",
      "['Albania' 'Algeria' 'Andorra' 'Angola' 'Anguilla' 'Antigua and Barbuda'\n",
      " 'Armenia' 'Aruba' 'Azerbaijan' 'Bahamas' 'Bahrain' 'Barbados' 'Belize'\n",
      " 'Benin' 'Bermuda' 'Bhutan' 'Bolivia' 'Bonaire Sint Eustatius and Saba'\n",
      " 'Bosnia and Herzegovina' 'British Virgin Islands' 'Brunei' 'Burkina Faso'\n",
      " 'Burundi' 'Cambodia' 'Cameroon' 'Cape Verde' 'Central African Republic'\n",
      " 'Chad' 'Colombia' 'Comoros' 'Congo' 'Cook Islands' 'Costa Rica'\n",
      " \"Cote d'Ivoire\" 'Croatia' 'Cuba' 'Curacao' 'Cyprus'\n",
      " 'Democratic Republic of Congo' 'Djibouti' 'Dominica' 'Dominican Republic'\n",
      " 'East Timor' 'Ecuador' 'Egypt' 'El Salvador' 'Equatorial Guinea'\n",
      " 'Eritrea' 'Ethiopia' 'Faroe Islands' 'Fiji' 'French Guiana'\n",
      " 'French Polynesia' 'Gabon' 'Gambia' 'Ghana' 'Greenland' 'Grenada'\n",
      " 'Guadeloupe' 'Guatemala' 'Guinea' 'Guinea-Bissau' 'Guyana' 'Haiti'\n",
      " 'Honduras' 'Hong Kong' 'Iceland' 'Indonesia' 'Iran' 'Iraq' 'Israel'\n",
      " 'Jamaica' 'Jordan' 'Kiribati' 'Kuwait' 'Laos' 'Lebanon' 'Liberia' 'Libya'\n",
      " 'Liechtenstein' 'Luxembourg' 'Macao' 'Madagascar' 'Malaysia' 'Maldives'\n",
      " 'Mali' 'Malta' 'Marshall Islands' 'Martinique' 'Mauritania' 'Mauritius'\n",
      " 'Mayotte' 'Micronesia (country)' 'Montenegro' 'Montserrat' 'Morocco'\n",
      " 'Mozambique' 'Myanmar' 'Namibia' 'Nauru' 'Nepal' 'Nicaragua' 'Niger'\n",
      " 'Niue' 'North Korea' 'North Macedonia' 'Oman' 'Palau' 'Palestine'\n",
      " 'Panama' 'Papua New Guinea' 'Paraguay' 'Peru' 'Philippines' 'Puerto Rico'\n",
      " 'Qatar' 'Reunion' 'Romania' 'Rwanda' 'Saint Helena'\n",
      " 'Saint Kitts and Nevis' 'Saint Lucia' 'Saint Pierre and Miquelon'\n",
      " 'Saint Vincent and the Grenadines' 'Samoa' 'Sao Tome and Principe'\n",
      " 'Saudi Arabia' 'Senegal' 'Serbia' 'Seychelles' 'Sierra Leone' 'Singapore'\n",
      " 'Sint Maarten (Dutch part)' 'Slovenia' 'Solomon Islands' 'Somalia'\n",
      " 'South America' 'South Korea' 'South Sudan' 'Sri Lanka' 'Sudan'\n",
      " 'Suriname' 'Syria' 'Tanzania' 'Thailand' 'Togo' 'Tonga'\n",
      " 'Trinidad and Tobago' 'Tunisia' 'Turkmenistan' 'Turks and Caicos Islands'\n",
      " 'Tuvalu' 'Uganda' 'United Arab Emirates' 'Uruguay' 'Vanuatu' 'Venezuela'\n",
      " 'Wallis and Futuna' 'Yemen']\n"
     ]
    },
    {
     "data": {
      "image/png": "[encoded data removed]",
      "text/plain": [
       "<Figure size 640x480 with 1 Axes>"
      ]
     },
     "metadata": {},
     "output_type": "display_data"
    }
   ],
   "source": [
    "info_oil = pd.DataFrame({\n",
    "    \"Count\": [df_it2.shape[0]] * len(df_it2.columns),\n",
    "    \"Null\": df_it2.isnull().sum(),\n",
    "    \"Null %\": df_it2.isnull().mean() * 100,\n",
    "    \"Zeros\": (df_it2 == 0).sum(),\n",
    "    \"Zeros %\": (df_it2 == 0).mean() * 100,\n",
    "    \"Unique\": df_it2.nunique(),\n",
    "    \"Duplicated\": [df_it2.duplicated().sum()] * len(df_it2.columns),\n",
    "    \"Under Zeros\": (df_it2 < 0).sum()\n",
    "}, index=df_it2.columns)\n",
    "\n",
    "print(info_oil)\n",
    "\n",
    "df_coal_zero = df[df[\"coal_co2\"] == 0][[\"year\", \"coal_co2\",\"country\"]]\n",
    "\n",
    "df_coal_zero_grouped = df_coal_zero.groupby(\"country\").count()\n",
    "print(df_coal_zero_grouped.sort_values(by=\"coal_co2\"))\n",
    "\n",
    "print(df_coal_zero[\"country\"].unique())\n",
    "sns.histplot(data=df_coal_zero, x=\"year\")\n",
    "plt.show()"
   ]
  },
  {
   "cell_type": "markdown",
   "id": "71d850fc-70af-4da8-9eca-5b517211e040",
   "metadata": {},
   "source": [
    "### Unificamos criterios\n",
    "\n",
    "los nulos pasan a ser ceros."
   ]
  },
  {
   "cell_type": "code",
   "execution_count": 24,
   "id": "ee50d269-9aeb-4d45-b603-2a6be7d757a1",
   "metadata": {},
   "outputs": [
    {
     "name": "stdout",
     "output_type": "stream",
     "text": [
      "                     Count  Null     Null %  Zeros    Zeros %  Unique  \\\n",
      "cement_co2           23153  3242  14.002505   7056  30.475532    5261   \n",
      "coal_co2             23153     0   0.000000   6569  28.372133   10054   \n",
      "flaring_co2          23153    95   0.410314  18132  78.313825    3266   \n",
      "gas_co2              23153    27   0.116616  13891  59.996545    6165   \n",
      "land_use_change_co2  23153   916   3.956291    915   3.951972    6992   \n",
      "oil_co2              23153     0   0.000000   2335  10.085086   10498   \n",
      "\n",
      "                     Duplicated  Under Zeros  \n",
      "cement_co2                    0            0  \n",
      "coal_co2                      0            0  \n",
      "flaring_co2                   0            0  \n",
      "gas_co2                       0            0  \n",
      "land_use_change_co2           0         3449  \n",
      "oil_co2                       0            0  \n"
     ]
    },
    {
     "name": "stderr",
     "output_type": "stream",
     "text": [
      "/tmp/ipykernel_10056/2473270452.py:3: SettingWithCopyWarning: \n",
      "A value is trying to be set on a copy of a slice from a DataFrame\n",
      "\n",
      "See the caveats in the documentation: https://pandas.pydata.org/pandas-docs/stable/user_guide/indexing.html#returning-a-view-versus-a-copy\n",
      "  df[columns_to_check].fillna(0, inplace=True)\n"
     ]
    }
   ],
   "source": [
    "columns_to_check = [\"cement_co2\", \"coal_co2\", \"flaring_co2\", \"gas_co2\", \"land_use_change_co2\", \"oil_co2\"]\n",
    "\n",
    "df[columns_to_check].fillna(0, inplace=True)\n",
    "\n",
    "info = pd.DataFrame({\n",
    "    \"Count\": [df.shape[0]] * len(columns_to_check),\n",
    "    \"Null\": df[columns_to_check].isnull().sum(),\n",
    "    \"Null %\": df[columns_to_check].isnull().mean() * 100,\n",
    "    \"Zeros\": (df[columns_to_check] == 0).sum(),\n",
    "    \"Zeros %\": (df[columns_to_check] == 0).mean() * 100,\n",
    "    \"Unique\": df[columns_to_check].nunique(),\n",
    "    \"Duplicated\": [df.duplicated().sum()] * len(columns_to_check),\n",
    "    \"Under Zeros\": (df[columns_to_check] < 0).sum()\n",
    "}, index=columns_to_check)\n",
    "\n",
    "print(info)\n"
   ]
  },
  {
   "cell_type": "markdown",
   "id": "91b0084a-b489-4362-a3cb-beb319e8aa95",
   "metadata": {},
   "source": [
    "## Comenzamos el análisis"
   ]
  },
  {
   "cell_type": "markdown",
   "id": "00261899-650f-482c-8d95-8f8f21410578",
   "metadata": {},
   "source": [
    "#### How has the global trend of CO2 emissions evolved, and which periods have shown significant changes in this trajectory?\n"
   ]
  },
  {
   "cell_type": "code",
   "execution_count": 27,
   "id": "fe25db47-9f4c-4a41-b33d-a7b145450daf",
   "metadata": {},
   "outputs": [
    {
     "name": "stderr",
     "output_type": "stream",
     "text": [
      "No artists with labels found to put in legend.  Note that artists whose label start with an underscore are ignored when legend() is called with no argument.\n"
     ]
    },
    {
     "data": {
      "image/png": "[encoded data removed]",
      "text/plain": [
       "<Figure size 1000x600 with 1 Axes>"
      ]
     },
     "metadata": {},
     "output_type": "display_data"
    }
   ],
   "source": [
    "df_it1_grouped = df.groupby(\"year\")['co2'].sum().reset_index()\n",
    "\n",
    "plt.figure(figsize=(10, 6))\n",
    "\n",
    "plt.plot(df_it1_grouped[\"year\"], df_it1_grouped['co2'])\n",
    "\n",
    "plt.xlabel(\"Year\")\n",
    "plt.ylabel(\"Emissions (MtCO2)\")\n",
    "plt.title(\"Evolution of Emissions by Source Over Time\")\n",
    "plt.legend(title=\"Emission Source\")\n",
    "plt.grid(True)\n",
    "plt.show()"
   ]
  },
  {
   "cell_type": "code",
   "execution_count": 28,
   "id": "78ec5be3-a0ff-4382-a602-2f583a5767d2",
   "metadata": {},
   "outputs": [
    {
     "data": {
      "text/html": [
       "<div>\n",
       "<style scoped>\n",
       "    .dataframe tbody tr th:only-of-type {\n",
       "        vertical-align: middle;\n",
       "    }\n",
       "\n",
       "    .dataframe tbody tr th {\n",
       "        vertical-align: top;\n",
       "    }\n",
       "\n",
       "    .dataframe thead th {\n",
       "        text-align: right;\n",
       "    }\n",
       "</style>\n",
       "<table border=\"1\" class=\"dataframe\">\n",
       "  <thead>\n",
       "    <tr style=\"text-align: right;\">\n",
       "      <th></th>\n",
       "      <th>country</th>\n",
       "      <th>year</th>\n",
       "      <th>iso_code</th>\n",
       "      <th>population</th>\n",
       "      <th>cement_co2</th>\n",
       "      <th>cement_co2_per_capita</th>\n",
       "      <th>co2</th>\n",
       "      <th>co2_growth_abs</th>\n",
       "      <th>co2_growth_prct</th>\n",
       "      <th>co2_including_luc</th>\n",
       "      <th>...</th>\n",
       "      <th>share_global_cumulative_oil_co2</th>\n",
       "      <th>share_global_flaring_co2</th>\n",
       "      <th>share_global_gas_co2</th>\n",
       "      <th>share_global_luc_co2</th>\n",
       "      <th>share_global_oil_co2</th>\n",
       "      <th>share_of_temperature_change_from_ghg</th>\n",
       "      <th>temperature_change_from_ch4</th>\n",
       "      <th>temperature_change_from_co2</th>\n",
       "      <th>temperature_change_from_ghg</th>\n",
       "      <th>temperature_change_from_n2o</th>\n",
       "    </tr>\n",
       "  </thead>\n",
       "  <tbody>\n",
       "    <tr>\n",
       "      <th>23064</th>\n",
       "      <td>World</td>\n",
       "      <td>1855</td>\n",
       "      <td>NaN</td>\n",
       "      <td>1.287786e+09</td>\n",
       "      <td>NaN</td>\n",
       "      <td>NaN</td>\n",
       "      <td>260.166</td>\n",
       "      <td>5.027</td>\n",
       "      <td>1.970</td>\n",
       "      <td>2903.986</td>\n",
       "      <td>...</td>\n",
       "      <td>100.0</td>\n",
       "      <td>NaN</td>\n",
       "      <td>NaN</td>\n",
       "      <td>100.0</td>\n",
       "      <td>100.0</td>\n",
       "      <td>100.0</td>\n",
       "      <td>0.002</td>\n",
       "      <td>0.006</td>\n",
       "      <td>0.009</td>\n",
       "      <td>0.000</td>\n",
       "    </tr>\n",
       "    <tr>\n",
       "      <th>23065</th>\n",
       "      <td>World</td>\n",
       "      <td>1856</td>\n",
       "      <td>NaN</td>\n",
       "      <td>1.289613e+09</td>\n",
       "      <td>NaN</td>\n",
       "      <td>NaN</td>\n",
       "      <td>277.292</td>\n",
       "      <td>17.126</td>\n",
       "      <td>6.583</td>\n",
       "      <td>2953.355</td>\n",
       "      <td>...</td>\n",
       "      <td>100.0</td>\n",
       "      <td>NaN</td>\n",
       "      <td>NaN</td>\n",
       "      <td>100.0</td>\n",
       "      <td>100.0</td>\n",
       "      <td>100.0</td>\n",
       "      <td>0.003</td>\n",
       "      <td>0.008</td>\n",
       "      <td>0.011</td>\n",
       "      <td>0.000</td>\n",
       "    </tr>\n",
       "    <tr>\n",
       "      <th>23066</th>\n",
       "      <td>World</td>\n",
       "      <td>1857</td>\n",
       "      <td>NaN</td>\n",
       "      <td>1.291556e+09</td>\n",
       "      <td>NaN</td>\n",
       "      <td>NaN</td>\n",
       "      <td>279.889</td>\n",
       "      <td>2.598</td>\n",
       "      <td>0.937</td>\n",
       "      <td>2979.769</td>\n",
       "      <td>...</td>\n",
       "      <td>100.0</td>\n",
       "      <td>NaN</td>\n",
       "      <td>NaN</td>\n",
       "      <td>100.0</td>\n",
       "      <td>100.0</td>\n",
       "      <td>100.0</td>\n",
       "      <td>0.003</td>\n",
       "      <td>0.009</td>\n",
       "      <td>0.013</td>\n",
       "      <td>0.000</td>\n",
       "    </tr>\n",
       "    <tr>\n",
       "      <th>23067</th>\n",
       "      <td>World</td>\n",
       "      <td>1858</td>\n",
       "      <td>NaN</td>\n",
       "      <td>1.293617e+09</td>\n",
       "      <td>NaN</td>\n",
       "      <td>NaN</td>\n",
       "      <td>284.171</td>\n",
       "      <td>4.282</td>\n",
       "      <td>1.530</td>\n",
       "      <td>3015.439</td>\n",
       "      <td>...</td>\n",
       "      <td>100.0</td>\n",
       "      <td>NaN</td>\n",
       "      <td>NaN</td>\n",
       "      <td>100.0</td>\n",
       "      <td>100.0</td>\n",
       "      <td>100.0</td>\n",
       "      <td>0.004</td>\n",
       "      <td>0.010</td>\n",
       "      <td>0.015</td>\n",
       "      <td>0.001</td>\n",
       "    </tr>\n",
       "    <tr>\n",
       "      <th>23068</th>\n",
       "      <td>World</td>\n",
       "      <td>1859</td>\n",
       "      <td>NaN</td>\n",
       "      <td>1.296053e+09</td>\n",
       "      <td>NaN</td>\n",
       "      <td>NaN</td>\n",
       "      <td>301.312</td>\n",
       "      <td>17.140</td>\n",
       "      <td>6.032</td>\n",
       "      <td>3062.136</td>\n",
       "      <td>...</td>\n",
       "      <td>100.0</td>\n",
       "      <td>NaN</td>\n",
       "      <td>NaN</td>\n",
       "      <td>100.0</td>\n",
       "      <td>100.0</td>\n",
       "      <td>100.0</td>\n",
       "      <td>0.004</td>\n",
       "      <td>0.012</td>\n",
       "      <td>0.016</td>\n",
       "      <td>0.001</td>\n",
       "    </tr>\n",
       "    <tr>\n",
       "      <th>...</th>\n",
       "      <td>...</td>\n",
       "      <td>...</td>\n",
       "      <td>...</td>\n",
       "      <td>...</td>\n",
       "      <td>...</td>\n",
       "      <td>...</td>\n",
       "      <td>...</td>\n",
       "      <td>...</td>\n",
       "      <td>...</td>\n",
       "      <td>...</td>\n",
       "      <td>...</td>\n",
       "      <td>...</td>\n",
       "      <td>...</td>\n",
       "      <td>...</td>\n",
       "      <td>...</td>\n",
       "      <td>...</td>\n",
       "      <td>...</td>\n",
       "      <td>...</td>\n",
       "      <td>...</td>\n",
       "      <td>...</td>\n",
       "      <td>...</td>\n",
       "    </tr>\n",
       "    <tr>\n",
       "      <th>23226</th>\n",
       "      <td>World</td>\n",
       "      <td>2017</td>\n",
       "      <td>NaN</td>\n",
       "      <td>7.599822e+09</td>\n",
       "      <td>1507.923</td>\n",
       "      <td>0.198</td>\n",
       "      <td>36096.738</td>\n",
       "      <td>572.547</td>\n",
       "      <td>1.612</td>\n",
       "      <td>40428.684</td>\n",
       "      <td>...</td>\n",
       "      <td>100.0</td>\n",
       "      <td>100.0</td>\n",
       "      <td>100.0</td>\n",
       "      <td>100.0</td>\n",
       "      <td>100.0</td>\n",
       "      <td>100.0</td>\n",
       "      <td>0.394</td>\n",
       "      <td>1.039</td>\n",
       "      <td>1.511</td>\n",
       "      <td>0.078</td>\n",
       "    </tr>\n",
       "    <tr>\n",
       "      <th>23227</th>\n",
       "      <td>World</td>\n",
       "      <td>2018</td>\n",
       "      <td>NaN</td>\n",
       "      <td>7.683790e+09</td>\n",
       "      <td>1569.218</td>\n",
       "      <td>0.204</td>\n",
       "      <td>36826.508</td>\n",
       "      <td>729.772</td>\n",
       "      <td>2.022</td>\n",
       "      <td>41007.867</td>\n",
       "      <td>...</td>\n",
       "      <td>100.0</td>\n",
       "      <td>100.0</td>\n",
       "      <td>100.0</td>\n",
       "      <td>100.0</td>\n",
       "      <td>100.0</td>\n",
       "      <td>100.0</td>\n",
       "      <td>0.399</td>\n",
       "      <td>1.058</td>\n",
       "      <td>1.536</td>\n",
       "      <td>0.079</td>\n",
       "    </tr>\n",
       "    <tr>\n",
       "      <th>23228</th>\n",
       "      <td>World</td>\n",
       "      <td>2019</td>\n",
       "      <td>NaN</td>\n",
       "      <td>7.764951e+09</td>\n",
       "      <td>1617.507</td>\n",
       "      <td>0.208</td>\n",
       "      <td>37082.559</td>\n",
       "      <td>256.049</td>\n",
       "      <td>0.695</td>\n",
       "      <td>41639.840</td>\n",
       "      <td>...</td>\n",
       "      <td>100.0</td>\n",
       "      <td>100.0</td>\n",
       "      <td>100.0</td>\n",
       "      <td>100.0</td>\n",
       "      <td>100.0</td>\n",
       "      <td>100.0</td>\n",
       "      <td>0.404</td>\n",
       "      <td>1.076</td>\n",
       "      <td>1.561</td>\n",
       "      <td>0.081</td>\n",
       "    </tr>\n",
       "    <tr>\n",
       "      <th>23229</th>\n",
       "      <td>World</td>\n",
       "      <td>2020</td>\n",
       "      <td>NaN</td>\n",
       "      <td>7.840953e+09</td>\n",
       "      <td>1637.537</td>\n",
       "      <td>0.209</td>\n",
       "      <td>35264.086</td>\n",
       "      <td>-1818.472</td>\n",
       "      <td>-4.904</td>\n",
       "      <td>39321.844</td>\n",
       "      <td>...</td>\n",
       "      <td>100.0</td>\n",
       "      <td>100.0</td>\n",
       "      <td>100.0</td>\n",
       "      <td>100.0</td>\n",
       "      <td>100.0</td>\n",
       "      <td>100.0</td>\n",
       "      <td>0.410</td>\n",
       "      <td>1.094</td>\n",
       "      <td>1.585</td>\n",
       "      <td>0.082</td>\n",
       "    </tr>\n",
       "    <tr>\n",
       "      <th>23230</th>\n",
       "      <td>World</td>\n",
       "      <td>2021</td>\n",
       "      <td>NaN</td>\n",
       "      <td>7.909295e+09</td>\n",
       "      <td>1672.592</td>\n",
       "      <td>0.211</td>\n",
       "      <td>37123.852</td>\n",
       "      <td>1859.764</td>\n",
       "      <td>5.274</td>\n",
       "      <td>41062.895</td>\n",
       "      <td>...</td>\n",
       "      <td>100.0</td>\n",
       "      <td>100.0</td>\n",
       "      <td>100.0</td>\n",
       "      <td>100.0</td>\n",
       "      <td>100.0</td>\n",
       "      <td>100.0</td>\n",
       "      <td>0.415</td>\n",
       "      <td>1.113</td>\n",
       "      <td>1.611</td>\n",
       "      <td>0.083</td>\n",
       "    </tr>\n",
       "  </tbody>\n",
       "</table>\n",
       "<p>167 rows × 55 columns</p>\n",
       "</div>"
      ],
      "text/plain": [
       "      country  year iso_code    population  cement_co2  cement_co2_per_capita  \\\n",
       "23064   World  1855      NaN  1.287786e+09         NaN                    NaN   \n",
       "23065   World  1856      NaN  1.289613e+09         NaN                    NaN   \n",
       "23066   World  1857      NaN  1.291556e+09         NaN                    NaN   \n",
       "23067   World  1858      NaN  1.293617e+09         NaN                    NaN   \n",
       "23068   World  1859      NaN  1.296053e+09         NaN                    NaN   \n",
       "...       ...   ...      ...           ...         ...                    ...   \n",
       "23226   World  2017      NaN  7.599822e+09    1507.923                  0.198   \n",
       "23227   World  2018      NaN  7.683790e+09    1569.218                  0.204   \n",
       "23228   World  2019      NaN  7.764951e+09    1617.507                  0.208   \n",
       "23229   World  2020      NaN  7.840953e+09    1637.537                  0.209   \n",
       "23230   World  2021      NaN  7.909295e+09    1672.592                  0.211   \n",
       "\n",
       "             co2  co2_growth_abs  co2_growth_prct  co2_including_luc  ...  \\\n",
       "23064    260.166           5.027            1.970           2903.986  ...   \n",
       "23065    277.292          17.126            6.583           2953.355  ...   \n",
       "23066    279.889           2.598            0.937           2979.769  ...   \n",
       "23067    284.171           4.282            1.530           3015.439  ...   \n",
       "23068    301.312          17.140            6.032           3062.136  ...   \n",
       "...          ...             ...              ...                ...  ...   \n",
       "23226  36096.738         572.547            1.612          40428.684  ...   \n",
       "23227  36826.508         729.772            2.022          41007.867  ...   \n",
       "23228  37082.559         256.049            0.695          41639.840  ...   \n",
       "23229  35264.086       -1818.472           -4.904          39321.844  ...   \n",
       "23230  37123.852        1859.764            5.274          41062.895  ...   \n",
       "\n",
       "       share_global_cumulative_oil_co2  share_global_flaring_co2  \\\n",
       "23064                            100.0                       NaN   \n",
       "23065                            100.0                       NaN   \n",
       "23066                            100.0                       NaN   \n",
       "23067                            100.0                       NaN   \n",
       "23068                            100.0                       NaN   \n",
       "...                                ...                       ...   \n",
       "23226                            100.0                     100.0   \n",
       "23227                            100.0                     100.0   \n",
       "23228                            100.0                     100.0   \n",
       "23229                            100.0                     100.0   \n",
       "23230                            100.0                     100.0   \n",
       "\n",
       "       share_global_gas_co2  share_global_luc_co2  share_global_oil_co2  \\\n",
       "23064                   NaN                 100.0                 100.0   \n",
       "23065                   NaN                 100.0                 100.0   \n",
       "23066                   NaN                 100.0                 100.0   \n",
       "23067                   NaN                 100.0                 100.0   \n",
       "23068                   NaN                 100.0                 100.0   \n",
       "...                     ...                   ...                   ...   \n",
       "23226                 100.0                 100.0                 100.0   \n",
       "23227                 100.0                 100.0                 100.0   \n",
       "23228                 100.0                 100.0                 100.0   \n",
       "23229                 100.0                 100.0                 100.0   \n",
       "23230                 100.0                 100.0                 100.0   \n",
       "\n",
       "       share_of_temperature_change_from_ghg  temperature_change_from_ch4  \\\n",
       "23064                                 100.0                        0.002   \n",
       "23065                                 100.0                        0.003   \n",
       "23066                                 100.0                        0.003   \n",
       "23067                                 100.0                        0.004   \n",
       "23068                                 100.0                        0.004   \n",
       "...                                     ...                          ...   \n",
       "23226                                 100.0                        0.394   \n",
       "23227                                 100.0                        0.399   \n",
       "23228                                 100.0                        0.404   \n",
       "23229                                 100.0                        0.410   \n",
       "23230                                 100.0                        0.415   \n",
       "\n",
       "       temperature_change_from_co2  temperature_change_from_ghg  \\\n",
       "23064                        0.006                        0.009   \n",
       "23065                        0.008                        0.011   \n",
       "23066                        0.009                        0.013   \n",
       "23067                        0.010                        0.015   \n",
       "23068                        0.012                        0.016   \n",
       "...                            ...                          ...   \n",
       "23226                        1.039                        1.511   \n",
       "23227                        1.058                        1.536   \n",
       "23228                        1.076                        1.561   \n",
       "23229                        1.094                        1.585   \n",
       "23230                        1.113                        1.611   \n",
       "\n",
       "       temperature_change_from_n2o  \n",
       "23064                        0.000  \n",
       "23065                        0.000  \n",
       "23066                        0.000  \n",
       "23067                        0.001  \n",
       "23068                        0.001  \n",
       "...                            ...  \n",
       "23226                        0.078  \n",
       "23227                        0.079  \n",
       "23228                        0.081  \n",
       "23229                        0.082  \n",
       "23230                        0.083  \n",
       "\n",
       "[167 rows x 55 columns]"
      ]
     },
     "execution_count": 28,
     "metadata": {},
     "output_type": "execute_result"
    }
   ],
   "source": [
    "df_world = df[df['country'] == 'World']\n",
    "df_world\n",
    "# skim(df_world)"
   ]
  },
  {
   "cell_type": "markdown",
   "id": "1a7f6ffd-a1f3-4cdb-b7ac-8e1870412d12",
   "metadata": {},
   "source": [
    "# Iteration 2"
   ]
  },
  {
   "cell_type": "markdown",
   "id": "8ab85c53-0b2d-4754-9b74-58edb7f2b8ef",
   "metadata": {},
   "source": [
    "##### Which sectors are most responsible for emissions, and how has their contribution varied over the decades?\n"
   ]
  },
  {
   "cell_type": "code",
   "execution_count": 56,
   "id": "e2b8f9d2-02c7-4881-b9b1-367af72bdbcc",
   "metadata": {},
   "outputs": [
    {
     "data": {
      "application/vnd.plotly.v1+json": {
       "config": {
        "plotlyServerURL": "https://plot.ly"
       },
       "data": [
        {
         "hovertemplate": "Fuente de Emisión=cement_co2<br>Año=%{x}<br>Emisiones de CO₂ (toneladas)=%{y}<extra></extra>",
         "legendgroup": "cement_co2",
         "line": {
          "color": "#636efa",
          "dash": "solid"
         },
         "marker": {
          "symbol": "circle"
         },
         "mode": "lines",
         "name": "cement_co2",
         "showlegend": true,
         "type": "scattergl",
         "x": [
          1855,
          1856,
          1857,
          1858,
          1859,
          1860,
          1861,
          1862,
          1863,
          1864,
          1865,
          1866,
          1867,
          1868,
          1869,
          1870,
          1871,
          1872,
          1873,
          1874,
          1875,
          1876,
          1877,
          1878,
          1879,
          1880,
          1881,
          1882,
          1883,
          1884,
          1885,
          1886,
          1887,
          1888,
          1889,
          1890,
          1891,
          1892,
          1893,
          1894,
          1895,
          1896,
          1897,
          1898,
          1899,
          1900,
          1901,
          1902,
          1903,
          1904,
          1905,
          1906,
          1907,
          1908,
          1909,
          1910,
          1911,
          1912,
          1913,
          1914,
          1915,
          1916,
          1917,
          1918,
          1919,
          1920,
          1921,
          1922,
          1923,
          1924,
          1925,
          1926,
          1927,
          1928,
          1929,
          1930,
          1931,
          1932,
          1933,
          1934,
          1935,
          1936,
          1937,
          1938,
          1939,
          1940,
          1941,
          1942,
          1943,
          1944,
          1945,
          1946,
          1947,
          1948,
          1949,
          1950,
          1951,
          1952,
          1953,
          1954,
          1955,
          1956,
          1957,
          1958,
          1959,
          1960,
          1961,
          1962,
          1963,
          1964,
          1965,
          1966,
          1967,
          1968,
          1969,
          1970,
          1971,
          1972,
          1973,
          1974,
          1975,
          1976,
          1977,
          1978,
          1979,
          1980,
          1981,
          1982,
          1983,
          1984,
          1985,
          1986,
          1987,
          1988,
          1989,
          1990,
          1991,
          1992,
          1993,
          1994,
          1995,
          1996,
          1997,
          1998,
          1999,
          2000,
          2001,
          2002,
          2003,
          2004,
          2005,
          2006,
          2007,
          2008,
          2009,
          2010,
          2011,
          2012,
          2013,
          2014,
          2015,
          2016,
          2017,
          2018,
          2019,
          2020,
          2021
         ],
         "xaxis": "x",
         "y": [
          null,
          null,
          null,
          null,
          null,
          null,
          null,
          null,
          null,
          null,
          null,
          null,
          null,
          null,
          null,
          null,
          null,
          null,
          null,
          null,
          null,
          null,
          null,
          null,
          null,
          0,
          0,
          0,
          0,
          0,
          0,
          0,
          0.001,
          0.001,
          0.001,
          0.001,
          0.001,
          0.001,
          0.001,
          0.001,
          0.001,
          0.001,
          0.001,
          0.001,
          0.001,
          0.001,
          0.002,
          0.002,
          0.003,
          0.003,
          0.004,
          0.004,
          0.005,
          0.115,
          0.116,
          0.135,
          0.148,
          0.177,
          0.203,
          0.147,
          0.16,
          0.181,
          0.148,
          0.12,
          0.125,
          0.149,
          0.13,
          0.193,
          0.208,
          0.216,
          14.429,
          14.74,
          15.448,
          35.616,
          36.873,
          35.561,
          30.931,
          24.721,
          23.866,
          28.542,
          32.09,
          38.763,
          40.829,
          38.551,
          35.687,
          31.431,
          43.293,
          38.376,
          34.81,
          22.664,
          22.991,
          36.33,
          43.192,
          51.684,
          58.264,
          66.979,
          75.839,
          80.841,
          89.628,
          97.231,
          107.566,
          116.624,
          122.61,
          129.775,
          145.336,
          157.493,
          164.229,
          176.443,
          186.06,
          206.22,
          216.49,
          233.053,
          239.908,
          255.398,
          270.791,
          288.411,
          303.345,
          321.547,
          340.512,
          341.033,
          339.117,
          354.146,
          370.868,
          394.692,
          399.877,
          402.62,
          402.748,
          400.937,
          409.877,
          417.703,
          422.772,
          440.349,
          459.192,
          483.609,
          493.5,
          493.854,
          507.751,
          528.942,
          551.512,
          588.461,
          622.443,
          635.312,
          661.232,
          658.611,
          691.01,
          721.927,
          754.332,
          796.052,
          852.253,
          910.566,
          964.306,
          1051.669,
          1129.389,
          1143.738,
          1175.73,
          1254.878,
          1349.8,
          1384.57,
          1444.086,
          1499.912,
          1444.436,
          1487.617,
          1507.923,
          1569.218,
          1617.507,
          1637.537,
          1672.592
         ],
         "yaxis": "y"
        },
        {
         "hovertemplate": "Fuente de Emisión=coal_co2<br>Año=%{x}<br>Emisiones de CO₂ (toneladas)=%{y}<extra></extra>",
         "legendgroup": "coal_co2",
         "line": {
          "color": "#EF553B",
          "dash": "solid"
         },
         "marker": {
          "symbol": "circle"
         },
         "mode": "lines",
         "name": "coal_co2",
         "showlegend": true,
         "type": "scattergl",
         "x": [
          1855,
          1856,
          1857,
          1858,
          1859,
          1860,
          1861,
          1862,
          1863,
          1864,
          1865,
          1866,
          1867,
          1868,
          1869,
          1870,
          1871,
          1872,
          1873,
          1874,
          1875,
          1876,
          1877,
          1878,
          1879,
          1880,
          1881,
          1882,
          1883,
          1884,
          1885,
          1886,
          1887,
          1888,
          1889,
          1890,
          1891,
          1892,
          1893,
          1894,
          1895,
          1896,
          1897,
          1898,
          1899,
          1900,
          1901,
          1902,
          1903,
          1904,
          1905,
          1906,
          1907,
          1908,
          1909,
          1910,
          1911,
          1912,
          1913,
          1914,
          1915,
          1916,
          1917,
          1918,
          1919,
          1920,
          1921,
          1922,
          1923,
          1924,
          1925,
          1926,
          1927,
          1928,
          1929,
          1930,
          1931,
          1932,
          1933,
          1934,
          1935,
          1936,
          1937,
          1938,
          1939,
          1940,
          1941,
          1942,
          1943,
          1944,
          1945,
          1946,
          1947,
          1948,
          1949,
          1950,
          1951,
          1952,
          1953,
          1954,
          1955,
          1956,
          1957,
          1958,
          1959,
          1960,
          1961,
          1962,
          1963,
          1964,
          1965,
          1966,
          1967,
          1968,
          1969,
          1970,
          1971,
          1972,
          1973,
          1974,
          1975,
          1976,
          1977,
          1978,
          1979,
          1980,
          1981,
          1982,
          1983,
          1984,
          1985,
          1986,
          1987,
          1988,
          1989,
          1990,
          1991,
          1992,
          1993,
          1994,
          1995,
          1996,
          1997,
          1998,
          1999,
          2000,
          2001,
          2002,
          2003,
          2004,
          2005,
          2006,
          2007,
          2008,
          2009,
          2010,
          2011,
          2012,
          2013,
          2014,
          2015,
          2016,
          2017,
          2018,
          2019,
          2020,
          2021
         ],
         "xaxis": "x",
         "y": [
          260.129,
          277.251,
          279.838,
          284.109,
          301.257,
          330.368,
          346.793,
          352.658,
          376.566,
          405.98,
          430.987,
          444.018,
          475.83,
          488.464,
          518.516,
          529.404,
          562.861,
          622.674,
          659.749,
          616.754,
          669.964,
          679.017,
          690.274,
          694.339,
          742.208,
          838.34,
          865.162,
          912.817,
          974.149,
          982.679,
          986.996,
          995.975,
          1041.488,
          1150.917,
          1151.165,
          1252.118,
          1309.094,
          1322.106,
          1303.833,
          1352.458,
          1429.691,
          1474.281,
          1543.481,
          1628.632,
          1779.86,
          1873.357,
          1929.132,
          1973.178,
          2154.003,
          2166.664,
          2311.143,
          2415.683,
          2746.956,
          2626.02,
          2730.134,
          2862.583,
          2898.529,
          3047.94,
          3292.07,
          2961.773,
          2902.827,
          3129.373,
          3257.893,
          3209.469,
          2715.321,
          3125.927,
          2668.397,
          2770.67,
          3146.423,
          3152.649,
          3151.418,
          3081.757,
          3361.539,
          3305.359,
          3522.251,
          3214.073,
          2830.54,
          2519.949,
          2635.637,
          2878.248,
          2996.885,
          3285.172,
          3463.736,
          3228.046,
          3435.326,
          3794.017,
          3884.161,
          3909.448,
          3925.039,
          3867.923,
          2998.27,
          3234.314,
          3621.548,
          3739.455,
          3546.31,
          3856.215,
          4060.04,
          4009.059,
          4043.705,
          4039.512,
          4372.781,
          4597.137,
          4681.798,
          4754.382,
          4948.027,
          5152.558,
          4943.284,
          4928.785,
          5109.542,
          5215.19,
          5293.218,
          5351.301,
          5266.113,
          5323.236,
          5521.839,
          5696.271,
          5699.823,
          5693.585,
          5862.085,
          5865.81,
          6037.091,
          6263.989,
          6417.698,
          6531.792,
          6840.287,
          7024.129,
          7004.883,
          7126.512,
          7314.19,
          7668.797,
          8217.823,
          8335.814,
          8617.361,
          8910.819,
          8909.616,
          8688.659,
          8604.035,
          8399.007,
          8500.946,
          8548.629,
          8793.981,
          9015.794,
          8967.54,
          8725.984,
          8855.188,
          9203.117,
          9255.257,
          9678.959,
          10518.464,
          10871.584,
          11543.335,
          12188.84,
          12776.36,
          13192.797,
          13016.428,
          13926.621,
          14737.126,
          14922.76,
          15024.486,
          15051.513,
          14710.088,
          14360.605,
          14506.974,
          14746.831,
          14725.978,
          14174.564,
          14979.598
         ],
         "yaxis": "y"
        },
        {
         "hovertemplate": "Fuente de Emisión=flaring_co2<br>Año=%{x}<br>Emisiones de CO₂ (toneladas)=%{y}<extra></extra>",
         "legendgroup": "flaring_co2",
         "line": {
          "color": "#00cc96",
          "dash": "solid"
         },
         "marker": {
          "symbol": "circle"
         },
         "mode": "lines",
         "name": "flaring_co2",
         "showlegend": true,
         "type": "scattergl",
         "x": [
          1855,
          1856,
          1857,
          1858,
          1859,
          1860,
          1861,
          1862,
          1863,
          1864,
          1865,
          1866,
          1867,
          1868,
          1869,
          1870,
          1871,
          1872,
          1873,
          1874,
          1875,
          1876,
          1877,
          1878,
          1879,
          1880,
          1881,
          1882,
          1883,
          1884,
          1885,
          1886,
          1887,
          1888,
          1889,
          1890,
          1891,
          1892,
          1893,
          1894,
          1895,
          1896,
          1897,
          1898,
          1899,
          1900,
          1901,
          1902,
          1903,
          1904,
          1905,
          1906,
          1907,
          1908,
          1909,
          1910,
          1911,
          1912,
          1913,
          1914,
          1915,
          1916,
          1917,
          1918,
          1919,
          1920,
          1921,
          1922,
          1923,
          1924,
          1925,
          1926,
          1927,
          1928,
          1929,
          1930,
          1931,
          1932,
          1933,
          1934,
          1935,
          1936,
          1937,
          1938,
          1939,
          1940,
          1941,
          1942,
          1943,
          1944,
          1945,
          1946,
          1947,
          1948,
          1949,
          1950,
          1951,
          1952,
          1953,
          1954,
          1955,
          1956,
          1957,
          1958,
          1959,
          1960,
          1961,
          1962,
          1963,
          1964,
          1965,
          1966,
          1967,
          1968,
          1969,
          1970,
          1971,
          1972,
          1973,
          1974,
          1975,
          1976,
          1977,
          1978,
          1979,
          1980,
          1981,
          1982,
          1983,
          1984,
          1985,
          1986,
          1987,
          1988,
          1989,
          1990,
          1991,
          1992,
          1993,
          1994,
          1995,
          1996,
          1997,
          1998,
          1999,
          2000,
          2001,
          2002,
          2003,
          2004,
          2005,
          2006,
          2007,
          2008,
          2009,
          2010,
          2011,
          2012,
          2013,
          2014,
          2015,
          2016,
          2017,
          2018,
          2019,
          2020,
          2021
         ],
         "xaxis": "x",
         "y": [
          null,
          null,
          null,
          null,
          null,
          null,
          null,
          null,
          null,
          null,
          null,
          null,
          null,
          null,
          null,
          null,
          null,
          null,
          null,
          null,
          null,
          null,
          null,
          null,
          null,
          null,
          null,
          null,
          null,
          null,
          null,
          null,
          null,
          null,
          null,
          null,
          null,
          null,
          null,
          null,
          null,
          null,
          null,
          null,
          null,
          null,
          null,
          null,
          null,
          null,
          null,
          null,
          null,
          null,
          null,
          null,
          null,
          null,
          null,
          null,
          null,
          null,
          null,
          null,
          null,
          null,
          null,
          null,
          null,
          null,
          null,
          null,
          null,
          null,
          null,
          null,
          null,
          null,
          null,
          null,
          null,
          null,
          null,
          null,
          null,
          null,
          null,
          null,
          null,
          null,
          null,
          null,
          null,
          null,
          null,
          73.624,
          79.875,
          85.364,
          81.348,
          77.612,
          96.836,
          108.174,
          106.386,
          95.115,
          91.694,
          89.14,
          86.218,
          85.931,
          90.506,
          112.792,
          130.443,
          144.566,
          190.783,
          203.8,
          244.035,
          277.745,
          321.427,
          346.87,
          402.142,
          391.347,
          336.685,
          395.391,
          381.443,
          390.15,
          360.13,
          316.436,
          237.163,
          235.575,
          212.847,
          186.751,
          181.447,
          169.668,
          163.007,
          185.509,
          150.68,
          267.859,
          282.965,
          250.482,
          244.056,
          248.054,
          244.935,
          247.175,
          250.794,
          240.252,
          232.748,
          278.928,
          281.128,
          298.554,
          299.376,
          323.803,
          345.094,
          346.86,
          363.985,
          374.074,
          379.402,
          381.65,
          370.28,
          380.351,
          387.535,
          387.902,
          383.534,
          378.385,
          391.992,
          412.116,
          439.254,
          407.584,
          416.526
         ],
         "yaxis": "y"
        },
        {
         "hovertemplate": "Fuente de Emisión=gas_co2<br>Año=%{x}<br>Emisiones de CO₂ (toneladas)=%{y}<extra></extra>",
         "legendgroup": "gas_co2",
         "line": {
          "color": "#ab63fa",
          "dash": "solid"
         },
         "marker": {
          "symbol": "circle"
         },
         "mode": "lines",
         "name": "gas_co2",
         "showlegend": true,
         "type": "scattergl",
         "x": [
          1855,
          1856,
          1857,
          1858,
          1859,
          1860,
          1861,
          1862,
          1863,
          1864,
          1865,
          1866,
          1867,
          1868,
          1869,
          1870,
          1871,
          1872,
          1873,
          1874,
          1875,
          1876,
          1877,
          1878,
          1879,
          1880,
          1881,
          1882,
          1883,
          1884,
          1885,
          1886,
          1887,
          1888,
          1889,
          1890,
          1891,
          1892,
          1893,
          1894,
          1895,
          1896,
          1897,
          1898,
          1899,
          1900,
          1901,
          1902,
          1903,
          1904,
          1905,
          1906,
          1907,
          1908,
          1909,
          1910,
          1911,
          1912,
          1913,
          1914,
          1915,
          1916,
          1917,
          1918,
          1919,
          1920,
          1921,
          1922,
          1923,
          1924,
          1925,
          1926,
          1927,
          1928,
          1929,
          1930,
          1931,
          1932,
          1933,
          1934,
          1935,
          1936,
          1937,
          1938,
          1939,
          1940,
          1941,
          1942,
          1943,
          1944,
          1945,
          1946,
          1947,
          1948,
          1949,
          1950,
          1951,
          1952,
          1953,
          1954,
          1955,
          1956,
          1957,
          1958,
          1959,
          1960,
          1961,
          1962,
          1963,
          1964,
          1965,
          1966,
          1967,
          1968,
          1969,
          1970,
          1971,
          1972,
          1973,
          1974,
          1975,
          1976,
          1977,
          1978,
          1979,
          1980,
          1981,
          1982,
          1983,
          1984,
          1985,
          1986,
          1987,
          1988,
          1989,
          1990,
          1991,
          1992,
          1993,
          1994,
          1995,
          1996,
          1997,
          1998,
          1999,
          2000,
          2001,
          2002,
          2003,
          2004,
          2005,
          2006,
          2007,
          2008,
          2009,
          2010,
          2011,
          2012,
          2013,
          2014,
          2015,
          2016,
          2017,
          2018,
          2019,
          2020,
          2021
         ],
         "xaxis": "x",
         "y": [
          null,
          null,
          null,
          null,
          null,
          null,
          null,
          null,
          null,
          null,
          null,
          null,
          null,
          null,
          null,
          null,
          null,
          null,
          null,
          null,
          null,
          null,
          null,
          null,
          null,
          null,
          null,
          0.165,
          0.381,
          1.172,
          3.715,
          7.676,
          11.787,
          16.774,
          12.227,
          11.688,
          8.947,
          7.775,
          7.288,
          6.698,
          7.042,
          6.848,
          7.288,
          8.46,
          10.904,
          11.542,
          12.861,
          13.696,
          14.528,
          15.165,
          17.17,
          19.027,
          19.877,
          19.676,
          23.523,
          24.915,
          25.718,
          28.315,
          29.598,
          30.136,
          31.866,
          38.377,
          40.509,
          36.519,
          37.948,
          41.685,
          34.992,
          40.107,
          52.526,
          59.709,
          63.922,
          69.144,
          76.017,
          82.623,
          102.894,
          104.224,
          92.887,
          88.218,
          90.917,
          101.949,
          111.372,
          125.529,
          140.574,
          135.493,
          141.328,
          153.515,
          153.463,
          166.049,
          182.9,
          197.601,
          216.697,
          223.834,
          247.888,
          280.122,
          300.454,
          353.156,
          416.186,
          447.085,
          474.527,
          501.35,
          547.229,
          587.229,
          646.666,
          705.825,
          758.226,
          834.527,
          882.007,
          967.683,
          1046.822,
          1152.86,
          1230.538,
          1339.839,
          1432.946,
          1559.571,
          1708.518,
          1790.679,
          1933.313,
          2052.041,
          2203.89,
          2258.999,
          2255.543,
          2386.85,
          2441.085,
          2550.346,
          2688.997,
          2758.101,
          2794.347,
          2731.273,
          2760.542,
          3010.426,
          3121.401,
          3045.544,
          3305.28,
          3466.022,
          3639.817,
          3833.133,
          3909.677,
          3958.12,
          4067.061,
          4102.083,
          4209.968,
          4395.992,
          4412.478,
          4484.475,
          4621.802,
          4731.291,
          4773.585,
          4905.854,
          5081.468,
          5257.19,
          5380.666,
          5506.809,
          5694.134,
          5864.291,
          5751.954,
          6195.344,
          6366.902,
          6500.594,
          6542.527,
          6654.555,
          6788.074,
          6973.649,
          7144.928,
          7529.847,
          7647.528,
          7556.29,
          7921.83
         ],
         "yaxis": "y"
        },
        {
         "hovertemplate": "Fuente de Emisión=land_use_change_co2<br>Año=%{x}<br>Emisiones de CO₂ (toneladas)=%{y}<extra></extra>",
         "legendgroup": "land_use_change_co2",
         "line": {
          "color": "#FFA15A",
          "dash": "solid"
         },
         "marker": {
          "symbol": "circle"
         },
         "mode": "lines",
         "name": "land_use_change_co2",
         "showlegend": true,
         "type": "scattergl",
         "x": [
          1855,
          1856,
          1857,
          1858,
          1859,
          1860,
          1861,
          1862,
          1863,
          1864,
          1865,
          1866,
          1867,
          1868,
          1869,
          1870,
          1871,
          1872,
          1873,
          1874,
          1875,
          1876,
          1877,
          1878,
          1879,
          1880,
          1881,
          1882,
          1883,
          1884,
          1885,
          1886,
          1887,
          1888,
          1889,
          1890,
          1891,
          1892,
          1893,
          1894,
          1895,
          1896,
          1897,
          1898,
          1899,
          1900,
          1901,
          1902,
          1903,
          1904,
          1905,
          1906,
          1907,
          1908,
          1909,
          1910,
          1911,
          1912,
          1913,
          1914,
          1915,
          1916,
          1917,
          1918,
          1919,
          1920,
          1921,
          1922,
          1923,
          1924,
          1925,
          1926,
          1927,
          1928,
          1929,
          1930,
          1931,
          1932,
          1933,
          1934,
          1935,
          1936,
          1937,
          1938,
          1939,
          1940,
          1941,
          1942,
          1943,
          1944,
          1945,
          1946,
          1947,
          1948,
          1949,
          1950,
          1951,
          1952,
          1953,
          1954,
          1955,
          1956,
          1957,
          1958,
          1959,
          1960,
          1961,
          1962,
          1963,
          1964,
          1965,
          1966,
          1967,
          1968,
          1969,
          1970,
          1971,
          1972,
          1973,
          1974,
          1975,
          1976,
          1977,
          1978,
          1979,
          1980,
          1981,
          1982,
          1983,
          1984,
          1985,
          1986,
          1987,
          1988,
          1989,
          1990,
          1991,
          1992,
          1993,
          1994,
          1995,
          1996,
          1997,
          1998,
          1999,
          2000,
          2001,
          2002,
          2003,
          2004,
          2005,
          2006,
          2007,
          2008,
          2009,
          2010,
          2011,
          2012,
          2013,
          2014,
          2015,
          2016,
          2017,
          2018,
          2019,
          2020,
          2021
         ],
         "xaxis": "x",
         "y": [
          2643.82,
          2676.063,
          2699.879,
          2731.268,
          2760.824,
          2649.805,
          2524.74,
          2504.71,
          2504.833,
          2472.101,
          2443.155,
          2432.896,
          2434.24,
          2418.362,
          2394.546,
          2572.983,
          2684.613,
          2740.55,
          2811.631,
          2862.683,
          2890.53,
          2929.856,
          2975.901,
          3026.22,
          3065.058,
          3100.721,
          3096.935,
          3159.833,
          3220.534,
          3240.197,
          3243.862,
          3272.074,
          3325.813,
          3324.103,
          3345.72,
          3466.632,
          3563.851,
          3599.147,
          3667.42,
          3702.838,
          3743.387,
          3776.607,
          3814.835,
          3845.979,
          3887.748,
          4002.798,
          4052.018,
          4117.237,
          4129.938,
          4192.959,
          4228.622,
          4243.767,
          4281.506,
          4313.627,
          4339.153,
          4319.245,
          4311.062,
          4247.797,
          4233.752,
          4227.523,
          4183.311,
          4129.572,
          4129.938,
          4149.846,
          4122.244,
          4257.202,
          4366.633,
          4422.326,
          4433.685,
          4463.607,
          4519.666,
          4507.086,
          4519.544,
          4537.009,
          4543.116,
          4566.443,
          4627.876,
          4681.126,
          4707.629,
          4741.948,
          4741.948,
          4773.459,
          4777.856,
          4806.191,
          4813.03,
          5018.093,
          5169.171,
          5201.415,
          5216.803,
          5214.971,
          5183.338,
          5167.095,
          5114.456,
          5062.304,
          5001.237,
          5425.163,
          5599.081,
          5724.389,
          5832.111,
          6003.708,
          6185.564,
          6390.993,
          6582.621,
          6774.98,
          7104.252,
          6568.086,
          6106.056,
          5892.689,
          5652.575,
          5475.726,
          5066.701,
          4847.716,
          4924.904,
          4977.422,
          4665.982,
          4598.686,
          4585.863,
          4590.503,
          4447.608,
          4320.955,
          4370.053,
          4304.834,
          4407.181,
          4223.371,
          4059.468,
          4084.627,
          4391.792,
          4408.892,
          4804.848,
          5306.083,
          5080.38,
          5116.653,
          5112.868,
          5058.519,
          4868.846,
          4877.272,
          4757.215,
          4890.708,
          4876.417,
          5295.823,
          5288.251,
          5285.076,
          7104.863,
          5486.718,
          5489.038,
          5115.921,
          4739.018,
          5177.232,
          5652.819,
          5362.264,
          4716.667,
          5073.296,
          4436.982,
          4643.021,
          5033.726,
          4837.702,
          4964.109,
          4826.954,
          4628.121,
          4917.699,
          5385.714,
          4527.849,
          4331.947,
          4181.356,
          4557.283,
          4057.758,
          3939.044
         ],
         "yaxis": "y"
        },
        {
         "hovertemplate": "Fuente de Emisión=oil_co2<br>Año=%{x}<br>Emisiones de CO₂ (toneladas)=%{y}<extra></extra>",
         "legendgroup": "oil_co2",
         "line": {
          "color": "#19d3f3",
          "dash": "solid"
         },
         "marker": {
          "symbol": "circle"
         },
         "mode": "lines",
         "name": "oil_co2",
         "showlegend": true,
         "type": "scattergl",
         "x": [
          1855,
          1856,
          1857,
          1858,
          1859,
          1860,
          1861,
          1862,
          1863,
          1864,
          1865,
          1866,
          1867,
          1868,
          1869,
          1870,
          1871,
          1872,
          1873,
          1874,
          1875,
          1876,
          1877,
          1878,
          1879,
          1880,
          1881,
          1882,
          1883,
          1884,
          1885,
          1886,
          1887,
          1888,
          1889,
          1890,
          1891,
          1892,
          1893,
          1894,
          1895,
          1896,
          1897,
          1898,
          1899,
          1900,
          1901,
          1902,
          1903,
          1904,
          1905,
          1906,
          1907,
          1908,
          1909,
          1910,
          1911,
          1912,
          1913,
          1914,
          1915,
          1916,
          1917,
          1918,
          1919,
          1920,
          1921,
          1922,
          1923,
          1924,
          1925,
          1926,
          1927,
          1928,
          1929,
          1930,
          1931,
          1932,
          1933,
          1934,
          1935,
          1936,
          1937,
          1938,
          1939,
          1940,
          1941,
          1942,
          1943,
          1944,
          1945,
          1946,
          1947,
          1948,
          1949,
          1950,
          1951,
          1952,
          1953,
          1954,
          1955,
          1956,
          1957,
          1958,
          1959,
          1960,
          1961,
          1962,
          1963,
          1964,
          1965,
          1966,
          1967,
          1968,
          1969,
          1970,
          1971,
          1972,
          1973,
          1974,
          1975,
          1976,
          1977,
          1978,
          1979,
          1980,
          1981,
          1982,
          1983,
          1984,
          1985,
          1986,
          1987,
          1988,
          1989,
          1990,
          1991,
          1992,
          1993,
          1994,
          1995,
          1996,
          1997,
          1998,
          1999,
          2000,
          2001,
          2002,
          2003,
          2004,
          2005,
          2006,
          2007,
          2008,
          2009,
          2010,
          2011,
          2012,
          2013,
          2014,
          2015,
          2016,
          2017,
          2018,
          2019,
          2020,
          2021
         ],
         "xaxis": "x",
         "y": [
          0.037,
          0.04,
          0.051,
          0.062,
          0.055,
          0.273,
          0.941,
          1.399,
          1.293,
          1.11,
          1.32,
          1.952,
          1.985,
          2.289,
          2.614,
          3.133,
          3.282,
          3.698,
          5.67,
          6.243,
          5.835,
          6.536,
          8.824,
          10.041,
          12.66,
          15.364,
          17.242,
          18.939,
          16.502,
          18.323,
          18.959,
          21.824,
          23.482,
          24.581,
          28.407,
          34.651,
          40.832,
          40.207,
          42.547,
          41.702,
          48.539,
          52.571,
          55.531,
          57.173,
          60.032,
          67.31,
          74.75,
          80.808,
          85.562,
          96.083,
          97.017,
          97.893,
          119.416,
          128.759,
          134.349,
          143.839,
          152.546,
          156.759,
          181.575,
          185.583,
          197.104,
          214.632,
          238.808,
          244.605,
          272.966,
          350.954,
          384.258,
          426.345,
          473.527,
          470.812,
          492.787,
          490.648,
          537.816,
          549.539,
          602.778,
          578.598,
          560.749,
          536.592,
          586.389,
          620.413,
          668.785,
          729.131,
          821.516,
          796.989,
          830.241,
          872.467,
          880.697,
          835.716,
          888.001,
          1018.141,
          1008.345,
          1139.899,
          1221.313,
          1339.607,
          1336.641,
          1648.31,
          1742.354,
          1838.024,
          1952.1,
          2068.543,
          2311.864,
          2508.048,
          2621.266,
          2726.365,
          2904.649,
          3126.444,
          3313.503,
          3561.94,
          3806.973,
          4107.569,
          4412.375,
          4761.953,
          5077.08,
          5530.292,
          5980.509,
          6801.259,
          7202.926,
          7766.614,
          8225.938,
          8107.899,
          8039.023,
          8541.493,
          8842.06,
          9159.137,
          9276.707,
          8951.775,
          8550.305,
          8345.176,
          8260.815,
          8328.841,
          8326.771,
          8576.334,
          8654.659,
          8972.672,
          9130.08,
          9249.362,
          9723.43,
          9226.139,
          9232.772,
          9265.657,
          9363.846,
          9643.209,
          9786.86,
          9883.467,
          10112.427,
          10302.091,
          10390.669,
          10385.864,
          10679.654,
          11042.505,
          11139.399,
          11246.321,
          11283.665,
          11251.325,
          10996.948,
          11359.883,
          11388.086,
          11541.707,
          11626.445,
          11678.782,
          11929.665,
          12023.833,
          12242.628,
          12266.017,
          12345.653,
          11191.809,
          11837.159
         ],
         "yaxis": "y"
        }
       ],
       "layout": {
        "height": 700,
        "legend": {
         "title": {
          "text": "Fuente de Emisión"
         },
         "tracegroupgap": 0
        },
        "template": {
         "data": {
          "bar": [
           {
            "error_x": {
             "color": "#2a3f5f"
            },
            "error_y": {
             "color": "#2a3f5f"
            },
            "marker": {
             "line": {
              "color": "#E5ECF6",
              "width": 0.5
             },
             "pattern": {
              "fillmode": "overlay",
              "size": 10,
              "solidity": 0.2
             }
            },
            "type": "bar"
           }
          ],
          "barpolar": [
           {
            "marker": {
             "line": {
              "color": "#E5ECF6",
              "width": 0.5
             },
             "pattern": {
              "fillmode": "overlay",
              "size": 10,
              "solidity": 0.2
             }
            },
            "type": "barpolar"
           }
          ],
          "carpet": [
           {
            "aaxis": {
             "endlinecolor": "#2a3f5f",
             "gridcolor": "white",
             "linecolor": "white",
             "minorgridcolor": "white",
             "startlinecolor": "#2a3f5f"
            },
            "baxis": {
             "endlinecolor": "#2a3f5f",
             "gridcolor": "white",
             "linecolor": "white",
             "minorgridcolor": "white",
             "startlinecolor": "#2a3f5f"
            },
            "type": "carpet"
           }
          ],
          "choropleth": [
           {
            "colorbar": {
             "outlinewidth": 0,
             "ticks": ""
            },
            "type": "choropleth"
           }
          ],
          "contour": [
           {
            "colorbar": {
             "outlinewidth": 0,
             "ticks": ""
            },
            "colorscale": [
             [
              0,
              "#0d0887"
             ],
             [
              0.1111111111111111,
              "#46039f"
             ],
             [
              0.2222222222222222,
              "#7201a8"
             ],
             [
              0.3333333333333333,
              "#9c179e"
             ],
             [
              0.4444444444444444,
              "#bd3786"
             ],
             [
              0.5555555555555556,
              "#d8576b"
             ],
             [
              0.6666666666666666,
              "#ed7953"
             ],
             [
              0.7777777777777778,
              "#fb9f3a"
             ],
             [
              0.8888888888888888,
              "#fdca26"
             ],
             [
              1,
              "#f0f921"
             ]
            ],
            "type": "contour"
           }
          ],
          "contourcarpet": [
           {
            "colorbar": {
             "outlinewidth": 0,
             "ticks": ""
            },
            "type": "contourcarpet"
           }
          ],
          "heatmap": [
           {
            "colorbar": {
             "outlinewidth": 0,
             "ticks": ""
            },
            "colorscale": [
             [
              0,
              "#0d0887"
             ],
             [
              0.1111111111111111,
              "#46039f"
             ],
             [
              0.2222222222222222,
              "#7201a8"
             ],
             [
              0.3333333333333333,
              "#9c179e"
             ],
             [
              0.4444444444444444,
              "#bd3786"
             ],
             [
              0.5555555555555556,
              "#d8576b"
             ],
             [
              0.6666666666666666,
              "#ed7953"
             ],
             [
              0.7777777777777778,
              "#fb9f3a"
             ],
             [
              0.8888888888888888,
              "#fdca26"
             ],
             [
              1,
              "#f0f921"
             ]
            ],
            "type": "heatmap"
           }
          ],
          "heatmapgl": [
           {
            "colorbar": {
             "outlinewidth": 0,
             "ticks": ""
            },
            "colorscale": [
             [
              0,
              "#0d0887"
             ],
             [
              0.1111111111111111,
              "#46039f"
             ],
             [
              0.2222222222222222,
              "#7201a8"
             ],
             [
              0.3333333333333333,
              "#9c179e"
             ],
             [
              0.4444444444444444,
              "#bd3786"
             ],
             [
              0.5555555555555556,
              "#d8576b"
             ],
             [
              0.6666666666666666,
              "#ed7953"
             ],
             [
              0.7777777777777778,
              "#fb9f3a"
             ],
             [
              0.8888888888888888,
              "#fdca26"
             ],
             [
              1,
              "#f0f921"
             ]
            ],
            "type": "heatmapgl"
           }
          ],
          "histogram": [
           {
            "marker": {
             "pattern": {
              "fillmode": "overlay",
              "size": 10,
              "solidity": 0.2
             }
            },
            "type": "histogram"
           }
          ],
          "histogram2d": [
           {
            "colorbar": {
             "outlinewidth": 0,
             "ticks": ""
            },
            "colorscale": [
             [
              0,
              "#0d0887"
             ],
             [
              0.1111111111111111,
              "#46039f"
             ],
             [
              0.2222222222222222,
              "#7201a8"
             ],
             [
              0.3333333333333333,
              "#9c179e"
             ],
             [
              0.4444444444444444,
              "#bd3786"
             ],
             [
              0.5555555555555556,
              "#d8576b"
             ],
             [
              0.6666666666666666,
              "#ed7953"
             ],
             [
              0.7777777777777778,
              "#fb9f3a"
             ],
             [
              0.8888888888888888,
              "#fdca26"
             ],
             [
              1,
              "#f0f921"
             ]
            ],
            "type": "histogram2d"
           }
          ],
          "histogram2dcontour": [
           {
            "colorbar": {
             "outlinewidth": 0,
             "ticks": ""
            },
            "colorscale": [
             [
              0,
              "#0d0887"
             ],
             [
              0.1111111111111111,
              "#46039f"
             ],
             [
              0.2222222222222222,
              "#7201a8"
             ],
             [
              0.3333333333333333,
              "#9c179e"
             ],
             [
              0.4444444444444444,
              "#bd3786"
             ],
             [
              0.5555555555555556,
              "#d8576b"
             ],
             [
              0.6666666666666666,
              "#ed7953"
             ],
             [
              0.7777777777777778,
              "#fb9f3a"
             ],
             [
              0.8888888888888888,
              "#fdca26"
             ],
             [
              1,
              "#f0f921"
             ]
            ],
            "type": "histogram2dcontour"
           }
          ],
          "mesh3d": [
           {
            "colorbar": {
             "outlinewidth": 0,
             "ticks": ""
            },
            "type": "mesh3d"
           }
          ],
          "parcoords": [
           {
            "line": {
             "colorbar": {
              "outlinewidth": 0,
              "ticks": ""
             }
            },
            "type": "parcoords"
           }
          ],
          "pie": [
           {
            "automargin": true,
            "type": "pie"
           }
          ],
          "scatter": [
           {
            "fillpattern": {
             "fillmode": "overlay",
             "size": 10,
             "solidity": 0.2
            },
            "type": "scatter"
           }
          ],
          "scatter3d": [
           {
            "line": {
             "colorbar": {
              "outlinewidth": 0,
              "ticks": ""
             }
            },
            "marker": {
             "colorbar": {
              "outlinewidth": 0,
              "ticks": ""
             }
            },
            "type": "scatter3d"
           }
          ],
          "scattercarpet": [
           {
            "marker": {
             "colorbar": {
              "outlinewidth": 0,
              "ticks": ""
             }
            },
            "type": "scattercarpet"
           }
          ],
          "scattergeo": [
           {
            "marker": {
             "colorbar": {
              "outlinewidth": 0,
              "ticks": ""
             }
            },
            "type": "scattergeo"
           }
          ],
          "scattergl": [
           {
            "marker": {
             "colorbar": {
              "outlinewidth": 0,
              "ticks": ""
             }
            },
            "type": "scattergl"
           }
          ],
          "scattermapbox": [
           {
            "marker": {
             "colorbar": {
              "outlinewidth": 0,
              "ticks": ""
             }
            },
            "type": "scattermapbox"
           }
          ],
          "scatterpolar": [
           {
            "marker": {
             "colorbar": {
              "outlinewidth": 0,
              "ticks": ""
             }
            },
            "type": "scatterpolar"
           }
          ],
          "scatterpolargl": [
           {
            "marker": {
             "colorbar": {
              "outlinewidth": 0,
              "ticks": ""
             }
            },
            "type": "scatterpolargl"
           }
          ],
          "scatterternary": [
           {
            "marker": {
             "colorbar": {
              "outlinewidth": 0,
              "ticks": ""
             }
            },
            "type": "scatterternary"
           }
          ],
          "surface": [
           {
            "colorbar": {
             "outlinewidth": 0,
             "ticks": ""
            },
            "colorscale": [
             [
              0,
              "#0d0887"
             ],
             [
              0.1111111111111111,
              "#46039f"
             ],
             [
              0.2222222222222222,
              "#7201a8"
             ],
             [
              0.3333333333333333,
              "#9c179e"
             ],
             [
              0.4444444444444444,
              "#bd3786"
             ],
             [
              0.5555555555555556,
              "#d8576b"
             ],
             [
              0.6666666666666666,
              "#ed7953"
             ],
             [
              0.7777777777777778,
              "#fb9f3a"
             ],
             [
              0.8888888888888888,
              "#fdca26"
             ],
             [
              1,
              "#f0f921"
             ]
            ],
            "type": "surface"
           }
          ],
          "table": [
           {
            "cells": {
             "fill": {
              "color": "#EBF0F8"
             },
             "line": {
              "color": "white"
             }
            },
            "header": {
             "fill": {
              "color": "#C8D4E3"
             },
             "line": {
              "color": "white"
             }
            },
            "type": "table"
           }
          ]
         },
         "layout": {
          "annotationdefaults": {
           "arrowcolor": "#2a3f5f",
           "arrowhead": 0,
           "arrowwidth": 1
          },
          "autotypenumbers": "strict",
          "coloraxis": {
           "colorbar": {
            "outlinewidth": 0,
            "ticks": ""
           }
          },
          "colorscale": {
           "diverging": [
            [
             0,
             "#8e0152"
            ],
            [
             0.1,
             "#c51b7d"
            ],
            [
             0.2,
             "#de77ae"
            ],
            [
             0.3,
             "#f1b6da"
            ],
            [
             0.4,
             "#fde0ef"
            ],
            [
             0.5,
             "#f7f7f7"
            ],
            [
             0.6,
             "#e6f5d0"
            ],
            [
             0.7,
             "#b8e186"
            ],
            [
             0.8,
             "#7fbc41"
            ],
            [
             0.9,
             "#4d9221"
            ],
            [
             1,
             "#276419"
            ]
           ],
           "sequential": [
            [
             0,
             "#0d0887"
            ],
            [
             0.1111111111111111,
             "#46039f"
            ],
            [
             0.2222222222222222,
             "#7201a8"
            ],
            [
             0.3333333333333333,
             "#9c179e"
            ],
            [
             0.4444444444444444,
             "#bd3786"
            ],
            [
             0.5555555555555556,
             "#d8576b"
            ],
            [
             0.6666666666666666,
             "#ed7953"
            ],
            [
             0.7777777777777778,
             "#fb9f3a"
            ],
            [
             0.8888888888888888,
             "#fdca26"
            ],
            [
             1,
             "#f0f921"
            ]
           ],
           "sequentialminus": [
            [
             0,
             "#0d0887"
            ],
            [
             0.1111111111111111,
             "#46039f"
            ],
            [
             0.2222222222222222,
             "#7201a8"
            ],
            [
             0.3333333333333333,
             "#9c179e"
            ],
            [
             0.4444444444444444,
             "#bd3786"
            ],
            [
             0.5555555555555556,
             "#d8576b"
            ],
            [
             0.6666666666666666,
             "#ed7953"
            ],
            [
             0.7777777777777778,
             "#fb9f3a"
            ],
            [
             0.8888888888888888,
             "#fdca26"
            ],
            [
             1,
             "#f0f921"
            ]
           ]
          },
          "colorway": [
           "#636efa",
           "#EF553B",
           "#00cc96",
           "#ab63fa",
           "#FFA15A",
           "#19d3f3",
           "#FF6692",
           "#B6E880",
           "#FF97FF",
           "#FECB52"
          ],
          "font": {
           "color": "#2a3f5f"
          },
          "geo": {
           "bgcolor": "white",
           "lakecolor": "white",
           "landcolor": "#E5ECF6",
           "showlakes": true,
           "showland": true,
           "subunitcolor": "white"
          },
          "hoverlabel": {
           "align": "left"
          },
          "hovermode": "closest",
          "mapbox": {
           "style": "light"
          },
          "paper_bgcolor": "white",
          "plot_bgcolor": "#E5ECF6",
          "polar": {
           "angularaxis": {
            "gridcolor": "white",
            "linecolor": "white",
            "ticks": ""
           },
           "bgcolor": "#E5ECF6",
           "radialaxis": {
            "gridcolor": "white",
            "linecolor": "white",
            "ticks": ""
           }
          },
          "scene": {
           "xaxis": {
            "backgroundcolor": "#E5ECF6",
            "gridcolor": "white",
            "gridwidth": 2,
            "linecolor": "white",
            "showbackground": true,
            "ticks": "",
            "zerolinecolor": "white"
           },
           "yaxis": {
            "backgroundcolor": "#E5ECF6",
            "gridcolor": "white",
            "gridwidth": 2,
            "linecolor": "white",
            "showbackground": true,
            "ticks": "",
            "zerolinecolor": "white"
           },
           "zaxis": {
            "backgroundcolor": "#E5ECF6",
            "gridcolor": "white",
            "gridwidth": 2,
            "linecolor": "white",
            "showbackground": true,
            "ticks": "",
            "zerolinecolor": "white"
           }
          },
          "shapedefaults": {
           "line": {
            "color": "#2a3f5f"
           }
          },
          "ternary": {
           "aaxis": {
            "gridcolor": "white",
            "linecolor": "white",
            "ticks": ""
           },
           "baxis": {
            "gridcolor": "white",
            "linecolor": "white",
            "ticks": ""
           },
           "bgcolor": "#E5ECF6",
           "caxis": {
            "gridcolor": "white",
            "linecolor": "white",
            "ticks": ""
           }
          },
          "title": {
           "x": 0.05
          },
          "xaxis": {
           "automargin": true,
           "gridcolor": "white",
           "linecolor": "white",
           "ticks": "",
           "title": {
            "standoff": 15
           },
           "zerolinecolor": "white",
           "zerolinewidth": 2
          },
          "yaxis": {
           "automargin": true,
           "gridcolor": "white",
           "linecolor": "white",
           "ticks": "",
           "title": {
            "standoff": 15
           },
           "zerolinecolor": "white",
           "zerolinewidth": 2
          }
         }
        },
        "title": {
         "text": "Emisiones de CO₂ por Fuente a lo largo del Tiempo"
        },
        "width": 1000,
        "xaxis": {
         "anchor": "y",
         "autorange": true,
         "domain": [
          0,
          1
         ],
         "range": [
          1855,
          2021
         ],
         "title": {
          "text": "Año"
         },
         "type": "linear"
        },
        "yaxis": {
         "anchor": "x",
         "autorange": true,
         "domain": [
          0,
          1
         ],
         "range": [
          -836.1951666666666,
          15887.708166666667
         ],
         "title": {
          "text": "Emisiones de CO₂ (toneladas)"
         },
         "type": "linear"
        }
       }
      },
      "image/png": "[encoded data removed]",
      "text/html": [
       "<div>                            <div id=\"5a48b4e8-f656-4789-937d-d301af9d8835\" class=\"plotly-graph-div\" style=\"height:700px; width:1000px;\"></div>            <script type=\"text/javascript\">                require([\"plotly\"], function(Plotly) {                    window.PLOTLYENV=window.PLOTLYENV || {};                                    if (document.getElementById(\"5a48b4e8-f656-4789-937d-d301af9d8835\")) {                    Plotly.newPlot(                        \"5a48b4e8-f656-4789-937d-d301af9d8835\",                        [{\"hovertemplate\":\"Fuente de Emisi\\u00f3n=cement_co2\\u003cbr\\u003eA\\u00f1o=%{x}\\u003cbr\\u003eEmisiones de CO\\u2082 (toneladas)=%{y}\\u003cextra\\u003e\\u003c\\u002fextra\\u003e\",\"legendgroup\":\"cement_co2\",\"line\":{\"color\":\"#636efa\",\"dash\":\"solid\"},\"marker\":{\"symbol\":\"circle\"},\"mode\":\"lines\",\"name\":\"cement_co2\",\"showlegend\":true,\"x\":[1855,1856,1857,1858,1859,1860,1861,1862,1863,1864,1865,1866,1867,1868,1869,1870,1871,1872,1873,1874,1875,1876,1877,1878,1879,1880,1881,1882,1883,1884,1885,1886,1887,1888,1889,1890,1891,1892,1893,1894,1895,1896,1897,1898,1899,1900,1901,1902,1903,1904,1905,1906,1907,1908,1909,1910,1911,1912,1913,1914,1915,1916,1917,1918,1919,1920,1921,1922,1923,1924,1925,1926,1927,1928,1929,1930,1931,1932,1933,1934,1935,1936,1937,1938,1939,1940,1941,1942,1943,1944,1945,1946,1947,1948,1949,1950,1951,1952,1953,1954,1955,1956,1957,1958,1959,1960,1961,1962,1963,1964,1965,1966,1967,1968,1969,1970,1971,1972,1973,1974,1975,1976,1977,1978,1979,1980,1981,1982,1983,1984,1985,1986,1987,1988,1989,1990,1991,1992,1993,1994,1995,1996,1997,1998,1999,2000,2001,2002,2003,2004,2005,2006,2007,2008,2009,2010,2011,2012,2013,2014,2015,2016,2017,2018,2019,2020,2021],\"xaxis\":\"x\",\"y\":[null,null,null,null,null,null,null,null,null,null,null,null,null,null,null,null,null,null,null,null,null,null,null,null,null,0.0,0.0,0.0,0.0,0.0,0.0,0.0,0.001,0.001,0.001,0.001,0.001,0.001,0.001,0.001,0.001,0.001,0.001,0.001,0.001,0.001,0.002,0.002,0.003,0.003,0.004,0.004,0.005,0.115,0.116,0.135,0.148,0.177,0.203,0.147,0.16,0.181,0.148,0.12,0.125,0.149,0.13,0.193,0.208,0.216,14.429,14.74,15.448,35.616,36.873,35.561,30.931,24.721,23.866,28.542,32.09,38.763,40.829,38.551,35.687,31.431,43.293,38.376,34.81,22.664,22.991,36.33,43.192,51.684,58.264,66.979,75.839,80.841,89.628,97.231,107.566,116.624,122.61,129.775,145.336,157.493,164.229,176.443,186.06,206.22,216.49,233.053,239.908,255.398,270.791,288.411,303.345,321.547,340.512,341.033,339.117,354.146,370.868,394.692,399.877,402.62,402.748,400.937,409.877,417.703,422.772,440.349,459.192,483.609,493.5,493.854,507.751,528.942,551.512,588.461,622.443,635.312,661.232,658.611,691.01,721.927,754.332,796.052,852.253,910.566,964.306,1051.669,1129.389,1143.738,1175.73,1254.878,1349.8,1384.57,1444.086,1499.912,1444.436,1487.617,1507.923,1569.218,1617.507,1637.537,1672.592],\"yaxis\":\"y\",\"type\":\"scattergl\"},{\"hovertemplate\":\"Fuente de Emisi\\u00f3n=coal_co2\\u003cbr\\u003eA\\u00f1o=%{x}\\u003cbr\\u003eEmisiones de CO\\u2082 (toneladas)=%{y}\\u003cextra\\u003e\\u003c\\u002fextra\\u003e\",\"legendgroup\":\"coal_co2\",\"line\":{\"color\":\"#EF553B\",\"dash\":\"solid\"},\"marker\":{\"symbol\":\"circle\"},\"mode\":\"lines\",\"name\":\"coal_co2\",\"showlegend\":true,\"x\":[1855,1856,1857,1858,1859,1860,1861,1862,1863,1864,1865,1866,1867,1868,1869,1870,1871,1872,1873,1874,1875,1876,1877,1878,1879,1880,1881,1882,1883,1884,1885,1886,1887,1888,1889,1890,1891,1892,1893,1894,1895,1896,1897,1898,1899,1900,1901,1902,1903,1904,1905,1906,1907,1908,1909,1910,1911,1912,1913,1914,1915,1916,1917,1918,1919,1920,1921,1922,1923,1924,1925,1926,1927,1928,1929,1930,1931,1932,1933,1934,1935,1936,1937,1938,1939,1940,1941,1942,1943,1944,1945,1946,1947,1948,1949,1950,1951,1952,1953,1954,1955,1956,1957,1958,1959,1960,1961,1962,1963,1964,1965,1966,1967,1968,1969,1970,1971,1972,1973,1974,1975,1976,1977,1978,1979,1980,1981,1982,1983,1984,1985,1986,1987,1988,1989,1990,1991,1992,1993,1994,1995,1996,1997,1998,1999,2000,2001,2002,2003,2004,2005,2006,2007,2008,2009,2010,2011,2012,2013,2014,2015,2016,2017,2018,2019,2020,2021],\"xaxis\":\"x\",\"y\":[260.129,277.251,279.838,284.109,301.257,330.368,346.793,352.658,376.566,405.98,430.987,444.018,475.83,488.464,518.516,529.404,562.861,622.674,659.749,616.754,669.964,679.017,690.274,694.339,742.208,838.34,865.162,912.817,974.149,982.679,986.996,995.975,1041.488,1150.917,1151.165,1252.118,1309.094,1322.106,1303.833,1352.458,1429.691,1474.281,1543.481,1628.632,1779.86,1873.357,1929.132,1973.178,2154.003,2166.664,2311.143,2415.683,2746.956,2626.02,2730.134,2862.583,2898.529,3047.94,3292.07,2961.773,2902.827,3129.373,3257.893,3209.469,2715.321,3125.927,2668.397,2770.67,3146.423,3152.649,3151.418,3081.757,3361.539,3305.359,3522.251,3214.073,2830.54,2519.949,2635.637,2878.248,2996.885,3285.172,3463.736,3228.046,3435.326,3794.017,3884.161,3909.448,3925.039,3867.923,2998.27,3234.314,3621.548,3739.455,3546.31,3856.215,4060.04,4009.059,4043.705,4039.512,4372.781,4597.137,4681.798,4754.382,4948.027,5152.558,4943.284,4928.785,5109.542,5215.19,5293.218,5351.301,5266.113,5323.236,5521.839,5696.271,5699.823,5693.585,5862.085,5865.81,6037.091,6263.989,6417.698,6531.792,6840.287,7024.129,7004.883,7126.512,7314.19,7668.797,8217.823,8335.814,8617.361,8910.819,8909.616,8688.659,8604.035,8399.007,8500.946,8548.629,8793.981,9015.794,8967.54,8725.984,8855.188,9203.117,9255.257,9678.959,10518.464,10871.584,11543.335,12188.84,12776.36,13192.797,13016.428,13926.621,14737.126,14922.76,15024.486,15051.513,14710.088,14360.605,14506.974,14746.831,14725.978,14174.564,14979.598],\"yaxis\":\"y\",\"type\":\"scattergl\"},{\"hovertemplate\":\"Fuente de Emisi\\u00f3n=flaring_co2\\u003cbr\\u003eA\\u00f1o=%{x}\\u003cbr\\u003eEmisiones de CO\\u2082 (toneladas)=%{y}\\u003cextra\\u003e\\u003c\\u002fextra\\u003e\",\"legendgroup\":\"flaring_co2\",\"line\":{\"color\":\"#00cc96\",\"dash\":\"solid\"},\"marker\":{\"symbol\":\"circle\"},\"mode\":\"lines\",\"name\":\"flaring_co2\",\"showlegend\":true,\"x\":[1855,1856,1857,1858,1859,1860,1861,1862,1863,1864,1865,1866,1867,1868,1869,1870,1871,1872,1873,1874,1875,1876,1877,1878,1879,1880,1881,1882,1883,1884,1885,1886,1887,1888,1889,1890,1891,1892,1893,1894,1895,1896,1897,1898,1899,1900,1901,1902,1903,1904,1905,1906,1907,1908,1909,1910,1911,1912,1913,1914,1915,1916,1917,1918,1919,1920,1921,1922,1923,1924,1925,1926,1927,1928,1929,1930,1931,1932,1933,1934,1935,1936,1937,1938,1939,1940,1941,1942,1943,1944,1945,1946,1947,1948,1949,1950,1951,1952,1953,1954,1955,1956,1957,1958,1959,1960,1961,1962,1963,1964,1965,1966,1967,1968,1969,1970,1971,1972,1973,1974,1975,1976,1977,1978,1979,1980,1981,1982,1983,1984,1985,1986,1987,1988,1989,1990,1991,1992,1993,1994,1995,1996,1997,1998,1999,2000,2001,2002,2003,2004,2005,2006,2007,2008,2009,2010,2011,2012,2013,2014,2015,2016,2017,2018,2019,2020,2021],\"xaxis\":\"x\",\"y\":[null,null,null,null,null,null,null,null,null,null,null,null,null,null,null,null,null,null,null,null,null,null,null,null,null,null,null,null,null,null,null,null,null,null,null,null,null,null,null,null,null,null,null,null,null,null,null,null,null,null,null,null,null,null,null,null,null,null,null,null,null,null,null,null,null,null,null,null,null,null,null,null,null,null,null,null,null,null,null,null,null,null,null,null,null,null,null,null,null,null,null,null,null,null,null,73.624,79.875,85.364,81.348,77.612,96.836,108.174,106.386,95.115,91.694,89.14,86.218,85.931,90.506,112.792,130.443,144.566,190.783,203.8,244.035,277.745,321.427,346.87,402.142,391.347,336.685,395.391,381.443,390.15,360.13,316.436,237.163,235.575,212.847,186.751,181.447,169.668,163.007,185.509,150.68,267.859,282.965,250.482,244.056,248.054,244.935,247.175,250.794,240.252,232.748,278.928,281.128,298.554,299.376,323.803,345.094,346.86,363.985,374.074,379.402,381.65,370.28,380.351,387.535,387.902,383.534,378.385,391.992,412.116,439.254,407.584,416.526],\"yaxis\":\"y\",\"type\":\"scattergl\"},{\"hovertemplate\":\"Fuente de Emisi\\u00f3n=gas_co2\\u003cbr\\u003eA\\u00f1o=%{x}\\u003cbr\\u003eEmisiones de CO\\u2082 (toneladas)=%{y}\\u003cextra\\u003e\\u003c\\u002fextra\\u003e\",\"legendgroup\":\"gas_co2\",\"line\":{\"color\":\"#ab63fa\",\"dash\":\"solid\"},\"marker\":{\"symbol\":\"circle\"},\"mode\":\"lines\",\"name\":\"gas_co2\",\"showlegend\":true,\"x\":[1855,1856,1857,1858,1859,1860,1861,1862,1863,1864,1865,1866,1867,1868,1869,1870,1871,1872,1873,1874,1875,1876,1877,1878,1879,1880,1881,1882,1883,1884,1885,1886,1887,1888,1889,1890,1891,1892,1893,1894,1895,1896,1897,1898,1899,1900,1901,1902,1903,1904,1905,1906,1907,1908,1909,1910,1911,1912,1913,1914,1915,1916,1917,1918,1919,1920,1921,1922,1923,1924,1925,1926,1927,1928,1929,1930,1931,1932,1933,1934,1935,1936,1937,1938,1939,1940,1941,1942,1943,1944,1945,1946,1947,1948,1949,1950,1951,1952,1953,1954,1955,1956,1957,1958,1959,1960,1961,1962,1963,1964,1965,1966,1967,1968,1969,1970,1971,1972,1973,1974,1975,1976,1977,1978,1979,1980,1981,1982,1983,1984,1985,1986,1987,1988,1989,1990,1991,1992,1993,1994,1995,1996,1997,1998,1999,2000,2001,2002,2003,2004,2005,2006,2007,2008,2009,2010,2011,2012,2013,2014,2015,2016,2017,2018,2019,2020,2021],\"xaxis\":\"x\",\"y\":[null,null,null,null,null,null,null,null,null,null,null,null,null,null,null,null,null,null,null,null,null,null,null,null,null,null,null,0.165,0.381,1.172,3.715,7.676,11.787,16.774,12.227,11.688,8.947,7.775,7.288,6.698,7.042,6.848,7.288,8.46,10.904,11.542,12.861,13.696,14.528,15.165,17.17,19.027,19.877,19.676,23.523,24.915,25.718,28.315,29.598,30.136,31.866,38.377,40.509,36.519,37.948,41.685,34.992,40.107,52.526,59.709,63.922,69.144,76.017,82.623,102.894,104.224,92.887,88.218,90.917,101.949,111.372,125.529,140.574,135.493,141.328,153.515,153.463,166.049,182.9,197.601,216.697,223.834,247.888,280.122,300.454,353.156,416.186,447.085,474.527,501.35,547.229,587.229,646.666,705.825,758.226,834.527,882.007,967.683,1046.822,1152.86,1230.538,1339.839,1432.946,1559.571,1708.518,1790.679,1933.313,2052.041,2203.89,2258.999,2255.543,2386.85,2441.085,2550.346,2688.997,2758.101,2794.347,2731.273,2760.542,3010.426,3121.401,3045.544,3305.28,3466.022,3639.817,3833.133,3909.677,3958.12,4067.061,4102.083,4209.968,4395.992,4412.478,4484.475,4621.802,4731.291,4773.585,4905.854,5081.468,5257.19,5380.666,5506.809,5694.134,5864.291,5751.954,6195.344,6366.902,6500.594,6542.527,6654.555,6788.074,6973.649,7144.928,7529.847,7647.528,7556.29,7921.83],\"yaxis\":\"y\",\"type\":\"scattergl\"},{\"hovertemplate\":\"Fuente de Emisi\\u00f3n=land_use_change_co2\\u003cbr\\u003eA\\u00f1o=%{x}\\u003cbr\\u003eEmisiones de CO\\u2082 (toneladas)=%{y}\\u003cextra\\u003e\\u003c\\u002fextra\\u003e\",\"legendgroup\":\"land_use_change_co2\",\"line\":{\"color\":\"#FFA15A\",\"dash\":\"solid\"},\"marker\":{\"symbol\":\"circle\"},\"mode\":\"lines\",\"name\":\"land_use_change_co2\",\"showlegend\":true,\"x\":[1855,1856,1857,1858,1859,1860,1861,1862,1863,1864,1865,1866,1867,1868,1869,1870,1871,1872,1873,1874,1875,1876,1877,1878,1879,1880,1881,1882,1883,1884,1885,1886,1887,1888,1889,1890,1891,1892,1893,1894,1895,1896,1897,1898,1899,1900,1901,1902,1903,1904,1905,1906,1907,1908,1909,1910,1911,1912,1913,1914,1915,1916,1917,1918,1919,1920,1921,1922,1923,1924,1925,1926,1927,1928,1929,1930,1931,1932,1933,1934,1935,1936,1937,1938,1939,1940,1941,1942,1943,1944,1945,1946,1947,1948,1949,1950,1951,1952,1953,1954,1955,1956,1957,1958,1959,1960,1961,1962,1963,1964,1965,1966,1967,1968,1969,1970,1971,1972,1973,1974,1975,1976,1977,1978,1979,1980,1981,1982,1983,1984,1985,1986,1987,1988,1989,1990,1991,1992,1993,1994,1995,1996,1997,1998,1999,2000,2001,2002,2003,2004,2005,2006,2007,2008,2009,2010,2011,2012,2013,2014,2015,2016,2017,2018,2019,2020,2021],\"xaxis\":\"x\",\"y\":[2643.82,2676.063,2699.879,2731.268,2760.824,2649.805,2524.74,2504.71,2504.833,2472.101,2443.155,2432.896,2434.24,2418.362,2394.546,2572.983,2684.613,2740.55,2811.631,2862.683,2890.53,2929.856,2975.901,3026.22,3065.058,3100.721,3096.935,3159.833,3220.534,3240.197,3243.862,3272.074,3325.813,3324.103,3345.72,3466.632,3563.851,3599.147,3667.42,3702.838,3743.387,3776.607,3814.835,3845.979,3887.748,4002.798,4052.018,4117.237,4129.938,4192.959,4228.622,4243.767,4281.506,4313.627,4339.153,4319.245,4311.062,4247.797,4233.752,4227.523,4183.311,4129.572,4129.938,4149.846,4122.244,4257.202,4366.633,4422.326,4433.685,4463.607,4519.666,4507.086,4519.544,4537.009,4543.116,4566.443,4627.876,4681.126,4707.629,4741.948,4741.948,4773.459,4777.856,4806.191,4813.03,5018.093,5169.171,5201.415,5216.803,5214.971,5183.338,5167.095,5114.456,5062.304,5001.237,5425.163,5599.081,5724.389,5832.111,6003.708,6185.564,6390.993,6582.621,6774.98,7104.252,6568.086,6106.056,5892.689,5652.575,5475.726,5066.701,4847.716,4924.904,4977.422,4665.982,4598.686,4585.863,4590.503,4447.608,4320.955,4370.053,4304.834,4407.181,4223.371,4059.468,4084.627,4391.792,4408.892,4804.848,5306.083,5080.38,5116.653,5112.868,5058.519,4868.846,4877.272,4757.215,4890.708,4876.417,5295.823,5288.251,5285.076,7104.863,5486.718,5489.038,5115.921,4739.018,5177.232,5652.819,5362.264,4716.667,5073.296,4436.982,4643.021,5033.726,4837.702,4964.109,4826.954,4628.121,4917.699,5385.714,4527.849,4331.947,4181.356,4557.283,4057.758,3939.044],\"yaxis\":\"y\",\"type\":\"scattergl\"},{\"hovertemplate\":\"Fuente de Emisi\\u00f3n=oil_co2\\u003cbr\\u003eA\\u00f1o=%{x}\\u003cbr\\u003eEmisiones de CO\\u2082 (toneladas)=%{y}\\u003cextra\\u003e\\u003c\\u002fextra\\u003e\",\"legendgroup\":\"oil_co2\",\"line\":{\"color\":\"#19d3f3\",\"dash\":\"solid\"},\"marker\":{\"symbol\":\"circle\"},\"mode\":\"lines\",\"name\":\"oil_co2\",\"showlegend\":true,\"x\":[1855,1856,1857,1858,1859,1860,1861,1862,1863,1864,1865,1866,1867,1868,1869,1870,1871,1872,1873,1874,1875,1876,1877,1878,1879,1880,1881,1882,1883,1884,1885,1886,1887,1888,1889,1890,1891,1892,1893,1894,1895,1896,1897,1898,1899,1900,1901,1902,1903,1904,1905,1906,1907,1908,1909,1910,1911,1912,1913,1914,1915,1916,1917,1918,1919,1920,1921,1922,1923,1924,1925,1926,1927,1928,1929,1930,1931,1932,1933,1934,1935,1936,1937,1938,1939,1940,1941,1942,1943,1944,1945,1946,1947,1948,1949,1950,1951,1952,1953,1954,1955,1956,1957,1958,1959,1960,1961,1962,1963,1964,1965,1966,1967,1968,1969,1970,1971,1972,1973,1974,1975,1976,1977,1978,1979,1980,1981,1982,1983,1984,1985,1986,1987,1988,1989,1990,1991,1992,1993,1994,1995,1996,1997,1998,1999,2000,2001,2002,2003,2004,2005,2006,2007,2008,2009,2010,2011,2012,2013,2014,2015,2016,2017,2018,2019,2020,2021],\"xaxis\":\"x\",\"y\":[0.037,0.04,0.051,0.062,0.055,0.273,0.941,1.399,1.293,1.11,1.32,1.952,1.985,2.289,2.614,3.133,3.282,3.698,5.67,6.243,5.835,6.536,8.824,10.041,12.66,15.364,17.242,18.939,16.502,18.323,18.959,21.824,23.482,24.581,28.407,34.651,40.832,40.207,42.547,41.702,48.539,52.571,55.531,57.173,60.032,67.31,74.75,80.808,85.562,96.083,97.017,97.893,119.416,128.759,134.349,143.839,152.546,156.759,181.575,185.583,197.104,214.632,238.808,244.605,272.966,350.954,384.258,426.345,473.527,470.812,492.787,490.648,537.816,549.539,602.778,578.598,560.749,536.592,586.389,620.413,668.785,729.131,821.516,796.989,830.241,872.467,880.697,835.716,888.001,1018.141,1008.345,1139.899,1221.313,1339.607,1336.641,1648.31,1742.354,1838.024,1952.1,2068.543,2311.864,2508.048,2621.266,2726.365,2904.649,3126.444,3313.503,3561.94,3806.973,4107.569,4412.375,4761.953,5077.08,5530.292,5980.509,6801.259,7202.926,7766.614,8225.938,8107.899,8039.023,8541.493,8842.06,9159.137,9276.707,8951.775,8550.305,8345.176,8260.815,8328.841,8326.771,8576.334,8654.659,8972.672,9130.08,9249.362,9723.43,9226.139,9232.772,9265.657,9363.846,9643.209,9786.86,9883.467,10112.427,10302.091,10390.669,10385.864,10679.654,11042.505,11139.399,11246.321,11283.665,11251.325,10996.948,11359.883,11388.086,11541.707,11626.445,11678.782,11929.665,12023.833,12242.628,12266.017,12345.653,11191.809,11837.159],\"yaxis\":\"y\",\"type\":\"scattergl\"}],                        {\"template\":{\"data\":{\"histogram2dcontour\":[{\"type\":\"histogram2dcontour\",\"colorbar\":{\"outlinewidth\":0,\"ticks\":\"\"},\"colorscale\":[[0.0,\"#0d0887\"],[0.1111111111111111,\"#46039f\"],[0.2222222222222222,\"#7201a8\"],[0.3333333333333333,\"#9c179e\"],[0.4444444444444444,\"#bd3786\"],[0.5555555555555556,\"#d8576b\"],[0.6666666666666666,\"#ed7953\"],[0.7777777777777778,\"#fb9f3a\"],[0.8888888888888888,\"#fdca26\"],[1.0,\"#f0f921\"]]}],\"choropleth\":[{\"type\":\"choropleth\",\"colorbar\":{\"outlinewidth\":0,\"ticks\":\"\"}}],\"histogram2d\":[{\"type\":\"histogram2d\",\"colorbar\":{\"outlinewidth\":0,\"ticks\":\"\"},\"colorscale\":[[0.0,\"#0d0887\"],[0.1111111111111111,\"#46039f\"],[0.2222222222222222,\"#7201a8\"],[0.3333333333333333,\"#9c179e\"],[0.4444444444444444,\"#bd3786\"],[0.5555555555555556,\"#d8576b\"],[0.6666666666666666,\"#ed7953\"],[0.7777777777777778,\"#fb9f3a\"],[0.8888888888888888,\"#fdca26\"],[1.0,\"#f0f921\"]]}],\"heatmap\":[{\"type\":\"heatmap\",\"colorbar\":{\"outlinewidth\":0,\"ticks\":\"\"},\"colorscale\":[[0.0,\"#0d0887\"],[0.1111111111111111,\"#46039f\"],[0.2222222222222222,\"#7201a8\"],[0.3333333333333333,\"#9c179e\"],[0.4444444444444444,\"#bd3786\"],[0.5555555555555556,\"#d8576b\"],[0.6666666666666666,\"#ed7953\"],[0.7777777777777778,\"#fb9f3a\"],[0.8888888888888888,\"#fdca26\"],[1.0,\"#f0f921\"]]}],\"heatmapgl\":[{\"type\":\"heatmapgl\",\"colorbar\":{\"outlinewidth\":0,\"ticks\":\"\"},\"colorscale\":[[0.0,\"#0d0887\"],[0.1111111111111111,\"#46039f\"],[0.2222222222222222,\"#7201a8\"],[0.3333333333333333,\"#9c179e\"],[0.4444444444444444,\"#bd3786\"],[0.5555555555555556,\"#d8576b\"],[0.6666666666666666,\"#ed7953\"],[0.7777777777777778,\"#fb9f3a\"],[0.8888888888888888,\"#fdca26\"],[1.0,\"#f0f921\"]]}],\"contourcarpet\":[{\"type\":\"contourcarpet\",\"colorbar\":{\"outlinewidth\":0,\"ticks\":\"\"}}],\"contour\":[{\"type\":\"contour\",\"colorbar\":{\"outlinewidth\":0,\"ticks\":\"\"},\"colorscale\":[[0.0,\"#0d0887\"],[0.1111111111111111,\"#46039f\"],[0.2222222222222222,\"#7201a8\"],[0.3333333333333333,\"#9c179e\"],[0.4444444444444444,\"#bd3786\"],[0.5555555555555556,\"#d8576b\"],[0.6666666666666666,\"#ed7953\"],[0.7777777777777778,\"#fb9f3a\"],[0.8888888888888888,\"#fdca26\"],[1.0,\"#f0f921\"]]}],\"surface\":[{\"type\":\"surface\",\"colorbar\":{\"outlinewidth\":0,\"ticks\":\"\"},\"colorscale\":[[0.0,\"#0d0887\"],[0.1111111111111111,\"#46039f\"],[0.2222222222222222,\"#7201a8\"],[0.3333333333333333,\"#9c179e\"],[0.4444444444444444,\"#bd3786\"],[0.5555555555555556,\"#d8576b\"],[0.6666666666666666,\"#ed7953\"],[0.7777777777777778,\"#fb9f3a\"],[0.8888888888888888,\"#fdca26\"],[1.0,\"#f0f921\"]]}],\"mesh3d\":[{\"type\":\"mesh3d\",\"colorbar\":{\"outlinewidth\":0,\"ticks\":\"\"}}],\"scatter\":[{\"fillpattern\":{\"fillmode\":\"overlay\",\"size\":10,\"solidity\":0.2},\"type\":\"scatter\"}],\"parcoords\":[{\"type\":\"parcoords\",\"line\":{\"colorbar\":{\"outlinewidth\":0,\"ticks\":\"\"}}}],\"scatterpolargl\":[{\"type\":\"scatterpolargl\",\"marker\":{\"colorbar\":{\"outlinewidth\":0,\"ticks\":\"\"}}}],\"bar\":[{\"error_x\":{\"color\":\"#2a3f5f\"},\"error_y\":{\"color\":\"#2a3f5f\"},\"marker\":{\"line\":{\"color\":\"#E5ECF6\",\"width\":0.5},\"pattern\":{\"fillmode\":\"overlay\",\"size\":10,\"solidity\":0.2}},\"type\":\"bar\"}],\"scattergeo\":[{\"type\":\"scattergeo\",\"marker\":{\"colorbar\":{\"outlinewidth\":0,\"ticks\":\"\"}}}],\"scatterpolar\":[{\"type\":\"scatterpolar\",\"marker\":{\"colorbar\":{\"outlinewidth\":0,\"ticks\":\"\"}}}],\"histogram\":[{\"marker\":{\"pattern\":{\"fillmode\":\"overlay\",\"size\":10,\"solidity\":0.2}},\"type\":\"histogram\"}],\"scattergl\":[{\"type\":\"scattergl\",\"marker\":{\"colorbar\":{\"outlinewidth\":0,\"ticks\":\"\"}}}],\"scatter3d\":[{\"type\":\"scatter3d\",\"line\":{\"colorbar\":{\"outlinewidth\":0,\"ticks\":\"\"}},\"marker\":{\"colorbar\":{\"outlinewidth\":0,\"ticks\":\"\"}}}],\"scattermapbox\":[{\"type\":\"scattermapbox\",\"marker\":{\"colorbar\":{\"outlinewidth\":0,\"ticks\":\"\"}}}],\"scatterternary\":[{\"type\":\"scatterternary\",\"marker\":{\"colorbar\":{\"outlinewidth\":0,\"ticks\":\"\"}}}],\"scattercarpet\":[{\"type\":\"scattercarpet\",\"marker\":{\"colorbar\":{\"outlinewidth\":0,\"ticks\":\"\"}}}],\"carpet\":[{\"aaxis\":{\"endlinecolor\":\"#2a3f5f\",\"gridcolor\":\"white\",\"linecolor\":\"white\",\"minorgridcolor\":\"white\",\"startlinecolor\":\"#2a3f5f\"},\"baxis\":{\"endlinecolor\":\"#2a3f5f\",\"gridcolor\":\"white\",\"linecolor\":\"white\",\"minorgridcolor\":\"white\",\"startlinecolor\":\"#2a3f5f\"},\"type\":\"carpet\"}],\"table\":[{\"cells\":{\"fill\":{\"color\":\"#EBF0F8\"},\"line\":{\"color\":\"white\"}},\"header\":{\"fill\":{\"color\":\"#C8D4E3\"},\"line\":{\"color\":\"white\"}},\"type\":\"table\"}],\"barpolar\":[{\"marker\":{\"line\":{\"color\":\"#E5ECF6\",\"width\":0.5},\"pattern\":{\"fillmode\":\"overlay\",\"size\":10,\"solidity\":0.2}},\"type\":\"barpolar\"}],\"pie\":[{\"automargin\":true,\"type\":\"pie\"}]},\"layout\":{\"autotypenumbers\":\"strict\",\"colorway\":[\"#636efa\",\"#EF553B\",\"#00cc96\",\"#ab63fa\",\"#FFA15A\",\"#19d3f3\",\"#FF6692\",\"#B6E880\",\"#FF97FF\",\"#FECB52\"],\"font\":{\"color\":\"#2a3f5f\"},\"hovermode\":\"closest\",\"hoverlabel\":{\"align\":\"left\"},\"paper_bgcolor\":\"white\",\"plot_bgcolor\":\"#E5ECF6\",\"polar\":{\"bgcolor\":\"#E5ECF6\",\"angularaxis\":{\"gridcolor\":\"white\",\"linecolor\":\"white\",\"ticks\":\"\"},\"radialaxis\":{\"gridcolor\":\"white\",\"linecolor\":\"white\",\"ticks\":\"\"}},\"ternary\":{\"bgcolor\":\"#E5ECF6\",\"aaxis\":{\"gridcolor\":\"white\",\"linecolor\":\"white\",\"ticks\":\"\"},\"baxis\":{\"gridcolor\":\"white\",\"linecolor\":\"white\",\"ticks\":\"\"},\"caxis\":{\"gridcolor\":\"white\",\"linecolor\":\"white\",\"ticks\":\"\"}},\"coloraxis\":{\"colorbar\":{\"outlinewidth\":0,\"ticks\":\"\"}},\"colorscale\":{\"sequential\":[[0.0,\"#0d0887\"],[0.1111111111111111,\"#46039f\"],[0.2222222222222222,\"#7201a8\"],[0.3333333333333333,\"#9c179e\"],[0.4444444444444444,\"#bd3786\"],[0.5555555555555556,\"#d8576b\"],[0.6666666666666666,\"#ed7953\"],[0.7777777777777778,\"#fb9f3a\"],[0.8888888888888888,\"#fdca26\"],[1.0,\"#f0f921\"]],\"sequentialminus\":[[0.0,\"#0d0887\"],[0.1111111111111111,\"#46039f\"],[0.2222222222222222,\"#7201a8\"],[0.3333333333333333,\"#9c179e\"],[0.4444444444444444,\"#bd3786\"],[0.5555555555555556,\"#d8576b\"],[0.6666666666666666,\"#ed7953\"],[0.7777777777777778,\"#fb9f3a\"],[0.8888888888888888,\"#fdca26\"],[1.0,\"#f0f921\"]],\"diverging\":[[0,\"#8e0152\"],[0.1,\"#c51b7d\"],[0.2,\"#de77ae\"],[0.3,\"#f1b6da\"],[0.4,\"#fde0ef\"],[0.5,\"#f7f7f7\"],[0.6,\"#e6f5d0\"],[0.7,\"#b8e186\"],[0.8,\"#7fbc41\"],[0.9,\"#4d9221\"],[1,\"#276419\"]]},\"xaxis\":{\"gridcolor\":\"white\",\"linecolor\":\"white\",\"ticks\":\"\",\"title\":{\"standoff\":15},\"zerolinecolor\":\"white\",\"automargin\":true,\"zerolinewidth\":2},\"yaxis\":{\"gridcolor\":\"white\",\"linecolor\":\"white\",\"ticks\":\"\",\"title\":{\"standoff\":15},\"zerolinecolor\":\"white\",\"automargin\":true,\"zerolinewidth\":2},\"scene\":{\"xaxis\":{\"backgroundcolor\":\"#E5ECF6\",\"gridcolor\":\"white\",\"linecolor\":\"white\",\"showbackground\":true,\"ticks\":\"\",\"zerolinecolor\":\"white\",\"gridwidth\":2},\"yaxis\":{\"backgroundcolor\":\"#E5ECF6\",\"gridcolor\":\"white\",\"linecolor\":\"white\",\"showbackground\":true,\"ticks\":\"\",\"zerolinecolor\":\"white\",\"gridwidth\":2},\"zaxis\":{\"backgroundcolor\":\"#E5ECF6\",\"gridcolor\":\"white\",\"linecolor\":\"white\",\"showbackground\":true,\"ticks\":\"\",\"zerolinecolor\":\"white\",\"gridwidth\":2}},\"shapedefaults\":{\"line\":{\"color\":\"#2a3f5f\"}},\"annotationdefaults\":{\"arrowcolor\":\"#2a3f5f\",\"arrowhead\":0,\"arrowwidth\":1},\"geo\":{\"bgcolor\":\"white\",\"landcolor\":\"#E5ECF6\",\"subunitcolor\":\"white\",\"showland\":true,\"showlakes\":true,\"lakecolor\":\"white\"},\"title\":{\"x\":0.05},\"mapbox\":{\"style\":\"light\"}}},\"xaxis\":{\"anchor\":\"y\",\"domain\":[0.0,1.0],\"title\":{\"text\":\"A\\u00f1o\"}},\"yaxis\":{\"anchor\":\"x\",\"domain\":[0.0,1.0],\"title\":{\"text\":\"Emisiones de CO\\u2082 (toneladas)\"}},\"legend\":{\"title\":{\"text\":\"Fuente de Emisi\\u00f3n\"},\"tracegroupgap\":0},\"title\":{\"text\":\"Emisiones de CO\\u2082 por Fuente a lo largo del Tiempo\"},\"height\":700,\"width\":1000},                        {\"responsive\": true}                    ).then(function(){\n",
       "                            \n",
       "var gd = document.getElementById('5a48b4e8-f656-4789-937d-d301af9d8835');\n",
       "var x = new MutationObserver(function (mutations, observer) {{\n",
       "        var display = window.getComputedStyle(gd).display;\n",
       "        if (!display || display === 'none') {{\n",
       "            console.log([gd, 'removed!']);\n",
       "            Plotly.purge(gd);\n",
       "            observer.disconnect();\n",
       "        }}\n",
       "}});\n",
       "\n",
       "// Listen for the removal of the full notebook cells\n",
       "var notebookContainer = gd.closest('#notebook-container');\n",
       "if (notebookContainer) {{\n",
       "    x.observe(notebookContainer, {childList: true});\n",
       "}}\n",
       "\n",
       "// Listen for the clearing of the current output cell\n",
       "var outputEl = gd.closest('.output');\n",
       "if (outputEl) {{\n",
       "    x.observe(outputEl, {childList: true});\n",
       "}}\n",
       "\n",
       "                        })                };                });            </script>        </div>"
      ]
     },
     "metadata": {},
     "output_type": "display_data"
    }
   ],
   "source": [
    "#seleccionamos los focos de emisión y los representamos en un lineplot\n",
    "\n",
    "emission_source_columns = [\"cement_co2\", \"coal_co2\", \"flaring_co2\", \"gas_co2\", \"land_use_change_co2\", \"oil_co2\"]\n",
    "\n",
    "\n",
    "df_emission_source = df[df['country'] == 'World'][['year'] + emission_source_columns]\n",
    "\n",
    "df_emission_long = df_emission_source.melt(id_vars=\"year\", \n",
    "                                           value_vars=emission_source_columns, \n",
    "                                           var_name=\"emission_source\", \n",
    "                                           value_name=\"emission_value\")\n",
    " \n",
    "\n",
    "fig = px.line(df_emission_long, \n",
    "              x=\"year\", \n",
    "              y=\"emission_value\", \n",
    "              color=\"emission_source\", \n",
    "              title=\"Emisiones de CO₂ por Fuente a lo largo del Tiempo\",\n",
    "              labels={\"year\": \"Año\", \"emission_value\": \"Emisiones de CO₂ (toneladas)\", \"emission_source\": \"Fuente de Emisión\"},\n",
    "              width=1000,\n",
    "              height=700)\n",
    "\n",
    "\n",
    "fig.show()\n",
    "\n"
   ]
  },
  {
   "cell_type": "code",
   "execution_count": 80,
   "id": "2c26c194-606c-4b57-80ec-8874f05861a0",
   "metadata": {},
   "outputs": [
    {
     "data": {
      "application/vnd.plotly.v1+json": {
       "config": {
        "plotlyServerURL": "https://plot.ly"
       },
       "data": [
        {
         "hovertemplate": "Fuente de Emisión=cement_co2<br>Año=%{x}<br>Emisiones de CO₂ (toneladas)=%{y}<extra></extra>",
         "legendgroup": "cement_co2",
         "line": {
          "color": "#636efa",
          "dash": "solid"
         },
         "marker": {
          "symbol": "circle"
         },
         "mode": "lines",
         "name": "cement_co2",
         "showlegend": true,
         "type": "scattergl",
         "x": [
          1855,
          1856,
          1857,
          1858,
          1859,
          1860,
          1861,
          1862,
          1863,
          1864,
          1865,
          1866,
          1867,
          1868,
          1869,
          1870,
          1871,
          1872,
          1873,
          1874,
          1875,
          1876,
          1877,
          1878,
          1879,
          1880,
          1881,
          1882,
          1883,
          1884,
          1885,
          1886,
          1887,
          1888,
          1889,
          1890,
          1891,
          1892,
          1893,
          1894,
          1895,
          1896,
          1897,
          1898,
          1899,
          1900,
          1901,
          1902,
          1903,
          1904,
          1905,
          1906,
          1907,
          1908,
          1909,
          1910,
          1911,
          1912,
          1913,
          1914,
          1915,
          1916,
          1917,
          1918,
          1919,
          1920,
          1921,
          1922,
          1923,
          1924,
          1925,
          1926,
          1927,
          1928,
          1929,
          1930,
          1931,
          1932,
          1933,
          1934,
          1935,
          1936,
          1937,
          1938,
          1939,
          1940,
          1941,
          1942,
          1943,
          1944,
          1945,
          1946,
          1947,
          1948,
          1949,
          1950,
          1951,
          1952,
          1953,
          1954,
          1955,
          1956,
          1957,
          1958,
          1959,
          1960,
          1961,
          1962,
          1963,
          1964,
          1965,
          1966,
          1967,
          1968,
          1969,
          1970,
          1971,
          1972,
          1973,
          1974,
          1975,
          1976,
          1977,
          1978,
          1979,
          1980,
          1981,
          1982,
          1983,
          1984,
          1985,
          1986,
          1987,
          1988,
          1989,
          1990,
          1991,
          1992,
          1993,
          1994,
          1995,
          1996,
          1997,
          1998,
          1999,
          2000,
          2001,
          2002,
          2003,
          2004,
          2005,
          2006,
          2007,
          2008,
          2009,
          2010,
          2011,
          2012,
          2013,
          2014,
          2015,
          2016,
          2017,
          2018,
          2019,
          2020,
          2021
         ],
         "xaxis": "x4",
         "y": [
          null,
          null,
          null,
          null,
          null,
          null,
          null,
          null,
          null,
          null,
          null,
          null,
          null,
          null,
          null,
          null,
          null,
          null,
          null,
          null,
          null,
          null,
          null,
          null,
          null,
          0,
          0,
          0,
          0,
          0,
          0,
          0,
          0.001,
          0.001,
          0.001,
          0.001,
          0.001,
          0.001,
          0.001,
          0.001,
          0.001,
          0.001,
          0.001,
          0.001,
          0.001,
          0.001,
          0.002,
          0.002,
          0.003,
          0.003,
          0.004,
          0.004,
          0.005,
          0.115,
          0.116,
          0.135,
          0.148,
          0.177,
          0.203,
          0.147,
          0.16,
          0.181,
          0.148,
          0.12,
          0.125,
          0.149,
          0.13,
          0.193,
          0.208,
          0.216,
          14.429,
          14.74,
          15.448,
          35.616,
          36.873,
          35.561,
          30.931,
          24.721,
          23.866,
          28.542,
          32.09,
          38.763,
          40.829,
          38.551,
          35.687,
          31.431,
          43.293,
          38.376,
          34.81,
          22.664,
          22.991,
          36.33,
          43.192,
          51.684,
          58.264,
          66.979,
          75.839,
          80.841,
          89.628,
          97.231,
          107.566,
          116.624,
          122.61,
          129.775,
          145.336,
          157.493,
          164.229,
          176.443,
          186.06,
          206.22,
          216.49,
          233.053,
          239.908,
          255.398,
          270.791,
          288.411,
          303.345,
          321.547,
          340.512,
          341.033,
          339.117,
          354.146,
          370.868,
          394.692,
          399.877,
          402.62,
          402.748,
          400.937,
          409.877,
          417.703,
          422.772,
          440.349,
          459.192,
          483.609,
          493.5,
          493.854,
          507.751,
          528.942,
          551.512,
          588.461,
          622.443,
          635.312,
          661.232,
          658.611,
          691.01,
          721.927,
          754.332,
          796.052,
          852.253,
          910.566,
          964.306,
          1051.669,
          1129.389,
          1143.738,
          1175.73,
          1254.878,
          1349.8,
          1384.57,
          1444.086,
          1499.912,
          1444.436,
          1487.617,
          1507.923,
          1569.218,
          1617.507,
          1637.537,
          1672.592
         ],
         "yaxis": "y4"
        },
        {
         "hovertemplate": "Fuente de Emisión=coal_co2<br>Año=%{x}<br>Emisiones de CO₂ (toneladas)=%{y}<extra></extra>",
         "legendgroup": "coal_co2",
         "line": {
          "color": "#EF553B",
          "dash": "solid"
         },
         "marker": {
          "symbol": "circle"
         },
         "mode": "lines",
         "name": "coal_co2",
         "showlegend": true,
         "type": "scattergl",
         "x": [
          1855,
          1856,
          1857,
          1858,
          1859,
          1860,
          1861,
          1862,
          1863,
          1864,
          1865,
          1866,
          1867,
          1868,
          1869,
          1870,
          1871,
          1872,
          1873,
          1874,
          1875,
          1876,
          1877,
          1878,
          1879,
          1880,
          1881,
          1882,
          1883,
          1884,
          1885,
          1886,
          1887,
          1888,
          1889,
          1890,
          1891,
          1892,
          1893,
          1894,
          1895,
          1896,
          1897,
          1898,
          1899,
          1900,
          1901,
          1902,
          1903,
          1904,
          1905,
          1906,
          1907,
          1908,
          1909,
          1910,
          1911,
          1912,
          1913,
          1914,
          1915,
          1916,
          1917,
          1918,
          1919,
          1920,
          1921,
          1922,
          1923,
          1924,
          1925,
          1926,
          1927,
          1928,
          1929,
          1930,
          1931,
          1932,
          1933,
          1934,
          1935,
          1936,
          1937,
          1938,
          1939,
          1940,
          1941,
          1942,
          1943,
          1944,
          1945,
          1946,
          1947,
          1948,
          1949,
          1950,
          1951,
          1952,
          1953,
          1954,
          1955,
          1956,
          1957,
          1958,
          1959,
          1960,
          1961,
          1962,
          1963,
          1964,
          1965,
          1966,
          1967,
          1968,
          1969,
          1970,
          1971,
          1972,
          1973,
          1974,
          1975,
          1976,
          1977,
          1978,
          1979,
          1980,
          1981,
          1982,
          1983,
          1984,
          1985,
          1986,
          1987,
          1988,
          1989,
          1990,
          1991,
          1992,
          1993,
          1994,
          1995,
          1996,
          1997,
          1998,
          1999,
          2000,
          2001,
          2002,
          2003,
          2004,
          2005,
          2006,
          2007,
          2008,
          2009,
          2010,
          2011,
          2012,
          2013,
          2014,
          2015,
          2016,
          2017,
          2018,
          2019,
          2020,
          2021
         ],
         "xaxis": "x5",
         "y": [
          260.129,
          277.251,
          279.838,
          284.109,
          301.257,
          330.368,
          346.793,
          352.658,
          376.566,
          405.98,
          430.987,
          444.018,
          475.83,
          488.464,
          518.516,
          529.404,
          562.861,
          622.674,
          659.749,
          616.754,
          669.964,
          679.017,
          690.274,
          694.339,
          742.208,
          838.34,
          865.162,
          912.817,
          974.149,
          982.679,
          986.996,
          995.975,
          1041.488,
          1150.917,
          1151.165,
          1252.118,
          1309.094,
          1322.106,
          1303.833,
          1352.458,
          1429.691,
          1474.281,
          1543.481,
          1628.632,
          1779.86,
          1873.357,
          1929.132,
          1973.178,
          2154.003,
          2166.664,
          2311.143,
          2415.683,
          2746.956,
          2626.02,
          2730.134,
          2862.583,
          2898.529,
          3047.94,
          3292.07,
          2961.773,
          2902.827,
          3129.373,
          3257.893,
          3209.469,
          2715.321,
          3125.927,
          2668.397,
          2770.67,
          3146.423,
          3152.649,
          3151.418,
          3081.757,
          3361.539,
          3305.359,
          3522.251,
          3214.073,
          2830.54,
          2519.949,
          2635.637,
          2878.248,
          2996.885,
          3285.172,
          3463.736,
          3228.046,
          3435.326,
          3794.017,
          3884.161,
          3909.448,
          3925.039,
          3867.923,
          2998.27,
          3234.314,
          3621.548,
          3739.455,
          3546.31,
          3856.215,
          4060.04,
          4009.059,
          4043.705,
          4039.512,
          4372.781,
          4597.137,
          4681.798,
          4754.382,
          4948.027,
          5152.558,
          4943.284,
          4928.785,
          5109.542,
          5215.19,
          5293.218,
          5351.301,
          5266.113,
          5323.236,
          5521.839,
          5696.271,
          5699.823,
          5693.585,
          5862.085,
          5865.81,
          6037.091,
          6263.989,
          6417.698,
          6531.792,
          6840.287,
          7024.129,
          7004.883,
          7126.512,
          7314.19,
          7668.797,
          8217.823,
          8335.814,
          8617.361,
          8910.819,
          8909.616,
          8688.659,
          8604.035,
          8399.007,
          8500.946,
          8548.629,
          8793.981,
          9015.794,
          8967.54,
          8725.984,
          8855.188,
          9203.117,
          9255.257,
          9678.959,
          10518.464,
          10871.584,
          11543.335,
          12188.84,
          12776.36,
          13192.797,
          13016.428,
          13926.621,
          14737.126,
          14922.76,
          15024.486,
          15051.513,
          14710.088,
          14360.605,
          14506.974,
          14746.831,
          14725.978,
          14174.564,
          14979.598
         ],
         "yaxis": "y5"
        },
        {
         "hovertemplate": "Fuente de Emisión=flaring_co2<br>Año=%{x}<br>Emisiones de CO₂ (toneladas)=%{y}<extra></extra>",
         "legendgroup": "flaring_co2",
         "line": {
          "color": "#00cc96",
          "dash": "solid"
         },
         "marker": {
          "symbol": "circle"
         },
         "mode": "lines",
         "name": "flaring_co2",
         "showlegend": true,
         "type": "scattergl",
         "x": [
          1855,
          1856,
          1857,
          1858,
          1859,
          1860,
          1861,
          1862,
          1863,
          1864,
          1865,
          1866,
          1867,
          1868,
          1869,
          1870,
          1871,
          1872,
          1873,
          1874,
          1875,
          1876,
          1877,
          1878,
          1879,
          1880,
          1881,
          1882,
          1883,
          1884,
          1885,
          1886,
          1887,
          1888,
          1889,
          1890,
          1891,
          1892,
          1893,
          1894,
          1895,
          1896,
          1897,
          1898,
          1899,
          1900,
          1901,
          1902,
          1903,
          1904,
          1905,
          1906,
          1907,
          1908,
          1909,
          1910,
          1911,
          1912,
          1913,
          1914,
          1915,
          1916,
          1917,
          1918,
          1919,
          1920,
          1921,
          1922,
          1923,
          1924,
          1925,
          1926,
          1927,
          1928,
          1929,
          1930,
          1931,
          1932,
          1933,
          1934,
          1935,
          1936,
          1937,
          1938,
          1939,
          1940,
          1941,
          1942,
          1943,
          1944,
          1945,
          1946,
          1947,
          1948,
          1949,
          1950,
          1951,
          1952,
          1953,
          1954,
          1955,
          1956,
          1957,
          1958,
          1959,
          1960,
          1961,
          1962,
          1963,
          1964,
          1965,
          1966,
          1967,
          1968,
          1969,
          1970,
          1971,
          1972,
          1973,
          1974,
          1975,
          1976,
          1977,
          1978,
          1979,
          1980,
          1981,
          1982,
          1983,
          1984,
          1985,
          1986,
          1987,
          1988,
          1989,
          1990,
          1991,
          1992,
          1993,
          1994,
          1995,
          1996,
          1997,
          1998,
          1999,
          2000,
          2001,
          2002,
          2003,
          2004,
          2005,
          2006,
          2007,
          2008,
          2009,
          2010,
          2011,
          2012,
          2013,
          2014,
          2015,
          2016,
          2017,
          2018,
          2019,
          2020,
          2021
         ],
         "xaxis": "x6",
         "y": [
          null,
          null,
          null,
          null,
          null,
          null,
          null,
          null,
          null,
          null,
          null,
          null,
          null,
          null,
          null,
          null,
          null,
          null,
          null,
          null,
          null,
          null,
          null,
          null,
          null,
          null,
          null,
          null,
          null,
          null,
          null,
          null,
          null,
          null,
          null,
          null,
          null,
          null,
          null,
          null,
          null,
          null,
          null,
          null,
          null,
          null,
          null,
          null,
          null,
          null,
          null,
          null,
          null,
          null,
          null,
          null,
          null,
          null,
          null,
          null,
          null,
          null,
          null,
          null,
          null,
          null,
          null,
          null,
          null,
          null,
          null,
          null,
          null,
          null,
          null,
          null,
          null,
          null,
          null,
          null,
          null,
          null,
          null,
          null,
          null,
          null,
          null,
          null,
          null,
          null,
          null,
          null,
          null,
          null,
          null,
          73.624,
          79.875,
          85.364,
          81.348,
          77.612,
          96.836,
          108.174,
          106.386,
          95.115,
          91.694,
          89.14,
          86.218,
          85.931,
          90.506,
          112.792,
          130.443,
          144.566,
          190.783,
          203.8,
          244.035,
          277.745,
          321.427,
          346.87,
          402.142,
          391.347,
          336.685,
          395.391,
          381.443,
          390.15,
          360.13,
          316.436,
          237.163,
          235.575,
          212.847,
          186.751,
          181.447,
          169.668,
          163.007,
          185.509,
          150.68,
          267.859,
          282.965,
          250.482,
          244.056,
          248.054,
          244.935,
          247.175,
          250.794,
          240.252,
          232.748,
          278.928,
          281.128,
          298.554,
          299.376,
          323.803,
          345.094,
          346.86,
          363.985,
          374.074,
          379.402,
          381.65,
          370.28,
          380.351,
          387.535,
          387.902,
          383.534,
          378.385,
          391.992,
          412.116,
          439.254,
          407.584,
          416.526
         ],
         "yaxis": "y6"
        },
        {
         "hovertemplate": "Fuente de Emisión=gas_co2<br>Año=%{x}<br>Emisiones de CO₂ (toneladas)=%{y}<extra></extra>",
         "legendgroup": "gas_co2",
         "line": {
          "color": "#ab63fa",
          "dash": "solid"
         },
         "marker": {
          "symbol": "circle"
         },
         "mode": "lines",
         "name": "gas_co2",
         "showlegend": true,
         "type": "scattergl",
         "x": [
          1855,
          1856,
          1857,
          1858,
          1859,
          1860,
          1861,
          1862,
          1863,
          1864,
          1865,
          1866,
          1867,
          1868,
          1869,
          1870,
          1871,
          1872,
          1873,
          1874,
          1875,
          1876,
          1877,
          1878,
          1879,
          1880,
          1881,
          1882,
          1883,
          1884,
          1885,
          1886,
          1887,
          1888,
          1889,
          1890,
          1891,
          1892,
          1893,
          1894,
          1895,
          1896,
          1897,
          1898,
          1899,
          1900,
          1901,
          1902,
          1903,
          1904,
          1905,
          1906,
          1907,
          1908,
          1909,
          1910,
          1911,
          1912,
          1913,
          1914,
          1915,
          1916,
          1917,
          1918,
          1919,
          1920,
          1921,
          1922,
          1923,
          1924,
          1925,
          1926,
          1927,
          1928,
          1929,
          1930,
          1931,
          1932,
          1933,
          1934,
          1935,
          1936,
          1937,
          1938,
          1939,
          1940,
          1941,
          1942,
          1943,
          1944,
          1945,
          1946,
          1947,
          1948,
          1949,
          1950,
          1951,
          1952,
          1953,
          1954,
          1955,
          1956,
          1957,
          1958,
          1959,
          1960,
          1961,
          1962,
          1963,
          1964,
          1965,
          1966,
          1967,
          1968,
          1969,
          1970,
          1971,
          1972,
          1973,
          1974,
          1975,
          1976,
          1977,
          1978,
          1979,
          1980,
          1981,
          1982,
          1983,
          1984,
          1985,
          1986,
          1987,
          1988,
          1989,
          1990,
          1991,
          1992,
          1993,
          1994,
          1995,
          1996,
          1997,
          1998,
          1999,
          2000,
          2001,
          2002,
          2003,
          2004,
          2005,
          2006,
          2007,
          2008,
          2009,
          2010,
          2011,
          2012,
          2013,
          2014,
          2015,
          2016,
          2017,
          2018,
          2019,
          2020,
          2021
         ],
         "xaxis": "x",
         "y": [
          null,
          null,
          null,
          null,
          null,
          null,
          null,
          null,
          null,
          null,
          null,
          null,
          null,
          null,
          null,
          null,
          null,
          null,
          null,
          null,
          null,
          null,
          null,
          null,
          null,
          null,
          null,
          0.165,
          0.381,
          1.172,
          3.715,
          7.676,
          11.787,
          16.774,
          12.227,
          11.688,
          8.947,
          7.775,
          7.288,
          6.698,
          7.042,
          6.848,
          7.288,
          8.46,
          10.904,
          11.542,
          12.861,
          13.696,
          14.528,
          15.165,
          17.17,
          19.027,
          19.877,
          19.676,
          23.523,
          24.915,
          25.718,
          28.315,
          29.598,
          30.136,
          31.866,
          38.377,
          40.509,
          36.519,
          37.948,
          41.685,
          34.992,
          40.107,
          52.526,
          59.709,
          63.922,
          69.144,
          76.017,
          82.623,
          102.894,
          104.224,
          92.887,
          88.218,
          90.917,
          101.949,
          111.372,
          125.529,
          140.574,
          135.493,
          141.328,
          153.515,
          153.463,
          166.049,
          182.9,
          197.601,
          216.697,
          223.834,
          247.888,
          280.122,
          300.454,
          353.156,
          416.186,
          447.085,
          474.527,
          501.35,
          547.229,
          587.229,
          646.666,
          705.825,
          758.226,
          834.527,
          882.007,
          967.683,
          1046.822,
          1152.86,
          1230.538,
          1339.839,
          1432.946,
          1559.571,
          1708.518,
          1790.679,
          1933.313,
          2052.041,
          2203.89,
          2258.999,
          2255.543,
          2386.85,
          2441.085,
          2550.346,
          2688.997,
          2758.101,
          2794.347,
          2731.273,
          2760.542,
          3010.426,
          3121.401,
          3045.544,
          3305.28,
          3466.022,
          3639.817,
          3833.133,
          3909.677,
          3958.12,
          4067.061,
          4102.083,
          4209.968,
          4395.992,
          4412.478,
          4484.475,
          4621.802,
          4731.291,
          4773.585,
          4905.854,
          5081.468,
          5257.19,
          5380.666,
          5506.809,
          5694.134,
          5864.291,
          5751.954,
          6195.344,
          6366.902,
          6500.594,
          6542.527,
          6654.555,
          6788.074,
          6973.649,
          7144.928,
          7529.847,
          7647.528,
          7556.29,
          7921.83
         ],
         "yaxis": "y"
        },
        {
         "hovertemplate": "Fuente de Emisión=land_use_change_co2<br>Año=%{x}<br>Emisiones de CO₂ (toneladas)=%{y}<extra></extra>",
         "legendgroup": "land_use_change_co2",
         "line": {
          "color": "#FFA15A",
          "dash": "solid"
         },
         "marker": {
          "symbol": "circle"
         },
         "mode": "lines",
         "name": "land_use_change_co2",
         "showlegend": true,
         "type": "scattergl",
         "x": [
          1855,
          1856,
          1857,
          1858,
          1859,
          1860,
          1861,
          1862,
          1863,
          1864,
          1865,
          1866,
          1867,
          1868,
          1869,
          1870,
          1871,
          1872,
          1873,
          1874,
          1875,
          1876,
          1877,
          1878,
          1879,
          1880,
          1881,
          1882,
          1883,
          1884,
          1885,
          1886,
          1887,
          1888,
          1889,
          1890,
          1891,
          1892,
          1893,
          1894,
          1895,
          1896,
          1897,
          1898,
          1899,
          1900,
          1901,
          1902,
          1903,
          1904,
          1905,
          1906,
          1907,
          1908,
          1909,
          1910,
          1911,
          1912,
          1913,
          1914,
          1915,
          1916,
          1917,
          1918,
          1919,
          1920,
          1921,
          1922,
          1923,
          1924,
          1925,
          1926,
          1927,
          1928,
          1929,
          1930,
          1931,
          1932,
          1933,
          1934,
          1935,
          1936,
          1937,
          1938,
          1939,
          1940,
          1941,
          1942,
          1943,
          1944,
          1945,
          1946,
          1947,
          1948,
          1949,
          1950,
          1951,
          1952,
          1953,
          1954,
          1955,
          1956,
          1957,
          1958,
          1959,
          1960,
          1961,
          1962,
          1963,
          1964,
          1965,
          1966,
          1967,
          1968,
          1969,
          1970,
          1971,
          1972,
          1973,
          1974,
          1975,
          1976,
          1977,
          1978,
          1979,
          1980,
          1981,
          1982,
          1983,
          1984,
          1985,
          1986,
          1987,
          1988,
          1989,
          1990,
          1991,
          1992,
          1993,
          1994,
          1995,
          1996,
          1997,
          1998,
          1999,
          2000,
          2001,
          2002,
          2003,
          2004,
          2005,
          2006,
          2007,
          2008,
          2009,
          2010,
          2011,
          2012,
          2013,
          2014,
          2015,
          2016,
          2017,
          2018,
          2019,
          2020,
          2021
         ],
         "xaxis": "x2",
         "y": [
          2643.82,
          2676.063,
          2699.879,
          2731.268,
          2760.824,
          2649.805,
          2524.74,
          2504.71,
          2504.833,
          2472.101,
          2443.155,
          2432.896,
          2434.24,
          2418.362,
          2394.546,
          2572.983,
          2684.613,
          2740.55,
          2811.631,
          2862.683,
          2890.53,
          2929.856,
          2975.901,
          3026.22,
          3065.058,
          3100.721,
          3096.935,
          3159.833,
          3220.534,
          3240.197,
          3243.862,
          3272.074,
          3325.813,
          3324.103,
          3345.72,
          3466.632,
          3563.851,
          3599.147,
          3667.42,
          3702.838,
          3743.387,
          3776.607,
          3814.835,
          3845.979,
          3887.748,
          4002.798,
          4052.018,
          4117.237,
          4129.938,
          4192.959,
          4228.622,
          4243.767,
          4281.506,
          4313.627,
          4339.153,
          4319.245,
          4311.062,
          4247.797,
          4233.752,
          4227.523,
          4183.311,
          4129.572,
          4129.938,
          4149.846,
          4122.244,
          4257.202,
          4366.633,
          4422.326,
          4433.685,
          4463.607,
          4519.666,
          4507.086,
          4519.544,
          4537.009,
          4543.116,
          4566.443,
          4627.876,
          4681.126,
          4707.629,
          4741.948,
          4741.948,
          4773.459,
          4777.856,
          4806.191,
          4813.03,
          5018.093,
          5169.171,
          5201.415,
          5216.803,
          5214.971,
          5183.338,
          5167.095,
          5114.456,
          5062.304,
          5001.237,
          5425.163,
          5599.081,
          5724.389,
          5832.111,
          6003.708,
          6185.564,
          6390.993,
          6582.621,
          6774.98,
          7104.252,
          6568.086,
          6106.056,
          5892.689,
          5652.575,
          5475.726,
          5066.701,
          4847.716,
          4924.904,
          4977.422,
          4665.982,
          4598.686,
          4585.863,
          4590.503,
          4447.608,
          4320.955,
          4370.053,
          4304.834,
          4407.181,
          4223.371,
          4059.468,
          4084.627,
          4391.792,
          4408.892,
          4804.848,
          5306.083,
          5080.38,
          5116.653,
          5112.868,
          5058.519,
          4868.846,
          4877.272,
          4757.215,
          4890.708,
          4876.417,
          5295.823,
          5288.251,
          5285.076,
          7104.863,
          5486.718,
          5489.038,
          5115.921,
          4739.018,
          5177.232,
          5652.819,
          5362.264,
          4716.667,
          5073.296,
          4436.982,
          4643.021,
          5033.726,
          4837.702,
          4964.109,
          4826.954,
          4628.121,
          4917.699,
          5385.714,
          4527.849,
          4331.947,
          4181.356,
          4557.283,
          4057.758,
          3939.044
         ],
         "yaxis": "y2"
        },
        {
         "hovertemplate": "Fuente de Emisión=oil_co2<br>Año=%{x}<br>Emisiones de CO₂ (toneladas)=%{y}<extra></extra>",
         "legendgroup": "oil_co2",
         "line": {
          "color": "#19d3f3",
          "dash": "solid"
         },
         "marker": {
          "symbol": "circle"
         },
         "mode": "lines",
         "name": "oil_co2",
         "showlegend": true,
         "type": "scattergl",
         "x": [
          1855,
          1856,
          1857,
          1858,
          1859,
          1860,
          1861,
          1862,
          1863,
          1864,
          1865,
          1866,
          1867,
          1868,
          1869,
          1870,
          1871,
          1872,
          1873,
          1874,
          1875,
          1876,
          1877,
          1878,
          1879,
          1880,
          1881,
          1882,
          1883,
          1884,
          1885,
          1886,
          1887,
          1888,
          1889,
          1890,
          1891,
          1892,
          1893,
          1894,
          1895,
          1896,
          1897,
          1898,
          1899,
          1900,
          1901,
          1902,
          1903,
          1904,
          1905,
          1906,
          1907,
          1908,
          1909,
          1910,
          1911,
          1912,
          1913,
          1914,
          1915,
          1916,
          1917,
          1918,
          1919,
          1920,
          1921,
          1922,
          1923,
          1924,
          1925,
          1926,
          1927,
          1928,
          1929,
          1930,
          1931,
          1932,
          1933,
          1934,
          1935,
          1936,
          1937,
          1938,
          1939,
          1940,
          1941,
          1942,
          1943,
          1944,
          1945,
          1946,
          1947,
          1948,
          1949,
          1950,
          1951,
          1952,
          1953,
          1954,
          1955,
          1956,
          1957,
          1958,
          1959,
          1960,
          1961,
          1962,
          1963,
          1964,
          1965,
          1966,
          1967,
          1968,
          1969,
          1970,
          1971,
          1972,
          1973,
          1974,
          1975,
          1976,
          1977,
          1978,
          1979,
          1980,
          1981,
          1982,
          1983,
          1984,
          1985,
          1986,
          1987,
          1988,
          1989,
          1990,
          1991,
          1992,
          1993,
          1994,
          1995,
          1996,
          1997,
          1998,
          1999,
          2000,
          2001,
          2002,
          2003,
          2004,
          2005,
          2006,
          2007,
          2008,
          2009,
          2010,
          2011,
          2012,
          2013,
          2014,
          2015,
          2016,
          2017,
          2018,
          2019,
          2020,
          2021
         ],
         "xaxis": "x3",
         "y": [
          0.037,
          0.04,
          0.051,
          0.062,
          0.055,
          0.273,
          0.941,
          1.399,
          1.293,
          1.11,
          1.32,
          1.952,
          1.985,
          2.289,
          2.614,
          3.133,
          3.282,
          3.698,
          5.67,
          6.243,
          5.835,
          6.536,
          8.824,
          10.041,
          12.66,
          15.364,
          17.242,
          18.939,
          16.502,
          18.323,
          18.959,
          21.824,
          23.482,
          24.581,
          28.407,
          34.651,
          40.832,
          40.207,
          42.547,
          41.702,
          48.539,
          52.571,
          55.531,
          57.173,
          60.032,
          67.31,
          74.75,
          80.808,
          85.562,
          96.083,
          97.017,
          97.893,
          119.416,
          128.759,
          134.349,
          143.839,
          152.546,
          156.759,
          181.575,
          185.583,
          197.104,
          214.632,
          238.808,
          244.605,
          272.966,
          350.954,
          384.258,
          426.345,
          473.527,
          470.812,
          492.787,
          490.648,
          537.816,
          549.539,
          602.778,
          578.598,
          560.749,
          536.592,
          586.389,
          620.413,
          668.785,
          729.131,
          821.516,
          796.989,
          830.241,
          872.467,
          880.697,
          835.716,
          888.001,
          1018.141,
          1008.345,
          1139.899,
          1221.313,
          1339.607,
          1336.641,
          1648.31,
          1742.354,
          1838.024,
          1952.1,
          2068.543,
          2311.864,
          2508.048,
          2621.266,
          2726.365,
          2904.649,
          3126.444,
          3313.503,
          3561.94,
          3806.973,
          4107.569,
          4412.375,
          4761.953,
          5077.08,
          5530.292,
          5980.509,
          6801.259,
          7202.926,
          7766.614,
          8225.938,
          8107.899,
          8039.023,
          8541.493,
          8842.06,
          9159.137,
          9276.707,
          8951.775,
          8550.305,
          8345.176,
          8260.815,
          8328.841,
          8326.771,
          8576.334,
          8654.659,
          8972.672,
          9130.08,
          9249.362,
          9723.43,
          9226.139,
          9232.772,
          9265.657,
          9363.846,
          9643.209,
          9786.86,
          9883.467,
          10112.427,
          10302.091,
          10390.669,
          10385.864,
          10679.654,
          11042.505,
          11139.399,
          11246.321,
          11283.665,
          11251.325,
          10996.948,
          11359.883,
          11388.086,
          11541.707,
          11626.445,
          11678.782,
          11929.665,
          12023.833,
          12242.628,
          12266.017,
          12345.653,
          11191.809,
          11837.159
         ],
         "yaxis": "y3"
        }
       ],
       "layout": {
        "annotations": [
         {
          "font": {},
          "showarrow": false,
          "text": "Fuente de Emisión=gas_co2",
          "x": 0.15999999999999998,
          "xanchor": "center",
          "xref": "paper",
          "y": 0.46499999999999997,
          "yanchor": "bottom",
          "yref": "paper"
         },
         {
          "font": {},
          "showarrow": false,
          "text": "Fuente de Emisión=land_use_change_co2",
          "x": 0.49999999999999994,
          "xanchor": "center",
          "xref": "paper",
          "y": 0.46499999999999997,
          "yanchor": "bottom",
          "yref": "paper"
         },
         {
          "font": {},
          "showarrow": false,
          "text": "Fuente de Emisión=oil_co2",
          "x": 0.8399999999999999,
          "xanchor": "center",
          "xref": "paper",
          "y": 0.46499999999999997,
          "yanchor": "bottom",
          "yref": "paper"
         },
         {
          "font": {},
          "showarrow": false,
          "text": "Fuente de Emisión=cement_co2",
          "x": 0.15999999999999998,
          "xanchor": "center",
          "xref": "paper",
          "y": 0.9999999999999999,
          "yanchor": "bottom",
          "yref": "paper"
         },
         {
          "font": {},
          "showarrow": false,
          "text": "Fuente de Emisión=coal_co2",
          "x": 0.49999999999999994,
          "xanchor": "center",
          "xref": "paper",
          "y": 0.9999999999999999,
          "yanchor": "bottom",
          "yref": "paper"
         },
         {
          "font": {},
          "showarrow": false,
          "text": "Fuente de Emisión=flaring_co2",
          "x": 0.8399999999999999,
          "xanchor": "center",
          "xref": "paper",
          "y": 0.9999999999999999,
          "yanchor": "bottom",
          "yref": "paper"
         }
        ],
        "height": 800,
        "legend": {
         "title": {
          "text": "Fuente de Emisión"
         },
         "tracegroupgap": 0
        },
        "margin": {
         "b": 50,
         "l": 50,
         "r": 50,
         "t": 50
        },
        "template": {
         "data": {
          "bar": [
           {
            "error_x": {
             "color": "#2a3f5f"
            },
            "error_y": {
             "color": "#2a3f5f"
            },
            "marker": {
             "line": {
              "color": "#E5ECF6",
              "width": 0.5
             },
             "pattern": {
              "fillmode": "overlay",
              "size": 10,
              "solidity": 0.2
             }
            },
            "type": "bar"
           }
          ],
          "barpolar": [
           {
            "marker": {
             "line": {
              "color": "#E5ECF6",
              "width": 0.5
             },
             "pattern": {
              "fillmode": "overlay",
              "size": 10,
              "solidity": 0.2
             }
            },
            "type": "barpolar"
           }
          ],
          "carpet": [
           {
            "aaxis": {
             "endlinecolor": "#2a3f5f",
             "gridcolor": "white",
             "linecolor": "white",
             "minorgridcolor": "white",
             "startlinecolor": "#2a3f5f"
            },
            "baxis": {
             "endlinecolor": "#2a3f5f",
             "gridcolor": "white",
             "linecolor": "white",
             "minorgridcolor": "white",
             "startlinecolor": "#2a3f5f"
            },
            "type": "carpet"
           }
          ],
          "choropleth": [
           {
            "colorbar": {
             "outlinewidth": 0,
             "ticks": ""
            },
            "type": "choropleth"
           }
          ],
          "contour": [
           {
            "colorbar": {
             "outlinewidth": 0,
             "ticks": ""
            },
            "colorscale": [
             [
              0,
              "#0d0887"
             ],
             [
              0.1111111111111111,
              "#46039f"
             ],
             [
              0.2222222222222222,
              "#7201a8"
             ],
             [
              0.3333333333333333,
              "#9c179e"
             ],
             [
              0.4444444444444444,
              "#bd3786"
             ],
             [
              0.5555555555555556,
              "#d8576b"
             ],
             [
              0.6666666666666666,
              "#ed7953"
             ],
             [
              0.7777777777777778,
              "#fb9f3a"
             ],
             [
              0.8888888888888888,
              "#fdca26"
             ],
             [
              1,
              "#f0f921"
             ]
            ],
            "type": "contour"
           }
          ],
          "contourcarpet": [
           {
            "colorbar": {
             "outlinewidth": 0,
             "ticks": ""
            },
            "type": "contourcarpet"
           }
          ],
          "heatmap": [
           {
            "colorbar": {
             "outlinewidth": 0,
             "ticks": ""
            },
            "colorscale": [
             [
              0,
              "#0d0887"
             ],
             [
              0.1111111111111111,
              "#46039f"
             ],
             [
              0.2222222222222222,
              "#7201a8"
             ],
             [
              0.3333333333333333,
              "#9c179e"
             ],
             [
              0.4444444444444444,
              "#bd3786"
             ],
             [
              0.5555555555555556,
              "#d8576b"
             ],
             [
              0.6666666666666666,
              "#ed7953"
             ],
             [
              0.7777777777777778,
              "#fb9f3a"
             ],
             [
              0.8888888888888888,
              "#fdca26"
             ],
             [
              1,
              "#f0f921"
             ]
            ],
            "type": "heatmap"
           }
          ],
          "heatmapgl": [
           {
            "colorbar": {
             "outlinewidth": 0,
             "ticks": ""
            },
            "colorscale": [
             [
              0,
              "#0d0887"
             ],
             [
              0.1111111111111111,
              "#46039f"
             ],
             [
              0.2222222222222222,
              "#7201a8"
             ],
             [
              0.3333333333333333,
              "#9c179e"
             ],
             [
              0.4444444444444444,
              "#bd3786"
             ],
             [
              0.5555555555555556,
              "#d8576b"
             ],
             [
              0.6666666666666666,
              "#ed7953"
             ],
             [
              0.7777777777777778,
              "#fb9f3a"
             ],
             [
              0.8888888888888888,
              "#fdca26"
             ],
             [
              1,
              "#f0f921"
             ]
            ],
            "type": "heatmapgl"
           }
          ],
          "histogram": [
           {
            "marker": {
             "pattern": {
              "fillmode": "overlay",
              "size": 10,
              "solidity": 0.2
             }
            },
            "type": "histogram"
           }
          ],
          "histogram2d": [
           {
            "colorbar": {
             "outlinewidth": 0,
             "ticks": ""
            },
            "colorscale": [
             [
              0,
              "#0d0887"
             ],
             [
              0.1111111111111111,
              "#46039f"
             ],
             [
              0.2222222222222222,
              "#7201a8"
             ],
             [
              0.3333333333333333,
              "#9c179e"
             ],
             [
              0.4444444444444444,
              "#bd3786"
             ],
             [
              0.5555555555555556,
              "#d8576b"
             ],
             [
              0.6666666666666666,
              "#ed7953"
             ],
             [
              0.7777777777777778,
              "#fb9f3a"
             ],
             [
              0.8888888888888888,
              "#fdca26"
             ],
             [
              1,
              "#f0f921"
             ]
            ],
            "type": "histogram2d"
           }
          ],
          "histogram2dcontour": [
           {
            "colorbar": {
             "outlinewidth": 0,
             "ticks": ""
            },
            "colorscale": [
             [
              0,
              "#0d0887"
             ],
             [
              0.1111111111111111,
              "#46039f"
             ],
             [
              0.2222222222222222,
              "#7201a8"
             ],
             [
              0.3333333333333333,
              "#9c179e"
             ],
             [
              0.4444444444444444,
              "#bd3786"
             ],
             [
              0.5555555555555556,
              "#d8576b"
             ],
             [
              0.6666666666666666,
              "#ed7953"
             ],
             [
              0.7777777777777778,
              "#fb9f3a"
             ],
             [
              0.8888888888888888,
              "#fdca26"
             ],
             [
              1,
              "#f0f921"
             ]
            ],
            "type": "histogram2dcontour"
           }
          ],
          "mesh3d": [
           {
            "colorbar": {
             "outlinewidth": 0,
             "ticks": ""
            },
            "type": "mesh3d"
           }
          ],
          "parcoords": [
           {
            "line": {
             "colorbar": {
              "outlinewidth": 0,
              "ticks": ""
             }
            },
            "type": "parcoords"
           }
          ],
          "pie": [
           {
            "automargin": true,
            "type": "pie"
           }
          ],
          "scatter": [
           {
            "fillpattern": {
             "fillmode": "overlay",
             "size": 10,
             "solidity": 0.2
            },
            "type": "scatter"
           }
          ],
          "scatter3d": [
           {
            "line": {
             "colorbar": {
              "outlinewidth": 0,
              "ticks": ""
             }
            },
            "marker": {
             "colorbar": {
              "outlinewidth": 0,
              "ticks": ""
             }
            },
            "type": "scatter3d"
           }
          ],
          "scattercarpet": [
           {
            "marker": {
             "colorbar": {
              "outlinewidth": 0,
              "ticks": ""
             }
            },
            "type": "scattercarpet"
           }
          ],
          "scattergeo": [
           {
            "marker": {
             "colorbar": {
              "outlinewidth": 0,
              "ticks": ""
             }
            },
            "type": "scattergeo"
           }
          ],
          "scattergl": [
           {
            "marker": {
             "colorbar": {
              "outlinewidth": 0,
              "ticks": ""
             }
            },
            "type": "scattergl"
           }
          ],
          "scattermapbox": [
           {
            "marker": {
             "colorbar": {
              "outlinewidth": 0,
              "ticks": ""
             }
            },
            "type": "scattermapbox"
           }
          ],
          "scatterpolar": [
           {
            "marker": {
             "colorbar": {
              "outlinewidth": 0,
              "ticks": ""
             }
            },
            "type": "scatterpolar"
           }
          ],
          "scatterpolargl": [
           {
            "marker": {
             "colorbar": {
              "outlinewidth": 0,
              "ticks": ""
             }
            },
            "type": "scatterpolargl"
           }
          ],
          "scatterternary": [
           {
            "marker": {
             "colorbar": {
              "outlinewidth": 0,
              "ticks": ""
             }
            },
            "type": "scatterternary"
           }
          ],
          "surface": [
           {
            "colorbar": {
             "outlinewidth": 0,
             "ticks": ""
            },
            "colorscale": [
             [
              0,
              "#0d0887"
             ],
             [
              0.1111111111111111,
              "#46039f"
             ],
             [
              0.2222222222222222,
              "#7201a8"
             ],
             [
              0.3333333333333333,
              "#9c179e"
             ],
             [
              0.4444444444444444,
              "#bd3786"
             ],
             [
              0.5555555555555556,
              "#d8576b"
             ],
             [
              0.6666666666666666,
              "#ed7953"
             ],
             [
              0.7777777777777778,
              "#fb9f3a"
             ],
             [
              0.8888888888888888,
              "#fdca26"
             ],
             [
              1,
              "#f0f921"
             ]
            ],
            "type": "surface"
           }
          ],
          "table": [
           {
            "cells": {
             "fill": {
              "color": "#EBF0F8"
             },
             "line": {
              "color": "white"
             }
            },
            "header": {
             "fill": {
              "color": "#C8D4E3"
             },
             "line": {
              "color": "white"
             }
            },
            "type": "table"
           }
          ]
         },
         "layout": {
          "annotationdefaults": {
           "arrowcolor": "#2a3f5f",
           "arrowhead": 0,
           "arrowwidth": 1
          },
          "autotypenumbers": "strict",
          "coloraxis": {
           "colorbar": {
            "outlinewidth": 0,
            "ticks": ""
           }
          },
          "colorscale": {
           "diverging": [
            [
             0,
             "#8e0152"
            ],
            [
             0.1,
             "#c51b7d"
            ],
            [
             0.2,
             "#de77ae"
            ],
            [
             0.3,
             "#f1b6da"
            ],
            [
             0.4,
             "#fde0ef"
            ],
            [
             0.5,
             "#f7f7f7"
            ],
            [
             0.6,
             "#e6f5d0"
            ],
            [
             0.7,
             "#b8e186"
            ],
            [
             0.8,
             "#7fbc41"
            ],
            [
             0.9,
             "#4d9221"
            ],
            [
             1,
             "#276419"
            ]
           ],
           "sequential": [
            [
             0,
             "#0d0887"
            ],
            [
             0.1111111111111111,
             "#46039f"
            ],
            [
             0.2222222222222222,
             "#7201a8"
            ],
            [
             0.3333333333333333,
             "#9c179e"
            ],
            [
             0.4444444444444444,
             "#bd3786"
            ],
            [
             0.5555555555555556,
             "#d8576b"
            ],
            [
             0.6666666666666666,
             "#ed7953"
            ],
            [
             0.7777777777777778,
             "#fb9f3a"
            ],
            [
             0.8888888888888888,
             "#fdca26"
            ],
            [
             1,
             "#f0f921"
            ]
           ],
           "sequentialminus": [
            [
             0,
             "#0d0887"
            ],
            [
             0.1111111111111111,
             "#46039f"
            ],
            [
             0.2222222222222222,
             "#7201a8"
            ],
            [
             0.3333333333333333,
             "#9c179e"
            ],
            [
             0.4444444444444444,
             "#bd3786"
            ],
            [
             0.5555555555555556,
             "#d8576b"
            ],
            [
             0.6666666666666666,
             "#ed7953"
            ],
            [
             0.7777777777777778,
             "#fb9f3a"
            ],
            [
             0.8888888888888888,
             "#fdca26"
            ],
            [
             1,
             "#f0f921"
            ]
           ]
          },
          "colorway": [
           "#636efa",
           "#EF553B",
           "#00cc96",
           "#ab63fa",
           "#FFA15A",
           "#19d3f3",
           "#FF6692",
           "#B6E880",
           "#FF97FF",
           "#FECB52"
          ],
          "font": {
           "color": "#2a3f5f"
          },
          "geo": {
           "bgcolor": "white",
           "lakecolor": "white",
           "landcolor": "#E5ECF6",
           "showlakes": true,
           "showland": true,
           "subunitcolor": "white"
          },
          "hoverlabel": {
           "align": "left"
          },
          "hovermode": "closest",
          "mapbox": {
           "style": "light"
          },
          "paper_bgcolor": "white",
          "plot_bgcolor": "#E5ECF6",
          "polar": {
           "angularaxis": {
            "gridcolor": "white",
            "linecolor": "white",
            "ticks": ""
           },
           "bgcolor": "#E5ECF6",
           "radialaxis": {
            "gridcolor": "white",
            "linecolor": "white",
            "ticks": ""
           }
          },
          "scene": {
           "xaxis": {
            "backgroundcolor": "#E5ECF6",
            "gridcolor": "white",
            "gridwidth": 2,
            "linecolor": "white",
            "showbackground": true,
            "ticks": "",
            "zerolinecolor": "white"
           },
           "yaxis": {
            "backgroundcolor": "#E5ECF6",
            "gridcolor": "white",
            "gridwidth": 2,
            "linecolor": "white",
            "showbackground": true,
            "ticks": "",
            "zerolinecolor": "white"
           },
           "zaxis": {
            "backgroundcolor": "#E5ECF6",
            "gridcolor": "white",
            "gridwidth": 2,
            "linecolor": "white",
            "showbackground": true,
            "ticks": "",
            "zerolinecolor": "white"
           }
          },
          "shapedefaults": {
           "line": {
            "color": "#2a3f5f"
           }
          },
          "ternary": {
           "aaxis": {
            "gridcolor": "white",
            "linecolor": "white",
            "ticks": ""
           },
           "baxis": {
            "gridcolor": "white",
            "linecolor": "white",
            "ticks": ""
           },
           "bgcolor": "#E5ECF6",
           "caxis": {
            "gridcolor": "white",
            "linecolor": "white",
            "ticks": ""
           }
          },
          "title": {
           "x": 0.05
          },
          "xaxis": {
           "automargin": true,
           "gridcolor": "white",
           "linecolor": "white",
           "ticks": "",
           "title": {
            "standoff": 15
           },
           "zerolinecolor": "white",
           "zerolinewidth": 2
          },
          "yaxis": {
           "automargin": true,
           "gridcolor": "white",
           "linecolor": "white",
           "ticks": "",
           "title": {
            "standoff": 15
           },
           "zerolinecolor": "white",
           "zerolinewidth": 2
          }
         }
        },
        "title": {
         "text": "Emisiones de CO₂ por Fuente a lo largo del Tiempo",
         "x": 0.5
        },
        "width": 1000,
        "xaxis": {
         "anchor": "y",
         "autorange": true,
         "domain": [
          0,
          0.31999999999999995
         ],
         "range": [
          1855,
          2021
         ],
         "title": {
          "text": "Año"
         },
         "type": "linear"
        },
        "xaxis2": {
         "anchor": "y2",
         "autorange": true,
         "domain": [
          0.33999999999999997,
          0.6599999999999999
         ],
         "matches": "x",
         "range": [
          1855,
          2021
         ],
         "title": {
          "text": "Año"
         },
         "type": "linear"
        },
        "xaxis3": {
         "anchor": "y3",
         "autorange": true,
         "domain": [
          0.6799999999999999,
          0.9999999999999999
         ],
         "matches": "x",
         "range": [
          1855,
          2021
         ],
         "title": {
          "text": "Año"
         },
         "type": "linear"
        },
        "xaxis4": {
         "anchor": "y4",
         "autorange": true,
         "domain": [
          0,
          0.31999999999999995
         ],
         "matches": "x",
         "range": [
          1855,
          2021
         ],
         "showticklabels": false,
         "type": "linear"
        },
        "xaxis5": {
         "anchor": "y5",
         "autorange": true,
         "domain": [
          0.33999999999999997,
          0.6599999999999999
         ],
         "matches": "x",
         "range": [
          1855,
          2021
         ],
         "showticklabels": false,
         "type": "linear"
        },
        "xaxis6": {
         "anchor": "y6",
         "autorange": true,
         "domain": [
          0.6799999999999999,
          0.9999999999999999
         ],
         "matches": "x",
         "range": [
          1855,
          2021
         ],
         "showticklabels": false,
         "type": "linear"
        },
        "yaxis": {
         "anchor": "x",
         "autorange": true,
         "domain": [
          0,
          0.46499999999999997
         ],
         "range": [
          -836.1951666666668,
          15887.708166666667
         ],
         "title": {
          "text": "Emisiones de CO₂ (toneladas)"
         },
         "type": "linear"
        },
        "yaxis2": {
         "anchor": "x2",
         "autorange": true,
         "domain": [
          0,
          0.46499999999999997
         ],
         "matches": "y",
         "range": [
          -836.1951666666668,
          15887.708166666667
         ],
         "showticklabels": false,
         "type": "linear"
        },
        "yaxis3": {
         "anchor": "x3",
         "autorange": true,
         "domain": [
          0,
          0.46499999999999997
         ],
         "matches": "y",
         "range": [
          -836.1951666666668,
          15887.708166666667
         ],
         "showticklabels": false,
         "type": "linear"
        },
        "yaxis4": {
         "anchor": "x4",
         "autorange": true,
         "domain": [
          0.5349999999999999,
          0.9999999999999999
         ],
         "matches": "y",
         "range": [
          -836.1951666666668,
          15887.708166666667
         ],
         "title": {
          "text": "Emisiones de CO₂ (toneladas)"
         },
         "type": "linear"
        },
        "yaxis5": {
         "anchor": "x5",
         "autorange": true,
         "domain": [
          0.5349999999999999,
          0.9999999999999999
         ],
         "matches": "y",
         "range": [
          -836.1951666666668,
          15887.708166666667
         ],
         "showticklabels": false,
         "type": "linear"
        },
        "yaxis6": {
         "anchor": "x6",
         "autorange": true,
         "domain": [
          0.5349999999999999,
          0.9999999999999999
         ],
         "matches": "y",
         "range": [
          -836.1951666666668,
          15887.708166666667
         ],
         "showticklabels": false,
         "type": "linear"
        }
       }
      },
      "image/png": "[encoded data removed]",
      "text/html": [
       "<div>                            <div id=\"c237ab8f-2544-45eb-9230-bfee7635ef21\" class=\"plotly-graph-div\" style=\"height:800px; width:1000px;\"></div>            <script type=\"text/javascript\">                require([\"plotly\"], function(Plotly) {                    window.PLOTLYENV=window.PLOTLYENV || {};                                    if (document.getElementById(\"c237ab8f-2544-45eb-9230-bfee7635ef21\")) {                    Plotly.newPlot(                        \"c237ab8f-2544-45eb-9230-bfee7635ef21\",                        [{\"hovertemplate\":\"Fuente de Emisi\\u00f3n=cement_co2\\u003cbr\\u003eA\\u00f1o=%{x}\\u003cbr\\u003eEmisiones de CO\\u2082 (toneladas)=%{y}\\u003cextra\\u003e\\u003c\\u002fextra\\u003e\",\"legendgroup\":\"cement_co2\",\"line\":{\"color\":\"#636efa\",\"dash\":\"solid\"},\"marker\":{\"symbol\":\"circle\"},\"mode\":\"lines\",\"name\":\"cement_co2\",\"showlegend\":true,\"x\":[1855,1856,1857,1858,1859,1860,1861,1862,1863,1864,1865,1866,1867,1868,1869,1870,1871,1872,1873,1874,1875,1876,1877,1878,1879,1880,1881,1882,1883,1884,1885,1886,1887,1888,1889,1890,1891,1892,1893,1894,1895,1896,1897,1898,1899,1900,1901,1902,1903,1904,1905,1906,1907,1908,1909,1910,1911,1912,1913,1914,1915,1916,1917,1918,1919,1920,1921,1922,1923,1924,1925,1926,1927,1928,1929,1930,1931,1932,1933,1934,1935,1936,1937,1938,1939,1940,1941,1942,1943,1944,1945,1946,1947,1948,1949,1950,1951,1952,1953,1954,1955,1956,1957,1958,1959,1960,1961,1962,1963,1964,1965,1966,1967,1968,1969,1970,1971,1972,1973,1974,1975,1976,1977,1978,1979,1980,1981,1982,1983,1984,1985,1986,1987,1988,1989,1990,1991,1992,1993,1994,1995,1996,1997,1998,1999,2000,2001,2002,2003,2004,2005,2006,2007,2008,2009,2010,2011,2012,2013,2014,2015,2016,2017,2018,2019,2020,2021],\"xaxis\":\"x4\",\"y\":[null,null,null,null,null,null,null,null,null,null,null,null,null,null,null,null,null,null,null,null,null,null,null,null,null,0.0,0.0,0.0,0.0,0.0,0.0,0.0,0.001,0.001,0.001,0.001,0.001,0.001,0.001,0.001,0.001,0.001,0.001,0.001,0.001,0.001,0.002,0.002,0.003,0.003,0.004,0.004,0.005,0.115,0.116,0.135,0.148,0.177,0.203,0.147,0.16,0.181,0.148,0.12,0.125,0.149,0.13,0.193,0.208,0.216,14.429,14.74,15.448,35.616,36.873,35.561,30.931,24.721,23.866,28.542,32.09,38.763,40.829,38.551,35.687,31.431,43.293,38.376,34.81,22.664,22.991,36.33,43.192,51.684,58.264,66.979,75.839,80.841,89.628,97.231,107.566,116.624,122.61,129.775,145.336,157.493,164.229,176.443,186.06,206.22,216.49,233.053,239.908,255.398,270.791,288.411,303.345,321.547,340.512,341.033,339.117,354.146,370.868,394.692,399.877,402.62,402.748,400.937,409.877,417.703,422.772,440.349,459.192,483.609,493.5,493.854,507.751,528.942,551.512,588.461,622.443,635.312,661.232,658.611,691.01,721.927,754.332,796.052,852.253,910.566,964.306,1051.669,1129.389,1143.738,1175.73,1254.878,1349.8,1384.57,1444.086,1499.912,1444.436,1487.617,1507.923,1569.218,1617.507,1637.537,1672.592],\"yaxis\":\"y4\",\"type\":\"scattergl\"},{\"hovertemplate\":\"Fuente de Emisi\\u00f3n=coal_co2\\u003cbr\\u003eA\\u00f1o=%{x}\\u003cbr\\u003eEmisiones de CO\\u2082 (toneladas)=%{y}\\u003cextra\\u003e\\u003c\\u002fextra\\u003e\",\"legendgroup\":\"coal_co2\",\"line\":{\"color\":\"#EF553B\",\"dash\":\"solid\"},\"marker\":{\"symbol\":\"circle\"},\"mode\":\"lines\",\"name\":\"coal_co2\",\"showlegend\":true,\"x\":[1855,1856,1857,1858,1859,1860,1861,1862,1863,1864,1865,1866,1867,1868,1869,1870,1871,1872,1873,1874,1875,1876,1877,1878,1879,1880,1881,1882,1883,1884,1885,1886,1887,1888,1889,1890,1891,1892,1893,1894,1895,1896,1897,1898,1899,1900,1901,1902,1903,1904,1905,1906,1907,1908,1909,1910,1911,1912,1913,1914,1915,1916,1917,1918,1919,1920,1921,1922,1923,1924,1925,1926,1927,1928,1929,1930,1931,1932,1933,1934,1935,1936,1937,1938,1939,1940,1941,1942,1943,1944,1945,1946,1947,1948,1949,1950,1951,1952,1953,1954,1955,1956,1957,1958,1959,1960,1961,1962,1963,1964,1965,1966,1967,1968,1969,1970,1971,1972,1973,1974,1975,1976,1977,1978,1979,1980,1981,1982,1983,1984,1985,1986,1987,1988,1989,1990,1991,1992,1993,1994,1995,1996,1997,1998,1999,2000,2001,2002,2003,2004,2005,2006,2007,2008,2009,2010,2011,2012,2013,2014,2015,2016,2017,2018,2019,2020,2021],\"xaxis\":\"x5\",\"y\":[260.129,277.251,279.838,284.109,301.257,330.368,346.793,352.658,376.566,405.98,430.987,444.018,475.83,488.464,518.516,529.404,562.861,622.674,659.749,616.754,669.964,679.017,690.274,694.339,742.208,838.34,865.162,912.817,974.149,982.679,986.996,995.975,1041.488,1150.917,1151.165,1252.118,1309.094,1322.106,1303.833,1352.458,1429.691,1474.281,1543.481,1628.632,1779.86,1873.357,1929.132,1973.178,2154.003,2166.664,2311.143,2415.683,2746.956,2626.02,2730.134,2862.583,2898.529,3047.94,3292.07,2961.773,2902.827,3129.373,3257.893,3209.469,2715.321,3125.927,2668.397,2770.67,3146.423,3152.649,3151.418,3081.757,3361.539,3305.359,3522.251,3214.073,2830.54,2519.949,2635.637,2878.248,2996.885,3285.172,3463.736,3228.046,3435.326,3794.017,3884.161,3909.448,3925.039,3867.923,2998.27,3234.314,3621.548,3739.455,3546.31,3856.215,4060.04,4009.059,4043.705,4039.512,4372.781,4597.137,4681.798,4754.382,4948.027,5152.558,4943.284,4928.785,5109.542,5215.19,5293.218,5351.301,5266.113,5323.236,5521.839,5696.271,5699.823,5693.585,5862.085,5865.81,6037.091,6263.989,6417.698,6531.792,6840.287,7024.129,7004.883,7126.512,7314.19,7668.797,8217.823,8335.814,8617.361,8910.819,8909.616,8688.659,8604.035,8399.007,8500.946,8548.629,8793.981,9015.794,8967.54,8725.984,8855.188,9203.117,9255.257,9678.959,10518.464,10871.584,11543.335,12188.84,12776.36,13192.797,13016.428,13926.621,14737.126,14922.76,15024.486,15051.513,14710.088,14360.605,14506.974,14746.831,14725.978,14174.564,14979.598],\"yaxis\":\"y5\",\"type\":\"scattergl\"},{\"hovertemplate\":\"Fuente de Emisi\\u00f3n=flaring_co2\\u003cbr\\u003eA\\u00f1o=%{x}\\u003cbr\\u003eEmisiones de CO\\u2082 (toneladas)=%{y}\\u003cextra\\u003e\\u003c\\u002fextra\\u003e\",\"legendgroup\":\"flaring_co2\",\"line\":{\"color\":\"#00cc96\",\"dash\":\"solid\"},\"marker\":{\"symbol\":\"circle\"},\"mode\":\"lines\",\"name\":\"flaring_co2\",\"showlegend\":true,\"x\":[1855,1856,1857,1858,1859,1860,1861,1862,1863,1864,1865,1866,1867,1868,1869,1870,1871,1872,1873,1874,1875,1876,1877,1878,1879,1880,1881,1882,1883,1884,1885,1886,1887,1888,1889,1890,1891,1892,1893,1894,1895,1896,1897,1898,1899,1900,1901,1902,1903,1904,1905,1906,1907,1908,1909,1910,1911,1912,1913,1914,1915,1916,1917,1918,1919,1920,1921,1922,1923,1924,1925,1926,1927,1928,1929,1930,1931,1932,1933,1934,1935,1936,1937,1938,1939,1940,1941,1942,1943,1944,1945,1946,1947,1948,1949,1950,1951,1952,1953,1954,1955,1956,1957,1958,1959,1960,1961,1962,1963,1964,1965,1966,1967,1968,1969,1970,1971,1972,1973,1974,1975,1976,1977,1978,1979,1980,1981,1982,1983,1984,1985,1986,1987,1988,1989,1990,1991,1992,1993,1994,1995,1996,1997,1998,1999,2000,2001,2002,2003,2004,2005,2006,2007,2008,2009,2010,2011,2012,2013,2014,2015,2016,2017,2018,2019,2020,2021],\"xaxis\":\"x6\",\"y\":[null,null,null,null,null,null,null,null,null,null,null,null,null,null,null,null,null,null,null,null,null,null,null,null,null,null,null,null,null,null,null,null,null,null,null,null,null,null,null,null,null,null,null,null,null,null,null,null,null,null,null,null,null,null,null,null,null,null,null,null,null,null,null,null,null,null,null,null,null,null,null,null,null,null,null,null,null,null,null,null,null,null,null,null,null,null,null,null,null,null,null,null,null,null,null,73.624,79.875,85.364,81.348,77.612,96.836,108.174,106.386,95.115,91.694,89.14,86.218,85.931,90.506,112.792,130.443,144.566,190.783,203.8,244.035,277.745,321.427,346.87,402.142,391.347,336.685,395.391,381.443,390.15,360.13,316.436,237.163,235.575,212.847,186.751,181.447,169.668,163.007,185.509,150.68,267.859,282.965,250.482,244.056,248.054,244.935,247.175,250.794,240.252,232.748,278.928,281.128,298.554,299.376,323.803,345.094,346.86,363.985,374.074,379.402,381.65,370.28,380.351,387.535,387.902,383.534,378.385,391.992,412.116,439.254,407.584,416.526],\"yaxis\":\"y6\",\"type\":\"scattergl\"},{\"hovertemplate\":\"Fuente de Emisi\\u00f3n=gas_co2\\u003cbr\\u003eA\\u00f1o=%{x}\\u003cbr\\u003eEmisiones de CO\\u2082 (toneladas)=%{y}\\u003cextra\\u003e\\u003c\\u002fextra\\u003e\",\"legendgroup\":\"gas_co2\",\"line\":{\"color\":\"#ab63fa\",\"dash\":\"solid\"},\"marker\":{\"symbol\":\"circle\"},\"mode\":\"lines\",\"name\":\"gas_co2\",\"showlegend\":true,\"x\":[1855,1856,1857,1858,1859,1860,1861,1862,1863,1864,1865,1866,1867,1868,1869,1870,1871,1872,1873,1874,1875,1876,1877,1878,1879,1880,1881,1882,1883,1884,1885,1886,1887,1888,1889,1890,1891,1892,1893,1894,1895,1896,1897,1898,1899,1900,1901,1902,1903,1904,1905,1906,1907,1908,1909,1910,1911,1912,1913,1914,1915,1916,1917,1918,1919,1920,1921,1922,1923,1924,1925,1926,1927,1928,1929,1930,1931,1932,1933,1934,1935,1936,1937,1938,1939,1940,1941,1942,1943,1944,1945,1946,1947,1948,1949,1950,1951,1952,1953,1954,1955,1956,1957,1958,1959,1960,1961,1962,1963,1964,1965,1966,1967,1968,1969,1970,1971,1972,1973,1974,1975,1976,1977,1978,1979,1980,1981,1982,1983,1984,1985,1986,1987,1988,1989,1990,1991,1992,1993,1994,1995,1996,1997,1998,1999,2000,2001,2002,2003,2004,2005,2006,2007,2008,2009,2010,2011,2012,2013,2014,2015,2016,2017,2018,2019,2020,2021],\"xaxis\":\"x\",\"y\":[null,null,null,null,null,null,null,null,null,null,null,null,null,null,null,null,null,null,null,null,null,null,null,null,null,null,null,0.165,0.381,1.172,3.715,7.676,11.787,16.774,12.227,11.688,8.947,7.775,7.288,6.698,7.042,6.848,7.288,8.46,10.904,11.542,12.861,13.696,14.528,15.165,17.17,19.027,19.877,19.676,23.523,24.915,25.718,28.315,29.598,30.136,31.866,38.377,40.509,36.519,37.948,41.685,34.992,40.107,52.526,59.709,63.922,69.144,76.017,82.623,102.894,104.224,92.887,88.218,90.917,101.949,111.372,125.529,140.574,135.493,141.328,153.515,153.463,166.049,182.9,197.601,216.697,223.834,247.888,280.122,300.454,353.156,416.186,447.085,474.527,501.35,547.229,587.229,646.666,705.825,758.226,834.527,882.007,967.683,1046.822,1152.86,1230.538,1339.839,1432.946,1559.571,1708.518,1790.679,1933.313,2052.041,2203.89,2258.999,2255.543,2386.85,2441.085,2550.346,2688.997,2758.101,2794.347,2731.273,2760.542,3010.426,3121.401,3045.544,3305.28,3466.022,3639.817,3833.133,3909.677,3958.12,4067.061,4102.083,4209.968,4395.992,4412.478,4484.475,4621.802,4731.291,4773.585,4905.854,5081.468,5257.19,5380.666,5506.809,5694.134,5864.291,5751.954,6195.344,6366.902,6500.594,6542.527,6654.555,6788.074,6973.649,7144.928,7529.847,7647.528,7556.29,7921.83],\"yaxis\":\"y\",\"type\":\"scattergl\"},{\"hovertemplate\":\"Fuente de Emisi\\u00f3n=land_use_change_co2\\u003cbr\\u003eA\\u00f1o=%{x}\\u003cbr\\u003eEmisiones de CO\\u2082 (toneladas)=%{y}\\u003cextra\\u003e\\u003c\\u002fextra\\u003e\",\"legendgroup\":\"land_use_change_co2\",\"line\":{\"color\":\"#FFA15A\",\"dash\":\"solid\"},\"marker\":{\"symbol\":\"circle\"},\"mode\":\"lines\",\"name\":\"land_use_change_co2\",\"showlegend\":true,\"x\":[1855,1856,1857,1858,1859,1860,1861,1862,1863,1864,1865,1866,1867,1868,1869,1870,1871,1872,1873,1874,1875,1876,1877,1878,1879,1880,1881,1882,1883,1884,1885,1886,1887,1888,1889,1890,1891,1892,1893,1894,1895,1896,1897,1898,1899,1900,1901,1902,1903,1904,1905,1906,1907,1908,1909,1910,1911,1912,1913,1914,1915,1916,1917,1918,1919,1920,1921,1922,1923,1924,1925,1926,1927,1928,1929,1930,1931,1932,1933,1934,1935,1936,1937,1938,1939,1940,1941,1942,1943,1944,1945,1946,1947,1948,1949,1950,1951,1952,1953,1954,1955,1956,1957,1958,1959,1960,1961,1962,1963,1964,1965,1966,1967,1968,1969,1970,1971,1972,1973,1974,1975,1976,1977,1978,1979,1980,1981,1982,1983,1984,1985,1986,1987,1988,1989,1990,1991,1992,1993,1994,1995,1996,1997,1998,1999,2000,2001,2002,2003,2004,2005,2006,2007,2008,2009,2010,2011,2012,2013,2014,2015,2016,2017,2018,2019,2020,2021],\"xaxis\":\"x2\",\"y\":[2643.82,2676.063,2699.879,2731.268,2760.824,2649.805,2524.74,2504.71,2504.833,2472.101,2443.155,2432.896,2434.24,2418.362,2394.546,2572.983,2684.613,2740.55,2811.631,2862.683,2890.53,2929.856,2975.901,3026.22,3065.058,3100.721,3096.935,3159.833,3220.534,3240.197,3243.862,3272.074,3325.813,3324.103,3345.72,3466.632,3563.851,3599.147,3667.42,3702.838,3743.387,3776.607,3814.835,3845.979,3887.748,4002.798,4052.018,4117.237,4129.938,4192.959,4228.622,4243.767,4281.506,4313.627,4339.153,4319.245,4311.062,4247.797,4233.752,4227.523,4183.311,4129.572,4129.938,4149.846,4122.244,4257.202,4366.633,4422.326,4433.685,4463.607,4519.666,4507.086,4519.544,4537.009,4543.116,4566.443,4627.876,4681.126,4707.629,4741.948,4741.948,4773.459,4777.856,4806.191,4813.03,5018.093,5169.171,5201.415,5216.803,5214.971,5183.338,5167.095,5114.456,5062.304,5001.237,5425.163,5599.081,5724.389,5832.111,6003.708,6185.564,6390.993,6582.621,6774.98,7104.252,6568.086,6106.056,5892.689,5652.575,5475.726,5066.701,4847.716,4924.904,4977.422,4665.982,4598.686,4585.863,4590.503,4447.608,4320.955,4370.053,4304.834,4407.181,4223.371,4059.468,4084.627,4391.792,4408.892,4804.848,5306.083,5080.38,5116.653,5112.868,5058.519,4868.846,4877.272,4757.215,4890.708,4876.417,5295.823,5288.251,5285.076,7104.863,5486.718,5489.038,5115.921,4739.018,5177.232,5652.819,5362.264,4716.667,5073.296,4436.982,4643.021,5033.726,4837.702,4964.109,4826.954,4628.121,4917.699,5385.714,4527.849,4331.947,4181.356,4557.283,4057.758,3939.044],\"yaxis\":\"y2\",\"type\":\"scattergl\"},{\"hovertemplate\":\"Fuente de Emisi\\u00f3n=oil_co2\\u003cbr\\u003eA\\u00f1o=%{x}\\u003cbr\\u003eEmisiones de CO\\u2082 (toneladas)=%{y}\\u003cextra\\u003e\\u003c\\u002fextra\\u003e\",\"legendgroup\":\"oil_co2\",\"line\":{\"color\":\"#19d3f3\",\"dash\":\"solid\"},\"marker\":{\"symbol\":\"circle\"},\"mode\":\"lines\",\"name\":\"oil_co2\",\"showlegend\":true,\"x\":[1855,1856,1857,1858,1859,1860,1861,1862,1863,1864,1865,1866,1867,1868,1869,1870,1871,1872,1873,1874,1875,1876,1877,1878,1879,1880,1881,1882,1883,1884,1885,1886,1887,1888,1889,1890,1891,1892,1893,1894,1895,1896,1897,1898,1899,1900,1901,1902,1903,1904,1905,1906,1907,1908,1909,1910,1911,1912,1913,1914,1915,1916,1917,1918,1919,1920,1921,1922,1923,1924,1925,1926,1927,1928,1929,1930,1931,1932,1933,1934,1935,1936,1937,1938,1939,1940,1941,1942,1943,1944,1945,1946,1947,1948,1949,1950,1951,1952,1953,1954,1955,1956,1957,1958,1959,1960,1961,1962,1963,1964,1965,1966,1967,1968,1969,1970,1971,1972,1973,1974,1975,1976,1977,1978,1979,1980,1981,1982,1983,1984,1985,1986,1987,1988,1989,1990,1991,1992,1993,1994,1995,1996,1997,1998,1999,2000,2001,2002,2003,2004,2005,2006,2007,2008,2009,2010,2011,2012,2013,2014,2015,2016,2017,2018,2019,2020,2021],\"xaxis\":\"x3\",\"y\":[0.037,0.04,0.051,0.062,0.055,0.273,0.941,1.399,1.293,1.11,1.32,1.952,1.985,2.289,2.614,3.133,3.282,3.698,5.67,6.243,5.835,6.536,8.824,10.041,12.66,15.364,17.242,18.939,16.502,18.323,18.959,21.824,23.482,24.581,28.407,34.651,40.832,40.207,42.547,41.702,48.539,52.571,55.531,57.173,60.032,67.31,74.75,80.808,85.562,96.083,97.017,97.893,119.416,128.759,134.349,143.839,152.546,156.759,181.575,185.583,197.104,214.632,238.808,244.605,272.966,350.954,384.258,426.345,473.527,470.812,492.787,490.648,537.816,549.539,602.778,578.598,560.749,536.592,586.389,620.413,668.785,729.131,821.516,796.989,830.241,872.467,880.697,835.716,888.001,1018.141,1008.345,1139.899,1221.313,1339.607,1336.641,1648.31,1742.354,1838.024,1952.1,2068.543,2311.864,2508.048,2621.266,2726.365,2904.649,3126.444,3313.503,3561.94,3806.973,4107.569,4412.375,4761.953,5077.08,5530.292,5980.509,6801.259,7202.926,7766.614,8225.938,8107.899,8039.023,8541.493,8842.06,9159.137,9276.707,8951.775,8550.305,8345.176,8260.815,8328.841,8326.771,8576.334,8654.659,8972.672,9130.08,9249.362,9723.43,9226.139,9232.772,9265.657,9363.846,9643.209,9786.86,9883.467,10112.427,10302.091,10390.669,10385.864,10679.654,11042.505,11139.399,11246.321,11283.665,11251.325,10996.948,11359.883,11388.086,11541.707,11626.445,11678.782,11929.665,12023.833,12242.628,12266.017,12345.653,11191.809,11837.159],\"yaxis\":\"y3\",\"type\":\"scattergl\"}],                        {\"template\":{\"data\":{\"histogram2dcontour\":[{\"type\":\"histogram2dcontour\",\"colorbar\":{\"outlinewidth\":0,\"ticks\":\"\"},\"colorscale\":[[0.0,\"#0d0887\"],[0.1111111111111111,\"#46039f\"],[0.2222222222222222,\"#7201a8\"],[0.3333333333333333,\"#9c179e\"],[0.4444444444444444,\"#bd3786\"],[0.5555555555555556,\"#d8576b\"],[0.6666666666666666,\"#ed7953\"],[0.7777777777777778,\"#fb9f3a\"],[0.8888888888888888,\"#fdca26\"],[1.0,\"#f0f921\"]]}],\"choropleth\":[{\"type\":\"choropleth\",\"colorbar\":{\"outlinewidth\":0,\"ticks\":\"\"}}],\"histogram2d\":[{\"type\":\"histogram2d\",\"colorbar\":{\"outlinewidth\":0,\"ticks\":\"\"},\"colorscale\":[[0.0,\"#0d0887\"],[0.1111111111111111,\"#46039f\"],[0.2222222222222222,\"#7201a8\"],[0.3333333333333333,\"#9c179e\"],[0.4444444444444444,\"#bd3786\"],[0.5555555555555556,\"#d8576b\"],[0.6666666666666666,\"#ed7953\"],[0.7777777777777778,\"#fb9f3a\"],[0.8888888888888888,\"#fdca26\"],[1.0,\"#f0f921\"]]}],\"heatmap\":[{\"type\":\"heatmap\",\"colorbar\":{\"outlinewidth\":0,\"ticks\":\"\"},\"colorscale\":[[0.0,\"#0d0887\"],[0.1111111111111111,\"#46039f\"],[0.2222222222222222,\"#7201a8\"],[0.3333333333333333,\"#9c179e\"],[0.4444444444444444,\"#bd3786\"],[0.5555555555555556,\"#d8576b\"],[0.6666666666666666,\"#ed7953\"],[0.7777777777777778,\"#fb9f3a\"],[0.8888888888888888,\"#fdca26\"],[1.0,\"#f0f921\"]]}],\"heatmapgl\":[{\"type\":\"heatmapgl\",\"colorbar\":{\"outlinewidth\":0,\"ticks\":\"\"},\"colorscale\":[[0.0,\"#0d0887\"],[0.1111111111111111,\"#46039f\"],[0.2222222222222222,\"#7201a8\"],[0.3333333333333333,\"#9c179e\"],[0.4444444444444444,\"#bd3786\"],[0.5555555555555556,\"#d8576b\"],[0.6666666666666666,\"#ed7953\"],[0.7777777777777778,\"#fb9f3a\"],[0.8888888888888888,\"#fdca26\"],[1.0,\"#f0f921\"]]}],\"contourcarpet\":[{\"type\":\"contourcarpet\",\"colorbar\":{\"outlinewidth\":0,\"ticks\":\"\"}}],\"contour\":[{\"type\":\"contour\",\"colorbar\":{\"outlinewidth\":0,\"ticks\":\"\"},\"colorscale\":[[0.0,\"#0d0887\"],[0.1111111111111111,\"#46039f\"],[0.2222222222222222,\"#7201a8\"],[0.3333333333333333,\"#9c179e\"],[0.4444444444444444,\"#bd3786\"],[0.5555555555555556,\"#d8576b\"],[0.6666666666666666,\"#ed7953\"],[0.7777777777777778,\"#fb9f3a\"],[0.8888888888888888,\"#fdca26\"],[1.0,\"#f0f921\"]]}],\"surface\":[{\"type\":\"surface\",\"colorbar\":{\"outlinewidth\":0,\"ticks\":\"\"},\"colorscale\":[[0.0,\"#0d0887\"],[0.1111111111111111,\"#46039f\"],[0.2222222222222222,\"#7201a8\"],[0.3333333333333333,\"#9c179e\"],[0.4444444444444444,\"#bd3786\"],[0.5555555555555556,\"#d8576b\"],[0.6666666666666666,\"#ed7953\"],[0.7777777777777778,\"#fb9f3a\"],[0.8888888888888888,\"#fdca26\"],[1.0,\"#f0f921\"]]}],\"mesh3d\":[{\"type\":\"mesh3d\",\"colorbar\":{\"outlinewidth\":0,\"ticks\":\"\"}}],\"scatter\":[{\"fillpattern\":{\"fillmode\":\"overlay\",\"size\":10,\"solidity\":0.2},\"type\":\"scatter\"}],\"parcoords\":[{\"type\":\"parcoords\",\"line\":{\"colorbar\":{\"outlinewidth\":0,\"ticks\":\"\"}}}],\"scatterpolargl\":[{\"type\":\"scatterpolargl\",\"marker\":{\"colorbar\":{\"outlinewidth\":0,\"ticks\":\"\"}}}],\"bar\":[{\"error_x\":{\"color\":\"#2a3f5f\"},\"error_y\":{\"color\":\"#2a3f5f\"},\"marker\":{\"line\":{\"color\":\"#E5ECF6\",\"width\":0.5},\"pattern\":{\"fillmode\":\"overlay\",\"size\":10,\"solidity\":0.2}},\"type\":\"bar\"}],\"scattergeo\":[{\"type\":\"scattergeo\",\"marker\":{\"colorbar\":{\"outlinewidth\":0,\"ticks\":\"\"}}}],\"scatterpolar\":[{\"type\":\"scatterpolar\",\"marker\":{\"colorbar\":{\"outlinewidth\":0,\"ticks\":\"\"}}}],\"histogram\":[{\"marker\":{\"pattern\":{\"fillmode\":\"overlay\",\"size\":10,\"solidity\":0.2}},\"type\":\"histogram\"}],\"scattergl\":[{\"type\":\"scattergl\",\"marker\":{\"colorbar\":{\"outlinewidth\":0,\"ticks\":\"\"}}}],\"scatter3d\":[{\"type\":\"scatter3d\",\"line\":{\"colorbar\":{\"outlinewidth\":0,\"ticks\":\"\"}},\"marker\":{\"colorbar\":{\"outlinewidth\":0,\"ticks\":\"\"}}}],\"scattermapbox\":[{\"type\":\"scattermapbox\",\"marker\":{\"colorbar\":{\"outlinewidth\":0,\"ticks\":\"\"}}}],\"scatterternary\":[{\"type\":\"scatterternary\",\"marker\":{\"colorbar\":{\"outlinewidth\":0,\"ticks\":\"\"}}}],\"scattercarpet\":[{\"type\":\"scattercarpet\",\"marker\":{\"colorbar\":{\"outlinewidth\":0,\"ticks\":\"\"}}}],\"carpet\":[{\"aaxis\":{\"endlinecolor\":\"#2a3f5f\",\"gridcolor\":\"white\",\"linecolor\":\"white\",\"minorgridcolor\":\"white\",\"startlinecolor\":\"#2a3f5f\"},\"baxis\":{\"endlinecolor\":\"#2a3f5f\",\"gridcolor\":\"white\",\"linecolor\":\"white\",\"minorgridcolor\":\"white\",\"startlinecolor\":\"#2a3f5f\"},\"type\":\"carpet\"}],\"table\":[{\"cells\":{\"fill\":{\"color\":\"#EBF0F8\"},\"line\":{\"color\":\"white\"}},\"header\":{\"fill\":{\"color\":\"#C8D4E3\"},\"line\":{\"color\":\"white\"}},\"type\":\"table\"}],\"barpolar\":[{\"marker\":{\"line\":{\"color\":\"#E5ECF6\",\"width\":0.5},\"pattern\":{\"fillmode\":\"overlay\",\"size\":10,\"solidity\":0.2}},\"type\":\"barpolar\"}],\"pie\":[{\"automargin\":true,\"type\":\"pie\"}]},\"layout\":{\"autotypenumbers\":\"strict\",\"colorway\":[\"#636efa\",\"#EF553B\",\"#00cc96\",\"#ab63fa\",\"#FFA15A\",\"#19d3f3\",\"#FF6692\",\"#B6E880\",\"#FF97FF\",\"#FECB52\"],\"font\":{\"color\":\"#2a3f5f\"},\"hovermode\":\"closest\",\"hoverlabel\":{\"align\":\"left\"},\"paper_bgcolor\":\"white\",\"plot_bgcolor\":\"#E5ECF6\",\"polar\":{\"bgcolor\":\"#E5ECF6\",\"angularaxis\":{\"gridcolor\":\"white\",\"linecolor\":\"white\",\"ticks\":\"\"},\"radialaxis\":{\"gridcolor\":\"white\",\"linecolor\":\"white\",\"ticks\":\"\"}},\"ternary\":{\"bgcolor\":\"#E5ECF6\",\"aaxis\":{\"gridcolor\":\"white\",\"linecolor\":\"white\",\"ticks\":\"\"},\"baxis\":{\"gridcolor\":\"white\",\"linecolor\":\"white\",\"ticks\":\"\"},\"caxis\":{\"gridcolor\":\"white\",\"linecolor\":\"white\",\"ticks\":\"\"}},\"coloraxis\":{\"colorbar\":{\"outlinewidth\":0,\"ticks\":\"\"}},\"colorscale\":{\"sequential\":[[0.0,\"#0d0887\"],[0.1111111111111111,\"#46039f\"],[0.2222222222222222,\"#7201a8\"],[0.3333333333333333,\"#9c179e\"],[0.4444444444444444,\"#bd3786\"],[0.5555555555555556,\"#d8576b\"],[0.6666666666666666,\"#ed7953\"],[0.7777777777777778,\"#fb9f3a\"],[0.8888888888888888,\"#fdca26\"],[1.0,\"#f0f921\"]],\"sequentialminus\":[[0.0,\"#0d0887\"],[0.1111111111111111,\"#46039f\"],[0.2222222222222222,\"#7201a8\"],[0.3333333333333333,\"#9c179e\"],[0.4444444444444444,\"#bd3786\"],[0.5555555555555556,\"#d8576b\"],[0.6666666666666666,\"#ed7953\"],[0.7777777777777778,\"#fb9f3a\"],[0.8888888888888888,\"#fdca26\"],[1.0,\"#f0f921\"]],\"diverging\":[[0,\"#8e0152\"],[0.1,\"#c51b7d\"],[0.2,\"#de77ae\"],[0.3,\"#f1b6da\"],[0.4,\"#fde0ef\"],[0.5,\"#f7f7f7\"],[0.6,\"#e6f5d0\"],[0.7,\"#b8e186\"],[0.8,\"#7fbc41\"],[0.9,\"#4d9221\"],[1,\"#276419\"]]},\"xaxis\":{\"gridcolor\":\"white\",\"linecolor\":\"white\",\"ticks\":\"\",\"title\":{\"standoff\":15},\"zerolinecolor\":\"white\",\"automargin\":true,\"zerolinewidth\":2},\"yaxis\":{\"gridcolor\":\"white\",\"linecolor\":\"white\",\"ticks\":\"\",\"title\":{\"standoff\":15},\"zerolinecolor\":\"white\",\"automargin\":true,\"zerolinewidth\":2},\"scene\":{\"xaxis\":{\"backgroundcolor\":\"#E5ECF6\",\"gridcolor\":\"white\",\"linecolor\":\"white\",\"showbackground\":true,\"ticks\":\"\",\"zerolinecolor\":\"white\",\"gridwidth\":2},\"yaxis\":{\"backgroundcolor\":\"#E5ECF6\",\"gridcolor\":\"white\",\"linecolor\":\"white\",\"showbackground\":true,\"ticks\":\"\",\"zerolinecolor\":\"white\",\"gridwidth\":2},\"zaxis\":{\"backgroundcolor\":\"#E5ECF6\",\"gridcolor\":\"white\",\"linecolor\":\"white\",\"showbackground\":true,\"ticks\":\"\",\"zerolinecolor\":\"white\",\"gridwidth\":2}},\"shapedefaults\":{\"line\":{\"color\":\"#2a3f5f\"}},\"annotationdefaults\":{\"arrowcolor\":\"#2a3f5f\",\"arrowhead\":0,\"arrowwidth\":1},\"geo\":{\"bgcolor\":\"white\",\"landcolor\":\"#E5ECF6\",\"subunitcolor\":\"white\",\"showland\":true,\"showlakes\":true,\"lakecolor\":\"white\"},\"title\":{\"x\":0.05},\"mapbox\":{\"style\":\"light\"}}},\"xaxis\":{\"anchor\":\"y\",\"domain\":[0.0,0.31999999999999995],\"title\":{\"text\":\"A\\u00f1o\"}},\"yaxis\":{\"anchor\":\"x\",\"domain\":[0.0,0.46499999999999997],\"title\":{\"text\":\"Emisiones de CO\\u2082 (toneladas)\"}},\"xaxis2\":{\"anchor\":\"y2\",\"domain\":[0.33999999999999997,0.6599999999999999],\"matches\":\"x\",\"title\":{\"text\":\"A\\u00f1o\"}},\"yaxis2\":{\"anchor\":\"x2\",\"domain\":[0.0,0.46499999999999997],\"matches\":\"y\",\"showticklabels\":false},\"xaxis3\":{\"anchor\":\"y3\",\"domain\":[0.6799999999999999,0.9999999999999999],\"matches\":\"x\",\"title\":{\"text\":\"A\\u00f1o\"}},\"yaxis3\":{\"anchor\":\"x3\",\"domain\":[0.0,0.46499999999999997],\"matches\":\"y\",\"showticklabels\":false},\"xaxis4\":{\"anchor\":\"y4\",\"domain\":[0.0,0.31999999999999995],\"matches\":\"x\",\"showticklabels\":false},\"yaxis4\":{\"anchor\":\"x4\",\"domain\":[0.5349999999999999,0.9999999999999999],\"matches\":\"y\",\"title\":{\"text\":\"Emisiones de CO\\u2082 (toneladas)\"}},\"xaxis5\":{\"anchor\":\"y5\",\"domain\":[0.33999999999999997,0.6599999999999999],\"matches\":\"x\",\"showticklabels\":false},\"yaxis5\":{\"anchor\":\"x5\",\"domain\":[0.5349999999999999,0.9999999999999999],\"matches\":\"y\",\"showticklabels\":false},\"xaxis6\":{\"anchor\":\"y6\",\"domain\":[0.6799999999999999,0.9999999999999999],\"matches\":\"x\",\"showticklabels\":false},\"yaxis6\":{\"anchor\":\"x6\",\"domain\":[0.5349999999999999,0.9999999999999999],\"matches\":\"y\",\"showticklabels\":false},\"annotations\":[{\"font\":{},\"showarrow\":false,\"text\":\"Fuente de Emisi\\u00f3n=gas_co2\",\"x\":0.15999999999999998,\"xanchor\":\"center\",\"xref\":\"paper\",\"y\":0.46499999999999997,\"yanchor\":\"bottom\",\"yref\":\"paper\"},{\"font\":{},\"showarrow\":false,\"text\":\"Fuente de Emisi\\u00f3n=land_use_change_co2\",\"x\":0.49999999999999994,\"xanchor\":\"center\",\"xref\":\"paper\",\"y\":0.46499999999999997,\"yanchor\":\"bottom\",\"yref\":\"paper\"},{\"font\":{},\"showarrow\":false,\"text\":\"Fuente de Emisi\\u00f3n=oil_co2\",\"x\":0.8399999999999999,\"xanchor\":\"center\",\"xref\":\"paper\",\"y\":0.46499999999999997,\"yanchor\":\"bottom\",\"yref\":\"paper\"},{\"font\":{},\"showarrow\":false,\"text\":\"Fuente de Emisi\\u00f3n=cement_co2\",\"x\":0.15999999999999998,\"xanchor\":\"center\",\"xref\":\"paper\",\"y\":0.9999999999999999,\"yanchor\":\"bottom\",\"yref\":\"paper\"},{\"font\":{},\"showarrow\":false,\"text\":\"Fuente de Emisi\\u00f3n=coal_co2\",\"x\":0.49999999999999994,\"xanchor\":\"center\",\"xref\":\"paper\",\"y\":0.9999999999999999,\"yanchor\":\"bottom\",\"yref\":\"paper\"},{\"font\":{},\"showarrow\":false,\"text\":\"Fuente de Emisi\\u00f3n=flaring_co2\",\"x\":0.8399999999999999,\"xanchor\":\"center\",\"xref\":\"paper\",\"y\":0.9999999999999999,\"yanchor\":\"bottom\",\"yref\":\"paper\"}],\"legend\":{\"title\":{\"text\":\"Fuente de Emisi\\u00f3n\"},\"tracegroupgap\":0},\"title\":{\"text\":\"Emisiones de CO\\u2082 por Fuente a lo largo del Tiempo\",\"x\":0.5},\"height\":800,\"width\":1000,\"margin\":{\"t\":50,\"b\":50,\"r\":50,\"l\":50}},                        {\"responsive\": true}                    ).then(function(){\n",
       "                            \n",
       "var gd = document.getElementById('c237ab8f-2544-45eb-9230-bfee7635ef21');\n",
       "var x = new MutationObserver(function (mutations, observer) {{\n",
       "        var display = window.getComputedStyle(gd).display;\n",
       "        if (!display || display === 'none') {{\n",
       "            console.log([gd, 'removed!']);\n",
       "            Plotly.purge(gd);\n",
       "            observer.disconnect();\n",
       "        }}\n",
       "}});\n",
       "\n",
       "// Listen for the removal of the full notebook cells\n",
       "var notebookContainer = gd.closest('#notebook-container');\n",
       "if (notebookContainer) {{\n",
       "    x.observe(notebookContainer, {childList: true});\n",
       "}}\n",
       "\n",
       "// Listen for the clearing of the current output cell\n",
       "var outputEl = gd.closest('.output');\n",
       "if (outputEl) {{\n",
       "    x.observe(outputEl, {childList: true});\n",
       "}}\n",
       "\n",
       "                        })                };                });            </script>        </div>"
      ]
     },
     "metadata": {},
     "output_type": "display_data"
    }
   ],
   "source": [
    "fig = px.line(df_emission_long, \n",
    "              x=\"year\", \n",
    "              y=\"emission_value\", \n",
    "              color=\"emission_source\", \n",
    "              facet_col=\"emission_source\",    \n",
    "              facet_col_wrap=3,               \n",
    "              title=\"Emisiones de CO₂ por Fuente a lo largo del Tiempo\",\n",
    "              labels={\"year\": \"Año\", \"emission_value\": \"Emisiones de CO₂ (toneladas)\", \"emission_source\": \"Fuente de Emisión\"},\n",
    "              width=1000,\n",
    "              height=700)\n",
    "fig.update_layout(\n",
    "    margin=dict(t=50, b=50, r=50, l=50),  \n",
    "    height=800,                      \n",
    "    title_x=0.5,                         \n",
    ")\n",
    "\n",
    "fig.show()"
   ]
  },
  {
   "cell_type": "markdown",
   "id": "6fa753f6-cbcb-43c9-80fa-03942beadb20",
   "metadata": {},
   "source": [
    "observamos que el petróleo y el carbón son las mayores fuentes de emisión. el gas ha estado y sigue en crecimiento durante los \n",
    "últimos años\n"
   ]
  },
  {
   "cell_type": "markdown",
   "id": "8cbc7438-700c-4a2d-8acb-ff6c8e639ef0",
   "metadata": {},
   "source": [
    "### contribución total histórica por sector"
   ]
  },
  {
   "cell_type": "code",
   "execution_count": 103,
   "id": "25e1499e-20d4-49a3-b5c3-c771cd618cb1",
   "metadata": {},
   "outputs": [
    {
     "data": {
      "application/vnd.plotly.v1+json": {
       "config": {
        "plotlyServerURL": "https://plot.ly"
       },
       "data": [
        {
         "alignmentgroup": "True",
         "hovertemplate": "Categoría=%{x}<br>Emisiones (toneladas)=%{marker.color}<extra></extra>",
         "legendgroup": "",
         "marker": {
          "color": [
           45066.924999999996,
           798551.93,
           18454.288,
           254057.81900000002,
           729762.293,
           605476.731
          ],
          "coloraxis": "coloraxis",
          "pattern": {
           "shape": ""
          }
         },
         "name": "",
         "offsetgroup": "",
         "orientation": "v",
         "showlegend": false,
         "textposition": "auto",
         "type": "bar",
         "x": [
          "cement_co2",
          "coal_co2",
          "flaring_co2",
          "gas_co2",
          "land_use_change_co2",
          "oil_co2"
         ],
         "xaxis": "x",
         "y": [
          45066.924999999996,
          798551.93,
          18454.288,
          254057.81900000002,
          729762.293,
          605476.731
         ],
         "yaxis": "y"
        }
       ],
       "layout": {
        "autosize": true,
        "barmode": "relative",
        "coloraxis": {
         "colorbar": {
          "title": {
           "text": "Emisiones (toneladas)"
          }
         },
         "colorscale": [
          [
           0,
           "#440154"
          ],
          [
           0.1111111111111111,
           "#482878"
          ],
          [
           0.2222222222222222,
           "#3e4989"
          ],
          [
           0.3333333333333333,
           "#31688e"
          ],
          [
           0.4444444444444444,
           "#26828e"
          ],
          [
           0.5555555555555556,
           "#1f9e89"
          ],
          [
           0.6666666666666666,
           "#35b779"
          ],
          [
           0.7777777777777778,
           "#6ece58"
          ],
          [
           0.8888888888888888,
           "#b5de2b"
          ],
          [
           1,
           "#fde725"
          ]
         ]
        },
        "legend": {
         "tracegroupgap": 0
        },
        "template": {
         "data": {
          "bar": [
           {
            "error_x": {
             "color": "#2a3f5f"
            },
            "error_y": {
             "color": "#2a3f5f"
            },
            "marker": {
             "line": {
              "color": "#E5ECF6",
              "width": 0.5
             },
             "pattern": {
              "fillmode": "overlay",
              "size": 10,
              "solidity": 0.2
             }
            },
            "type": "bar"
           }
          ],
          "barpolar": [
           {
            "marker": {
             "line": {
              "color": "#E5ECF6",
              "width": 0.5
             },
             "pattern": {
              "fillmode": "overlay",
              "size": 10,
              "solidity": 0.2
             }
            },
            "type": "barpolar"
           }
          ],
          "carpet": [
           {
            "aaxis": {
             "endlinecolor": "#2a3f5f",
             "gridcolor": "white",
             "linecolor": "white",
             "minorgridcolor": "white",
             "startlinecolor": "#2a3f5f"
            },
            "baxis": {
             "endlinecolor": "#2a3f5f",
             "gridcolor": "white",
             "linecolor": "white",
             "minorgridcolor": "white",
             "startlinecolor": "#2a3f5f"
            },
            "type": "carpet"
           }
          ],
          "choropleth": [
           {
            "colorbar": {
             "outlinewidth": 0,
             "ticks": ""
            },
            "type": "choropleth"
           }
          ],
          "contour": [
           {
            "colorbar": {
             "outlinewidth": 0,
             "ticks": ""
            },
            "colorscale": [
             [
              0,
              "#0d0887"
             ],
             [
              0.1111111111111111,
              "#46039f"
             ],
             [
              0.2222222222222222,
              "#7201a8"
             ],
             [
              0.3333333333333333,
              "#9c179e"
             ],
             [
              0.4444444444444444,
              "#bd3786"
             ],
             [
              0.5555555555555556,
              "#d8576b"
             ],
             [
              0.6666666666666666,
              "#ed7953"
             ],
             [
              0.7777777777777778,
              "#fb9f3a"
             ],
             [
              0.8888888888888888,
              "#fdca26"
             ],
             [
              1,
              "#f0f921"
             ]
            ],
            "type": "contour"
           }
          ],
          "contourcarpet": [
           {
            "colorbar": {
             "outlinewidth": 0,
             "ticks": ""
            },
            "type": "contourcarpet"
           }
          ],
          "heatmap": [
           {
            "colorbar": {
             "outlinewidth": 0,
             "ticks": ""
            },
            "colorscale": [
             [
              0,
              "#0d0887"
             ],
             [
              0.1111111111111111,
              "#46039f"
             ],
             [
              0.2222222222222222,
              "#7201a8"
             ],
             [
              0.3333333333333333,
              "#9c179e"
             ],
             [
              0.4444444444444444,
              "#bd3786"
             ],
             [
              0.5555555555555556,
              "#d8576b"
             ],
             [
              0.6666666666666666,
              "#ed7953"
             ],
             [
              0.7777777777777778,
              "#fb9f3a"
             ],
             [
              0.8888888888888888,
              "#fdca26"
             ],
             [
              1,
              "#f0f921"
             ]
            ],
            "type": "heatmap"
           }
          ],
          "heatmapgl": [
           {
            "colorbar": {
             "outlinewidth": 0,
             "ticks": ""
            },
            "colorscale": [
             [
              0,
              "#0d0887"
             ],
             [
              0.1111111111111111,
              "#46039f"
             ],
             [
              0.2222222222222222,
              "#7201a8"
             ],
             [
              0.3333333333333333,
              "#9c179e"
             ],
             [
              0.4444444444444444,
              "#bd3786"
             ],
             [
              0.5555555555555556,
              "#d8576b"
             ],
             [
              0.6666666666666666,
              "#ed7953"
             ],
             [
              0.7777777777777778,
              "#fb9f3a"
             ],
             [
              0.8888888888888888,
              "#fdca26"
             ],
             [
              1,
              "#f0f921"
             ]
            ],
            "type": "heatmapgl"
           }
          ],
          "histogram": [
           {
            "marker": {
             "pattern": {
              "fillmode": "overlay",
              "size": 10,
              "solidity": 0.2
             }
            },
            "type": "histogram"
           }
          ],
          "histogram2d": [
           {
            "colorbar": {
             "outlinewidth": 0,
             "ticks": ""
            },
            "colorscale": [
             [
              0,
              "#0d0887"
             ],
             [
              0.1111111111111111,
              "#46039f"
             ],
             [
              0.2222222222222222,
              "#7201a8"
             ],
             [
              0.3333333333333333,
              "#9c179e"
             ],
             [
              0.4444444444444444,
              "#bd3786"
             ],
             [
              0.5555555555555556,
              "#d8576b"
             ],
             [
              0.6666666666666666,
              "#ed7953"
             ],
             [
              0.7777777777777778,
              "#fb9f3a"
             ],
             [
              0.8888888888888888,
              "#fdca26"
             ],
             [
              1,
              "#f0f921"
             ]
            ],
            "type": "histogram2d"
           }
          ],
          "histogram2dcontour": [
           {
            "colorbar": {
             "outlinewidth": 0,
             "ticks": ""
            },
            "colorscale": [
             [
              0,
              "#0d0887"
             ],
             [
              0.1111111111111111,
              "#46039f"
             ],
             [
              0.2222222222222222,
              "#7201a8"
             ],
             [
              0.3333333333333333,
              "#9c179e"
             ],
             [
              0.4444444444444444,
              "#bd3786"
             ],
             [
              0.5555555555555556,
              "#d8576b"
             ],
             [
              0.6666666666666666,
              "#ed7953"
             ],
             [
              0.7777777777777778,
              "#fb9f3a"
             ],
             [
              0.8888888888888888,
              "#fdca26"
             ],
             [
              1,
              "#f0f921"
             ]
            ],
            "type": "histogram2dcontour"
           }
          ],
          "mesh3d": [
           {
            "colorbar": {
             "outlinewidth": 0,
             "ticks": ""
            },
            "type": "mesh3d"
           }
          ],
          "parcoords": [
           {
            "line": {
             "colorbar": {
              "outlinewidth": 0,
              "ticks": ""
             }
            },
            "type": "parcoords"
           }
          ],
          "pie": [
           {
            "automargin": true,
            "type": "pie"
           }
          ],
          "scatter": [
           {
            "fillpattern": {
             "fillmode": "overlay",
             "size": 10,
             "solidity": 0.2
            },
            "type": "scatter"
           }
          ],
          "scatter3d": [
           {
            "line": {
             "colorbar": {
              "outlinewidth": 0,
              "ticks": ""
             }
            },
            "marker": {
             "colorbar": {
              "outlinewidth": 0,
              "ticks": ""
             }
            },
            "type": "scatter3d"
           }
          ],
          "scattercarpet": [
           {
            "marker": {
             "colorbar": {
              "outlinewidth": 0,
              "ticks": ""
             }
            },
            "type": "scattercarpet"
           }
          ],
          "scattergeo": [
           {
            "marker": {
             "colorbar": {
              "outlinewidth": 0,
              "ticks": ""
             }
            },
            "type": "scattergeo"
           }
          ],
          "scattergl": [
           {
            "marker": {
             "colorbar": {
              "outlinewidth": 0,
              "ticks": ""
             }
            },
            "type": "scattergl"
           }
          ],
          "scattermapbox": [
           {
            "marker": {
             "colorbar": {
              "outlinewidth": 0,
              "ticks": ""
             }
            },
            "type": "scattermapbox"
           }
          ],
          "scatterpolar": [
           {
            "marker": {
             "colorbar": {
              "outlinewidth": 0,
              "ticks": ""
             }
            },
            "type": "scatterpolar"
           }
          ],
          "scatterpolargl": [
           {
            "marker": {
             "colorbar": {
              "outlinewidth": 0,
              "ticks": ""
             }
            },
            "type": "scatterpolargl"
           }
          ],
          "scatterternary": [
           {
            "marker": {
             "colorbar": {
              "outlinewidth": 0,
              "ticks": ""
             }
            },
            "type": "scatterternary"
           }
          ],
          "surface": [
           {
            "colorbar": {
             "outlinewidth": 0,
             "ticks": ""
            },
            "colorscale": [
             [
              0,
              "#0d0887"
             ],
             [
              0.1111111111111111,
              "#46039f"
             ],
             [
              0.2222222222222222,
              "#7201a8"
             ],
             [
              0.3333333333333333,
              "#9c179e"
             ],
             [
              0.4444444444444444,
              "#bd3786"
             ],
             [
              0.5555555555555556,
              "#d8576b"
             ],
             [
              0.6666666666666666,
              "#ed7953"
             ],
             [
              0.7777777777777778,
              "#fb9f3a"
             ],
             [
              0.8888888888888888,
              "#fdca26"
             ],
             [
              1,
              "#f0f921"
             ]
            ],
            "type": "surface"
           }
          ],
          "table": [
           {
            "cells": {
             "fill": {
              "color": "#EBF0F8"
             },
             "line": {
              "color": "white"
             }
            },
            "header": {
             "fill": {
              "color": "#C8D4E3"
             },
             "line": {
              "color": "white"
             }
            },
            "type": "table"
           }
          ]
         },
         "layout": {
          "annotationdefaults": {
           "arrowcolor": "#2a3f5f",
           "arrowhead": 0,
           "arrowwidth": 1
          },
          "autotypenumbers": "strict",
          "coloraxis": {
           "colorbar": {
            "outlinewidth": 0,
            "ticks": ""
           }
          },
          "colorscale": {
           "diverging": [
            [
             0,
             "#8e0152"
            ],
            [
             0.1,
             "#c51b7d"
            ],
            [
             0.2,
             "#de77ae"
            ],
            [
             0.3,
             "#f1b6da"
            ],
            [
             0.4,
             "#fde0ef"
            ],
            [
             0.5,
             "#f7f7f7"
            ],
            [
             0.6,
             "#e6f5d0"
            ],
            [
             0.7,
             "#b8e186"
            ],
            [
             0.8,
             "#7fbc41"
            ],
            [
             0.9,
             "#4d9221"
            ],
            [
             1,
             "#276419"
            ]
           ],
           "sequential": [
            [
             0,
             "#0d0887"
            ],
            [
             0.1111111111111111,
             "#46039f"
            ],
            [
             0.2222222222222222,
             "#7201a8"
            ],
            [
             0.3333333333333333,
             "#9c179e"
            ],
            [
             0.4444444444444444,
             "#bd3786"
            ],
            [
             0.5555555555555556,
             "#d8576b"
            ],
            [
             0.6666666666666666,
             "#ed7953"
            ],
            [
             0.7777777777777778,
             "#fb9f3a"
            ],
            [
             0.8888888888888888,
             "#fdca26"
            ],
            [
             1,
             "#f0f921"
            ]
           ],
           "sequentialminus": [
            [
             0,
             "#0d0887"
            ],
            [
             0.1111111111111111,
             "#46039f"
            ],
            [
             0.2222222222222222,
             "#7201a8"
            ],
            [
             0.3333333333333333,
             "#9c179e"
            ],
            [
             0.4444444444444444,
             "#bd3786"
            ],
            [
             0.5555555555555556,
             "#d8576b"
            ],
            [
             0.6666666666666666,
             "#ed7953"
            ],
            [
             0.7777777777777778,
             "#fb9f3a"
            ],
            [
             0.8888888888888888,
             "#fdca26"
            ],
            [
             1,
             "#f0f921"
            ]
           ]
          },
          "colorway": [
           "#636efa",
           "#EF553B",
           "#00cc96",
           "#ab63fa",
           "#FFA15A",
           "#19d3f3",
           "#FF6692",
           "#B6E880",
           "#FF97FF",
           "#FECB52"
          ],
          "font": {
           "color": "#2a3f5f"
          },
          "geo": {
           "bgcolor": "white",
           "lakecolor": "white",
           "landcolor": "#E5ECF6",
           "showlakes": true,
           "showland": true,
           "subunitcolor": "white"
          },
          "hoverlabel": {
           "align": "left"
          },
          "hovermode": "closest",
          "mapbox": {
           "style": "light"
          },
          "paper_bgcolor": "white",
          "plot_bgcolor": "#E5ECF6",
          "polar": {
           "angularaxis": {
            "gridcolor": "white",
            "linecolor": "white",
            "ticks": ""
           },
           "bgcolor": "#E5ECF6",
           "radialaxis": {
            "gridcolor": "white",
            "linecolor": "white",
            "ticks": ""
           }
          },
          "scene": {
           "xaxis": {
            "backgroundcolor": "#E5ECF6",
            "gridcolor": "white",
            "gridwidth": 2,
            "linecolor": "white",
            "showbackground": true,
            "ticks": "",
            "zerolinecolor": "white"
           },
           "yaxis": {
            "backgroundcolor": "#E5ECF6",
            "gridcolor": "white",
            "gridwidth": 2,
            "linecolor": "white",
            "showbackground": true,
            "ticks": "",
            "zerolinecolor": "white"
           },
           "zaxis": {
            "backgroundcolor": "#E5ECF6",
            "gridcolor": "white",
            "gridwidth": 2,
            "linecolor": "white",
            "showbackground": true,
            "ticks": "",
            "zerolinecolor": "white"
           }
          },
          "shapedefaults": {
           "line": {
            "color": "#2a3f5f"
           }
          },
          "ternary": {
           "aaxis": {
            "gridcolor": "white",
            "linecolor": "white",
            "ticks": ""
           },
           "baxis": {
            "gridcolor": "white",
            "linecolor": "white",
            "ticks": ""
           },
           "bgcolor": "#E5ECF6",
           "caxis": {
            "gridcolor": "white",
            "linecolor": "white",
            "ticks": ""
           }
          },
          "title": {
           "x": 0.05
          },
          "xaxis": {
           "automargin": true,
           "gridcolor": "white",
           "linecolor": "white",
           "ticks": "",
           "title": {
            "standoff": 15
           },
           "zerolinecolor": "white",
           "zerolinewidth": 2
          },
          "yaxis": {
           "automargin": true,
           "gridcolor": "white",
           "linecolor": "white",
           "ticks": "",
           "title": {
            "standoff": 15
           },
           "zerolinecolor": "white",
           "zerolinewidth": 2
          }
         }
        },
        "title": {
         "text": "Emisiones de CO2 por Categoría"
        },
        "xaxis": {
         "anchor": "y",
         "autorange": true,
         "domain": [
          0,
          1
         ],
         "range": [
          -0.5,
          5.5
         ],
         "title": {
          "text": "Categoría"
         },
         "type": "category"
        },
        "yaxis": {
         "anchor": "x",
         "autorange": true,
         "domain": [
          0,
          1
         ],
         "range": [
          0,
          840580.9789473685
         ],
         "title": {
          "text": "Emisiones (toneladas)"
         },
         "type": "linear"
        }
       }
      },
      "image/png": "[encoded data removed]",
      "text/html": [
       "<div>                            <div id=\"8238ce8e-123a-4f8a-8391-45411d597df1\" class=\"plotly-graph-div\" style=\"height:525px; width:100%;\"></div>            <script type=\"text/javascript\">                require([\"plotly\"], function(Plotly) {                    window.PLOTLYENV=window.PLOTLYENV || {};                                    if (document.getElementById(\"8238ce8e-123a-4f8a-8391-45411d597df1\")) {                    Plotly.newPlot(                        \"8238ce8e-123a-4f8a-8391-45411d597df1\",                        [{\"alignmentgroup\":\"True\",\"hovertemplate\":\"Categor\\u00eda=%{x}\\u003cbr\\u003eEmisiones (toneladas)=%{marker.color}\\u003cextra\\u003e\\u003c\\u002fextra\\u003e\",\"legendgroup\":\"\",\"marker\":{\"color\":[45066.924999999996,798551.93,18454.288,254057.81900000002,729762.293,605476.731],\"coloraxis\":\"coloraxis\",\"pattern\":{\"shape\":\"\"}},\"name\":\"\",\"offsetgroup\":\"\",\"orientation\":\"v\",\"showlegend\":false,\"textposition\":\"auto\",\"x\":[\"cement_co2\",\"coal_co2\",\"flaring_co2\",\"gas_co2\",\"land_use_change_co2\",\"oil_co2\"],\"xaxis\":\"x\",\"y\":[45066.924999999996,798551.93,18454.288,254057.81900000002,729762.293,605476.731],\"yaxis\":\"y\",\"type\":\"bar\"}],                        {\"template\":{\"data\":{\"histogram2dcontour\":[{\"type\":\"histogram2dcontour\",\"colorbar\":{\"outlinewidth\":0,\"ticks\":\"\"},\"colorscale\":[[0.0,\"#0d0887\"],[0.1111111111111111,\"#46039f\"],[0.2222222222222222,\"#7201a8\"],[0.3333333333333333,\"#9c179e\"],[0.4444444444444444,\"#bd3786\"],[0.5555555555555556,\"#d8576b\"],[0.6666666666666666,\"#ed7953\"],[0.7777777777777778,\"#fb9f3a\"],[0.8888888888888888,\"#fdca26\"],[1.0,\"#f0f921\"]]}],\"choropleth\":[{\"type\":\"choropleth\",\"colorbar\":{\"outlinewidth\":0,\"ticks\":\"\"}}],\"histogram2d\":[{\"type\":\"histogram2d\",\"colorbar\":{\"outlinewidth\":0,\"ticks\":\"\"},\"colorscale\":[[0.0,\"#0d0887\"],[0.1111111111111111,\"#46039f\"],[0.2222222222222222,\"#7201a8\"],[0.3333333333333333,\"#9c179e\"],[0.4444444444444444,\"#bd3786\"],[0.5555555555555556,\"#d8576b\"],[0.6666666666666666,\"#ed7953\"],[0.7777777777777778,\"#fb9f3a\"],[0.8888888888888888,\"#fdca26\"],[1.0,\"#f0f921\"]]}],\"heatmap\":[{\"type\":\"heatmap\",\"colorbar\":{\"outlinewidth\":0,\"ticks\":\"\"},\"colorscale\":[[0.0,\"#0d0887\"],[0.1111111111111111,\"#46039f\"],[0.2222222222222222,\"#7201a8\"],[0.3333333333333333,\"#9c179e\"],[0.4444444444444444,\"#bd3786\"],[0.5555555555555556,\"#d8576b\"],[0.6666666666666666,\"#ed7953\"],[0.7777777777777778,\"#fb9f3a\"],[0.8888888888888888,\"#fdca26\"],[1.0,\"#f0f921\"]]}],\"heatmapgl\":[{\"type\":\"heatmapgl\",\"colorbar\":{\"outlinewidth\":0,\"ticks\":\"\"},\"colorscale\":[[0.0,\"#0d0887\"],[0.1111111111111111,\"#46039f\"],[0.2222222222222222,\"#7201a8\"],[0.3333333333333333,\"#9c179e\"],[0.4444444444444444,\"#bd3786\"],[0.5555555555555556,\"#d8576b\"],[0.6666666666666666,\"#ed7953\"],[0.7777777777777778,\"#fb9f3a\"],[0.8888888888888888,\"#fdca26\"],[1.0,\"#f0f921\"]]}],\"contourcarpet\":[{\"type\":\"contourcarpet\",\"colorbar\":{\"outlinewidth\":0,\"ticks\":\"\"}}],\"contour\":[{\"type\":\"contour\",\"colorbar\":{\"outlinewidth\":0,\"ticks\":\"\"},\"colorscale\":[[0.0,\"#0d0887\"],[0.1111111111111111,\"#46039f\"],[0.2222222222222222,\"#7201a8\"],[0.3333333333333333,\"#9c179e\"],[0.4444444444444444,\"#bd3786\"],[0.5555555555555556,\"#d8576b\"],[0.6666666666666666,\"#ed7953\"],[0.7777777777777778,\"#fb9f3a\"],[0.8888888888888888,\"#fdca26\"],[1.0,\"#f0f921\"]]}],\"surface\":[{\"type\":\"surface\",\"colorbar\":{\"outlinewidth\":0,\"ticks\":\"\"},\"colorscale\":[[0.0,\"#0d0887\"],[0.1111111111111111,\"#46039f\"],[0.2222222222222222,\"#7201a8\"],[0.3333333333333333,\"#9c179e\"],[0.4444444444444444,\"#bd3786\"],[0.5555555555555556,\"#d8576b\"],[0.6666666666666666,\"#ed7953\"],[0.7777777777777778,\"#fb9f3a\"],[0.8888888888888888,\"#fdca26\"],[1.0,\"#f0f921\"]]}],\"mesh3d\":[{\"type\":\"mesh3d\",\"colorbar\":{\"outlinewidth\":0,\"ticks\":\"\"}}],\"scatter\":[{\"fillpattern\":{\"fillmode\":\"overlay\",\"size\":10,\"solidity\":0.2},\"type\":\"scatter\"}],\"parcoords\":[{\"type\":\"parcoords\",\"line\":{\"colorbar\":{\"outlinewidth\":0,\"ticks\":\"\"}}}],\"scatterpolargl\":[{\"type\":\"scatterpolargl\",\"marker\":{\"colorbar\":{\"outlinewidth\":0,\"ticks\":\"\"}}}],\"bar\":[{\"error_x\":{\"color\":\"#2a3f5f\"},\"error_y\":{\"color\":\"#2a3f5f\"},\"marker\":{\"line\":{\"color\":\"#E5ECF6\",\"width\":0.5},\"pattern\":{\"fillmode\":\"overlay\",\"size\":10,\"solidity\":0.2}},\"type\":\"bar\"}],\"scattergeo\":[{\"type\":\"scattergeo\",\"marker\":{\"colorbar\":{\"outlinewidth\":0,\"ticks\":\"\"}}}],\"scatterpolar\":[{\"type\":\"scatterpolar\",\"marker\":{\"colorbar\":{\"outlinewidth\":0,\"ticks\":\"\"}}}],\"histogram\":[{\"marker\":{\"pattern\":{\"fillmode\":\"overlay\",\"size\":10,\"solidity\":0.2}},\"type\":\"histogram\"}],\"scattergl\":[{\"type\":\"scattergl\",\"marker\":{\"colorbar\":{\"outlinewidth\":0,\"ticks\":\"\"}}}],\"scatter3d\":[{\"type\":\"scatter3d\",\"line\":{\"colorbar\":{\"outlinewidth\":0,\"ticks\":\"\"}},\"marker\":{\"colorbar\":{\"outlinewidth\":0,\"ticks\":\"\"}}}],\"scattermapbox\":[{\"type\":\"scattermapbox\",\"marker\":{\"colorbar\":{\"outlinewidth\":0,\"ticks\":\"\"}}}],\"scatterternary\":[{\"type\":\"scatterternary\",\"marker\":{\"colorbar\":{\"outlinewidth\":0,\"ticks\":\"\"}}}],\"scattercarpet\":[{\"type\":\"scattercarpet\",\"marker\":{\"colorbar\":{\"outlinewidth\":0,\"ticks\":\"\"}}}],\"carpet\":[{\"aaxis\":{\"endlinecolor\":\"#2a3f5f\",\"gridcolor\":\"white\",\"linecolor\":\"white\",\"minorgridcolor\":\"white\",\"startlinecolor\":\"#2a3f5f\"},\"baxis\":{\"endlinecolor\":\"#2a3f5f\",\"gridcolor\":\"white\",\"linecolor\":\"white\",\"minorgridcolor\":\"white\",\"startlinecolor\":\"#2a3f5f\"},\"type\":\"carpet\"}],\"table\":[{\"cells\":{\"fill\":{\"color\":\"#EBF0F8\"},\"line\":{\"color\":\"white\"}},\"header\":{\"fill\":{\"color\":\"#C8D4E3\"},\"line\":{\"color\":\"white\"}},\"type\":\"table\"}],\"barpolar\":[{\"marker\":{\"line\":{\"color\":\"#E5ECF6\",\"width\":0.5},\"pattern\":{\"fillmode\":\"overlay\",\"size\":10,\"solidity\":0.2}},\"type\":\"barpolar\"}],\"pie\":[{\"automargin\":true,\"type\":\"pie\"}]},\"layout\":{\"autotypenumbers\":\"strict\",\"colorway\":[\"#636efa\",\"#EF553B\",\"#00cc96\",\"#ab63fa\",\"#FFA15A\",\"#19d3f3\",\"#FF6692\",\"#B6E880\",\"#FF97FF\",\"#FECB52\"],\"font\":{\"color\":\"#2a3f5f\"},\"hovermode\":\"closest\",\"hoverlabel\":{\"align\":\"left\"},\"paper_bgcolor\":\"white\",\"plot_bgcolor\":\"#E5ECF6\",\"polar\":{\"bgcolor\":\"#E5ECF6\",\"angularaxis\":{\"gridcolor\":\"white\",\"linecolor\":\"white\",\"ticks\":\"\"},\"radialaxis\":{\"gridcolor\":\"white\",\"linecolor\":\"white\",\"ticks\":\"\"}},\"ternary\":{\"bgcolor\":\"#E5ECF6\",\"aaxis\":{\"gridcolor\":\"white\",\"linecolor\":\"white\",\"ticks\":\"\"},\"baxis\":{\"gridcolor\":\"white\",\"linecolor\":\"white\",\"ticks\":\"\"},\"caxis\":{\"gridcolor\":\"white\",\"linecolor\":\"white\",\"ticks\":\"\"}},\"coloraxis\":{\"colorbar\":{\"outlinewidth\":0,\"ticks\":\"\"}},\"colorscale\":{\"sequential\":[[0.0,\"#0d0887\"],[0.1111111111111111,\"#46039f\"],[0.2222222222222222,\"#7201a8\"],[0.3333333333333333,\"#9c179e\"],[0.4444444444444444,\"#bd3786\"],[0.5555555555555556,\"#d8576b\"],[0.6666666666666666,\"#ed7953\"],[0.7777777777777778,\"#fb9f3a\"],[0.8888888888888888,\"#fdca26\"],[1.0,\"#f0f921\"]],\"sequentialminus\":[[0.0,\"#0d0887\"],[0.1111111111111111,\"#46039f\"],[0.2222222222222222,\"#7201a8\"],[0.3333333333333333,\"#9c179e\"],[0.4444444444444444,\"#bd3786\"],[0.5555555555555556,\"#d8576b\"],[0.6666666666666666,\"#ed7953\"],[0.7777777777777778,\"#fb9f3a\"],[0.8888888888888888,\"#fdca26\"],[1.0,\"#f0f921\"]],\"diverging\":[[0,\"#8e0152\"],[0.1,\"#c51b7d\"],[0.2,\"#de77ae\"],[0.3,\"#f1b6da\"],[0.4,\"#fde0ef\"],[0.5,\"#f7f7f7\"],[0.6,\"#e6f5d0\"],[0.7,\"#b8e186\"],[0.8,\"#7fbc41\"],[0.9,\"#4d9221\"],[1,\"#276419\"]]},\"xaxis\":{\"gridcolor\":\"white\",\"linecolor\":\"white\",\"ticks\":\"\",\"title\":{\"standoff\":15},\"zerolinecolor\":\"white\",\"automargin\":true,\"zerolinewidth\":2},\"yaxis\":{\"gridcolor\":\"white\",\"linecolor\":\"white\",\"ticks\":\"\",\"title\":{\"standoff\":15},\"zerolinecolor\":\"white\",\"automargin\":true,\"zerolinewidth\":2},\"scene\":{\"xaxis\":{\"backgroundcolor\":\"#E5ECF6\",\"gridcolor\":\"white\",\"linecolor\":\"white\",\"showbackground\":true,\"ticks\":\"\",\"zerolinecolor\":\"white\",\"gridwidth\":2},\"yaxis\":{\"backgroundcolor\":\"#E5ECF6\",\"gridcolor\":\"white\",\"linecolor\":\"white\",\"showbackground\":true,\"ticks\":\"\",\"zerolinecolor\":\"white\",\"gridwidth\":2},\"zaxis\":{\"backgroundcolor\":\"#E5ECF6\",\"gridcolor\":\"white\",\"linecolor\":\"white\",\"showbackground\":true,\"ticks\":\"\",\"zerolinecolor\":\"white\",\"gridwidth\":2}},\"shapedefaults\":{\"line\":{\"color\":\"#2a3f5f\"}},\"annotationdefaults\":{\"arrowcolor\":\"#2a3f5f\",\"arrowhead\":0,\"arrowwidth\":1},\"geo\":{\"bgcolor\":\"white\",\"landcolor\":\"#E5ECF6\",\"subunitcolor\":\"white\",\"showland\":true,\"showlakes\":true,\"lakecolor\":\"white\"},\"title\":{\"x\":0.05},\"mapbox\":{\"style\":\"light\"}}},\"xaxis\":{\"anchor\":\"y\",\"domain\":[0.0,1.0],\"title\":{\"text\":\"Categor\\u00eda\"}},\"yaxis\":{\"anchor\":\"x\",\"domain\":[0.0,1.0],\"title\":{\"text\":\"Emisiones (toneladas)\"}},\"coloraxis\":{\"colorbar\":{\"title\":{\"text\":\"Emisiones (toneladas)\"}},\"colorscale\":[[0.0,\"#440154\"],[0.1111111111111111,\"#482878\"],[0.2222222222222222,\"#3e4989\"],[0.3333333333333333,\"#31688e\"],[0.4444444444444444,\"#26828e\"],[0.5555555555555556,\"#1f9e89\"],[0.6666666666666666,\"#35b779\"],[0.7777777777777778,\"#6ece58\"],[0.8888888888888888,\"#b5de2b\"],[1.0,\"#fde725\"]]},\"legend\":{\"tracegroupgap\":0},\"title\":{\"text\":\"Emisiones de CO2 por Categor\\u00eda\"},\"barmode\":\"relative\"},                        {\"responsive\": true}                    ).then(function(){\n",
       "                            \n",
       "var gd = document.getElementById('8238ce8e-123a-4f8a-8391-45411d597df1');\n",
       "var x = new MutationObserver(function (mutations, observer) {{\n",
       "        var display = window.getComputedStyle(gd).display;\n",
       "        if (!display || display === 'none') {{\n",
       "            console.log([gd, 'removed!']);\n",
       "            Plotly.purge(gd);\n",
       "            observer.disconnect();\n",
       "        }}\n",
       "}});\n",
       "\n",
       "// Listen for the removal of the full notebook cells\n",
       "var notebookContainer = gd.closest('#notebook-container');\n",
       "if (notebookContainer) {{\n",
       "    x.observe(notebookContainer, {childList: true});\n",
       "}}\n",
       "\n",
       "// Listen for the clearing of the current output cell\n",
       "var outputEl = gd.closest('.output');\n",
       "if (outputEl) {{\n",
       "    x.observe(outputEl, {childList: true});\n",
       "}}\n",
       "\n",
       "                        })                };                });            </script>        </div>"
      ]
     },
     "metadata": {},
     "output_type": "display_data"
    }
   ],
   "source": [
    "df_bar = df_emission_source[emission_source_columns].sum().reset_index()\n",
    "\n",
    "\n",
    "\n",
    "#renombramos columnas\n",
    "df_bar.columns = ['category', 'value'] \n",
    "\n",
    "\n",
    "\n",
    "fig = px.bar(df_bar, x='category', y='value',\n",
    "             title='Emisiones de CO2 por Categoría',\n",
    "             labels={'value': 'Emisiones (toneladas)', 'category': 'Categoría'},\n",
    "             color='value', \n",
    "             color_continuous_scale=px.colors.sequential.Viridis)\n",
    "\n",
    "# Mostrar el gráfico\n",
    "fig.show()"
   ]
  },
  {
   "cell_type": "markdown",
   "id": "2242939d-fe72-41a2-8459-ab813416ce22",
   "metadata": {},
   "source": [
    "### contribución últimos 10 años"
   ]
  },
  {
   "cell_type": "code",
   "execution_count": 122,
   "id": "00f52ac6-2581-40a0-8954-4fa341f39d02",
   "metadata": {},
   "outputs": [
    {
     "data": {
      "application/vnd.plotly.v1+json": {
       "config": {
        "plotlyServerURL": "https://plot.ly"
       },
       "data": [
        {
         "alignmentgroup": "True",
         "hovertemplate": "Categoría=%{x}<br>Emisiones (toneladas)=%{marker.color}<extra></extra>",
         "legendgroup": "",
         "marker": {
          "color": [
           17870.076,
           175867.14400000003,
           4737.1089999999995,
           83822.068,
           55155.53600000001,
           141431.66700000002
          ],
          "coloraxis": "coloraxis",
          "pattern": {
           "shape": ""
          }
         },
         "name": "",
         "offsetgroup": "",
         "orientation": "v",
         "showlegend": false,
         "textposition": "auto",
         "type": "bar",
         "x": [
          "cement_co2",
          "coal_co2",
          "flaring_co2",
          "gas_co2",
          "land_use_change_co2",
          "oil_co2"
         ],
         "xaxis": "x",
         "y": [
          17870.076,
          175867.14400000003,
          4737.1089999999995,
          83822.068,
          55155.53600000001,
          141431.66700000002
         ],
         "yaxis": "y"
        }
       ],
       "layout": {
        "autosize": true,
        "barmode": "relative",
        "coloraxis": {
         "colorbar": {
          "title": {
           "text": "Emisiones (toneladas)"
          }
         },
         "colorscale": [
          [
           0,
           "#440154"
          ],
          [
           0.1111111111111111,
           "#482878"
          ],
          [
           0.2222222222222222,
           "#3e4989"
          ],
          [
           0.3333333333333333,
           "#31688e"
          ],
          [
           0.4444444444444444,
           "#26828e"
          ],
          [
           0.5555555555555556,
           "#1f9e89"
          ],
          [
           0.6666666666666666,
           "#35b779"
          ],
          [
           0.7777777777777778,
           "#6ece58"
          ],
          [
           0.8888888888888888,
           "#b5de2b"
          ],
          [
           1,
           "#fde725"
          ]
         ]
        },
        "legend": {
         "tracegroupgap": 0
        },
        "template": {
         "data": {
          "bar": [
           {
            "error_x": {
             "color": "#2a3f5f"
            },
            "error_y": {
             "color": "#2a3f5f"
            },
            "marker": {
             "line": {
              "color": "#E5ECF6",
              "width": 0.5
             },
             "pattern": {
              "fillmode": "overlay",
              "size": 10,
              "solidity": 0.2
             }
            },
            "type": "bar"
           }
          ],
          "barpolar": [
           {
            "marker": {
             "line": {
              "color": "#E5ECF6",
              "width": 0.5
             },
             "pattern": {
              "fillmode": "overlay",
              "size": 10,
              "solidity": 0.2
             }
            },
            "type": "barpolar"
           }
          ],
          "carpet": [
           {
            "aaxis": {
             "endlinecolor": "#2a3f5f",
             "gridcolor": "white",
             "linecolor": "white",
             "minorgridcolor": "white",
             "startlinecolor": "#2a3f5f"
            },
            "baxis": {
             "endlinecolor": "#2a3f5f",
             "gridcolor": "white",
             "linecolor": "white",
             "minorgridcolor": "white",
             "startlinecolor": "#2a3f5f"
            },
            "type": "carpet"
           }
          ],
          "choropleth": [
           {
            "colorbar": {
             "outlinewidth": 0,
             "ticks": ""
            },
            "type": "choropleth"
           }
          ],
          "contour": [
           {
            "colorbar": {
             "outlinewidth": 0,
             "ticks": ""
            },
            "colorscale": [
             [
              0,
              "#0d0887"
             ],
             [
              0.1111111111111111,
              "#46039f"
             ],
             [
              0.2222222222222222,
              "#7201a8"
             ],
             [
              0.3333333333333333,
              "#9c179e"
             ],
             [
              0.4444444444444444,
              "#bd3786"
             ],
             [
              0.5555555555555556,
              "#d8576b"
             ],
             [
              0.6666666666666666,
              "#ed7953"
             ],
             [
              0.7777777777777778,
              "#fb9f3a"
             ],
             [
              0.8888888888888888,
              "#fdca26"
             ],
             [
              1,
              "#f0f921"
             ]
            ],
            "type": "contour"
           }
          ],
          "contourcarpet": [
           {
            "colorbar": {
             "outlinewidth": 0,
             "ticks": ""
            },
            "type": "contourcarpet"
           }
          ],
          "heatmap": [
           {
            "colorbar": {
             "outlinewidth": 0,
             "ticks": ""
            },
            "colorscale": [
             [
              0,
              "#0d0887"
             ],
             [
              0.1111111111111111,
              "#46039f"
             ],
             [
              0.2222222222222222,
              "#7201a8"
             ],
             [
              0.3333333333333333,
              "#9c179e"
             ],
             [
              0.4444444444444444,
              "#bd3786"
             ],
             [
              0.5555555555555556,
              "#d8576b"
             ],
             [
              0.6666666666666666,
              "#ed7953"
             ],
             [
              0.7777777777777778,
              "#fb9f3a"
             ],
             [
              0.8888888888888888,
              "#fdca26"
             ],
             [
              1,
              "#f0f921"
             ]
            ],
            "type": "heatmap"
           }
          ],
          "heatmapgl": [
           {
            "colorbar": {
             "outlinewidth": 0,
             "ticks": ""
            },
            "colorscale": [
             [
              0,
              "#0d0887"
             ],
             [
              0.1111111111111111,
              "#46039f"
             ],
             [
              0.2222222222222222,
              "#7201a8"
             ],
             [
              0.3333333333333333,
              "#9c179e"
             ],
             [
              0.4444444444444444,
              "#bd3786"
             ],
             [
              0.5555555555555556,
              "#d8576b"
             ],
             [
              0.6666666666666666,
              "#ed7953"
             ],
             [
              0.7777777777777778,
              "#fb9f3a"
             ],
             [
              0.8888888888888888,
              "#fdca26"
             ],
             [
              1,
              "#f0f921"
             ]
            ],
            "type": "heatmapgl"
           }
          ],
          "histogram": [
           {
            "marker": {
             "pattern": {
              "fillmode": "overlay",
              "size": 10,
              "solidity": 0.2
             }
            },
            "type": "histogram"
           }
          ],
          "histogram2d": [
           {
            "colorbar": {
             "outlinewidth": 0,
             "ticks": ""
            },
            "colorscale": [
             [
              0,
              "#0d0887"
             ],
             [
              0.1111111111111111,
              "#46039f"
             ],
             [
              0.2222222222222222,
              "#7201a8"
             ],
             [
              0.3333333333333333,
              "#9c179e"
             ],
             [
              0.4444444444444444,
              "#bd3786"
             ],
             [
              0.5555555555555556,
              "#d8576b"
             ],
             [
              0.6666666666666666,
              "#ed7953"
             ],
             [
              0.7777777777777778,
              "#fb9f3a"
             ],
             [
              0.8888888888888888,
              "#fdca26"
             ],
             [
              1,
              "#f0f921"
             ]
            ],
            "type": "histogram2d"
           }
          ],
          "histogram2dcontour": [
           {
            "colorbar": {
             "outlinewidth": 0,
             "ticks": ""
            },
            "colorscale": [
             [
              0,
              "#0d0887"
             ],
             [
              0.1111111111111111,
              "#46039f"
             ],
             [
              0.2222222222222222,
              "#7201a8"
             ],
             [
              0.3333333333333333,
              "#9c179e"
             ],
             [
              0.4444444444444444,
              "#bd3786"
             ],
             [
              0.5555555555555556,
              "#d8576b"
             ],
             [
              0.6666666666666666,
              "#ed7953"
             ],
             [
              0.7777777777777778,
              "#fb9f3a"
             ],
             [
              0.8888888888888888,
              "#fdca26"
             ],
             [
              1,
              "#f0f921"
             ]
            ],
            "type": "histogram2dcontour"
           }
          ],
          "mesh3d": [
           {
            "colorbar": {
             "outlinewidth": 0,
             "ticks": ""
            },
            "type": "mesh3d"
           }
          ],
          "parcoords": [
           {
            "line": {
             "colorbar": {
              "outlinewidth": 0,
              "ticks": ""
             }
            },
            "type": "parcoords"
           }
          ],
          "pie": [
           {
            "automargin": true,
            "type": "pie"
           }
          ],
          "scatter": [
           {
            "fillpattern": {
             "fillmode": "overlay",
             "size": 10,
             "solidity": 0.2
            },
            "type": "scatter"
           }
          ],
          "scatter3d": [
           {
            "line": {
             "colorbar": {
              "outlinewidth": 0,
              "ticks": ""
             }
            },
            "marker": {
             "colorbar": {
              "outlinewidth": 0,
              "ticks": ""
             }
            },
            "type": "scatter3d"
           }
          ],
          "scattercarpet": [
           {
            "marker": {
             "colorbar": {
              "outlinewidth": 0,
              "ticks": ""
             }
            },
            "type": "scattercarpet"
           }
          ],
          "scattergeo": [
           {
            "marker": {
             "colorbar": {
              "outlinewidth": 0,
              "ticks": ""
             }
            },
            "type": "scattergeo"
           }
          ],
          "scattergl": [
           {
            "marker": {
             "colorbar": {
              "outlinewidth": 0,
              "ticks": ""
             }
            },
            "type": "scattergl"
           }
          ],
          "scattermapbox": [
           {
            "marker": {
             "colorbar": {
              "outlinewidth": 0,
              "ticks": ""
             }
            },
            "type": "scattermapbox"
           }
          ],
          "scatterpolar": [
           {
            "marker": {
             "colorbar": {
              "outlinewidth": 0,
              "ticks": ""
             }
            },
            "type": "scatterpolar"
           }
          ],
          "scatterpolargl": [
           {
            "marker": {
             "colorbar": {
              "outlinewidth": 0,
              "ticks": ""
             }
            },
            "type": "scatterpolargl"
           }
          ],
          "scatterternary": [
           {
            "marker": {
             "colorbar": {
              "outlinewidth": 0,
              "ticks": ""
             }
            },
            "type": "scatterternary"
           }
          ],
          "surface": [
           {
            "colorbar": {
             "outlinewidth": 0,
             "ticks": ""
            },
            "colorscale": [
             [
              0,
              "#0d0887"
             ],
             [
              0.1111111111111111,
              "#46039f"
             ],
             [
              0.2222222222222222,
              "#7201a8"
             ],
             [
              0.3333333333333333,
              "#9c179e"
             ],
             [
              0.4444444444444444,
              "#bd3786"
             ],
             [
              0.5555555555555556,
              "#d8576b"
             ],
             [
              0.6666666666666666,
              "#ed7953"
             ],
             [
              0.7777777777777778,
              "#fb9f3a"
             ],
             [
              0.8888888888888888,
              "#fdca26"
             ],
             [
              1,
              "#f0f921"
             ]
            ],
            "type": "surface"
           }
          ],
          "table": [
           {
            "cells": {
             "fill": {
              "color": "#EBF0F8"
             },
             "line": {
              "color": "white"
             }
            },
            "header": {
             "fill": {
              "color": "#C8D4E3"
             },
             "line": {
              "color": "white"
             }
            },
            "type": "table"
           }
          ]
         },
         "layout": {
          "annotationdefaults": {
           "arrowcolor": "#2a3f5f",
           "arrowhead": 0,
           "arrowwidth": 1
          },
          "autotypenumbers": "strict",
          "coloraxis": {
           "colorbar": {
            "outlinewidth": 0,
            "ticks": ""
           }
          },
          "colorscale": {
           "diverging": [
            [
             0,
             "#8e0152"
            ],
            [
             0.1,
             "#c51b7d"
            ],
            [
             0.2,
             "#de77ae"
            ],
            [
             0.3,
             "#f1b6da"
            ],
            [
             0.4,
             "#fde0ef"
            ],
            [
             0.5,
             "#f7f7f7"
            ],
            [
             0.6,
             "#e6f5d0"
            ],
            [
             0.7,
             "#b8e186"
            ],
            [
             0.8,
             "#7fbc41"
            ],
            [
             0.9,
             "#4d9221"
            ],
            [
             1,
             "#276419"
            ]
           ],
           "sequential": [
            [
             0,
             "#0d0887"
            ],
            [
             0.1111111111111111,
             "#46039f"
            ],
            [
             0.2222222222222222,
             "#7201a8"
            ],
            [
             0.3333333333333333,
             "#9c179e"
            ],
            [
             0.4444444444444444,
             "#bd3786"
            ],
            [
             0.5555555555555556,
             "#d8576b"
            ],
            [
             0.6666666666666666,
             "#ed7953"
            ],
            [
             0.7777777777777778,
             "#fb9f3a"
            ],
            [
             0.8888888888888888,
             "#fdca26"
            ],
            [
             1,
             "#f0f921"
            ]
           ],
           "sequentialminus": [
            [
             0,
             "#0d0887"
            ],
            [
             0.1111111111111111,
             "#46039f"
            ],
            [
             0.2222222222222222,
             "#7201a8"
            ],
            [
             0.3333333333333333,
             "#9c179e"
            ],
            [
             0.4444444444444444,
             "#bd3786"
            ],
            [
             0.5555555555555556,
             "#d8576b"
            ],
            [
             0.6666666666666666,
             "#ed7953"
            ],
            [
             0.7777777777777778,
             "#fb9f3a"
            ],
            [
             0.8888888888888888,
             "#fdca26"
            ],
            [
             1,
             "#f0f921"
            ]
           ]
          },
          "colorway": [
           "#636efa",
           "#EF553B",
           "#00cc96",
           "#ab63fa",
           "#FFA15A",
           "#19d3f3",
           "#FF6692",
           "#B6E880",
           "#FF97FF",
           "#FECB52"
          ],
          "font": {
           "color": "#2a3f5f"
          },
          "geo": {
           "bgcolor": "white",
           "lakecolor": "white",
           "landcolor": "#E5ECF6",
           "showlakes": true,
           "showland": true,
           "subunitcolor": "white"
          },
          "hoverlabel": {
           "align": "left"
          },
          "hovermode": "closest",
          "mapbox": {
           "style": "light"
          },
          "paper_bgcolor": "white",
          "plot_bgcolor": "#E5ECF6",
          "polar": {
           "angularaxis": {
            "gridcolor": "white",
            "linecolor": "white",
            "ticks": ""
           },
           "bgcolor": "#E5ECF6",
           "radialaxis": {
            "gridcolor": "white",
            "linecolor": "white",
            "ticks": ""
           }
          },
          "scene": {
           "xaxis": {
            "backgroundcolor": "#E5ECF6",
            "gridcolor": "white",
            "gridwidth": 2,
            "linecolor": "white",
            "showbackground": true,
            "ticks": "",
            "zerolinecolor": "white"
           },
           "yaxis": {
            "backgroundcolor": "#E5ECF6",
            "gridcolor": "white",
            "gridwidth": 2,
            "linecolor": "white",
            "showbackground": true,
            "ticks": "",
            "zerolinecolor": "white"
           },
           "zaxis": {
            "backgroundcolor": "#E5ECF6",
            "gridcolor": "white",
            "gridwidth": 2,
            "linecolor": "white",
            "showbackground": true,
            "ticks": "",
            "zerolinecolor": "white"
           }
          },
          "shapedefaults": {
           "line": {
            "color": "#2a3f5f"
           }
          },
          "ternary": {
           "aaxis": {
            "gridcolor": "white",
            "linecolor": "white",
            "ticks": ""
           },
           "baxis": {
            "gridcolor": "white",
            "linecolor": "white",
            "ticks": ""
           },
           "bgcolor": "#E5ECF6",
           "caxis": {
            "gridcolor": "white",
            "linecolor": "white",
            "ticks": ""
           }
          },
          "title": {
           "x": 0.05
          },
          "xaxis": {
           "automargin": true,
           "gridcolor": "white",
           "linecolor": "white",
           "ticks": "",
           "title": {
            "standoff": 15
           },
           "zerolinecolor": "white",
           "zerolinewidth": 2
          },
          "yaxis": {
           "automargin": true,
           "gridcolor": "white",
           "linecolor": "white",
           "ticks": "",
           "title": {
            "standoff": 15
           },
           "zerolinecolor": "white",
           "zerolinewidth": 2
          }
         }
        },
        "title": {
         "text": "Emisiones de CO2 por Categoría"
        },
        "xaxis": {
         "anchor": "y",
         "autorange": true,
         "domain": [
          0,
          1
         ],
         "range": [
          -0.5,
          5.5
         ],
         "title": {
          "text": "Categoría"
         },
         "type": "category"
        },
        "yaxis": {
         "anchor": "x",
         "autorange": true,
         "domain": [
          0,
          1
         ],
         "range": [
          0,
          185123.30947368423
         ],
         "title": {
          "text": "Emisiones (toneladas)"
         },
         "type": "linear"
        }
       }
      },
      "image/png": "[encoded data removed]",
      "text/html": [
       "<div>                            <div id=\"b90568a7-70f9-42eb-9908-38805e28dac1\" class=\"plotly-graph-div\" style=\"height:525px; width:100%;\"></div>            <script type=\"text/javascript\">                require([\"plotly\"], function(Plotly) {                    window.PLOTLYENV=window.PLOTLYENV || {};                                    if (document.getElementById(\"b90568a7-70f9-42eb-9908-38805e28dac1\")) {                    Plotly.newPlot(                        \"b90568a7-70f9-42eb-9908-38805e28dac1\",                        [{\"alignmentgroup\":\"True\",\"hovertemplate\":\"Categor\\u00eda=%{x}\\u003cbr\\u003eEmisiones (toneladas)=%{marker.color}\\u003cextra\\u003e\\u003c\\u002fextra\\u003e\",\"legendgroup\":\"\",\"marker\":{\"color\":[17870.076,175867.14400000003,4737.1089999999995,83822.068,55155.53600000001,141431.66700000002],\"coloraxis\":\"coloraxis\",\"pattern\":{\"shape\":\"\"}},\"name\":\"\",\"offsetgroup\":\"\",\"orientation\":\"v\",\"showlegend\":false,\"textposition\":\"auto\",\"x\":[\"cement_co2\",\"coal_co2\",\"flaring_co2\",\"gas_co2\",\"land_use_change_co2\",\"oil_co2\"],\"xaxis\":\"x\",\"y\":[17870.076,175867.14400000003,4737.1089999999995,83822.068,55155.53600000001,141431.66700000002],\"yaxis\":\"y\",\"type\":\"bar\"}],                        {\"template\":{\"data\":{\"histogram2dcontour\":[{\"type\":\"histogram2dcontour\",\"colorbar\":{\"outlinewidth\":0,\"ticks\":\"\"},\"colorscale\":[[0.0,\"#0d0887\"],[0.1111111111111111,\"#46039f\"],[0.2222222222222222,\"#7201a8\"],[0.3333333333333333,\"#9c179e\"],[0.4444444444444444,\"#bd3786\"],[0.5555555555555556,\"#d8576b\"],[0.6666666666666666,\"#ed7953\"],[0.7777777777777778,\"#fb9f3a\"],[0.8888888888888888,\"#fdca26\"],[1.0,\"#f0f921\"]]}],\"choropleth\":[{\"type\":\"choropleth\",\"colorbar\":{\"outlinewidth\":0,\"ticks\":\"\"}}],\"histogram2d\":[{\"type\":\"histogram2d\",\"colorbar\":{\"outlinewidth\":0,\"ticks\":\"\"},\"colorscale\":[[0.0,\"#0d0887\"],[0.1111111111111111,\"#46039f\"],[0.2222222222222222,\"#7201a8\"],[0.3333333333333333,\"#9c179e\"],[0.4444444444444444,\"#bd3786\"],[0.5555555555555556,\"#d8576b\"],[0.6666666666666666,\"#ed7953\"],[0.7777777777777778,\"#fb9f3a\"],[0.8888888888888888,\"#fdca26\"],[1.0,\"#f0f921\"]]}],\"heatmap\":[{\"type\":\"heatmap\",\"colorbar\":{\"outlinewidth\":0,\"ticks\":\"\"},\"colorscale\":[[0.0,\"#0d0887\"],[0.1111111111111111,\"#46039f\"],[0.2222222222222222,\"#7201a8\"],[0.3333333333333333,\"#9c179e\"],[0.4444444444444444,\"#bd3786\"],[0.5555555555555556,\"#d8576b\"],[0.6666666666666666,\"#ed7953\"],[0.7777777777777778,\"#fb9f3a\"],[0.8888888888888888,\"#fdca26\"],[1.0,\"#f0f921\"]]}],\"heatmapgl\":[{\"type\":\"heatmapgl\",\"colorbar\":{\"outlinewidth\":0,\"ticks\":\"\"},\"colorscale\":[[0.0,\"#0d0887\"],[0.1111111111111111,\"#46039f\"],[0.2222222222222222,\"#7201a8\"],[0.3333333333333333,\"#9c179e\"],[0.4444444444444444,\"#bd3786\"],[0.5555555555555556,\"#d8576b\"],[0.6666666666666666,\"#ed7953\"],[0.7777777777777778,\"#fb9f3a\"],[0.8888888888888888,\"#fdca26\"],[1.0,\"#f0f921\"]]}],\"contourcarpet\":[{\"type\":\"contourcarpet\",\"colorbar\":{\"outlinewidth\":0,\"ticks\":\"\"}}],\"contour\":[{\"type\":\"contour\",\"colorbar\":{\"outlinewidth\":0,\"ticks\":\"\"},\"colorscale\":[[0.0,\"#0d0887\"],[0.1111111111111111,\"#46039f\"],[0.2222222222222222,\"#7201a8\"],[0.3333333333333333,\"#9c179e\"],[0.4444444444444444,\"#bd3786\"],[0.5555555555555556,\"#d8576b\"],[0.6666666666666666,\"#ed7953\"],[0.7777777777777778,\"#fb9f3a\"],[0.8888888888888888,\"#fdca26\"],[1.0,\"#f0f921\"]]}],\"surface\":[{\"type\":\"surface\",\"colorbar\":{\"outlinewidth\":0,\"ticks\":\"\"},\"colorscale\":[[0.0,\"#0d0887\"],[0.1111111111111111,\"#46039f\"],[0.2222222222222222,\"#7201a8\"],[0.3333333333333333,\"#9c179e\"],[0.4444444444444444,\"#bd3786\"],[0.5555555555555556,\"#d8576b\"],[0.6666666666666666,\"#ed7953\"],[0.7777777777777778,\"#fb9f3a\"],[0.8888888888888888,\"#fdca26\"],[1.0,\"#f0f921\"]]}],\"mesh3d\":[{\"type\":\"mesh3d\",\"colorbar\":{\"outlinewidth\":0,\"ticks\":\"\"}}],\"scatter\":[{\"fillpattern\":{\"fillmode\":\"overlay\",\"size\":10,\"solidity\":0.2},\"type\":\"scatter\"}],\"parcoords\":[{\"type\":\"parcoords\",\"line\":{\"colorbar\":{\"outlinewidth\":0,\"ticks\":\"\"}}}],\"scatterpolargl\":[{\"type\":\"scatterpolargl\",\"marker\":{\"colorbar\":{\"outlinewidth\":0,\"ticks\":\"\"}}}],\"bar\":[{\"error_x\":{\"color\":\"#2a3f5f\"},\"error_y\":{\"color\":\"#2a3f5f\"},\"marker\":{\"line\":{\"color\":\"#E5ECF6\",\"width\":0.5},\"pattern\":{\"fillmode\":\"overlay\",\"size\":10,\"solidity\":0.2}},\"type\":\"bar\"}],\"scattergeo\":[{\"type\":\"scattergeo\",\"marker\":{\"colorbar\":{\"outlinewidth\":0,\"ticks\":\"\"}}}],\"scatterpolar\":[{\"type\":\"scatterpolar\",\"marker\":{\"colorbar\":{\"outlinewidth\":0,\"ticks\":\"\"}}}],\"histogram\":[{\"marker\":{\"pattern\":{\"fillmode\":\"overlay\",\"size\":10,\"solidity\":0.2}},\"type\":\"histogram\"}],\"scattergl\":[{\"type\":\"scattergl\",\"marker\":{\"colorbar\":{\"outlinewidth\":0,\"ticks\":\"\"}}}],\"scatter3d\":[{\"type\":\"scatter3d\",\"line\":{\"colorbar\":{\"outlinewidth\":0,\"ticks\":\"\"}},\"marker\":{\"colorbar\":{\"outlinewidth\":0,\"ticks\":\"\"}}}],\"scattermapbox\":[{\"type\":\"scattermapbox\",\"marker\":{\"colorbar\":{\"outlinewidth\":0,\"ticks\":\"\"}}}],\"scatterternary\":[{\"type\":\"scatterternary\",\"marker\":{\"colorbar\":{\"outlinewidth\":0,\"ticks\":\"\"}}}],\"scattercarpet\":[{\"type\":\"scattercarpet\",\"marker\":{\"colorbar\":{\"outlinewidth\":0,\"ticks\":\"\"}}}],\"carpet\":[{\"aaxis\":{\"endlinecolor\":\"#2a3f5f\",\"gridcolor\":\"white\",\"linecolor\":\"white\",\"minorgridcolor\":\"white\",\"startlinecolor\":\"#2a3f5f\"},\"baxis\":{\"endlinecolor\":\"#2a3f5f\",\"gridcolor\":\"white\",\"linecolor\":\"white\",\"minorgridcolor\":\"white\",\"startlinecolor\":\"#2a3f5f\"},\"type\":\"carpet\"}],\"table\":[{\"cells\":{\"fill\":{\"color\":\"#EBF0F8\"},\"line\":{\"color\":\"white\"}},\"header\":{\"fill\":{\"color\":\"#C8D4E3\"},\"line\":{\"color\":\"white\"}},\"type\":\"table\"}],\"barpolar\":[{\"marker\":{\"line\":{\"color\":\"#E5ECF6\",\"width\":0.5},\"pattern\":{\"fillmode\":\"overlay\",\"size\":10,\"solidity\":0.2}},\"type\":\"barpolar\"}],\"pie\":[{\"automargin\":true,\"type\":\"pie\"}]},\"layout\":{\"autotypenumbers\":\"strict\",\"colorway\":[\"#636efa\",\"#EF553B\",\"#00cc96\",\"#ab63fa\",\"#FFA15A\",\"#19d3f3\",\"#FF6692\",\"#B6E880\",\"#FF97FF\",\"#FECB52\"],\"font\":{\"color\":\"#2a3f5f\"},\"hovermode\":\"closest\",\"hoverlabel\":{\"align\":\"left\"},\"paper_bgcolor\":\"white\",\"plot_bgcolor\":\"#E5ECF6\",\"polar\":{\"bgcolor\":\"#E5ECF6\",\"angularaxis\":{\"gridcolor\":\"white\",\"linecolor\":\"white\",\"ticks\":\"\"},\"radialaxis\":{\"gridcolor\":\"white\",\"linecolor\":\"white\",\"ticks\":\"\"}},\"ternary\":{\"bgcolor\":\"#E5ECF6\",\"aaxis\":{\"gridcolor\":\"white\",\"linecolor\":\"white\",\"ticks\":\"\"},\"baxis\":{\"gridcolor\":\"white\",\"linecolor\":\"white\",\"ticks\":\"\"},\"caxis\":{\"gridcolor\":\"white\",\"linecolor\":\"white\",\"ticks\":\"\"}},\"coloraxis\":{\"colorbar\":{\"outlinewidth\":0,\"ticks\":\"\"}},\"colorscale\":{\"sequential\":[[0.0,\"#0d0887\"],[0.1111111111111111,\"#46039f\"],[0.2222222222222222,\"#7201a8\"],[0.3333333333333333,\"#9c179e\"],[0.4444444444444444,\"#bd3786\"],[0.5555555555555556,\"#d8576b\"],[0.6666666666666666,\"#ed7953\"],[0.7777777777777778,\"#fb9f3a\"],[0.8888888888888888,\"#fdca26\"],[1.0,\"#f0f921\"]],\"sequentialminus\":[[0.0,\"#0d0887\"],[0.1111111111111111,\"#46039f\"],[0.2222222222222222,\"#7201a8\"],[0.3333333333333333,\"#9c179e\"],[0.4444444444444444,\"#bd3786\"],[0.5555555555555556,\"#d8576b\"],[0.6666666666666666,\"#ed7953\"],[0.7777777777777778,\"#fb9f3a\"],[0.8888888888888888,\"#fdca26\"],[1.0,\"#f0f921\"]],\"diverging\":[[0,\"#8e0152\"],[0.1,\"#c51b7d\"],[0.2,\"#de77ae\"],[0.3,\"#f1b6da\"],[0.4,\"#fde0ef\"],[0.5,\"#f7f7f7\"],[0.6,\"#e6f5d0\"],[0.7,\"#b8e186\"],[0.8,\"#7fbc41\"],[0.9,\"#4d9221\"],[1,\"#276419\"]]},\"xaxis\":{\"gridcolor\":\"white\",\"linecolor\":\"white\",\"ticks\":\"\",\"title\":{\"standoff\":15},\"zerolinecolor\":\"white\",\"automargin\":true,\"zerolinewidth\":2},\"yaxis\":{\"gridcolor\":\"white\",\"linecolor\":\"white\",\"ticks\":\"\",\"title\":{\"standoff\":15},\"zerolinecolor\":\"white\",\"automargin\":true,\"zerolinewidth\":2},\"scene\":{\"xaxis\":{\"backgroundcolor\":\"#E5ECF6\",\"gridcolor\":\"white\",\"linecolor\":\"white\",\"showbackground\":true,\"ticks\":\"\",\"zerolinecolor\":\"white\",\"gridwidth\":2},\"yaxis\":{\"backgroundcolor\":\"#E5ECF6\",\"gridcolor\":\"white\",\"linecolor\":\"white\",\"showbackground\":true,\"ticks\":\"\",\"zerolinecolor\":\"white\",\"gridwidth\":2},\"zaxis\":{\"backgroundcolor\":\"#E5ECF6\",\"gridcolor\":\"white\",\"linecolor\":\"white\",\"showbackground\":true,\"ticks\":\"\",\"zerolinecolor\":\"white\",\"gridwidth\":2}},\"shapedefaults\":{\"line\":{\"color\":\"#2a3f5f\"}},\"annotationdefaults\":{\"arrowcolor\":\"#2a3f5f\",\"arrowhead\":0,\"arrowwidth\":1},\"geo\":{\"bgcolor\":\"white\",\"landcolor\":\"#E5ECF6\",\"subunitcolor\":\"white\",\"showland\":true,\"showlakes\":true,\"lakecolor\":\"white\"},\"title\":{\"x\":0.05},\"mapbox\":{\"style\":\"light\"}}},\"xaxis\":{\"anchor\":\"y\",\"domain\":[0.0,1.0],\"title\":{\"text\":\"Categor\\u00eda\"}},\"yaxis\":{\"anchor\":\"x\",\"domain\":[0.0,1.0],\"title\":{\"text\":\"Emisiones (toneladas)\"}},\"coloraxis\":{\"colorbar\":{\"title\":{\"text\":\"Emisiones (toneladas)\"}},\"colorscale\":[[0.0,\"#440154\"],[0.1111111111111111,\"#482878\"],[0.2222222222222222,\"#3e4989\"],[0.3333333333333333,\"#31688e\"],[0.4444444444444444,\"#26828e\"],[0.5555555555555556,\"#1f9e89\"],[0.6666666666666666,\"#35b779\"],[0.7777777777777778,\"#6ece58\"],[0.8888888888888888,\"#b5de2b\"],[1.0,\"#fde725\"]]},\"legend\":{\"tracegroupgap\":0},\"title\":{\"text\":\"Emisiones de CO2 por Categor\\u00eda\"},\"barmode\":\"relative\"},                        {\"responsive\": true}                    ).then(function(){\n",
       "                            \n",
       "var gd = document.getElementById('b90568a7-70f9-42eb-9908-38805e28dac1');\n",
       "var x = new MutationObserver(function (mutations, observer) {{\n",
       "        var display = window.getComputedStyle(gd).display;\n",
       "        if (!display || display === 'none') {{\n",
       "            console.log([gd, 'removed!']);\n",
       "            Plotly.purge(gd);\n",
       "            observer.disconnect();\n",
       "        }}\n",
       "}});\n",
       "\n",
       "// Listen for the removal of the full notebook cells\n",
       "var notebookContainer = gd.closest('#notebook-container');\n",
       "if (notebookContainer) {{\n",
       "    x.observe(notebookContainer, {childList: true});\n",
       "}}\n",
       "\n",
       "// Listen for the clearing of the current output cell\n",
       "var outputEl = gd.closest('.output');\n",
       "if (outputEl) {{\n",
       "    x.observe(outputEl, {childList: true});\n",
       "}}\n",
       "\n",
       "                        })                };                });            </script>        </div>"
      ]
     },
     "metadata": {},
     "output_type": "display_data"
    }
   ],
   "source": [
    "emission_source_columns = [\"cement_co2\", \"coal_co2\", \"flaring_co2\", \"gas_co2\", \"land_use_change_co2\", \"oil_co2\"]\n",
    "\n",
    "df_emission_source_last_10_years = df_emission_source[df_emission_source['year'] >= 2010 ][['year'] + emission_source_columns]\n",
    "\n",
    "total_last_10_years = df_emission_source_last_10_years[emission_source_columns].sum().reset_index()\n",
    "\n",
    "total_last_10_years.columns= [\"category\", \"value\"]\n",
    "\n",
    "total_last_10_years\n",
    "\n",
    "\n",
    "fig = px.bar(total_last_10_years, x='category', y='value',\n",
    "             title='Emisiones de CO2 por Categoría',\n",
    "             labels={'value': 'Emisiones (toneladas)', 'category': 'Categoría'},\n",
    "             color='value', \n",
    "             color_continuous_scale=px.colors.sequential.Viridis)\n",
    "\n",
    "# Mostrar el gráfico\n",
    "fig.show()"
   ]
  },
  {
   "cell_type": "code",
   "execution_count": null,
   "id": "09e7713a-b55a-49d6-9ec6-45958fe613c1",
   "metadata": {},
   "outputs": [],
   "source": []
  }
 ],
 "metadata": {
  "kernelspec": {
   "display_name": "Python 3 (ipykernel)",
   "language": "python",
   "name": "python3"
  },
  "language_info": {
   "codemirror_mode": {
    "name": "ipython",
    "version": 3
   },
   "file_extension": ".py",
   "mimetype": "text/x-python",
   "name": "python",
   "nbconvert_exporter": "python",
   "pygments_lexer": "ipython3",
   "version": "3.12.4"
  }
 },
 "nbformat": 4,
 "nbformat_minor": 5
}
