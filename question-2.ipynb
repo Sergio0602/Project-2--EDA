{
 "cells": [
  {
   "cell_type": "code",
   "execution_count": 1,
   "id": "cc01b434-4287-4be8-a286-3f297defea97",
   "metadata": {},
   "outputs": [],
   "source": [
    "#from skimpy import skim #data summary\n",
    "import pandas as pd\n",
    "import numpy as np\n",
    "import matplotlib.pyplot as plt\n",
    "import charset_normalizer\n",
    "import seaborn as sns\n",
    "import plotly.express as px #interactive visualization\n",
    "import charset_normalizer\n",
    "from plotly.subplots import make_subplots\n",
    "from matplotlib.ticker import FuncFormatter\n"
   ]
  },
  {
   "cell_type": "code",
   "execution_count": 2,
   "id": "4a12cf39-0140-4dc2-83d3-b4daadb07a2e",
   "metadata": {},
   "outputs": [
    {
     "name": "stdout",
     "output_type": "stream",
     "text": [
      "{'encoding': 'ascii', 'language': 'English', 'confidence': 1.0}\n"
     ]
    }
   ],
   "source": [
    "with open(\"visualizing_global_co2_data_cleaned.csv\", 'rb') as rawdata:\n",
    "    result = charset_normalizer.detect(rawdata.read(10000))\n",
    "print(result)"
   ]
  },
  {
   "cell_type": "code",
   "execution_count": 3,
   "id": "9a8fd82f-44c0-41cb-b0ac-f17fd9294a32",
   "metadata": {},
   "outputs": [],
   "source": [
    "data = pd.read_csv('visualizing_global_co2_data_cleaned.csv', encoding = 'ascii')\n",
    "df = pd.DataFrame(data)\n"
   ]
  },
  {
   "cell_type": "code",
   "execution_count": 4,
   "id": "35b508c6-750b-4d7d-8a14-b4ee6f107de8",
   "metadata": {},
   "outputs": [],
   "source": [
    "#skim(df)"
   ]
  },
  {
   "cell_type": "code",
   "execution_count": 5,
   "id": "933dc959-3d61-48dc-800a-f2cd38a46db7",
   "metadata": {},
   "outputs": [
    {
     "name": "stdout",
     "output_type": "stream",
     "text": [
      "237\n",
      "219\n",
      "['Afghanistan' 'Africa' 'Albania' 'Algeria' 'Andorra' 'Angola' 'Anguilla'\n",
      " 'Antigua and Barbuda' 'Argentina' 'Armenia' 'Aruba' 'Asia'\n",
      " 'Asia (excl. China and India)' 'Australia' 'Austria' 'Azerbaijan'\n",
      " 'Bahamas' 'Bahrain' 'Bangladesh' 'Barbados' 'Belarus' 'Belgium' 'Belize'\n",
      " 'Benin' 'Bermuda' 'Bhutan' 'Bolivia' 'Bonaire Sint Eustatius and Saba'\n",
      " 'Bosnia and Herzegovina' 'Botswana' 'Brazil' 'British Virgin Islands'\n",
      " 'Brunei' 'Bulgaria' 'Burkina Faso' 'Burundi' 'Cambodia' 'Cameroon'\n",
      " 'Canada' 'Cape Verde' 'Central African Republic' 'Chad' 'Chile' 'China'\n",
      " 'Colombia' 'Comoros' 'Congo' 'Cook Islands' 'Costa Rica' \"Cote d'Ivoire\"\n",
      " 'Croatia' 'Cuba' 'Curacao' 'Cyprus' 'Czechia'\n",
      " 'Democratic Republic of Congo' 'Denmark' 'Djibouti' 'Dominica'\n",
      " 'Dominican Republic' 'East Timor' 'Ecuador' 'Egypt' 'El Salvador'\n",
      " 'Equatorial Guinea' 'Eritrea' 'Estonia' 'Eswatini' 'Ethiopia' 'Europe'\n",
      " 'Europe (excl. EU-27)' 'Europe (excl. EU-28)' 'European Union (27)'\n",
      " 'European Union (28)' 'Faroe Islands' 'Fiji' 'Finland' 'France'\n",
      " 'French Guiana' 'French Polynesia' 'Gabon' 'Gambia' 'Georgia' 'Germany'\n",
      " 'Ghana' 'Greece' 'Greenland' 'Grenada' 'Guadeloupe' 'Guatemala' 'Guinea'\n",
      " 'Guinea-Bissau' 'Guyana' 'Haiti' 'High-income countries' 'Honduras'\n",
      " 'Hong Kong' 'Hungary' 'Iceland' 'India' 'Indonesia' 'Iran' 'Iraq'\n",
      " 'Ireland' 'Israel' 'Italy' 'Jamaica' 'Japan' 'Jordan' 'Kazakhstan'\n",
      " 'Kenya' 'Kiribati' 'Kosovo' 'Kuwait' 'Kyrgyzstan' 'Laos' 'Latvia'\n",
      " 'Lebanon' 'Lesotho' 'Liberia' 'Libya' 'Liechtenstein' 'Lithuania'\n",
      " 'Low-income countries' 'Lower-middle-income countries' 'Luxembourg'\n",
      " 'Macao' 'Madagascar' 'Malawi' 'Malaysia' 'Maldives' 'Mali' 'Malta'\n",
      " 'Marshall Islands' 'Martinique' 'Mauritania' 'Mauritius' 'Mayotte'\n",
      " 'Mexico' 'Micronesia (country)' 'Moldova' 'Mongolia' 'Montenegro'\n",
      " 'Montserrat' 'Morocco' 'Mozambique' 'Myanmar' 'Namibia' 'Nauru' 'Nepal'\n",
      " 'Netherlands' 'New Caledonia' 'New Zealand' 'Nicaragua' 'Niger' 'Nigeria'\n",
      " 'Niue' 'North America' 'North America (excl. USA)' 'North Korea'\n",
      " 'North Macedonia' 'Norway' 'Oceania' 'Oman' 'Pakistan' 'Palau'\n",
      " 'Palestine' 'Panama' 'Papua New Guinea' 'Paraguay' 'Peru' 'Philippines'\n",
      " 'Poland' 'Portugal' 'Puerto Rico' 'Qatar' 'Reunion' 'Romania' 'Russia'\n",
      " 'Rwanda' 'Saint Helena' 'Saint Kitts and Nevis' 'Saint Lucia'\n",
      " 'Saint Pierre and Miquelon' 'Saint Vincent and the Grenadines' 'Samoa'\n",
      " 'Sao Tome and Principe' 'Saudi Arabia' 'Senegal' 'Serbia' 'Seychelles'\n",
      " 'Sierra Leone' 'Singapore' 'Sint Maarten (Dutch part)' 'Slovakia'\n",
      " 'Slovenia' 'Solomon Islands' 'Somalia' 'South Africa' 'South America'\n",
      " 'South Korea' 'South Sudan' 'Spain' 'Sri Lanka' 'Sudan' 'Suriname'\n",
      " 'Sweden' 'Switzerland' 'Syria' 'Taiwan' 'Tajikistan' 'Tanzania'\n",
      " 'Thailand' 'Togo' 'Tonga' 'Trinidad and Tobago' 'Tunisia' 'Turkey'\n",
      " 'Turkmenistan' 'Turks and Caicos Islands' 'Tuvalu' 'Uganda' 'Ukraine'\n",
      " 'United Arab Emirates' 'United Kingdom' 'United States'\n",
      " 'Upper-middle-income countries' 'Uruguay' 'Uzbekistan' 'Vanuatu'\n",
      " 'Venezuela' 'Vietnam' 'Wallis and Futuna' 'World' 'Yemen' 'Zambia'\n",
      " 'Zimbabwe']\n"
     ]
    }
   ],
   "source": [
    " info = pd.DataFrame({\n",
    "    \"Count\":df.shape[0],\n",
    "    \"Null\":df.isnull().sum(),\n",
    "    \"Null %\":df.isnull().mean() * 100,\n",
    "    \"Zeros\":(df == 0).sum(),\n",
    "    \"Zeros %\":(df == 0).mean() * 100,\n",
    "    \"Unique\":df.nunique(),\n",
    "    \"Duplicated\":(df.duplicated() == True).sum(),\n",
    "  \n",
    "})\n",
    "info\n",
    "print(df[\"country\"].nunique())\n",
    "\n",
    "print(df[\"iso_code\"].nunique())\n",
    "print(df[\"country\"].unique())\n"
   ]
  },
  {
   "cell_type": "code",
   "execution_count": 6,
   "id": "05d20bc1-0aec-4008-b445-c39d2c3d1de7",
   "metadata": {},
   "outputs": [
    {
     "name": "stdout",
     "output_type": "stream",
     "text": [
      "['Afghanistan' 'Albania' 'Algeria' 'Andorra' 'Angola'\n",
      " 'Antigua and Barbuda' 'Argentina' 'Armenia' 'Australia' 'Austria'\n",
      " 'Azerbaijan' 'Bahamas' 'Bahrain' 'Bangladesh' 'Barbados' 'Belarus'\n",
      " 'Belgium' 'Belize' 'Benin' 'Bhutan' 'Bolivia' 'Bosnia and Herzegovina'\n",
      " 'Botswana' 'Brazil' 'Bulgaria' 'Burkina Faso' 'Burundi' 'Cambodia'\n",
      " 'Cameroon' 'Canada' 'Central African Republic' 'Chad' 'Chile' 'China'\n",
      " 'Colombia' 'Comoros' 'Congo' 'Costa Rica' 'Croatia' 'Cuba' 'Cyprus'\n",
      " 'Denmark' 'Djibouti' 'Dominica' 'Dominican Republic' 'Ecuador' 'Egypt'\n",
      " 'El Salvador' 'Equatorial Guinea' 'Eritrea' 'Estonia' 'Eswatini'\n",
      " 'Ethiopia' 'Fiji' 'Finland' 'France' 'Gabon' 'Gambia' 'Georgia' 'Germany'\n",
      " 'Ghana' 'Greece' 'Grenada' 'Guatemala' 'Guinea' 'Guinea-Bissau' 'Guyana'\n",
      " 'Haiti' 'Honduras' 'Hungary' 'Iceland' 'India' 'Indonesia' 'Iran' 'Iraq'\n",
      " 'Ireland' 'Israel' 'Italy' 'Jamaica' 'Japan' 'Jordan' 'Kazakhstan'\n",
      " 'Kenya' 'Kiribati' 'Kuwait' 'Kyrgyzstan' 'Latvia' 'Lebanon' 'Lesotho'\n",
      " 'Liberia' 'Libya' 'Liechtenstein' 'Lithuania' 'Luxembourg' 'Madagascar'\n",
      " 'Malawi' 'Malaysia' 'Maldives' 'Mali' 'Malta' 'Marshall Islands'\n",
      " 'Mauritania' 'Mauritius' 'Mexico' 'Moldova' 'Mongolia' 'Montenegro'\n",
      " 'Morocco' 'Mozambique' 'Myanmar' 'Namibia' 'Nauru' 'Nepal' 'Netherlands'\n",
      " 'New Zealand' 'Nicaragua' 'Niger' 'Nigeria' 'North Macedonia' 'Norway'\n",
      " 'Oman' 'Pakistan' 'Palau' 'Panama' 'Papua New Guinea' 'Paraguay' 'Peru'\n",
      " 'Philippines' 'Poland' 'Portugal' 'Qatar' 'Romania' 'Rwanda'\n",
      " 'Saint Kitts and Nevis' 'Saint Lucia' 'Saint Vincent and the Grenadines'\n",
      " 'Samoa' 'Sao Tome and Principe' 'Saudi Arabia' 'Senegal' 'Serbia'\n",
      " 'Seychelles' 'Sierra Leone' 'Singapore' 'Slovakia' 'Slovenia'\n",
      " 'Solomon Islands' 'Somalia' 'South Africa' 'South Sudan' 'Spain'\n",
      " 'Sri Lanka' 'Sudan' 'Suriname' 'Sweden' 'Switzerland' 'Tajikistan'\n",
      " 'Thailand' 'Togo' 'Tonga' 'Trinidad and Tobago' 'Tunisia' 'Turkey'\n",
      " 'Turkmenistan' 'Tuvalu' 'Uganda' 'Ukraine' 'United Arab Emirates'\n",
      " 'Uruguay' 'Uzbekistan' 'Vanuatu' 'Venezuela' 'Yemen' 'Zambia' 'Zimbabwe']\n",
      "175\n"
     ]
    }
   ],
   "source": [
    "non_countries = [\n",
    "    \"Africa\", \"Asia\", \"Asia (excl. China and India)\", \"Europe\", \"Europe (excl. EU-27)\",\n",
    "    \"Europe (excl. EU-28)\", \"European Union (27)\", \"European Union (28)\", \n",
    "    \"High-income countries\", \"Low-income countries\", \"Lower-middle-income countries\", \n",
    "    \"North America\", \"North America (excl. USA)\", \"Oceania\", \"South America\", \"World\"\n",
    "]\n",
    "\n",
    "countries = [\n",
    "    'Afghanistan', 'Albania', 'Algeria', 'Andorra', 'Angola', 'Antigua and Barbuda', 'Argentina', 'Armenia',\n",
    "    'Australia', 'Austria', 'Azerbaijan', 'Bahamas', 'Bahrain', 'Bangladesh', 'Barbados', 'Belarus',\n",
    "    'Belgium', 'Belize', 'Benin', 'Bhutan', 'Bolivia', 'Bosnia and Herzegovina', 'Botswana', 'Brazil',\n",
    "    'Brunei Darussalam', 'Bulgaria', 'Burkina Faso', 'Burundi', 'Cabo Verde', 'Cambodia', 'Cameroon',\n",
    "    'Canada', 'Central African Republic', 'Chad', 'Chile', 'China', 'Colombia', 'Comoros', 'Congo',\n",
    "    'Costa Rica', \"Côte d'Ivoire\", 'Croatia', 'Cuba', 'Cyprus', 'Czech Republic', 'Denmark', 'Djibouti',\n",
    "    'Dominica', 'Dominican Republic', 'Ecuador', 'Egypt', 'El Salvador', 'Equatorial Guinea', 'Eritrea',\n",
    "    'Estonia', 'Eswatini', 'Ethiopia', 'Fiji', 'Finland', 'France', 'Gabon', 'Gambia', 'Georgia', 'Germany',\n",
    "    'Ghana', 'Greece', 'Grenada', 'Guatemala', 'Guinea', 'Guinea-Bissau', 'Guyana', 'Haiti', 'Honduras',\n",
    "    'Hungary', 'Iceland', 'India', 'Indonesia', 'Iran', 'Iraq', 'Ireland', 'Israel', 'Italy', 'Jamaica',\n",
    "    'Japan', 'Jordan', 'Kazakhstan', 'Kenya', 'Kiribati', 'Kuwait', 'Kyrgyzstan', 'Lao People’s Democratic Republic',\n",
    "    'Latvia', 'Lebanon', 'Lesotho', 'Liberia', 'Libya', 'Liechtenstein', 'Lithuania', 'Luxembourg', 'Madagascar',\n",
    "    'Malawi', 'Malaysia', 'Maldives', 'Mali', 'Malta', 'Marshall Islands', 'Mauritania', 'Mauritius', 'Mexico',\n",
    "    'Micronesia (Federated States of)', 'Moldova', 'Monaco', 'Mongolia', 'Montenegro', 'Morocco', 'Mozambique',\n",
    "    'Myanmar', 'Namibia', 'Nauru', 'Nepal', 'Netherlands', 'New Zealand', 'Nicaragua', 'Niger', 'Nigeria',\n",
    "    'North Macedonia', 'Norway', 'Oman', 'Pakistan', 'Palau', 'Panama', 'Papua New Guinea', 'Paraguay', 'Peru',\n",
    "    'Philippines', 'Poland', 'Portugal', 'Qatar', 'Republic of Korea', 'Romania', 'Russian Federation', 'Rwanda',\n",
    "    'Saint Kitts and Nevis', 'Saint Lucia', 'Saint Vincent and the Grenadines', 'Samoa', 'San Marino',\n",
    "    'Sao Tome and Principe', 'Saudi Arabia', 'Senegal', 'Serbia', 'Seychelles', 'Sierra Leone', 'Singapore',\n",
    "    'Slovakia', 'Slovenia', 'Solomon Islands', 'Somalia', 'South Africa', 'South Sudan', 'Spain', 'Sri Lanka',\n",
    "    'Sudan', 'Suriname', 'Sweden', 'Switzerland', 'Syrian Arab Republic', 'Tajikistan', 'Thailand', 'Timor-Leste',\n",
    "    'Togo', 'Tonga', 'Trinidad and Tobago', 'Tunisia', 'Turkey', 'Turkmenistan', 'Tuvalu', 'Uganda', 'Ukraine',\n",
    "    'United Arab Emirates', 'United Kingdom of Great Britain and Northern Ireland', 'United Republic of Tanzania',\n",
    "    'United States of America', 'Uruguay', 'Uzbekistan', 'Vanuatu', 'Venezuela', 'Viet Nam', 'Yemen', 'Zambia', 'Zimbabwe'\n",
    "]\n",
    "\n",
    "df_filtered_country = df[df[\"country\"].isin(countries)].copy()\n",
    "\n",
    "print(df_filtered_country[\"country\"].unique())\n",
    "print(df_filtered_country[\"country\"].nunique())"
   ]
  },
  {
   "cell_type": "markdown",
   "id": "3ccfa834-2865-4a1a-a7dc-6cca50a7e24d",
   "metadata": {},
   "source": [
    "#Eliminar datos C02 = 0"
   ]
  },
  {
   "cell_type": "code",
   "execution_count": 8,
   "id": "f0a0a799-3bec-4e4c-9f2d-94d82dde0962",
   "metadata": {},
   "outputs": [
    {
     "name": "stdout",
     "output_type": "stream",
     "text": [
      "102\n"
     ]
    }
   ],
   "source": [
    "co2_zeros = (df[\"co2\"] == 0).sum()\n",
    "\n",
    "df = df.drop(df[df[\"co2\"] == 0].index)\n",
    "print(co2_zeros)"
   ]
  },
  {
   "cell_type": "code",
   "execution_count": 9,
   "id": "5a9bdf8d-714a-4ed8-ab64-ce539a3a69a5",
   "metadata": {},
   "outputs": [
    {
     "data": {
      "text/html": [
       "<div>\n",
       "<style scoped>\n",
       "    .dataframe tbody tr th:only-of-type {\n",
       "        vertical-align: middle;\n",
       "    }\n",
       "\n",
       "    .dataframe tbody tr th {\n",
       "        vertical-align: top;\n",
       "    }\n",
       "\n",
       "    .dataframe thead th {\n",
       "        text-align: right;\n",
       "    }\n",
       "</style>\n",
       "<table border=\"1\" class=\"dataframe\">\n",
       "  <thead>\n",
       "    <tr style=\"text-align: right;\">\n",
       "      <th></th>\n",
       "      <th>Count</th>\n",
       "      <th>Null</th>\n",
       "      <th>Null %</th>\n",
       "      <th>Zeros</th>\n",
       "      <th>Zeros %</th>\n",
       "      <th>Unique</th>\n",
       "      <th>Duplicated</th>\n",
       "      <th>Under Zeros</th>\n",
       "    </tr>\n",
       "  </thead>\n",
       "  <tbody>\n",
       "    <tr>\n",
       "      <th>country</th>\n",
       "      <td>23392</td>\n",
       "      <td>0</td>\n",
       "      <td>0.000000</td>\n",
       "      <td>0</td>\n",
       "      <td>0.0000</td>\n",
       "      <td>237</td>\n",
       "      <td>0</td>\n",
       "      <td>369</td>\n",
       "    </tr>\n",
       "    <tr>\n",
       "      <th>year</th>\n",
       "      <td>23392</td>\n",
       "      <td>0</td>\n",
       "      <td>0.000000</td>\n",
       "      <td>0</td>\n",
       "      <td>0.0000</td>\n",
       "      <td>172</td>\n",
       "      <td>0</td>\n",
       "      <td>369</td>\n",
       "    </tr>\n",
       "    <tr>\n",
       "      <th>co2</th>\n",
       "      <td>23392</td>\n",
       "      <td>0</td>\n",
       "      <td>0.000000</td>\n",
       "      <td>0</td>\n",
       "      <td>0.0000</td>\n",
       "      <td>14458</td>\n",
       "      <td>0</td>\n",
       "      <td>369</td>\n",
       "    </tr>\n",
       "    <tr>\n",
       "      <th>co2_including_luc</th>\n",
       "      <td>23392</td>\n",
       "      <td>953</td>\n",
       "      <td>4.074042</td>\n",
       "      <td>8</td>\n",
       "      <td>0.0342</td>\n",
       "      <td>18675</td>\n",
       "      <td>0</td>\n",
       "      <td>369</td>\n",
       "    </tr>\n",
       "  </tbody>\n",
       "</table>\n",
       "</div>"
      ],
      "text/plain": [
       "                   Count  Null    Null %  Zeros  Zeros %  Unique  Duplicated  \\\n",
       "country            23392     0  0.000000      0   0.0000     237           0   \n",
       "year               23392     0  0.000000      0   0.0000     172           0   \n",
       "co2                23392     0  0.000000      0   0.0000   14458           0   \n",
       "co2_including_luc  23392   953  4.074042      8   0.0342   18675           0   \n",
       "\n",
       "                   Under Zeros  \n",
       "country                    369  \n",
       "year                       369  \n",
       "co2                        369  \n",
       "co2_including_luc          369  "
      ]
     },
     "execution_count": 9,
     "metadata": {},
     "output_type": "execute_result"
    }
   ],
   "source": [
    "df_it1 = df[[\"country\",\"year\",\"co2\",\"co2_including_luc\"]]\n",
    "\n",
    "\n",
    "info1 = pd.DataFrame({\n",
    "    \"Count\":df_it1.shape[0],\n",
    "    \"Null\":df_it1.isnull().sum(),\n",
    "    \"Null %\":df_it1.isnull().mean() * 100,\n",
    "    \"Zeros\":(df_it1 == 0).sum(),\n",
    "    \"Zeros %\":(df_it1 == 0).mean() * 100,\n",
    "    \"Unique\":df_it1.nunique(),\n",
    "    \"Duplicated\":(df_it1.duplicated() == True).sum(),\n",
    "    \"Under Zeros\":(df_it1[\"co2_including_luc\"] < 0).sum() \n",
    "})\n",
    "info1"
   ]
  },
  {
   "cell_type": "code",
   "execution_count": 10,
   "id": "f865997e-6666-4640-bd2f-977ac05c3de8",
   "metadata": {},
   "outputs": [
    {
     "name": "stdout",
     "output_type": "stream",
     "text": [
      "                   Count  Null    Null %  Zeros  Zeros %  Unique  Duplicated  \\\n",
      "year               23392     0  0.000000      0   0.0000     172         132   \n",
      "co2                23392     0  0.000000      0   0.0000   14458         132   \n",
      "co2_including_luc  23392   953  4.074042      8   0.0342   18675         132   \n",
      "\n",
      "                   Under Zeros  \n",
      "year                         0  \n",
      "co2                          0  \n",
      "co2_including_luc          369  \n"
     ]
    },
    {
     "data": {
      "text/plain": [
       "Index(['year', 'co2', 'co2_including_luc', 'country'], dtype='object')"
      ]
     },
     "execution_count": 10,
     "metadata": {},
     "output_type": "execute_result"
    }
   ],
   "source": [
    "\n",
    "df_it1 = df[[ \"year\", \"co2\", \"co2_including_luc\"]].copy()\n",
    "\n",
    "\n",
    "info1 = pd.DataFrame({\n",
    "    \"Count\": [df_it1.shape[0]] * len(df_it1.columns),\n",
    "    \"Null\": df_it1.isnull().sum(),\n",
    "    \"Null %\": df_it1.isnull().mean() * 100,\n",
    "    \"Zeros\": (df_it1 == 0).sum(),\n",
    "    \"Zeros %\": (df_it1 == 0).mean() * 100,\n",
    "    \"Unique\": df_it1.nunique(),\n",
    "    \"Duplicated\": [df_it1.duplicated().sum()] * len(df_it1.columns),\n",
    "    \"Under Zeros\": (df_it1 < 0).sum()\n",
    "}, index=df_it1.columns)\n",
    "\n",
    "print(info1)\n",
    "df_it1[\"country\"] =df[\"country\"]\n",
    "df_it1.columns"
   ]
  },
  {
   "cell_type": "markdown",
   "id": "76bf6169-e755-4670-8be1-ceedfb9e08c1",
   "metadata": {},
   "source": [
    "Imputamos el valor de Co2 a co2_including_luc, cuando co2_including_luc < 0"
   ]
  },
  {
   "cell_type": "markdown",
   "id": "eeabf087-6be0-4638-9b03-0b32731b8379",
   "metadata": {},
   "source": [
    "### Which sectors are most responsible for emissions, and how has their\n",
    "### contribution varied over the decades?"
   ]
  },
  {
   "cell_type": "code",
   "execution_count": 13,
   "id": "0993ca73-b9c6-4813-b0b0-0d749a7048ad",
   "metadata": {},
   "outputs": [
    {
     "name": "stdout",
     "output_type": "stream",
     "text": [
      "          Count  Null    Null %  Zeros    Zeros %  Unique  Duplicated  \\\n",
      "year      23392     0  0.000000      0   0.000000     172         984   \n",
      "coal_co2  23392     0  0.000000   6719  28.723495   10076         984   \n",
      "gas_co2   23392    27  0.115424  14120  60.362517    6168         984   \n",
      "oil_co2   23392     0  0.000000   2335   9.982045   10528         984   \n",
      "\n",
      "          Under Zeros  \n",
      "year                0  \n",
      "coal_co2            0  \n",
      "gas_co2             0  \n",
      "oil_co2             0  \n"
     ]
    }
   ],
   "source": [
    "df_it2 = df[[ \"year\", \"coal_co2\", \"gas_co2\", \"oil_co2\"]].copy()\n",
    "\n",
    "info2 = pd.DataFrame({\n",
    "    \"Count\": [df_it2.shape[0]] * len(df_it2.columns),\n",
    "    \"Null\": df_it2.isnull().sum(),\n",
    "    \"Null %\": df_it2.isnull().mean() * 100,\n",
    "    \"Zeros\": (df_it2 == 0).sum(),\n",
    "    \"Zeros %\": (df_it2 == 0).mean() * 100,\n",
    "    \"Unique\": df_it2.nunique(),\n",
    "    \"Duplicated\": [df_it2.duplicated().sum()] * len(df_it2.columns),\n",
    "    \"Under Zeros\": (df_it2 < 0).sum()\n",
    "}, index=df_it2.columns)\n",
    "\n",
    "print(info2)"
   ]
  },
  {
   "cell_type": "markdown",
   "id": "39b78900-b1cf-45a2-841c-93c597fe9f4f",
   "metadata": {},
   "source": [
    "#Total Co2 agrupado en años"
   ]
  },
  {
   "cell_type": "markdown",
   "id": "3246e804-632f-488a-8ac3-1035519aad4d",
   "metadata": {},
   "source": [
    "## histograma de valores nulos de cement"
   ]
  },
  {
   "cell_type": "code",
   "execution_count": 16,
   "id": "1ca5513e-6d14-4490-8777-cd65872634f9",
   "metadata": {},
   "outputs": [
    {
     "name": "stdout",
     "output_type": "stream",
     "text": [
      "            Count  Null  Null %  Zeros  Zeros %  Unique  Duplicated  \\\n",
      "year         3481     0     0.0      0      0.0     131        3350   \n",
      "cement_co2   3481  3481   100.0      0      0.0       0        3350   \n",
      "\n",
      "            Under Zeros  \n",
      "year                  0  \n",
      "cement_co2            0  \n"
     ]
    },
    {
     "data": {
      "image/png": "[encoded data removed]",
      "text/plain": [
       "<Figure size 640x480 with 1 Axes>"
      ]
     },
     "metadata": {},
     "output_type": "display_data"
    }
   ],
   "source": [
    "df_cement_nulls = df[df[\"cement_co2\"].isnull()][[\"year\", \"cement_co2\"]]\n",
    "df_cement_nulls.head()\n",
    "\n",
    "info_cement = pd.DataFrame({\n",
    "    \"Count\": [df_cement_nulls.shape[0]] * len(df_cement_nulls.columns),\n",
    "    \"Null\": df_cement_nulls.isnull().sum(),\n",
    "    \"Null %\": df_cement_nulls.isnull().mean() * 100,\n",
    "    \"Zeros\": (df_cement_nulls == 0).sum(),\n",
    "    \"Zeros %\": (df_cement_nulls == 0).mean() * 100,\n",
    "    \"Unique\": df_cement_nulls.nunique(),\n",
    "    \"Duplicated\": [df_cement_nulls.duplicated().sum()] * len(df_cement_nulls.columns),\n",
    "    \"Under Zeros\": (df_cement_nulls < 0).sum()\n",
    "}, index=df_cement_nulls.columns)\n",
    "\n",
    "print(info_cement)\n",
    "\n",
    "sns.histplot(data=df_cement_nulls, x=\"year\")\n",
    "plt.show()"
   ]
  },
  {
   "cell_type": "markdown",
   "id": "9f90dc38-36f3-4985-bd32-ce1f10dbad39",
   "metadata": {},
   "source": [
    "## Después de comprobar los datos nulos y ver su irrelevancia, procedemos a eliminarlos."
   ]
  },
  {
   "cell_type": "code",
   "execution_count": 18,
   "id": "4ed9e3d0-78aa-43ec-9004-2666fb6b707b",
   "metadata": {},
   "outputs": [
    {
     "data": {
      "text/html": [
       "<div>\n",
       "<style scoped>\n",
       "    .dataframe tbody tr th:only-of-type {\n",
       "        vertical-align: middle;\n",
       "    }\n",
       "\n",
       "    .dataframe tbody tr th {\n",
       "        vertical-align: top;\n",
       "    }\n",
       "\n",
       "    .dataframe thead th {\n",
       "        text-align: right;\n",
       "    }\n",
       "</style>\n",
       "<table border=\"1\" class=\"dataframe\">\n",
       "  <thead>\n",
       "    <tr style=\"text-align: right;\">\n",
       "      <th></th>\n",
       "      <th>country</th>\n",
       "      <th>year</th>\n",
       "      <th>iso_code</th>\n",
       "      <th>population</th>\n",
       "      <th>cement_co2</th>\n",
       "      <th>cement_co2_per_capita</th>\n",
       "      <th>co2</th>\n",
       "      <th>co2_growth_abs</th>\n",
       "      <th>co2_growth_prct</th>\n",
       "      <th>co2_including_luc</th>\n",
       "      <th>...</th>\n",
       "      <th>share_global_cumulative_oil_co2</th>\n",
       "      <th>share_global_flaring_co2</th>\n",
       "      <th>share_global_gas_co2</th>\n",
       "      <th>share_global_luc_co2</th>\n",
       "      <th>share_global_oil_co2</th>\n",
       "      <th>share_of_temperature_change_from_ghg</th>\n",
       "      <th>temperature_change_from_ch4</th>\n",
       "      <th>temperature_change_from_co2</th>\n",
       "      <th>temperature_change_from_ghg</th>\n",
       "      <th>temperature_change_from_n2o</th>\n",
       "    </tr>\n",
       "  </thead>\n",
       "  <tbody>\n",
       "    <tr>\n",
       "      <th>0</th>\n",
       "      <td>Afghanistan</td>\n",
       "      <td>1949</td>\n",
       "      <td>AFG</td>\n",
       "      <td>7356890.0</td>\n",
       "      <td>0.000</td>\n",
       "      <td>0.000</td>\n",
       "      <td>0.015</td>\n",
       "      <td>NaN</td>\n",
       "      <td>NaN</td>\n",
       "      <td>8.039</td>\n",
       "      <td>...</td>\n",
       "      <td>0.000</td>\n",
       "      <td>NaN</td>\n",
       "      <td>0.0</td>\n",
       "      <td>0.160</td>\n",
       "      <td>0.000</td>\n",
       "      <td>0.129</td>\n",
       "      <td>0.000</td>\n",
       "      <td>0.000</td>\n",
       "      <td>0.000</td>\n",
       "      <td>0.0</td>\n",
       "    </tr>\n",
       "    <tr>\n",
       "      <th>1</th>\n",
       "      <td>Afghanistan</td>\n",
       "      <td>1950</td>\n",
       "      <td>AFG</td>\n",
       "      <td>7480464.0</td>\n",
       "      <td>0.000</td>\n",
       "      <td>0.000</td>\n",
       "      <td>0.084</td>\n",
       "      <td>0.070</td>\n",
       "      <td>475.000</td>\n",
       "      <td>8.585</td>\n",
       "      <td>...</td>\n",
       "      <td>0.000</td>\n",
       "      <td>0.0</td>\n",
       "      <td>0.0</td>\n",
       "      <td>0.157</td>\n",
       "      <td>0.004</td>\n",
       "      <td>0.129</td>\n",
       "      <td>0.000</td>\n",
       "      <td>0.000</td>\n",
       "      <td>0.000</td>\n",
       "      <td>0.0</td>\n",
       "    </tr>\n",
       "    <tr>\n",
       "      <th>2</th>\n",
       "      <td>Afghanistan</td>\n",
       "      <td>1951</td>\n",
       "      <td>AFG</td>\n",
       "      <td>7571542.0</td>\n",
       "      <td>0.000</td>\n",
       "      <td>0.000</td>\n",
       "      <td>0.092</td>\n",
       "      <td>0.007</td>\n",
       "      <td>8.696</td>\n",
       "      <td>9.142</td>\n",
       "      <td>...</td>\n",
       "      <td>0.000</td>\n",
       "      <td>0.0</td>\n",
       "      <td>0.0</td>\n",
       "      <td>0.162</td>\n",
       "      <td>0.004</td>\n",
       "      <td>0.129</td>\n",
       "      <td>0.000</td>\n",
       "      <td>0.000</td>\n",
       "      <td>0.001</td>\n",
       "      <td>0.0</td>\n",
       "    </tr>\n",
       "    <tr>\n",
       "      <th>3</th>\n",
       "      <td>Afghanistan</td>\n",
       "      <td>1952</td>\n",
       "      <td>AFG</td>\n",
       "      <td>7667534.0</td>\n",
       "      <td>0.000</td>\n",
       "      <td>0.000</td>\n",
       "      <td>0.092</td>\n",
       "      <td>0.000</td>\n",
       "      <td>0.000</td>\n",
       "      <td>9.948</td>\n",
       "      <td>...</td>\n",
       "      <td>0.001</td>\n",
       "      <td>0.0</td>\n",
       "      <td>0.0</td>\n",
       "      <td>0.172</td>\n",
       "      <td>0.003</td>\n",
       "      <td>0.129</td>\n",
       "      <td>0.000</td>\n",
       "      <td>0.000</td>\n",
       "      <td>0.001</td>\n",
       "      <td>0.0</td>\n",
       "    </tr>\n",
       "    <tr>\n",
       "      <th>4</th>\n",
       "      <td>Afghanistan</td>\n",
       "      <td>1953</td>\n",
       "      <td>AFG</td>\n",
       "      <td>7764549.0</td>\n",
       "      <td>0.000</td>\n",
       "      <td>0.000</td>\n",
       "      <td>0.106</td>\n",
       "      <td>0.015</td>\n",
       "      <td>16.000</td>\n",
       "      <td>10.915</td>\n",
       "      <td>...</td>\n",
       "      <td>0.001</td>\n",
       "      <td>0.0</td>\n",
       "      <td>0.0</td>\n",
       "      <td>0.185</td>\n",
       "      <td>0.003</td>\n",
       "      <td>0.129</td>\n",
       "      <td>0.000</td>\n",
       "      <td>0.000</td>\n",
       "      <td>0.001</td>\n",
       "      <td>0.0</td>\n",
       "    </tr>\n",
       "    <tr>\n",
       "      <th>...</th>\n",
       "      <td>...</td>\n",
       "      <td>...</td>\n",
       "      <td>...</td>\n",
       "      <td>...</td>\n",
       "      <td>...</td>\n",
       "      <td>...</td>\n",
       "      <td>...</td>\n",
       "      <td>...</td>\n",
       "      <td>...</td>\n",
       "      <td>...</td>\n",
       "      <td>...</td>\n",
       "      <td>...</td>\n",
       "      <td>...</td>\n",
       "      <td>...</td>\n",
       "      <td>...</td>\n",
       "      <td>...</td>\n",
       "      <td>...</td>\n",
       "      <td>...</td>\n",
       "      <td>...</td>\n",
       "      <td>...</td>\n",
       "      <td>...</td>\n",
       "    </tr>\n",
       "    <tr>\n",
       "      <th>23489</th>\n",
       "      <td>Zimbabwe</td>\n",
       "      <td>2017</td>\n",
       "      <td>ZWE</td>\n",
       "      <td>14751101.0</td>\n",
       "      <td>0.469</td>\n",
       "      <td>0.032</td>\n",
       "      <td>9.596</td>\n",
       "      <td>-0.937</td>\n",
       "      <td>-8.899</td>\n",
       "      <td>19.086</td>\n",
       "      <td>...</td>\n",
       "      <td>0.024</td>\n",
       "      <td>0.0</td>\n",
       "      <td>0.0</td>\n",
       "      <td>0.219</td>\n",
       "      <td>0.026</td>\n",
       "      <td>0.114</td>\n",
       "      <td>0.001</td>\n",
       "      <td>0.001</td>\n",
       "      <td>0.002</td>\n",
       "      <td>0.0</td>\n",
       "    </tr>\n",
       "    <tr>\n",
       "      <th>23490</th>\n",
       "      <td>Zimbabwe</td>\n",
       "      <td>2018</td>\n",
       "      <td>ZWE</td>\n",
       "      <td>15052191.0</td>\n",
       "      <td>0.558</td>\n",
       "      <td>0.037</td>\n",
       "      <td>11.795</td>\n",
       "      <td>2.199</td>\n",
       "      <td>22.920</td>\n",
       "      <td>20.626</td>\n",
       "      <td>...</td>\n",
       "      <td>0.025</td>\n",
       "      <td>0.0</td>\n",
       "      <td>0.0</td>\n",
       "      <td>0.211</td>\n",
       "      <td>0.033</td>\n",
       "      <td>0.114</td>\n",
       "      <td>0.001</td>\n",
       "      <td>0.001</td>\n",
       "      <td>0.002</td>\n",
       "      <td>0.0</td>\n",
       "    </tr>\n",
       "    <tr>\n",
       "      <th>23491</th>\n",
       "      <td>Zimbabwe</td>\n",
       "      <td>2019</td>\n",
       "      <td>ZWE</td>\n",
       "      <td>15354606.0</td>\n",
       "      <td>0.570</td>\n",
       "      <td>0.037</td>\n",
       "      <td>11.115</td>\n",
       "      <td>-0.681</td>\n",
       "      <td>-5.772</td>\n",
       "      <td>19.432</td>\n",
       "      <td>...</td>\n",
       "      <td>0.025</td>\n",
       "      <td>0.0</td>\n",
       "      <td>0.0</td>\n",
       "      <td>0.183</td>\n",
       "      <td>0.030</td>\n",
       "      <td>0.113</td>\n",
       "      <td>0.001</td>\n",
       "      <td>0.001</td>\n",
       "      <td>0.002</td>\n",
       "      <td>0.0</td>\n",
       "    </tr>\n",
       "    <tr>\n",
       "      <th>23492</th>\n",
       "      <td>Zimbabwe</td>\n",
       "      <td>2020</td>\n",
       "      <td>ZWE</td>\n",
       "      <td>15669663.0</td>\n",
       "      <td>0.570</td>\n",
       "      <td>0.036</td>\n",
       "      <td>10.608</td>\n",
       "      <td>-0.507</td>\n",
       "      <td>-4.559</td>\n",
       "      <td>18.485</td>\n",
       "      <td>...</td>\n",
       "      <td>0.025</td>\n",
       "      <td>0.0</td>\n",
       "      <td>0.0</td>\n",
       "      <td>0.194</td>\n",
       "      <td>0.030</td>\n",
       "      <td>0.112</td>\n",
       "      <td>0.001</td>\n",
       "      <td>0.001</td>\n",
       "      <td>0.002</td>\n",
       "      <td>0.0</td>\n",
       "    </tr>\n",
       "    <tr>\n",
       "      <th>23493</th>\n",
       "      <td>Zimbabwe</td>\n",
       "      <td>2021</td>\n",
       "      <td>ZWE</td>\n",
       "      <td>15993525.0</td>\n",
       "      <td>0.570</td>\n",
       "      <td>0.036</td>\n",
       "      <td>11.296</td>\n",
       "      <td>0.688</td>\n",
       "      <td>6.488</td>\n",
       "      <td>18.771</td>\n",
       "      <td>...</td>\n",
       "      <td>0.025</td>\n",
       "      <td>0.0</td>\n",
       "      <td>0.0</td>\n",
       "      <td>0.190</td>\n",
       "      <td>0.030</td>\n",
       "      <td>0.111</td>\n",
       "      <td>0.001</td>\n",
       "      <td>0.001</td>\n",
       "      <td>0.002</td>\n",
       "      <td>0.0</td>\n",
       "    </tr>\n",
       "  </tbody>\n",
       "</table>\n",
       "<p>23153 rows × 55 columns</p>\n",
       "</div>"
      ],
      "text/plain": [
       "           country  year iso_code  population  cement_co2  \\\n",
       "0      Afghanistan  1949      AFG   7356890.0       0.000   \n",
       "1      Afghanistan  1950      AFG   7480464.0       0.000   \n",
       "2      Afghanistan  1951      AFG   7571542.0       0.000   \n",
       "3      Afghanistan  1952      AFG   7667534.0       0.000   \n",
       "4      Afghanistan  1953      AFG   7764549.0       0.000   \n",
       "...            ...   ...      ...         ...         ...   \n",
       "23489     Zimbabwe  2017      ZWE  14751101.0       0.469   \n",
       "23490     Zimbabwe  2018      ZWE  15052191.0       0.558   \n",
       "23491     Zimbabwe  2019      ZWE  15354606.0       0.570   \n",
       "23492     Zimbabwe  2020      ZWE  15669663.0       0.570   \n",
       "23493     Zimbabwe  2021      ZWE  15993525.0       0.570   \n",
       "\n",
       "       cement_co2_per_capita     co2  co2_growth_abs  co2_growth_prct  \\\n",
       "0                      0.000   0.015             NaN              NaN   \n",
       "1                      0.000   0.084           0.070          475.000   \n",
       "2                      0.000   0.092           0.007            8.696   \n",
       "3                      0.000   0.092           0.000            0.000   \n",
       "4                      0.000   0.106           0.015           16.000   \n",
       "...                      ...     ...             ...              ...   \n",
       "23489                  0.032   9.596          -0.937           -8.899   \n",
       "23490                  0.037  11.795           2.199           22.920   \n",
       "23491                  0.037  11.115          -0.681           -5.772   \n",
       "23492                  0.036  10.608          -0.507           -4.559   \n",
       "23493                  0.036  11.296           0.688            6.488   \n",
       "\n",
       "       co2_including_luc  ...  share_global_cumulative_oil_co2  \\\n",
       "0                  8.039  ...                            0.000   \n",
       "1                  8.585  ...                            0.000   \n",
       "2                  9.142  ...                            0.000   \n",
       "3                  9.948  ...                            0.001   \n",
       "4                 10.915  ...                            0.001   \n",
       "...                  ...  ...                              ...   \n",
       "23489             19.086  ...                            0.024   \n",
       "23490             20.626  ...                            0.025   \n",
       "23491             19.432  ...                            0.025   \n",
       "23492             18.485  ...                            0.025   \n",
       "23493             18.771  ...                            0.025   \n",
       "\n",
       "       share_global_flaring_co2  share_global_gas_co2  share_global_luc_co2  \\\n",
       "0                           NaN                   0.0                 0.160   \n",
       "1                           0.0                   0.0                 0.157   \n",
       "2                           0.0                   0.0                 0.162   \n",
       "3                           0.0                   0.0                 0.172   \n",
       "4                           0.0                   0.0                 0.185   \n",
       "...                         ...                   ...                   ...   \n",
       "23489                       0.0                   0.0                 0.219   \n",
       "23490                       0.0                   0.0                 0.211   \n",
       "23491                       0.0                   0.0                 0.183   \n",
       "23492                       0.0                   0.0                 0.194   \n",
       "23493                       0.0                   0.0                 0.190   \n",
       "\n",
       "       share_global_oil_co2  share_of_temperature_change_from_ghg  \\\n",
       "0                     0.000                                 0.129   \n",
       "1                     0.004                                 0.129   \n",
       "2                     0.004                                 0.129   \n",
       "3                     0.003                                 0.129   \n",
       "4                     0.003                                 0.129   \n",
       "...                     ...                                   ...   \n",
       "23489                 0.026                                 0.114   \n",
       "23490                 0.033                                 0.114   \n",
       "23491                 0.030                                 0.113   \n",
       "23492                 0.030                                 0.112   \n",
       "23493                 0.030                                 0.111   \n",
       "\n",
       "       temperature_change_from_ch4  temperature_change_from_co2  \\\n",
       "0                            0.000                        0.000   \n",
       "1                            0.000                        0.000   \n",
       "2                            0.000                        0.000   \n",
       "3                            0.000                        0.000   \n",
       "4                            0.000                        0.000   \n",
       "...                            ...                          ...   \n",
       "23489                        0.001                        0.001   \n",
       "23490                        0.001                        0.001   \n",
       "23491                        0.001                        0.001   \n",
       "23492                        0.001                        0.001   \n",
       "23493                        0.001                        0.001   \n",
       "\n",
       "       temperature_change_from_ghg  temperature_change_from_n2o  \n",
       "0                            0.000                          0.0  \n",
       "1                            0.000                          0.0  \n",
       "2                            0.001                          0.0  \n",
       "3                            0.001                          0.0  \n",
       "4                            0.001                          0.0  \n",
       "...                            ...                          ...  \n",
       "23489                        0.002                          0.0  \n",
       "23490                        0.002                          0.0  \n",
       "23491                        0.002                          0.0  \n",
       "23492                        0.002                          0.0  \n",
       "23493                        0.002                          0.0  \n",
       "\n",
       "[23153 rows x 55 columns]"
      ]
     },
     "execution_count": 18,
     "metadata": {},
     "output_type": "execute_result"
    }
   ],
   "source": [
    "df = df[~(df['cement_co2'].isnull() & (df['year'] > 1930))]\n",
    "df"
   ]
  },
  {
   "cell_type": "code",
   "execution_count": 19,
   "id": "5fa4905d-9c49-4388-8796-af7ad8ab40ab",
   "metadata": {},
   "outputs": [
    {
     "data": {
      "image/png": "[encoded data removed]",
      "text/plain": [
       "<Figure size 640x480 with 1 Axes>"
      ]
     },
     "metadata": {},
     "output_type": "display_data"
    }
   ],
   "source": [
    "df_cement_nulls = df[df[\"cement_co2\"].isnull()][[\"year\", \"cement_co2\"]]\n",
    "\n",
    "sns.histplot(data=df_cement_nulls, x=\"year\")\n",
    "plt.show()"
   ]
  },
  {
   "cell_type": "code",
   "execution_count": 20,
   "id": "53cbeff8-7de2-445f-a74a-839159a3953a",
   "metadata": {
    "scrolled": true
   },
   "outputs": [
    {
     "name": "stdout",
     "output_type": "stream",
     "text": [
      "          Count  Null    Null %  Zeros    Zeros %  Unique  Duplicated  \\\n",
      "year      23392     0  0.000000      0   0.000000     172         984   \n",
      "coal_co2  23392     0  0.000000   6719  28.723495   10076         984   \n",
      "gas_co2   23392    27  0.115424  14120  60.362517    6168         984   \n",
      "oil_co2   23392     0  0.000000   2335   9.982045   10528         984   \n",
      "\n",
      "          Under Zeros  \n",
      "year                0  \n",
      "coal_co2            0  \n",
      "gas_co2             0  \n",
      "oil_co2             0  \n",
      "                                 year  coal_co2\n",
      "country                                        \n",
      "Namibia                             1         1\n",
      "South Korea                         1         1\n",
      "Puerto Rico                         1         1\n",
      "Sri Lanka                           2         2\n",
      "Serbia                              2         2\n",
      "...                               ...       ...\n",
      "Bonaire Sint Eustatius and Saba    95        95\n",
      "Curacao                            95        95\n",
      "Sint Maarten (Dutch part)          95        95\n",
      "Trinidad and Tobago                98        98\n",
      "Ecuador                           105       105\n",
      "\n",
      "[159 rows x 2 columns]\n",
      "['Albania' 'Algeria' 'Andorra' 'Angola' 'Anguilla' 'Antigua and Barbuda'\n",
      " 'Armenia' 'Aruba' 'Azerbaijan' 'Bahamas' 'Bahrain' 'Barbados' 'Belize'\n",
      " 'Benin' 'Bermuda' 'Bhutan' 'Bolivia' 'Bonaire Sint Eustatius and Saba'\n",
      " 'Bosnia and Herzegovina' 'British Virgin Islands' 'Brunei' 'Burkina Faso'\n",
      " 'Burundi' 'Cambodia' 'Cameroon' 'Cape Verde' 'Central African Republic'\n",
      " 'Chad' 'Colombia' 'Comoros' 'Congo' 'Cook Islands' 'Costa Rica'\n",
      " \"Cote d'Ivoire\" 'Croatia' 'Cuba' 'Curacao' 'Cyprus'\n",
      " 'Democratic Republic of Congo' 'Djibouti' 'Dominica' 'Dominican Republic'\n",
      " 'East Timor' 'Ecuador' 'Egypt' 'El Salvador' 'Equatorial Guinea'\n",
      " 'Eritrea' 'Ethiopia' 'Faroe Islands' 'Fiji' 'French Guiana'\n",
      " 'French Polynesia' 'Gabon' 'Gambia' 'Ghana' 'Greenland' 'Grenada'\n",
      " 'Guadeloupe' 'Guatemala' 'Guinea' 'Guinea-Bissau' 'Guyana' 'Haiti'\n",
      " 'Honduras' 'Hong Kong' 'Iceland' 'Indonesia' 'Iran' 'Iraq' 'Israel'\n",
      " 'Jamaica' 'Jordan' 'Kiribati' 'Kuwait' 'Laos' 'Lebanon' 'Liberia' 'Libya'\n",
      " 'Liechtenstein' 'Luxembourg' 'Macao' 'Madagascar' 'Malaysia' 'Maldives'\n",
      " 'Mali' 'Malta' 'Marshall Islands' 'Martinique' 'Mauritania' 'Mauritius'\n",
      " 'Mayotte' 'Micronesia (country)' 'Montenegro' 'Montserrat' 'Morocco'\n",
      " 'Mozambique' 'Myanmar' 'Namibia' 'Nauru' 'Nepal' 'Nicaragua' 'Niger'\n",
      " 'Niue' 'North Korea' 'North Macedonia' 'Oman' 'Palau' 'Palestine'\n",
      " 'Panama' 'Papua New Guinea' 'Paraguay' 'Peru' 'Philippines' 'Puerto Rico'\n",
      " 'Qatar' 'Reunion' 'Romania' 'Rwanda' 'Saint Helena'\n",
      " 'Saint Kitts and Nevis' 'Saint Lucia' 'Saint Pierre and Miquelon'\n",
      " 'Saint Vincent and the Grenadines' 'Samoa' 'Sao Tome and Principe'\n",
      " 'Saudi Arabia' 'Senegal' 'Serbia' 'Seychelles' 'Sierra Leone' 'Singapore'\n",
      " 'Sint Maarten (Dutch part)' 'Slovenia' 'Solomon Islands' 'Somalia'\n",
      " 'South America' 'South Korea' 'South Sudan' 'Sri Lanka' 'Sudan'\n",
      " 'Suriname' 'Syria' 'Tanzania' 'Thailand' 'Togo' 'Tonga'\n",
      " 'Trinidad and Tobago' 'Tunisia' 'Turkmenistan' 'Turks and Caicos Islands'\n",
      " 'Tuvalu' 'Uganda' 'United Arab Emirates' 'Uruguay' 'Vanuatu' 'Venezuela'\n",
      " 'Wallis and Futuna' 'Yemen']\n"
     ]
    },
    {
     "data": {
      "image/png": "[encoded data removed]",
      "text/plain": [
       "<Figure size 640x480 with 1 Axes>"
      ]
     },
     "metadata": {},
     "output_type": "display_data"
    }
   ],
   "source": [
    "info_oil = pd.DataFrame({\n",
    "    \"Count\": [df_it2.shape[0]] * len(df_it2.columns),\n",
    "    \"Null\": df_it2.isnull().sum(),\n",
    "    \"Null %\": df_it2.isnull().mean() * 100,\n",
    "    \"Zeros\": (df_it2 == 0).sum(),\n",
    "    \"Zeros %\": (df_it2 == 0).mean() * 100,\n",
    "    \"Unique\": df_it2.nunique(),\n",
    "    \"Duplicated\": [df_it2.duplicated().sum()] * len(df_it2.columns),\n",
    "    \"Under Zeros\": (df_it2 < 0).sum()\n",
    "}, index=df_it2.columns)\n",
    "\n",
    "print(info_oil)\n",
    "\n",
    "df_coal_zero = df[df[\"coal_co2\"] == 0][[\"year\", \"coal_co2\",\"country\"]]\n",
    "\n",
    "df_coal_zero_grouped = df_coal_zero.groupby(\"country\").count()\n",
    "print(df_coal_zero_grouped.sort_values(by=\"coal_co2\"))\n",
    "\n",
    "print(df_coal_zero[\"country\"].unique())\n",
    "sns.histplot(data=df_coal_zero, x=\"year\")\n",
    "plt.show()"
   ]
  },
  {
   "cell_type": "markdown",
   "id": "71d850fc-70af-4da8-9eca-5b517211e040",
   "metadata": {},
   "source": [
    "### Unificamos criterios\n",
    "\n",
    "los nulos pasan a ser ceros."
   ]
  },
  {
   "cell_type": "code",
   "execution_count": 64,
   "id": "ee50d269-9aeb-4d45-b603-2a6be7d757a1",
   "metadata": {},
   "outputs": [
    {
     "name": "stdout",
     "output_type": "stream",
     "text": [
      "                     Count  Null  Null %  Zeros    Zeros %  Unique  \\\n",
      "cement_co2           23153     0     0.0  10298  44.478037    5261   \n",
      "coal_co2             23153     0     0.0   6569  28.372133   10054   \n",
      "flaring_co2          23153     0     0.0  18227  78.724139    3266   \n",
      "gas_co2              23153     0     0.0  13918  60.113160    6165   \n",
      "land_use_change_co2  23153     0     0.0   1831   7.908262    6992   \n",
      "oil_co2              23153     0     0.0   2335  10.085086   10498   \n",
      "\n",
      "                     Duplicated  Under Zeros  \n",
      "cement_co2                    0            0  \n",
      "coal_co2                      0            0  \n",
      "flaring_co2                   0            0  \n",
      "gas_co2                       0            0  \n",
      "land_use_change_co2           0         3449  \n",
      "oil_co2                       0            0  \n"
     ]
    }
   ],
   "source": [
    "columns_to_check = [\"cement_co2\", \"coal_co2\", \"flaring_co2\", \"gas_co2\", \"land_use_change_co2\", \"oil_co2\"]\n",
    "\n",
    "df[columns_to_check] = df[columns_to_check].fillna(0)\n",
    "\n",
    "\n",
    "info = pd.DataFrame({\n",
    "    \"Count\": [df.shape[0]] * len(columns_to_check),\n",
    "    \"Null\": df[columns_to_check].isnull().sum(),\n",
    "    \"Null %\": df[columns_to_check].isnull().mean() * 100,\n",
    "    \"Zeros\": (df[columns_to_check] == 0).sum(),\n",
    "    \"Zeros %\": (df[columns_to_check] == 0).mean() * 100,\n",
    "    \"Unique\": df[columns_to_check].nunique(),\n",
    "    \"Duplicated\": [df.duplicated().sum()] * len(columns_to_check),\n",
    "    \"Under Zeros\": (df[columns_to_check] < 0).sum()\n",
    "}, index=columns_to_check)\n",
    "\n",
    "print(info)\n"
   ]
  },
  {
   "cell_type": "markdown",
   "id": "91b0084a-b489-4362-a3cb-beb319e8aa95",
   "metadata": {},
   "source": [
    "## Comenzamos el análisis"
   ]
  },
  {
   "cell_type": "markdown",
   "id": "00261899-650f-482c-8d95-8f8f21410578",
   "metadata": {},
   "source": [
    "#### How has the global trend of CO2 emissions evolved, and which periods have shown significant changes in this trajectory?\n"
   ]
  },
  {
   "cell_type": "code",
   "execution_count": 25,
   "id": "fe25db47-9f4c-4a41-b33d-a7b145450daf",
   "metadata": {},
   "outputs": [
    {
     "name": "stderr",
     "output_type": "stream",
     "text": [
      "No artists with labels found to put in legend.  Note that artists whose label start with an underscore are ignored when legend() is called with no argument.\n"
     ]
    },
    {
     "data": {
      "image/png": "[encoded data removed]",
      "text/plain": [
       "<Figure size 1000x600 with 1 Axes>"
      ]
     },
     "metadata": {},
     "output_type": "display_data"
    }
   ],
   "source": [
    "df_it1_grouped = df.groupby(\"year\")['co2'].sum().reset_index()\n",
    "\n",
    "plt.figure(figsize=(10, 6))\n",
    "\n",
    "plt.plot(df_it1_grouped[\"year\"], df_it1_grouped['co2'])\n",
    "\n",
    "plt.xlabel(\"Year\")\n",
    "plt.ylabel(\"Emissions (MtCO2)\")\n",
    "plt.title(\"Evolution of Emissions by Source Over Time\")\n",
    "plt.legend(title=\"Emission Source\")\n",
    "plt.grid(True)\n",
    "plt.show()"
   ]
  },
  {
   "cell_type": "code",
   "execution_count": 79,
   "id": "78ec5be3-a0ff-4382-a602-2f583a5767d2",
   "metadata": {},
   "outputs": [
    {
     "data": {
      "text/html": [
       "<div>\n",
       "<style scoped>\n",
       "    .dataframe tbody tr th:only-of-type {\n",
       "        vertical-align: middle;\n",
       "    }\n",
       "\n",
       "    .dataframe tbody tr th {\n",
       "        vertical-align: top;\n",
       "    }\n",
       "\n",
       "    .dataframe thead th {\n",
       "        text-align: right;\n",
       "    }\n",
       "</style>\n",
       "<table border=\"1\" class=\"dataframe\">\n",
       "  <thead>\n",
       "    <tr style=\"text-align: right;\">\n",
       "      <th></th>\n",
       "      <th>year</th>\n",
       "      <th>coal_co2</th>\n",
       "      <th>gas_co2</th>\n",
       "      <th>oil_co2</th>\n",
       "      <th>cement_co2</th>\n",
       "      <th>flaring_co2</th>\n",
       "    </tr>\n",
       "  </thead>\n",
       "  <tbody>\n",
       "    <tr>\n",
       "      <th>23064</th>\n",
       "      <td>1855</td>\n",
       "      <td>260.129</td>\n",
       "      <td>0.000</td>\n",
       "      <td>0.037</td>\n",
       "      <td>0.000</td>\n",
       "      <td>0.000</td>\n",
       "    </tr>\n",
       "    <tr>\n",
       "      <th>23065</th>\n",
       "      <td>1856</td>\n",
       "      <td>277.251</td>\n",
       "      <td>0.000</td>\n",
       "      <td>0.040</td>\n",
       "      <td>0.000</td>\n",
       "      <td>0.000</td>\n",
       "    </tr>\n",
       "    <tr>\n",
       "      <th>23066</th>\n",
       "      <td>1857</td>\n",
       "      <td>279.838</td>\n",
       "      <td>0.000</td>\n",
       "      <td>0.051</td>\n",
       "      <td>0.000</td>\n",
       "      <td>0.000</td>\n",
       "    </tr>\n",
       "    <tr>\n",
       "      <th>23067</th>\n",
       "      <td>1858</td>\n",
       "      <td>284.109</td>\n",
       "      <td>0.000</td>\n",
       "      <td>0.062</td>\n",
       "      <td>0.000</td>\n",
       "      <td>0.000</td>\n",
       "    </tr>\n",
       "    <tr>\n",
       "      <th>23068</th>\n",
       "      <td>1859</td>\n",
       "      <td>301.257</td>\n",
       "      <td>0.000</td>\n",
       "      <td>0.055</td>\n",
       "      <td>0.000</td>\n",
       "      <td>0.000</td>\n",
       "    </tr>\n",
       "    <tr>\n",
       "      <th>...</th>\n",
       "      <td>...</td>\n",
       "      <td>...</td>\n",
       "      <td>...</td>\n",
       "      <td>...</td>\n",
       "      <td>...</td>\n",
       "      <td>...</td>\n",
       "    </tr>\n",
       "    <tr>\n",
       "      <th>23226</th>\n",
       "      <td>2017</td>\n",
       "      <td>14506.974</td>\n",
       "      <td>7144.928</td>\n",
       "      <td>12242.628</td>\n",
       "      <td>1507.923</td>\n",
       "      <td>391.992</td>\n",
       "    </tr>\n",
       "    <tr>\n",
       "      <th>23227</th>\n",
       "      <td>2018</td>\n",
       "      <td>14746.831</td>\n",
       "      <td>7529.847</td>\n",
       "      <td>12266.017</td>\n",
       "      <td>1569.218</td>\n",
       "      <td>412.116</td>\n",
       "    </tr>\n",
       "    <tr>\n",
       "      <th>23228</th>\n",
       "      <td>2019</td>\n",
       "      <td>14725.978</td>\n",
       "      <td>7647.528</td>\n",
       "      <td>12345.653</td>\n",
       "      <td>1617.507</td>\n",
       "      <td>439.254</td>\n",
       "    </tr>\n",
       "    <tr>\n",
       "      <th>23229</th>\n",
       "      <td>2020</td>\n",
       "      <td>14174.564</td>\n",
       "      <td>7556.290</td>\n",
       "      <td>11191.809</td>\n",
       "      <td>1637.537</td>\n",
       "      <td>407.584</td>\n",
       "    </tr>\n",
       "    <tr>\n",
       "      <th>23230</th>\n",
       "      <td>2021</td>\n",
       "      <td>14979.598</td>\n",
       "      <td>7921.830</td>\n",
       "      <td>11837.159</td>\n",
       "      <td>1672.592</td>\n",
       "      <td>416.526</td>\n",
       "    </tr>\n",
       "  </tbody>\n",
       "</table>\n",
       "<p>167 rows × 6 columns</p>\n",
       "</div>"
      ],
      "text/plain": [
       "       year   coal_co2   gas_co2    oil_co2  cement_co2  flaring_co2\n",
       "23064  1855    260.129     0.000      0.037       0.000        0.000\n",
       "23065  1856    277.251     0.000      0.040       0.000        0.000\n",
       "23066  1857    279.838     0.000      0.051       0.000        0.000\n",
       "23067  1858    284.109     0.000      0.062       0.000        0.000\n",
       "23068  1859    301.257     0.000      0.055       0.000        0.000\n",
       "...     ...        ...       ...        ...         ...          ...\n",
       "23226  2017  14506.974  7144.928  12242.628    1507.923      391.992\n",
       "23227  2018  14746.831  7529.847  12266.017    1569.218      412.116\n",
       "23228  2019  14725.978  7647.528  12345.653    1617.507      439.254\n",
       "23229  2020  14174.564  7556.290  11191.809    1637.537      407.584\n",
       "23230  2021  14979.598  7921.830  11837.159    1672.592      416.526\n",
       "\n",
       "[167 rows x 6 columns]"
      ]
     },
     "execution_count": 79,
     "metadata": {},
     "output_type": "execute_result"
    }
   ],
   "source": [
    "df_world = df[df['country'] == 'World'][[\"year\", \"coal_co2\", \"gas_co2\", \"oil_co2\",\"cement_co2\", \"flaring_co2\"]]\n",
    "df_world"
   ]
  },
  {
   "cell_type": "markdown",
   "id": "1a7f6ffd-a1f3-4cdb-b7ac-8e1870412d12",
   "metadata": {},
   "source": [
    "# Iteration 2"
   ]
  },
  {
   "cell_type": "markdown",
   "id": "8ab85c53-0b2d-4754-9b74-58edb7f2b8ef",
   "metadata": {},
   "source": [
    "##### Which sectors are most responsible for emissions, and how has their contribution varied over the decades?\n"
   ]
  },
  {
   "cell_type": "code",
   "execution_count": 81,
   "id": "d484588a-69a6-4bb5-977d-20f575ef1bb4",
   "metadata": {},
   "outputs": [
    {
     "data": {
      "image/png": "[encoded data removed]",
      "text/plain": [
       "<Figure size 1000x600 with 1 Axes>"
      ]
     },
     "metadata": {},
     "output_type": "display_data"
    }
   ],
   "source": [
    "df_it2_grouped = df_world.groupby(\"year\").sum().reset_index()\n",
    "\n",
    "legend_names = {\n",
    "    \"coal_co2\": \"Coal CO2 Emissions\",\n",
    "    \"gas_co2\": \"Gas CO2 Emissions\",\n",
    "    \"oil_co2\": \"Oil CO2 Emissions\",\n",
    "    \"gas_co2\": \"Gas CO2 Emissions\",\n",
    "    \"oil_co2\": \"Oil CO2 Emissions\",\n",
    "}\n",
    "\n",
    "plt.figure(figsize=(10, 6))\n",
    "\n",
    "colors = ['blue', 'green', 'red', 'purple', 'orange']\n",
    "\n",
    "for i, column in enumerate(df_it2_grouped.columns[1:]):\n",
    "    label = legend_names.get(column, column) \n",
    "    plt.plot(df_it2_grouped[\"year\"], df_it2_grouped[column], label=label, color=colors[i % len(colors)])\n",
    "\n",
    "plt.xlabel(\"Year\", fontsize=12)\n",
    "plt.ylabel(\"Emissions (MtCO2)\", fontsize=12)\n",
    "plt.title(\"Evolution of Emissions\", fontsize=16)\n",
    "\n",
    "plt.legend(title=\"Emission Source\", title_fontsize=12, fontsize=10)\n",
    "\n",
    "def thousands_formatter(x, pos):\n",
    "    return f'{int(x/1000)}k'\n",
    "\n",
    "plt.gca().yaxis.set_major_formatter(FuncFormatter(thousands_formatter))\n",
    "\n",
    "plt.grid(True)\n",
    "\n",
    "plt.show()\n",
    "\n"
   ]
  },
  {
   "cell_type": "code",
   "execution_count": 49,
   "id": "8c598cc3-ee6b-4ca8-a8e0-19c840fccbc4",
   "metadata": {},
   "outputs": [
    {
     "data": {
      "text/html": [
       "<div>\n",
       "<style scoped>\n",
       "    .dataframe tbody tr th:only-of-type {\n",
       "        vertical-align: middle;\n",
       "    }\n",
       "\n",
       "    .dataframe tbody tr th {\n",
       "        vertical-align: top;\n",
       "    }\n",
       "\n",
       "    .dataframe thead th {\n",
       "        text-align: right;\n",
       "    }\n",
       "</style>\n",
       "<table border=\"1\" class=\"dataframe\">\n",
       "  <thead>\n",
       "    <tr style=\"text-align: right;\">\n",
       "      <th></th>\n",
       "      <th>cement_co2</th>\n",
       "      <th>flaring_co2</th>\n",
       "      <th>year</th>\n",
       "    </tr>\n",
       "  </thead>\n",
       "  <tbody>\n",
       "    <tr>\n",
       "      <th>23064</th>\n",
       "      <td>NaN</td>\n",
       "      <td>NaN</td>\n",
       "      <td>1855</td>\n",
       "    </tr>\n",
       "    <tr>\n",
       "      <th>23065</th>\n",
       "      <td>NaN</td>\n",
       "      <td>NaN</td>\n",
       "      <td>1856</td>\n",
       "    </tr>\n",
       "    <tr>\n",
       "      <th>23066</th>\n",
       "      <td>NaN</td>\n",
       "      <td>NaN</td>\n",
       "      <td>1857</td>\n",
       "    </tr>\n",
       "    <tr>\n",
       "      <th>23067</th>\n",
       "      <td>NaN</td>\n",
       "      <td>NaN</td>\n",
       "      <td>1858</td>\n",
       "    </tr>\n",
       "    <tr>\n",
       "      <th>23068</th>\n",
       "      <td>NaN</td>\n",
       "      <td>NaN</td>\n",
       "      <td>1859</td>\n",
       "    </tr>\n",
       "    <tr>\n",
       "      <th>...</th>\n",
       "      <td>...</td>\n",
       "      <td>...</td>\n",
       "      <td>...</td>\n",
       "    </tr>\n",
       "    <tr>\n",
       "      <th>23226</th>\n",
       "      <td>1507.923</td>\n",
       "      <td>391.992</td>\n",
       "      <td>2017</td>\n",
       "    </tr>\n",
       "    <tr>\n",
       "      <th>23227</th>\n",
       "      <td>1569.218</td>\n",
       "      <td>412.116</td>\n",
       "      <td>2018</td>\n",
       "    </tr>\n",
       "    <tr>\n",
       "      <th>23228</th>\n",
       "      <td>1617.507</td>\n",
       "      <td>439.254</td>\n",
       "      <td>2019</td>\n",
       "    </tr>\n",
       "    <tr>\n",
       "      <th>23229</th>\n",
       "      <td>1637.537</td>\n",
       "      <td>407.584</td>\n",
       "      <td>2020</td>\n",
       "    </tr>\n",
       "    <tr>\n",
       "      <th>23230</th>\n",
       "      <td>1672.592</td>\n",
       "      <td>416.526</td>\n",
       "      <td>2021</td>\n",
       "    </tr>\n",
       "  </tbody>\n",
       "</table>\n",
       "<p>167 rows × 3 columns</p>\n",
       "</div>"
      ],
      "text/plain": [
       "       cement_co2  flaring_co2  year\n",
       "23064         NaN          NaN  1855\n",
       "23065         NaN          NaN  1856\n",
       "23066         NaN          NaN  1857\n",
       "23067         NaN          NaN  1858\n",
       "23068         NaN          NaN  1859\n",
       "...           ...          ...   ...\n",
       "23226    1507.923      391.992  2017\n",
       "23227    1569.218      412.116  2018\n",
       "23228    1617.507      439.254  2019\n",
       "23229    1637.537      407.584  2020\n",
       "23230    1672.592      416.526  2021\n",
       "\n",
       "[167 rows x 3 columns]"
      ]
     },
     "execution_count": 49,
     "metadata": {},
     "output_type": "execute_result"
    }
   ],
   "source": [
    "df_world_cement_flagrant = df[df['country'] == 'World'][[\"cement_co2\", \"flaring_co2\",\"year\"]]\n",
    "df_world_cement_flagrant\n",
    "\n"
   ]
  },
  {
   "cell_type": "markdown",
   "id": "e30c96a8-b5c5-43fd-b1ce-bae4cd326db6",
   "metadata": {},
   "source": [
    "## COntribución a las emisiones mundiales por sector"
   ]
  },
  {
   "cell_type": "code",
   "execution_count": 71,
   "id": "e2b8f9d2-02c7-4881-b9b1-367af72bdbcc",
   "metadata": {},
   "outputs": [
    {
     "data": {
      "image/png": "[encoded data removed]",
      "text/plain": [
       "<Figure size 900x900 with 1 Axes>"
      ]
     },
     "metadata": {},
     "output_type": "display_data"
    }
   ],
   "source": [
    "df_world_contribution = df[df['country'] == 'World'][[\"year\", \"coal_co2\", \"gas_co2\", \"oil_co2\", \"flaring_co2\", \"cement_co2\"]]\n",
    "total_contributions = df_world_contribution[[\"coal_co2\", \"gas_co2\", \"oil_co2\", \"flaring_co2\", \"cement_co2\"]].sum()\n",
    "\n",
    "contributions_pie = {\n",
    "    \"Coal\": total_contributions[\"coal_co2\"],\n",
    "    \"Gas\": total_contributions[\"gas_co2\"],\n",
    "    \"Oil\": total_contributions[\"oil_co2\"],\n",
    "    \"Others\": total_contributions[\"flaring_co2\"] + total_contributions[\"cement_co2\"]\n",
    "}\n",
    "\n",
    "\n",
    "plt.figure(figsize=(9, 9))\n",
    "plt.pie(contributions_pie.values(), labels=contributions_pie.keys(), autopct='%1.1f%%', startangle=1 últimos 10 años40)\n",
    "plt.title(\"Historical Total Contribution by Emission Source\")\n",
    "plt.show()\n",
    "\n"
   ]
  },
  {
   "cell_type": "markdown",
   "id": "2242939d-fe72-41a2-8459-ab813416ce22",
   "metadata": {},
   "source": [
    "### contribución últimos 10 años"
   ]
  },
  {
   "cell_type": "code",
   "execution_count": 89,
   "id": "00f52ac6-2581-40a0-8954-4fa341f39d02",
   "metadata": {},
   "outputs": [
    {
     "data": {
      "image/png": "[encoded data removed]",
      "text/plain": [
       "<Figure size 900x900 with 1 Axes>"
      ]
     },
     "metadata": {},
     "output_type": "display_data"
    }
   ],
   "source": [
    "df_world_contribution = df[(df['country'] == 'World') & (df['year'] > 2010)][[\"year\", \"coal_co2\", \"gas_co2\", \"oil_co2\", \"flaring_co2\", \"cement_co2\"]]\n",
    "total_contributions = df_world_contribution[[\"coal_co2\", \"gas_co2\", \"oil_co2\", \"flaring_co2\", \"cement_co2\"]].sum()\n",
    "\n",
    "contributions_pie = {\n",
    "    \"Coal\": total_contributions[\"coal_co2\"],\n",
    "    \"Gas\": total_contributions[\"gas_co2\"],\n",
    "    \"Oil\": total_contributions[\"oil_co2\"],\n",
    "    \"Others\": total_contributions[\"flaring_co2\"] + total_contributions[\"cement_co2\"]\n",
    "}\n",
    "\n",
    "\n",
    "plt.figure(figsize=(9, 9))\n",
    "plt.pie(contributions_pie.values(), labels=contributions_pie.keys(), autopct='%1.1f%%', startangle=140)\n",
    "plt.title(\"H últimos 10 años\")\n",
    "plt.show()\n"
   ]
  },
  {
   "cell_type": "code",
   "execution_count": 97,
   "id": "bd94087d-a75a-4bff-9644-7505fc06d7d9",
   "metadata": {},
   "outputs": [
    {
     "name": "stdout",
     "output_type": "stream",
     "text": [
      "Rango de años en los datos: 1850 a 2021\n",
      "Valor histórico total de CO2 por fuente:\n",
      "coal_co2       798551.930\n",
      "gas_co2        254057.819\n",
      "oil_co2        605476.731\n",
      "flaring_co2     18454.288\n",
      "cement_co2      45066.925\n",
      "dtype: float64\n",
      "Últimos 10 años en los datos: 2011 a 2021\n",
      "Emisiones acumuladas de CO2 en los últimos 10 años:\n",
      "coal_co2       705802.347\n",
      "gas_co2        378542.532\n",
      "oil_co2        560378.010\n",
      "flaring_co2     20627.633\n",
      "cement_co2      72694.822\n",
      "dtype: float64\n",
      "¡Alerta! Las emisiones de gas en los últimos 10 años son mayores que el total histórico. Revisando datos...\n",
      "Valores para el gráfico:\n",
      "[798551.93, 254057.81900000002, 605476.731, 18454.288, 45066.924999999996]\n",
      "[705802.3470000001, 378542.532, 560378.01, 20627.633, 72694.82199999999]\n"
     ]
    },
    {
     "data": {
      "application/vnd.plotly.v1+json": {
       "config": {
        "plotlyServerURL": "https://plot.ly"
       },
       "data": [
        {
         "marker": {
          "color": "lightblue"
         },
         "name": "Total Historical CO2 Emissions",
         "type": "bar",
         "x": [
          "Coal",
          "Gas",
          "Oil",
          "Flaring",
          "Cement"
         ],
         "y": [
          798551.93,
          254057.81900000002,
          605476.731,
          18454.288,
          45066.924999999996
         ]
        },
        {
         "marker": {
          "color": "orange"
         },
         "name": "CO2 Emissions (Last 10 Years)",
         "type": "bar",
         "x": [
          "Coal",
          "Gas",
          "Oil",
          "Flaring",
          "Cement"
         ],
         "y": [
          705802.3470000001,
          378542.532,
          560378.01,
          20627.633,
          72694.82199999999
         ]
        }
       ],
       "layout": {
        "autosize": true,
        "barmode": "group",
        "template": {
         "data": {
          "bar": [
           {
            "error_x": {
             "color": "#2a3f5f"
            },
            "error_y": {
             "color": "#2a3f5f"
            },
            "marker": {
             "line": {
              "color": "white",
              "width": 0.5
             },
             "pattern": {
              "fillmode": "overlay",
              "size": 10,
              "solidity": 0.2
             }
            },
            "type": "bar"
           }
          ],
          "barpolar": [
           {
            "marker": {
             "line": {
              "color": "white",
              "width": 0.5
             },
             "pattern": {
              "fillmode": "overlay",
              "size": 10,
              "solidity": 0.2
             }
            },
            "type": "barpolar"
           }
          ],
          "carpet": [
           {
            "aaxis": {
             "endlinecolor": "#2a3f5f",
             "gridcolor": "#C8D4E3",
             "linecolor": "#C8D4E3",
             "minorgridcolor": "#C8D4E3",
             "startlinecolor": "#2a3f5f"
            },
            "baxis": {
             "endlinecolor": "#2a3f5f",
             "gridcolor": "#C8D4E3",
             "linecolor": "#C8D4E3",
             "minorgridcolor": "#C8D4E3",
             "startlinecolor": "#2a3f5f"
            },
            "type": "carpet"
           }
          ],
          "choropleth": [
           {
            "colorbar": {
             "outlinewidth": 0,
             "ticks": ""
            },
            "type": "choropleth"
           }
          ],
          "contour": [
           {
            "colorbar": {
             "outlinewidth": 0,
             "ticks": ""
            },
            "colorscale": [
             [
              0,
              "#0d0887"
             ],
             [
              0.1111111111111111,
              "#46039f"
             ],
             [
              0.2222222222222222,
              "#7201a8"
             ],
             [
              0.3333333333333333,
              "#9c179e"
             ],
             [
              0.4444444444444444,
              "#bd3786"
             ],
             [
              0.5555555555555556,
              "#d8576b"
             ],
             [
              0.6666666666666666,
              "#ed7953"
             ],
             [
              0.7777777777777778,
              "#fb9f3a"
             ],
             [
              0.8888888888888888,
              "#fdca26"
             ],
             [
              1,
              "#f0f921"
             ]
            ],
            "type": "contour"
           }
          ],
          "contourcarpet": [
           {
            "colorbar": {
             "outlinewidth": 0,
             "ticks": ""
            },
            "type": "contourcarpet"
           }
          ],
          "heatmap": [
           {
            "colorbar": {
             "outlinewidth": 0,
             "ticks": ""
            },
            "colorscale": [
             [
              0,
              "#0d0887"
             ],
             [
              0.1111111111111111,
              "#46039f"
             ],
             [
              0.2222222222222222,
              "#7201a8"
             ],
             [
              0.3333333333333333,
              "#9c179e"
             ],
             [
              0.4444444444444444,
              "#bd3786"
             ],
             [
              0.5555555555555556,
              "#d8576b"
             ],
             [
              0.6666666666666666,
              "#ed7953"
             ],
             [
              0.7777777777777778,
              "#fb9f3a"
             ],
             [
              0.8888888888888888,
              "#fdca26"
             ],
             [
              1,
              "#f0f921"
             ]
            ],
            "type": "heatmap"
           }
          ],
          "heatmapgl": [
           {
            "colorbar": {
             "outlinewidth": 0,
             "ticks": ""
            },
            "colorscale": [
             [
              0,
              "#0d0887"
             ],
             [
              0.1111111111111111,
              "#46039f"
             ],
             [
              0.2222222222222222,
              "#7201a8"
             ],
             [
              0.3333333333333333,
              "#9c179e"
             ],
             [
              0.4444444444444444,
              "#bd3786"
             ],
             [
              0.5555555555555556,
              "#d8576b"
             ],
             [
              0.6666666666666666,
              "#ed7953"
             ],
             [
              0.7777777777777778,
              "#fb9f3a"
             ],
             [
              0.8888888888888888,
              "#fdca26"
             ],
             [
              1,
              "#f0f921"
             ]
            ],
            "type": "heatmapgl"
           }
          ],
          "histogram": [
           {
            "marker": {
             "pattern": {
              "fillmode": "overlay",
              "size": 10,
              "solidity": 0.2
             }
            },
            "type": "histogram"
           }
          ],
          "histogram2d": [
           {
            "colorbar": {
             "outlinewidth": 0,
             "ticks": ""
            },
            "colorscale": [
             [
              0,
              "#0d0887"
             ],
             [
              0.1111111111111111,
              "#46039f"
             ],
             [
              0.2222222222222222,
              "#7201a8"
             ],
             [
              0.3333333333333333,
              "#9c179e"
             ],
             [
              0.4444444444444444,
              "#bd3786"
             ],
             [
              0.5555555555555556,
              "#d8576b"
             ],
             [
              0.6666666666666666,
              "#ed7953"
             ],
             [
              0.7777777777777778,
              "#fb9f3a"
             ],
             [
              0.8888888888888888,
              "#fdca26"
             ],
             [
              1,
              "#f0f921"
             ]
            ],
            "type": "histogram2d"
           }
          ],
          "histogram2dcontour": [
           {
            "colorbar": {
             "outlinewidth": 0,
             "ticks": ""
            },
            "colorscale": [
             [
              0,
              "#0d0887"
             ],
             [
              0.1111111111111111,
              "#46039f"
             ],
             [
              0.2222222222222222,
              "#7201a8"
             ],
             [
              0.3333333333333333,
              "#9c179e"
             ],
             [
              0.4444444444444444,
              "#bd3786"
             ],
             [
              0.5555555555555556,
              "#d8576b"
             ],
             [
              0.6666666666666666,
              "#ed7953"
             ],
             [
              0.7777777777777778,
              "#fb9f3a"
             ],
             [
              0.8888888888888888,
              "#fdca26"
             ],
             [
              1,
              "#f0f921"
             ]
            ],
            "type": "histogram2dcontour"
           }
          ],
          "mesh3d": [
           {
            "colorbar": {
             "outlinewidth": 0,
             "ticks": ""
            },
            "type": "mesh3d"
           }
          ],
          "parcoords": [
           {
            "line": {
             "colorbar": {
              "outlinewidth": 0,
              "ticks": ""
             }
            },
            "type": "parcoords"
           }
          ],
          "pie": [
           {
            "automargin": true,
            "type": "pie"
           }
          ],
          "scatter": [
           {
            "fillpattern": {
             "fillmode": "overlay",
             "size": 10,
             "solidity": 0.2
            },
            "type": "scatter"
           }
          ],
          "scatter3d": [
           {
            "line": {
             "colorbar": {
              "outlinewidth": 0,
              "ticks": ""
             }
            },
            "marker": {
             "colorbar": {
              "outlinewidth": 0,
              "ticks": ""
             }
            },
            "type": "scatter3d"
           }
          ],
          "scattercarpet": [
           {
            "marker": {
             "colorbar": {
              "outlinewidth": 0,
              "ticks": ""
             }
            },
            "type": "scattercarpet"
           }
          ],
          "scattergeo": [
           {
            "marker": {
             "colorbar": {
              "outlinewidth": 0,
              "ticks": ""
             }
            },
            "type": "scattergeo"
           }
          ],
          "scattergl": [
           {
            "marker": {
             "colorbar": {
              "outlinewidth": 0,
              "ticks": ""
             }
            },
            "type": "scattergl"
           }
          ],
          "scattermapbox": [
           {
            "marker": {
             "colorbar": {
              "outlinewidth": 0,
              "ticks": ""
             }
            },
            "type": "scattermapbox"
           }
          ],
          "scatterpolar": [
           {
            "marker": {
             "colorbar": {
              "outlinewidth": 0,
              "ticks": ""
             }
            },
            "type": "scatterpolar"
           }
          ],
          "scatterpolargl": [
           {
            "marker": {
             "colorbar": {
              "outlinewidth": 0,
              "ticks": ""
             }
            },
            "type": "scatterpolargl"
           }
          ],
          "scatterternary": [
           {
            "marker": {
             "colorbar": {
              "outlinewidth": 0,
              "ticks": ""
             }
            },
            "type": "scatterternary"
           }
          ],
          "surface": [
           {
            "colorbar": {
             "outlinewidth": 0,
             "ticks": ""
            },
            "colorscale": [
             [
              0,
              "#0d0887"
             ],
             [
              0.1111111111111111,
              "#46039f"
             ],
             [
              0.2222222222222222,
              "#7201a8"
             ],
             [
              0.3333333333333333,
              "#9c179e"
             ],
             [
              0.4444444444444444,
              "#bd3786"
             ],
             [
              0.5555555555555556,
              "#d8576b"
             ],
             [
              0.6666666666666666,
              "#ed7953"
             ],
             [
              0.7777777777777778,
              "#fb9f3a"
             ],
             [
              0.8888888888888888,
              "#fdca26"
             ],
             [
              1,
              "#f0f921"
             ]
            ],
            "type": "surface"
           }
          ],
          "table": [
           {
            "cells": {
             "fill": {
              "color": "#EBF0F8"
             },
             "line": {
              "color": "white"
             }
            },
            "header": {
             "fill": {
              "color": "#C8D4E3"
             },
             "line": {
              "color": "white"
             }
            },
            "type": "table"
           }
          ]
         },
         "layout": {
          "annotationdefaults": {
           "arrowcolor": "#2a3f5f",
           "arrowhead": 0,
           "arrowwidth": 1
          },
          "autotypenumbers": "strict",
          "coloraxis": {
           "colorbar": {
            "outlinewidth": 0,
            "ticks": ""
           }
          },
          "colorscale": {
           "diverging": [
            [
             0,
             "#8e0152"
            ],
            [
             0.1,
             "#c51b7d"
            ],
            [
             0.2,
             "#de77ae"
            ],
            [
             0.3,
             "#f1b6da"
            ],
            [
             0.4,
             "#fde0ef"
            ],
            [
             0.5,
             "#f7f7f7"
            ],
            [
             0.6,
             "#e6f5d0"
            ],
            [
             0.7,
             "#b8e186"
            ],
            [
             0.8,
             "#7fbc41"
            ],
            [
             0.9,
             "#4d9221"
            ],
            [
             1,
             "#276419"
            ]
           ],
           "sequential": [
            [
             0,
             "#0d0887"
            ],
            [
             0.1111111111111111,
             "#46039f"
            ],
            [
             0.2222222222222222,
             "#7201a8"
            ],
            [
             0.3333333333333333,
             "#9c179e"
            ],
            [
             0.4444444444444444,
             "#bd3786"
            ],
            [
             0.5555555555555556,
             "#d8576b"
            ],
            [
             0.6666666666666666,
             "#ed7953"
            ],
            [
             0.7777777777777778,
             "#fb9f3a"
            ],
            [
             0.8888888888888888,
             "#fdca26"
            ],
            [
             1,
             "#f0f921"
            ]
           ],
           "sequentialminus": [
            [
             0,
             "#0d0887"
            ],
            [
             0.1111111111111111,
             "#46039f"
            ],
            [
             0.2222222222222222,
             "#7201a8"
            ],
            [
             0.3333333333333333,
             "#9c179e"
            ],
            [
             0.4444444444444444,
             "#bd3786"
            ],
            [
             0.5555555555555556,
             "#d8576b"
            ],
            [
             0.6666666666666666,
             "#ed7953"
            ],
            [
             0.7777777777777778,
             "#fb9f3a"
            ],
            [
             0.8888888888888888,
             "#fdca26"
            ],
            [
             1,
             "#f0f921"
            ]
           ]
          },
          "colorway": [
           "#636efa",
           "#EF553B",
           "#00cc96",
           "#ab63fa",
           "#FFA15A",
           "#19d3f3",
           "#FF6692",
           "#B6E880",
           "#FF97FF",
           "#FECB52"
          ],
          "font": {
           "color": "#2a3f5f"
          },
          "geo": {
           "bgcolor": "white",
           "lakecolor": "white",
           "landcolor": "white",
           "showlakes": true,
           "showland": true,
           "subunitcolor": "#C8D4E3"
          },
          "hoverlabel": {
           "align": "left"
          },
          "hovermode": "closest",
          "mapbox": {
           "style": "light"
          },
          "paper_bgcolor": "white",
          "plot_bgcolor": "white",
          "polar": {
           "angularaxis": {
            "gridcolor": "#EBF0F8",
            "linecolor": "#EBF0F8",
            "ticks": ""
           },
           "bgcolor": "white",
           "radialaxis": {
            "gridcolor": "#EBF0F8",
            "linecolor": "#EBF0F8",
            "ticks": ""
           }
          },
          "scene": {
           "xaxis": {
            "backgroundcolor": "white",
            "gridcolor": "#DFE8F3",
            "gridwidth": 2,
            "linecolor": "#EBF0F8",
            "showbackground": true,
            "ticks": "",
            "zerolinecolor": "#EBF0F8"
           },
           "yaxis": {
            "backgroundcolor": "white",
            "gridcolor": "#DFE8F3",
            "gridwidth": 2,
            "linecolor": "#EBF0F8",
            "showbackground": true,
            "ticks": "",
            "zerolinecolor": "#EBF0F8"
           },
           "zaxis": {
            "backgroundcolor": "white",
            "gridcolor": "#DFE8F3",
            "gridwidth": 2,
            "linecolor": "#EBF0F8",
            "showbackground": true,
            "ticks": "",
            "zerolinecolor": "#EBF0F8"
           }
          },
          "shapedefaults": {
           "line": {
            "color": "#2a3f5f"
           }
          },
          "ternary": {
           "aaxis": {
            "gridcolor": "#DFE8F3",
            "linecolor": "#A2B1C6",
            "ticks": ""
           },
           "baxis": {
            "gridcolor": "#DFE8F3",
            "linecolor": "#A2B1C6",
            "ticks": ""
           },
           "bgcolor": "white",
           "caxis": {
            "gridcolor": "#DFE8F3",
            "linecolor": "#A2B1C6",
            "ticks": ""
           }
          },
          "title": {
           "x": 0.05
          },
          "xaxis": {
           "automargin": true,
           "gridcolor": "#EBF0F8",
           "linecolor": "#EBF0F8",
           "ticks": "",
           "title": {
            "standoff": 15
           },
           "zerolinecolor": "#EBF0F8",
           "zerolinewidth": 2
          },
          "yaxis": {
           "automargin": true,
           "gridcolor": "#EBF0F8",
           "linecolor": "#EBF0F8",
           "ticks": "",
           "title": {
            "standoff": 15
           },
           "zerolinecolor": "#EBF0F8",
           "zerolinewidth": 2
          }
         }
        },
        "title": {
         "text": "CO2 Emissions by Energy Source"
        },
        "xaxis": {
         "autorange": true,
         "range": [
          -0.5,
          4.5
         ],
         "tickmode": "array",
         "tickvals": [
          "Coal",
          "Gas",
          "Oil",
          "Flaring",
          "Cement"
         ],
         "title": {
          "text": "Energy Source"
         },
         "type": "category"
        },
        "yaxis": {
         "autorange": true,
         "range": [
          0,
          840580.9789473685
         ],
         "title": {
          "text": "CO2 Emissions (MtCO2)"
         },
         "type": "linear"
        }
       }
      },
      "image/png": "[encoded data removed]",
      "text/html": [
       "<div>                            <div id=\"ea4cce8b-142c-466b-97fc-5b8a88dfb510\" class=\"plotly-graph-div\" style=\"height:525px; width:100%;\"></div>            <script type=\"text/javascript\">                require([\"plotly\"], function(Plotly) {                    window.PLOTLYENV=window.PLOTLYENV || {};                                    if (document.getElementById(\"ea4cce8b-142c-466b-97fc-5b8a88dfb510\")) {                    Plotly.newPlot(                        \"ea4cce8b-142c-466b-97fc-5b8a88dfb510\",                        [{\"marker\":{\"color\":\"lightblue\"},\"name\":\"Total Historical CO2 Emissions\",\"x\":[\"Coal\",\"Gas\",\"Oil\",\"Flaring\",\"Cement\"],\"y\":[798551.93,254057.81900000002,605476.731,18454.288,45066.924999999996],\"type\":\"bar\"},{\"marker\":{\"color\":\"orange\"},\"name\":\"CO2 Emissions (Last 10 Years)\",\"x\":[\"Coal\",\"Gas\",\"Oil\",\"Flaring\",\"Cement\"],\"y\":[705802.3470000001,378542.532,560378.01,20627.633,72694.82199999999],\"type\":\"bar\"}],                        {\"template\":{\"data\":{\"barpolar\":[{\"marker\":{\"line\":{\"color\":\"white\",\"width\":0.5},\"pattern\":{\"fillmode\":\"overlay\",\"size\":10,\"solidity\":0.2}},\"type\":\"barpolar\"}],\"bar\":[{\"error_x\":{\"color\":\"#2a3f5f\"},\"error_y\":{\"color\":\"#2a3f5f\"},\"marker\":{\"line\":{\"color\":\"white\",\"width\":0.5},\"pattern\":{\"fillmode\":\"overlay\",\"size\":10,\"solidity\":0.2}},\"type\":\"bar\"}],\"carpet\":[{\"aaxis\":{\"endlinecolor\":\"#2a3f5f\",\"gridcolor\":\"#C8D4E3\",\"linecolor\":\"#C8D4E3\",\"minorgridcolor\":\"#C8D4E3\",\"startlinecolor\":\"#2a3f5f\"},\"baxis\":{\"endlinecolor\":\"#2a3f5f\",\"gridcolor\":\"#C8D4E3\",\"linecolor\":\"#C8D4E3\",\"minorgridcolor\":\"#C8D4E3\",\"startlinecolor\":\"#2a3f5f\"},\"type\":\"carpet\"}],\"choropleth\":[{\"colorbar\":{\"outlinewidth\":0,\"ticks\":\"\"},\"type\":\"choropleth\"}],\"contourcarpet\":[{\"colorbar\":{\"outlinewidth\":0,\"ticks\":\"\"},\"type\":\"contourcarpet\"}],\"contour\":[{\"colorbar\":{\"outlinewidth\":0,\"ticks\":\"\"},\"colorscale\":[[0.0,\"#0d0887\"],[0.1111111111111111,\"#46039f\"],[0.2222222222222222,\"#7201a8\"],[0.3333333333333333,\"#9c179e\"],[0.4444444444444444,\"#bd3786\"],[0.5555555555555556,\"#d8576b\"],[0.6666666666666666,\"#ed7953\"],[0.7777777777777778,\"#fb9f3a\"],[0.8888888888888888,\"#fdca26\"],[1.0,\"#f0f921\"]],\"type\":\"contour\"}],\"heatmapgl\":[{\"colorbar\":{\"outlinewidth\":0,\"ticks\":\"\"},\"colorscale\":[[0.0,\"#0d0887\"],[0.1111111111111111,\"#46039f\"],[0.2222222222222222,\"#7201a8\"],[0.3333333333333333,\"#9c179e\"],[0.4444444444444444,\"#bd3786\"],[0.5555555555555556,\"#d8576b\"],[0.6666666666666666,\"#ed7953\"],[0.7777777777777778,\"#fb9f3a\"],[0.8888888888888888,\"#fdca26\"],[1.0,\"#f0f921\"]],\"type\":\"heatmapgl\"}],\"heatmap\":[{\"colorbar\":{\"outlinewidth\":0,\"ticks\":\"\"},\"colorscale\":[[0.0,\"#0d0887\"],[0.1111111111111111,\"#46039f\"],[0.2222222222222222,\"#7201a8\"],[0.3333333333333333,\"#9c179e\"],[0.4444444444444444,\"#bd3786\"],[0.5555555555555556,\"#d8576b\"],[0.6666666666666666,\"#ed7953\"],[0.7777777777777778,\"#fb9f3a\"],[0.8888888888888888,\"#fdca26\"],[1.0,\"#f0f921\"]],\"type\":\"heatmap\"}],\"histogram2dcontour\":[{\"colorbar\":{\"outlinewidth\":0,\"ticks\":\"\"},\"colorscale\":[[0.0,\"#0d0887\"],[0.1111111111111111,\"#46039f\"],[0.2222222222222222,\"#7201a8\"],[0.3333333333333333,\"#9c179e\"],[0.4444444444444444,\"#bd3786\"],[0.5555555555555556,\"#d8576b\"],[0.6666666666666666,\"#ed7953\"],[0.7777777777777778,\"#fb9f3a\"],[0.8888888888888888,\"#fdca26\"],[1.0,\"#f0f921\"]],\"type\":\"histogram2dcontour\"}],\"histogram2d\":[{\"colorbar\":{\"outlinewidth\":0,\"ticks\":\"\"},\"colorscale\":[[0.0,\"#0d0887\"],[0.1111111111111111,\"#46039f\"],[0.2222222222222222,\"#7201a8\"],[0.3333333333333333,\"#9c179e\"],[0.4444444444444444,\"#bd3786\"],[0.5555555555555556,\"#d8576b\"],[0.6666666666666666,\"#ed7953\"],[0.7777777777777778,\"#fb9f3a\"],[0.8888888888888888,\"#fdca26\"],[1.0,\"#f0f921\"]],\"type\":\"histogram2d\"}],\"histogram\":[{\"marker\":{\"pattern\":{\"fillmode\":\"overlay\",\"size\":10,\"solidity\":0.2}},\"type\":\"histogram\"}],\"mesh3d\":[{\"colorbar\":{\"outlinewidth\":0,\"ticks\":\"\"},\"type\":\"mesh3d\"}],\"parcoords\":[{\"line\":{\"colorbar\":{\"outlinewidth\":0,\"ticks\":\"\"}},\"type\":\"parcoords\"}],\"pie\":[{\"automargin\":true,\"type\":\"pie\"}],\"scatter3d\":[{\"line\":{\"colorbar\":{\"outlinewidth\":0,\"ticks\":\"\"}},\"marker\":{\"colorbar\":{\"outlinewidth\":0,\"ticks\":\"\"}},\"type\":\"scatter3d\"}],\"scattercarpet\":[{\"marker\":{\"colorbar\":{\"outlinewidth\":0,\"ticks\":\"\"}},\"type\":\"scattercarpet\"}],\"scattergeo\":[{\"marker\":{\"colorbar\":{\"outlinewidth\":0,\"ticks\":\"\"}},\"type\":\"scattergeo\"}],\"scattergl\":[{\"marker\":{\"colorbar\":{\"outlinewidth\":0,\"ticks\":\"\"}},\"type\":\"scattergl\"}],\"scattermapbox\":[{\"marker\":{\"colorbar\":{\"outlinewidth\":0,\"ticks\":\"\"}},\"type\":\"scattermapbox\"}],\"scatterpolargl\":[{\"marker\":{\"colorbar\":{\"outlinewidth\":0,\"ticks\":\"\"}},\"type\":\"scatterpolargl\"}],\"scatterpolar\":[{\"marker\":{\"colorbar\":{\"outlinewidth\":0,\"ticks\":\"\"}},\"type\":\"scatterpolar\"}],\"scatter\":[{\"fillpattern\":{\"fillmode\":\"overlay\",\"size\":10,\"solidity\":0.2},\"type\":\"scatter\"}],\"scatterternary\":[{\"marker\":{\"colorbar\":{\"outlinewidth\":0,\"ticks\":\"\"}},\"type\":\"scatterternary\"}],\"surface\":[{\"colorbar\":{\"outlinewidth\":0,\"ticks\":\"\"},\"colorscale\":[[0.0,\"#0d0887\"],[0.1111111111111111,\"#46039f\"],[0.2222222222222222,\"#7201a8\"],[0.3333333333333333,\"#9c179e\"],[0.4444444444444444,\"#bd3786\"],[0.5555555555555556,\"#d8576b\"],[0.6666666666666666,\"#ed7953\"],[0.7777777777777778,\"#fb9f3a\"],[0.8888888888888888,\"#fdca26\"],[1.0,\"#f0f921\"]],\"type\":\"surface\"}],\"table\":[{\"cells\":{\"fill\":{\"color\":\"#EBF0F8\"},\"line\":{\"color\":\"white\"}},\"header\":{\"fill\":{\"color\":\"#C8D4E3\"},\"line\":{\"color\":\"white\"}},\"type\":\"table\"}]},\"layout\":{\"annotationdefaults\":{\"arrowcolor\":\"#2a3f5f\",\"arrowhead\":0,\"arrowwidth\":1},\"autotypenumbers\":\"strict\",\"coloraxis\":{\"colorbar\":{\"outlinewidth\":0,\"ticks\":\"\"}},\"colorscale\":{\"diverging\":[[0,\"#8e0152\"],[0.1,\"#c51b7d\"],[0.2,\"#de77ae\"],[0.3,\"#f1b6da\"],[0.4,\"#fde0ef\"],[0.5,\"#f7f7f7\"],[0.6,\"#e6f5d0\"],[0.7,\"#b8e186\"],[0.8,\"#7fbc41\"],[0.9,\"#4d9221\"],[1,\"#276419\"]],\"sequential\":[[0.0,\"#0d0887\"],[0.1111111111111111,\"#46039f\"],[0.2222222222222222,\"#7201a8\"],[0.3333333333333333,\"#9c179e\"],[0.4444444444444444,\"#bd3786\"],[0.5555555555555556,\"#d8576b\"],[0.6666666666666666,\"#ed7953\"],[0.7777777777777778,\"#fb9f3a\"],[0.8888888888888888,\"#fdca26\"],[1.0,\"#f0f921\"]],\"sequentialminus\":[[0.0,\"#0d0887\"],[0.1111111111111111,\"#46039f\"],[0.2222222222222222,\"#7201a8\"],[0.3333333333333333,\"#9c179e\"],[0.4444444444444444,\"#bd3786\"],[0.5555555555555556,\"#d8576b\"],[0.6666666666666666,\"#ed7953\"],[0.7777777777777778,\"#fb9f3a\"],[0.8888888888888888,\"#fdca26\"],[1.0,\"#f0f921\"]]},\"colorway\":[\"#636efa\",\"#EF553B\",\"#00cc96\",\"#ab63fa\",\"#FFA15A\",\"#19d3f3\",\"#FF6692\",\"#B6E880\",\"#FF97FF\",\"#FECB52\"],\"font\":{\"color\":\"#2a3f5f\"},\"geo\":{\"bgcolor\":\"white\",\"lakecolor\":\"white\",\"landcolor\":\"white\",\"showlakes\":true,\"showland\":true,\"subunitcolor\":\"#C8D4E3\"},\"hoverlabel\":{\"align\":\"left\"},\"hovermode\":\"closest\",\"mapbox\":{\"style\":\"light\"},\"paper_bgcolor\":\"white\",\"plot_bgcolor\":\"white\",\"polar\":{\"angularaxis\":{\"gridcolor\":\"#EBF0F8\",\"linecolor\":\"#EBF0F8\",\"ticks\":\"\"},\"bgcolor\":\"white\",\"radialaxis\":{\"gridcolor\":\"#EBF0F8\",\"linecolor\":\"#EBF0F8\",\"ticks\":\"\"}},\"scene\":{\"xaxis\":{\"backgroundcolor\":\"white\",\"gridcolor\":\"#DFE8F3\",\"gridwidth\":2,\"linecolor\":\"#EBF0F8\",\"showbackground\":true,\"ticks\":\"\",\"zerolinecolor\":\"#EBF0F8\"},\"yaxis\":{\"backgroundcolor\":\"white\",\"gridcolor\":\"#DFE8F3\",\"gridwidth\":2,\"linecolor\":\"#EBF0F8\",\"showbackground\":true,\"ticks\":\"\",\"zerolinecolor\":\"#EBF0F8\"},\"zaxis\":{\"backgroundcolor\":\"white\",\"gridcolor\":\"#DFE8F3\",\"gridwidth\":2,\"linecolor\":\"#EBF0F8\",\"showbackground\":true,\"ticks\":\"\",\"zerolinecolor\":\"#EBF0F8\"}},\"shapedefaults\":{\"line\":{\"color\":\"#2a3f5f\"}},\"ternary\":{\"aaxis\":{\"gridcolor\":\"#DFE8F3\",\"linecolor\":\"#A2B1C6\",\"ticks\":\"\"},\"baxis\":{\"gridcolor\":\"#DFE8F3\",\"linecolor\":\"#A2B1C6\",\"ticks\":\"\"},\"bgcolor\":\"white\",\"caxis\":{\"gridcolor\":\"#DFE8F3\",\"linecolor\":\"#A2B1C6\",\"ticks\":\"\"}},\"title\":{\"x\":0.05},\"xaxis\":{\"automargin\":true,\"gridcolor\":\"#EBF0F8\",\"linecolor\":\"#EBF0F8\",\"ticks\":\"\",\"title\":{\"standoff\":15},\"zerolinecolor\":\"#EBF0F8\",\"zerolinewidth\":2},\"yaxis\":{\"automargin\":true,\"gridcolor\":\"#EBF0F8\",\"linecolor\":\"#EBF0F8\",\"ticks\":\"\",\"title\":{\"standoff\":15},\"zerolinecolor\":\"#EBF0F8\",\"zerolinewidth\":2}}},\"xaxis\":{\"title\":{\"text\":\"Energy Source\"},\"tickmode\":\"array\",\"tickvals\":[\"Coal\",\"Gas\",\"Oil\",\"Flaring\",\"Cement\"]},\"title\":{\"text\":\"CO2 Emissions by Energy Source\"},\"barmode\":\"group\",\"yaxis\":{\"title\":{\"text\":\"CO2 Emissions (MtCO2)\"}}},                        {\"responsive\": true}                    ).then(function(){\n",
       "                            \n",
       "var gd = document.getElementById('ea4cce8b-142c-466b-97fc-5b8a88dfb510');\n",
       "var x = new MutationObserver(function (mutations, observer) {{\n",
       "        var display = window.getComputedStyle(gd).display;\n",
       "        if (!display || display === 'none') {{\n",
       "            console.log([gd, 'removed!']);\n",
       "            Plotly.purge(gd);\n",
       "            observer.disconnect();\n",
       "        }}\n",
       "}});\n",
       "\n",
       "// Listen for the removal of the full notebook cells\n",
       "var notebookContainer = gd.closest('#notebook-container');\n",
       "if (notebookContainer) {{\n",
       "    x.observe(notebookContainer, {childList: true});\n",
       "}}\n",
       "\n",
       "// Listen for the clearing of the current output cell\n",
       "var outputEl = gd.closest('.output');\n",
       "if (outputEl) {{\n",
       "    x.observe(outputEl, {childList: true});\n",
       "}}\n",
       "\n",
       "                        })                };                });            </script>        </div>"
      ]
     },
     "metadata": {},
     "output_type": "display_data"
    }
   ],
   "source": [
    "import pandas as pd\n",
    "import plotly.graph_objects as go\n",
    "\n",
    "# Asegurarse de que df_world_contribution está calculado con los datos completos\n",
    "df_world_contribution = df[df['country'] == 'World'][[\"year\", \"coal_co2\", \"gas_co2\", \"oil_co2\", \"flaring_co2\", \"cement_co2\"]]\n",
    "\n",
    "# Verificar el rango de años en los datos para asegurarnos de que no haya datos fuera de lugar\n",
    "print(\"Rango de años en los datos:\", df['year'].min(), \"a\", df['year'].max())\n",
    "\n",
    "# 1. Calcular el valor histórico total de cada fuente (esto usa todos los datos disponibles)\n",
    "total_contributions = df_world_contribution[[\"coal_co2\", \"gas_co2\", \"oil_co2\", \"flaring_co2\", \"cement_co2\"]].sum()\n",
    "\n",
    "# Verificar los valores históricos totales para asegurarse de que se suman correctamente\n",
    "print(\"Valor histórico total de CO2 por fuente:\")\n",
    "print(total_contributions)\n",
    "\n",
    "# 2. Filtrar los últimos 10 años\n",
    "last_10_years = df[df['year'] >= (df['year'].max() - 10)]\n",
    "\n",
    "# Verificar que el filtro para los últimos 10 años está funcionando correctamente\n",
    "print(\"Últimos 10 años en los datos:\", last_10_years['year'].min(), \"a\", last_10_years['year'].max())\n",
    "\n",
    "# 3. Sumar las emisiones de los últimos 10 años para cada fuente\n",
    "last_10_years_total = last_10_years[[\"coal_co2\", \"gas_co2\", \"oil_co2\", \"flaring_co2\", \"cement_co2\"]].sum()\n",
    "\n",
    "# Verificar los valores de los últimos 10 años\n",
    "print(\"Emisiones acumuladas de CO2 en los últimos 10 años:\")\n",
    "print(last_10_years_total)\n",
    "\n",
    "# Verificar si hay alguna anomalía en los valores\n",
    "if last_10_years_total[\"gas_co2\"] > total_contributions[\"gas_co2\"]:\n",
    "    print(\"¡Alerta! Las emisiones de gas en los últimos 10 años son mayores que el total histórico. Revisando datos...\")\n",
    "\n",
    "# Crear un DataFrame para organizar los valores para el gráfico\n",
    "sources = ['Coal', 'Gas', 'Oil', 'Flaring', 'Cement']\n",
    "historical_values = [total_contributions[\"coal_co2\"], total_contributions[\"gas_co2\"], total_contributions[\"oil_co2\"],\n",
    "                     total_contributions[\"flaring_co2\"], total_contributions[\"cement_co2\"]]\n",
    "last_10_years_values = [last_10_years_total[\"coal_co2\"], last_10_years_total[\"gas_co2\"], last_10_years_total[\"oil_co2\"],\n",
    "                        last_10_years_total[\"flaring_co2\"], last_10_years_total[\"cement_co2\"]]\n",
    "\n",
    "# Verificar los valores antes de graficar\n",
    "print(\"Valores para el gráfico:\")\n",
    "print(historical_values)\n",
    "print(last_10_years_values)\n",
    "\n",
    "# Crear el gráfico de barras\n",
    "fig = go.Figure()\n",
    "\n",
    "# Barra para el valor histórico total\n",
    "fig.add_trace(go.Bar(\n",
    "    x=sources,\n",
    "    y=historical_values,\n",
    "    name=\"Total Historical CO2 Emissions\",\n",
    "    marker_color='lightblue'\n",
    "))\n",
    "\n",
    "# Barra para el valor acumulado de los últimos 10 años\n",
    "fig.add_trace(go.Bar(\n",
    "    x=sources,\n",
    "    y=last_10_years_values,\n",
    "    name=\"CO2 Emissions (Last 10 Years)\",\n",
    "    marker_color='orange'\n",
    "))\n",
    "\n",
    "# Añadir título y etiquetas\n",
    "fig.update_layout(\n",
    "    title=\"CO2 Emissions by Energy Source\",\n",
    "    barmode='group',\n",
    "    xaxis_title=\"Energy Source\",\n",
    "    yaxis_title=\"CO2 Emissions (MtCO2)\",\n",
    "    xaxis=dict(tickmode='array', tickvals=sources),\n",
    "    template=\"plotly_white\"\n",
    ")\n",
    "\n",
    "# Mostrar el gráfico\n",
    "fig.show()\n"
   ]
  },
  {
   "cell_type": "code",
   "execution_count": null,
   "id": "2f0dd899-ab55-4788-a580-9419578cfadb",
   "metadata": {},
   "outputs": [],
   "source": []
  }
 ],
 "metadata": {
  "kernelspec": {
   "display_name": "Python 3 (ipykernel)",
   "language": "python",
   "name": "python3"
  },
  "language_info": {
   "codemirror_mode": {
    "name": "ipython",
    "version": 3
   },
   "file_extension": ".py",
   "mimetype": "text/x-python",
   "name": "python",
   "nbconvert_exporter": "python",
   "pygments_lexer": "ipython3",
   "version": "3.12.4"
  }
 },
 "nbformat": 4,
 "nbformat_minor": 5
}
